{
  "cells": [
    {
      "cell_type": "markdown",
      "metadata": {
        "id": "view-in-github",
        "colab_type": "text"
      },
      "source": [
        "<a href=\"https://colab.research.google.com/github/Uma2003b/CODSOFT/blob/main/TASK_1_Titanic_Dataset_Analysis_Classification.ipynb\" target=\"_parent\"><img src=\"https://colab.research.google.com/assets/colab-badge.svg\" alt=\"Open In Colab\"/></a>"
      ]
    },
    {
      "cell_type": "code",
      "execution_count": null,
      "id": "f7bb7abe",
      "metadata": {
        "_cell_guid": "b1076dfc-b9ad-4769-8c92-a6c4dae69d19",
        "_uuid": "8f2839f25d086af736a60e9eeb907d3b93b6e0e5",
        "execution": {
          "iopub.execute_input": "2021-10-26T14:39:51.720863Z",
          "iopub.status.busy": "2021-10-26T14:39:51.719743Z",
          "iopub.status.idle": "2021-10-26T14:39:51.732529Z",
          "shell.execute_reply": "2021-10-26T14:39:51.731846Z",
          "shell.execute_reply.started": "2021-10-26T13:18:09.103774Z"
        },
        "papermill": {
          "duration": 0.054999,
          "end_time": "2021-10-26T14:39:51.732722",
          "exception": false,
          "start_time": "2021-10-26T14:39:51.677723",
          "status": "completed"
        },
        "tags": [],
        "id": "f7bb7abe"
      },
      "outputs": [],
      "source": [
        "import numpy as np\n",
        "import pandas as pd"
      ]
    },
    {
      "cell_type": "markdown",
      "id": "934aa4df",
      "metadata": {
        "papermill": {
          "duration": 0.0372,
          "end_time": "2021-10-26T14:39:51.809118",
          "exception": false,
          "start_time": "2021-10-26T14:39:51.771918",
          "status": "completed"
        },
        "tags": [],
        "id": "934aa4df"
      },
      "source": [
        "## Import Modules"
      ]
    },
    {
      "cell_type": "code",
      "execution_count": null,
      "id": "de34f80e",
      "metadata": {
        "execution": {
          "iopub.execute_input": "2021-10-26T14:39:51.888410Z",
          "iopub.status.busy": "2021-10-26T14:39:51.887376Z",
          "iopub.status.idle": "2021-10-26T14:39:52.718602Z",
          "shell.execute_reply": "2021-10-26T14:39:52.719300Z",
          "shell.execute_reply.started": "2021-10-26T13:19:51.044248Z"
        },
        "papermill": {
          "duration": 0.872959,
          "end_time": "2021-10-26T14:39:52.719543",
          "exception": false,
          "start_time": "2021-10-26T14:39:51.846584",
          "status": "completed"
        },
        "tags": [],
        "id": "de34f80e"
      },
      "outputs": [],
      "source": [
        "import pandas as pd\n",
        "import numpy as np\n",
        "import seaborn as sns\n",
        "import matplotlib.pyplot as plt\n",
        "import warnings\n",
        "warnings.filterwarnings('ignore')\n",
        "%matplotlib inline"
      ]
    },
    {
      "cell_type": "markdown",
      "id": "94f44317",
      "metadata": {
        "papermill": {
          "duration": 0.037974,
          "end_time": "2021-10-26T14:39:52.801957",
          "exception": false,
          "start_time": "2021-10-26T14:39:52.763983",
          "status": "completed"
        },
        "tags": [],
        "id": "94f44317"
      },
      "source": [
        "## Loading the dataset"
      ]
    },
    {
      "cell_type": "code",
      "execution_count": null,
      "id": "03ad8c9f",
      "metadata": {
        "execution": {
          "iopub.execute_input": "2021-10-26T14:39:52.882450Z",
          "iopub.status.busy": "2021-10-26T14:39:52.881503Z",
          "iopub.status.idle": "2021-10-26T14:39:52.929823Z",
          "shell.execute_reply": "2021-10-26T14:39:52.930296Z",
          "shell.execute_reply.started": "2021-10-26T13:21:10.553394Z"
        },
        "papermill": {
          "duration": 0.090114,
          "end_time": "2021-10-26T14:39:52.930465",
          "exception": false,
          "start_time": "2021-10-26T14:39:52.840351",
          "status": "completed"
        },
        "tags": [],
        "colab": {
          "base_uri": "https://localhost:8080/",
          "height": 206
        },
        "id": "03ad8c9f",
        "outputId": "8886c359-a52f-4031-9352-ff479a68f7ce"
      },
      "outputs": [
        {
          "output_type": "execute_result",
          "data": {
            "text/plain": [
              "   PassengerId  Survived  Pclass  \\\n",
              "0            1         0       3   \n",
              "1            2         1       1   \n",
              "2            3         1       3   \n",
              "3            4         1       1   \n",
              "4            5         0       3   \n",
              "\n",
              "                                                Name     Sex   Age  SibSp  \\\n",
              "0                            Braund, Mr. Owen Harris    male  22.0      1   \n",
              "1  Cumings, Mrs. John Bradley (Florence Briggs Th...  female  38.0      1   \n",
              "2                             Heikkinen, Miss. Laina  female  26.0      0   \n",
              "3       Futrelle, Mrs. Jacques Heath (Lily May Peel)  female  35.0      1   \n",
              "4                           Allen, Mr. William Henry    male  35.0      0   \n",
              "\n",
              "   Parch            Ticket     Fare Cabin Embarked  \n",
              "0      0         A/5 21171   7.2500   NaN        S  \n",
              "1      0          PC 17599  71.2833   C85        C  \n",
              "2      0  STON/O2. 3101282   7.9250   NaN        S  \n",
              "3      0            113803  53.1000  C123        S  \n",
              "4      0            373450   8.0500   NaN        S  "
            ],
            "text/html": [
              "\n",
              "  <div id=\"df-e207335e-ef4d-47db-ac47-27f957a16394\">\n",
              "    <div class=\"colab-df-container\">\n",
              "      <div>\n",
              "<style scoped>\n",
              "    .dataframe tbody tr th:only-of-type {\n",
              "        vertical-align: middle;\n",
              "    }\n",
              "\n",
              "    .dataframe tbody tr th {\n",
              "        vertical-align: top;\n",
              "    }\n",
              "\n",
              "    .dataframe thead th {\n",
              "        text-align: right;\n",
              "    }\n",
              "</style>\n",
              "<table border=\"1\" class=\"dataframe\">\n",
              "  <thead>\n",
              "    <tr style=\"text-align: right;\">\n",
              "      <th></th>\n",
              "      <th>PassengerId</th>\n",
              "      <th>Survived</th>\n",
              "      <th>Pclass</th>\n",
              "      <th>Name</th>\n",
              "      <th>Sex</th>\n",
              "      <th>Age</th>\n",
              "      <th>SibSp</th>\n",
              "      <th>Parch</th>\n",
              "      <th>Ticket</th>\n",
              "      <th>Fare</th>\n",
              "      <th>Cabin</th>\n",
              "      <th>Embarked</th>\n",
              "    </tr>\n",
              "  </thead>\n",
              "  <tbody>\n",
              "    <tr>\n",
              "      <th>0</th>\n",
              "      <td>1</td>\n",
              "      <td>0</td>\n",
              "      <td>3</td>\n",
              "      <td>Braund, Mr. Owen Harris</td>\n",
              "      <td>male</td>\n",
              "      <td>22.0</td>\n",
              "      <td>1</td>\n",
              "      <td>0</td>\n",
              "      <td>A/5 21171</td>\n",
              "      <td>7.2500</td>\n",
              "      <td>NaN</td>\n",
              "      <td>S</td>\n",
              "    </tr>\n",
              "    <tr>\n",
              "      <th>1</th>\n",
              "      <td>2</td>\n",
              "      <td>1</td>\n",
              "      <td>1</td>\n",
              "      <td>Cumings, Mrs. John Bradley (Florence Briggs Th...</td>\n",
              "      <td>female</td>\n",
              "      <td>38.0</td>\n",
              "      <td>1</td>\n",
              "      <td>0</td>\n",
              "      <td>PC 17599</td>\n",
              "      <td>71.2833</td>\n",
              "      <td>C85</td>\n",
              "      <td>C</td>\n",
              "    </tr>\n",
              "    <tr>\n",
              "      <th>2</th>\n",
              "      <td>3</td>\n",
              "      <td>1</td>\n",
              "      <td>3</td>\n",
              "      <td>Heikkinen, Miss. Laina</td>\n",
              "      <td>female</td>\n",
              "      <td>26.0</td>\n",
              "      <td>0</td>\n",
              "      <td>0</td>\n",
              "      <td>STON/O2. 3101282</td>\n",
              "      <td>7.9250</td>\n",
              "      <td>NaN</td>\n",
              "      <td>S</td>\n",
              "    </tr>\n",
              "    <tr>\n",
              "      <th>3</th>\n",
              "      <td>4</td>\n",
              "      <td>1</td>\n",
              "      <td>1</td>\n",
              "      <td>Futrelle, Mrs. Jacques Heath (Lily May Peel)</td>\n",
              "      <td>female</td>\n",
              "      <td>35.0</td>\n",
              "      <td>1</td>\n",
              "      <td>0</td>\n",
              "      <td>113803</td>\n",
              "      <td>53.1000</td>\n",
              "      <td>C123</td>\n",
              "      <td>S</td>\n",
              "    </tr>\n",
              "    <tr>\n",
              "      <th>4</th>\n",
              "      <td>5</td>\n",
              "      <td>0</td>\n",
              "      <td>3</td>\n",
              "      <td>Allen, Mr. William Henry</td>\n",
              "      <td>male</td>\n",
              "      <td>35.0</td>\n",
              "      <td>0</td>\n",
              "      <td>0</td>\n",
              "      <td>373450</td>\n",
              "      <td>8.0500</td>\n",
              "      <td>NaN</td>\n",
              "      <td>S</td>\n",
              "    </tr>\n",
              "  </tbody>\n",
              "</table>\n",
              "</div>\n",
              "      <button class=\"colab-df-convert\" onclick=\"convertToInteractive('df-e207335e-ef4d-47db-ac47-27f957a16394')\"\n",
              "              title=\"Convert this dataframe to an interactive table.\"\n",
              "              style=\"display:none;\">\n",
              "        \n",
              "  <svg xmlns=\"http://www.w3.org/2000/svg\" height=\"24px\"viewBox=\"0 0 24 24\"\n",
              "       width=\"24px\">\n",
              "    <path d=\"M0 0h24v24H0V0z\" fill=\"none\"/>\n",
              "    <path d=\"M18.56 5.44l.94 2.06.94-2.06 2.06-.94-2.06-.94-.94-2.06-.94 2.06-2.06.94zm-11 1L8.5 8.5l.94-2.06 2.06-.94-2.06-.94L8.5 2.5l-.94 2.06-2.06.94zm10 10l.94 2.06.94-2.06 2.06-.94-2.06-.94-.94-2.06-.94 2.06-2.06.94z\"/><path d=\"M17.41 7.96l-1.37-1.37c-.4-.4-.92-.59-1.43-.59-.52 0-1.04.2-1.43.59L10.3 9.45l-7.72 7.72c-.78.78-.78 2.05 0 2.83L4 21.41c.39.39.9.59 1.41.59.51 0 1.02-.2 1.41-.59l7.78-7.78 2.81-2.81c.8-.78.8-2.07 0-2.86zM5.41 20L4 18.59l7.72-7.72 1.47 1.35L5.41 20z\"/>\n",
              "  </svg>\n",
              "      </button>\n",
              "      \n",
              "  <style>\n",
              "    .colab-df-container {\n",
              "      display:flex;\n",
              "      flex-wrap:wrap;\n",
              "      gap: 12px;\n",
              "    }\n",
              "\n",
              "    .colab-df-convert {\n",
              "      background-color: #E8F0FE;\n",
              "      border: none;\n",
              "      border-radius: 50%;\n",
              "      cursor: pointer;\n",
              "      display: none;\n",
              "      fill: #1967D2;\n",
              "      height: 32px;\n",
              "      padding: 0 0 0 0;\n",
              "      width: 32px;\n",
              "    }\n",
              "\n",
              "    .colab-df-convert:hover {\n",
              "      background-color: #E2EBFA;\n",
              "      box-shadow: 0px 1px 2px rgba(60, 64, 67, 0.3), 0px 1px 3px 1px rgba(60, 64, 67, 0.15);\n",
              "      fill: #174EA6;\n",
              "    }\n",
              "\n",
              "    [theme=dark] .colab-df-convert {\n",
              "      background-color: #3B4455;\n",
              "      fill: #D2E3FC;\n",
              "    }\n",
              "\n",
              "    [theme=dark] .colab-df-convert:hover {\n",
              "      background-color: #434B5C;\n",
              "      box-shadow: 0px 1px 3px 1px rgba(0, 0, 0, 0.15);\n",
              "      filter: drop-shadow(0px 1px 2px rgba(0, 0, 0, 0.3));\n",
              "      fill: #FFFFFF;\n",
              "    }\n",
              "  </style>\n",
              "\n",
              "      <script>\n",
              "        const buttonEl =\n",
              "          document.querySelector('#df-e207335e-ef4d-47db-ac47-27f957a16394 button.colab-df-convert');\n",
              "        buttonEl.style.display =\n",
              "          google.colab.kernel.accessAllowed ? 'block' : 'none';\n",
              "\n",
              "        async function convertToInteractive(key) {\n",
              "          const element = document.querySelector('#df-e207335e-ef4d-47db-ac47-27f957a16394');\n",
              "          const dataTable =\n",
              "            await google.colab.kernel.invokeFunction('convertToInteractive',\n",
              "                                                     [key], {});\n",
              "          if (!dataTable) return;\n",
              "\n",
              "          const docLinkHtml = 'Like what you see? Visit the ' +\n",
              "            '<a target=\"_blank\" href=https://colab.research.google.com/notebooks/data_table.ipynb>data table notebook</a>'\n",
              "            + ' to learn more about interactive tables.';\n",
              "          element.innerHTML = '';\n",
              "          dataTable['output_type'] = 'display_data';\n",
              "          await google.colab.output.renderOutput(dataTable, element);\n",
              "          const docLink = document.createElement('div');\n",
              "          docLink.innerHTML = docLinkHtml;\n",
              "          element.appendChild(docLink);\n",
              "        }\n",
              "      </script>\n",
              "    </div>\n",
              "  </div>\n",
              "  "
            ]
          },
          "metadata": {},
          "execution_count": 7
        }
      ],
      "source": [
        "train = pd.read_csv('/content/drive/MyDrive/codsoft/Titanic/train.csv')\n",
        "test = pd.read_csv('/content/drive/MyDrive/codsoft/Titanic/test.csv')\n",
        "train.head()"
      ]
    },
    {
      "cell_type": "code",
      "source": [
        "from google.colab import drive\n",
        "drive.mount('/content/drive')"
      ],
      "metadata": {
        "colab": {
          "base_uri": "https://localhost:8080/"
        },
        "id": "ctXOwO8X_olj",
        "outputId": "9be70c2e-45c3-4e04-a6a3-f1698b593c09"
      },
      "id": "ctXOwO8X_olj",
      "execution_count": null,
      "outputs": [
        {
          "output_type": "stream",
          "name": "stdout",
          "text": [
            "Drive already mounted at /content/drive; to attempt to forcibly remount, call drive.mount(\"/content/drive\", force_remount=True).\n"
          ]
        }
      ]
    },
    {
      "cell_type": "code",
      "source": [
        "import pandas as pd\n",
        "column_names = train.columns.tolist()\n",
        "print(column_names)"
      ],
      "metadata": {
        "colab": {
          "base_uri": "https://localhost:8080/"
        },
        "id": "WKqK4qFtDOFs",
        "outputId": "b223dde8-0cc5-4b0e-9d24-f552bb6a6f3c"
      },
      "id": "WKqK4qFtDOFs",
      "execution_count": null,
      "outputs": [
        {
          "output_type": "stream",
          "name": "stdout",
          "text": [
            "['PassengerId', 'Survived', 'Pclass', 'Sex', 'Age', 'SibSp', 'Parch', 'Fare', 'Embarked']\n"
          ]
        }
      ]
    },
    {
      "cell_type": "code",
      "execution_count": null,
      "id": "1df61dfd",
      "metadata": {
        "execution": {
          "iopub.execute_input": "2021-10-26T14:39:53.084632Z",
          "iopub.status.busy": "2021-10-26T14:39:53.083988Z",
          "iopub.status.idle": "2021-10-26T14:39:53.109876Z",
          "shell.execute_reply": "2021-10-26T14:39:53.109377Z",
          "shell.execute_reply.started": "2021-10-26T13:21:55.779366Z"
        },
        "papermill": {
          "duration": 0.080848,
          "end_time": "2021-10-26T14:39:53.110020",
          "exception": false,
          "start_time": "2021-10-26T14:39:53.029172",
          "status": "completed"
        },
        "tags": [],
        "colab": {
          "base_uri": "https://localhost:8080/",
          "height": 300
        },
        "id": "1df61dfd",
        "outputId": "dd40b4b9-3422-4fab-cbfa-5a06fcad7779"
      },
      "outputs": [
        {
          "output_type": "execute_result",
          "data": {
            "text/plain": [
              "       PassengerId    Survived      Pclass         Age       SibSp  \\\n",
              "count   891.000000  891.000000  891.000000  714.000000  891.000000   \n",
              "mean    446.000000    0.383838    2.308642   29.699118    0.523008   \n",
              "std     257.353842    0.486592    0.836071   14.526497    1.102743   \n",
              "min       1.000000    0.000000    1.000000    0.420000    0.000000   \n",
              "25%     223.500000    0.000000    2.000000   20.125000    0.000000   \n",
              "50%     446.000000    0.000000    3.000000   28.000000    0.000000   \n",
              "75%     668.500000    1.000000    3.000000   38.000000    1.000000   \n",
              "max     891.000000    1.000000    3.000000   80.000000    8.000000   \n",
              "\n",
              "            Parch        Fare  \n",
              "count  891.000000  891.000000  \n",
              "mean     0.381594   32.204208  \n",
              "std      0.806057   49.693429  \n",
              "min      0.000000    0.000000  \n",
              "25%      0.000000    7.910400  \n",
              "50%      0.000000   14.454200  \n",
              "75%      0.000000   31.000000  \n",
              "max      6.000000  512.329200  "
            ],
            "text/html": [
              "\n",
              "  <div id=\"df-62ae5f73-442b-4442-9726-d6a55db48454\">\n",
              "    <div class=\"colab-df-container\">\n",
              "      <div>\n",
              "<style scoped>\n",
              "    .dataframe tbody tr th:only-of-type {\n",
              "        vertical-align: middle;\n",
              "    }\n",
              "\n",
              "    .dataframe tbody tr th {\n",
              "        vertical-align: top;\n",
              "    }\n",
              "\n",
              "    .dataframe thead th {\n",
              "        text-align: right;\n",
              "    }\n",
              "</style>\n",
              "<table border=\"1\" class=\"dataframe\">\n",
              "  <thead>\n",
              "    <tr style=\"text-align: right;\">\n",
              "      <th></th>\n",
              "      <th>PassengerId</th>\n",
              "      <th>Survived</th>\n",
              "      <th>Pclass</th>\n",
              "      <th>Age</th>\n",
              "      <th>SibSp</th>\n",
              "      <th>Parch</th>\n",
              "      <th>Fare</th>\n",
              "    </tr>\n",
              "  </thead>\n",
              "  <tbody>\n",
              "    <tr>\n",
              "      <th>count</th>\n",
              "      <td>891.000000</td>\n",
              "      <td>891.000000</td>\n",
              "      <td>891.000000</td>\n",
              "      <td>714.000000</td>\n",
              "      <td>891.000000</td>\n",
              "      <td>891.000000</td>\n",
              "      <td>891.000000</td>\n",
              "    </tr>\n",
              "    <tr>\n",
              "      <th>mean</th>\n",
              "      <td>446.000000</td>\n",
              "      <td>0.383838</td>\n",
              "      <td>2.308642</td>\n",
              "      <td>29.699118</td>\n",
              "      <td>0.523008</td>\n",
              "      <td>0.381594</td>\n",
              "      <td>32.204208</td>\n",
              "    </tr>\n",
              "    <tr>\n",
              "      <th>std</th>\n",
              "      <td>257.353842</td>\n",
              "      <td>0.486592</td>\n",
              "      <td>0.836071</td>\n",
              "      <td>14.526497</td>\n",
              "      <td>1.102743</td>\n",
              "      <td>0.806057</td>\n",
              "      <td>49.693429</td>\n",
              "    </tr>\n",
              "    <tr>\n",
              "      <th>min</th>\n",
              "      <td>1.000000</td>\n",
              "      <td>0.000000</td>\n",
              "      <td>1.000000</td>\n",
              "      <td>0.420000</td>\n",
              "      <td>0.000000</td>\n",
              "      <td>0.000000</td>\n",
              "      <td>0.000000</td>\n",
              "    </tr>\n",
              "    <tr>\n",
              "      <th>25%</th>\n",
              "      <td>223.500000</td>\n",
              "      <td>0.000000</td>\n",
              "      <td>2.000000</td>\n",
              "      <td>20.125000</td>\n",
              "      <td>0.000000</td>\n",
              "      <td>0.000000</td>\n",
              "      <td>7.910400</td>\n",
              "    </tr>\n",
              "    <tr>\n",
              "      <th>50%</th>\n",
              "      <td>446.000000</td>\n",
              "      <td>0.000000</td>\n",
              "      <td>3.000000</td>\n",
              "      <td>28.000000</td>\n",
              "      <td>0.000000</td>\n",
              "      <td>0.000000</td>\n",
              "      <td>14.454200</td>\n",
              "    </tr>\n",
              "    <tr>\n",
              "      <th>75%</th>\n",
              "      <td>668.500000</td>\n",
              "      <td>1.000000</td>\n",
              "      <td>3.000000</td>\n",
              "      <td>38.000000</td>\n",
              "      <td>1.000000</td>\n",
              "      <td>0.000000</td>\n",
              "      <td>31.000000</td>\n",
              "    </tr>\n",
              "    <tr>\n",
              "      <th>max</th>\n",
              "      <td>891.000000</td>\n",
              "      <td>1.000000</td>\n",
              "      <td>3.000000</td>\n",
              "      <td>80.000000</td>\n",
              "      <td>8.000000</td>\n",
              "      <td>6.000000</td>\n",
              "      <td>512.329200</td>\n",
              "    </tr>\n",
              "  </tbody>\n",
              "</table>\n",
              "</div>\n",
              "      <button class=\"colab-df-convert\" onclick=\"convertToInteractive('df-62ae5f73-442b-4442-9726-d6a55db48454')\"\n",
              "              title=\"Convert this dataframe to an interactive table.\"\n",
              "              style=\"display:none;\">\n",
              "        \n",
              "  <svg xmlns=\"http://www.w3.org/2000/svg\" height=\"24px\"viewBox=\"0 0 24 24\"\n",
              "       width=\"24px\">\n",
              "    <path d=\"M0 0h24v24H0V0z\" fill=\"none\"/>\n",
              "    <path d=\"M18.56 5.44l.94 2.06.94-2.06 2.06-.94-2.06-.94-.94-2.06-.94 2.06-2.06.94zm-11 1L8.5 8.5l.94-2.06 2.06-.94-2.06-.94L8.5 2.5l-.94 2.06-2.06.94zm10 10l.94 2.06.94-2.06 2.06-.94-2.06-.94-.94-2.06-.94 2.06-2.06.94z\"/><path d=\"M17.41 7.96l-1.37-1.37c-.4-.4-.92-.59-1.43-.59-.52 0-1.04.2-1.43.59L10.3 9.45l-7.72 7.72c-.78.78-.78 2.05 0 2.83L4 21.41c.39.39.9.59 1.41.59.51 0 1.02-.2 1.41-.59l7.78-7.78 2.81-2.81c.8-.78.8-2.07 0-2.86zM5.41 20L4 18.59l7.72-7.72 1.47 1.35L5.41 20z\"/>\n",
              "  </svg>\n",
              "      </button>\n",
              "      \n",
              "  <style>\n",
              "    .colab-df-container {\n",
              "      display:flex;\n",
              "      flex-wrap:wrap;\n",
              "      gap: 12px;\n",
              "    }\n",
              "\n",
              "    .colab-df-convert {\n",
              "      background-color: #E8F0FE;\n",
              "      border: none;\n",
              "      border-radius: 50%;\n",
              "      cursor: pointer;\n",
              "      display: none;\n",
              "      fill: #1967D2;\n",
              "      height: 32px;\n",
              "      padding: 0 0 0 0;\n",
              "      width: 32px;\n",
              "    }\n",
              "\n",
              "    .colab-df-convert:hover {\n",
              "      background-color: #E2EBFA;\n",
              "      box-shadow: 0px 1px 2px rgba(60, 64, 67, 0.3), 0px 1px 3px 1px rgba(60, 64, 67, 0.15);\n",
              "      fill: #174EA6;\n",
              "    }\n",
              "\n",
              "    [theme=dark] .colab-df-convert {\n",
              "      background-color: #3B4455;\n",
              "      fill: #D2E3FC;\n",
              "    }\n",
              "\n",
              "    [theme=dark] .colab-df-convert:hover {\n",
              "      background-color: #434B5C;\n",
              "      box-shadow: 0px 1px 3px 1px rgba(0, 0, 0, 0.15);\n",
              "      filter: drop-shadow(0px 1px 2px rgba(0, 0, 0, 0.3));\n",
              "      fill: #FFFFFF;\n",
              "    }\n",
              "  </style>\n",
              "\n",
              "      <script>\n",
              "        const buttonEl =\n",
              "          document.querySelector('#df-62ae5f73-442b-4442-9726-d6a55db48454 button.colab-df-convert');\n",
              "        buttonEl.style.display =\n",
              "          google.colab.kernel.accessAllowed ? 'block' : 'none';\n",
              "\n",
              "        async function convertToInteractive(key) {\n",
              "          const element = document.querySelector('#df-62ae5f73-442b-4442-9726-d6a55db48454');\n",
              "          const dataTable =\n",
              "            await google.colab.kernel.invokeFunction('convertToInteractive',\n",
              "                                                     [key], {});\n",
              "          if (!dataTable) return;\n",
              "\n",
              "          const docLinkHtml = 'Like what you see? Visit the ' +\n",
              "            '<a target=\"_blank\" href=https://colab.research.google.com/notebooks/data_table.ipynb>data table notebook</a>'\n",
              "            + ' to learn more about interactive tables.';\n",
              "          element.innerHTML = '';\n",
              "          dataTable['output_type'] = 'display_data';\n",
              "          await google.colab.output.renderOutput(dataTable, element);\n",
              "          const docLink = document.createElement('div');\n",
              "          docLink.innerHTML = docLinkHtml;\n",
              "          element.appendChild(docLink);\n",
              "        }\n",
              "      </script>\n",
              "    </div>\n",
              "  </div>\n",
              "  "
            ]
          },
          "metadata": {},
          "execution_count": 8
        }
      ],
      "source": [
        "## statistical info\n",
        "train.describe()"
      ]
    },
    {
      "cell_type": "code",
      "execution_count": null,
      "id": "3faf3530",
      "metadata": {
        "execution": {
          "iopub.execute_input": "2021-10-26T14:39:53.202353Z",
          "iopub.status.busy": "2021-10-26T14:39:53.201388Z",
          "iopub.status.idle": "2021-10-26T14:39:53.215660Z",
          "shell.execute_reply": "2021-10-26T14:39:53.216145Z",
          "shell.execute_reply.started": "2021-10-26T13:23:20.513055Z"
        },
        "papermill": {
          "duration": 0.056979,
          "end_time": "2021-10-26T14:39:53.216348",
          "exception": false,
          "start_time": "2021-10-26T14:39:53.159369",
          "status": "completed"
        },
        "tags": [],
        "colab": {
          "base_uri": "https://localhost:8080/"
        },
        "id": "3faf3530",
        "outputId": "0354de9c-7d48-4287-e229-1643dd637ff2"
      },
      "outputs": [
        {
          "output_type": "stream",
          "name": "stdout",
          "text": [
            "<class 'pandas.core.frame.DataFrame'>\n",
            "RangeIndex: 891 entries, 0 to 890\n",
            "Data columns (total 12 columns):\n",
            " #   Column       Non-Null Count  Dtype  \n",
            "---  ------       --------------  -----  \n",
            " 0   PassengerId  891 non-null    int64  \n",
            " 1   Survived     891 non-null    int64  \n",
            " 2   Pclass       891 non-null    int64  \n",
            " 3   Name         891 non-null    object \n",
            " 4   Sex          891 non-null    object \n",
            " 5   Age          714 non-null    float64\n",
            " 6   SibSp        891 non-null    int64  \n",
            " 7   Parch        891 non-null    int64  \n",
            " 8   Ticket       891 non-null    object \n",
            " 9   Fare         891 non-null    float64\n",
            " 10  Cabin        204 non-null    object \n",
            " 11  Embarked     889 non-null    object \n",
            "dtypes: float64(2), int64(5), object(5)\n",
            "memory usage: 83.7+ KB\n"
          ]
        }
      ],
      "source": [
        "## datatype info\n",
        "train.info()"
      ]
    },
    {
      "cell_type": "markdown",
      "id": "ca24760e",
      "metadata": {
        "papermill": {
          "duration": 0.038578,
          "end_time": "2021-10-26T14:39:53.296624",
          "exception": false,
          "start_time": "2021-10-26T14:39:53.258046",
          "status": "completed"
        },
        "tags": [],
        "id": "ca24760e"
      },
      "source": [
        "## Exploratory Data Analysis"
      ]
    },
    {
      "cell_type": "code",
      "execution_count": null,
      "id": "727367c6",
      "metadata": {
        "execution": {
          "iopub.execute_input": "2021-10-26T14:39:55.192513Z",
          "iopub.status.busy": "2021-10-26T14:39:55.190965Z",
          "iopub.status.idle": "2021-10-26T14:39:55.431975Z",
          "shell.execute_reply": "2021-10-26T14:39:55.432497Z",
          "shell.execute_reply.started": "2021-10-26T13:32:30.355026Z"
        },
        "papermill": {
          "duration": 0.311216,
          "end_time": "2021-10-26T14:39:55.432668",
          "exception": false,
          "start_time": "2021-10-26T14:39:55.121452",
          "status": "completed"
        },
        "tags": [],
        "colab": {
          "base_uri": "https://localhost:8080/",
          "height": 466
        },
        "id": "727367c6",
        "outputId": "e2699f87-6b47-44db-cefa-9ff299206fde"
      },
      "outputs": [
        {
          "output_type": "execute_result",
          "data": {
            "text/plain": [
              "<Axes: xlabel='Age', ylabel='Density'>"
            ]
          },
          "metadata": {},
          "execution_count": 56
        },
        {
          "output_type": "display_data",
          "data": {
            "text/plain": [
              "<Figure size 640x480 with 1 Axes>"
            ],
            "image/png": "[encoded data removed]"
          },
          "metadata": {}
        }
      ],
      "source": [
        "## numerical attributes\n",
        "sns.distplot(train['Age'])"
      ]
    },
    {
      "cell_type": "code",
      "execution_count": null,
      "id": "3710f683",
      "metadata": {
        "execution": {
          "iopub.execute_input": "2021-10-26T14:39:55.534637Z",
          "iopub.status.busy": "2021-10-26T14:39:55.527902Z",
          "iopub.status.idle": "2021-10-26T14:39:55.834222Z",
          "shell.execute_reply": "2021-10-26T14:39:55.834677Z",
          "shell.execute_reply.started": "2021-10-26T13:33:45.287868Z"
        },
        "papermill": {
          "duration": 0.354661,
          "end_time": "2021-10-26T14:39:55.834852",
          "exception": false,
          "start_time": "2021-10-26T14:39:55.480191",
          "status": "completed"
        },
        "tags": [],
        "colab": {
          "base_uri": "https://localhost:8080/",
          "height": 466
        },
        "id": "3710f683",
        "outputId": "52ace075-eb2b-4c00-92bf-a9eb5695eb77"
      },
      "outputs": [
        {
          "output_type": "execute_result",
          "data": {
            "text/plain": [
              "<Axes: xlabel='Fare', ylabel='Density'>"
            ]
          },
          "metadata": {},
          "execution_count": 57
        },
        {
          "output_type": "display_data",
          "data": {
            "text/plain": [
              "<Figure size 640x480 with 1 Axes>"
            ],
            "image/png": "[encoded data removed]"
          },
          "metadata": {}
        }
      ],
      "source": [
        "sns.distplot(train['Fare'])"
      ]
    },
    {
      "cell_type": "code",
      "execution_count": null,
      "id": "07ce6816",
      "metadata": {
        "execution": {
          "iopub.execute_input": "2021-10-26T14:39:55.929219Z",
          "iopub.status.busy": "2021-10-26T14:39:55.928472Z",
          "iopub.status.idle": "2021-10-26T14:39:56.139991Z",
          "shell.execute_reply": "2021-10-26T14:39:56.140472Z",
          "shell.execute_reply.started": "2021-10-26T13:38:28.742151Z"
        },
        "papermill": {
          "duration": 0.260207,
          "end_time": "2021-10-26T14:39:56.140666",
          "exception": false,
          "start_time": "2021-10-26T14:39:55.880459",
          "status": "completed"
        },
        "tags": [],
        "colab": {
          "base_uri": "https://localhost:8080/",
          "height": 449
        },
        "id": "07ce6816",
        "outputId": "d72e3831-5e9b-4f75-e057-40ca25b89341"
      },
      "outputs": [
        {
          "output_type": "display_data",
          "data": {
            "text/plain": [
              "<Figure size 640x480 with 1 Axes>"
            ],
            "image/png": "[encoded data removed]"
          },
          "metadata": {}
        }
      ],
      "source": [
        "class_fare = train.pivot_table(index='Pclass', values='Fare')\n",
        "class_fare.plot(kind='bar')\n",
        "plt.xlabel('Pclass')\n",
        "plt.ylabel('Avg. Fare')\n",
        "plt.xticks(rotation=0)\n",
        "plt.show()"
      ]
    },
    {
      "cell_type": "code",
      "execution_count": null,
      "id": "0c60b697",
      "metadata": {
        "execution": {
          "iopub.execute_input": "2021-10-26T14:39:56.264235Z",
          "iopub.status.busy": "2021-10-26T14:39:56.242190Z",
          "iopub.status.idle": "2021-10-26T14:39:56.430974Z",
          "shell.execute_reply": "2021-10-26T14:39:56.430462Z",
          "shell.execute_reply.started": "2021-10-26T13:40:18.120856Z"
        },
        "papermill": {
          "duration": 0.244072,
          "end_time": "2021-10-26T14:39:56.431124",
          "exception": false,
          "start_time": "2021-10-26T14:39:56.187052",
          "status": "completed"
        },
        "tags": [],
        "colab": {
          "base_uri": "https://localhost:8080/",
          "height": 449
        },
        "id": "0c60b697",
        "outputId": "8863f35f-792c-435c-eb48-5f239ceb6040"
      },
      "outputs": [
        {
          "output_type": "display_data",
          "data": {
            "text/plain": [
              "<Figure size 640x480 with 1 Axes>"
            ],
            "image/png": "[encoded data removed]"
          },
          "metadata": {}
        }
      ],
      "source": [
        "class_fare = train.pivot_table(index='Pclass', values='Fare', aggfunc=np.sum)\n",
        "class_fare.plot(kind='bar')\n",
        "plt.xlabel('Pclass')\n",
        "plt.ylabel('Total Fare')\n",
        "plt.xticks(rotation=0)\n",
        "plt.show()"
      ]
    },
    {
      "cell_type": "code",
      "execution_count": null,
      "id": "ec21cf92",
      "metadata": {
        "execution": {
          "iopub.execute_input": "2021-10-26T14:39:56.532517Z",
          "iopub.status.busy": "2021-10-26T14:39:56.531632Z",
          "iopub.status.idle": "2021-10-26T14:39:56.886572Z",
          "shell.execute_reply": "2021-10-26T14:39:56.887221Z",
          "shell.execute_reply.started": "2021-10-26T14:02:58.353459Z"
        },
        "papermill": {
          "duration": 0.407463,
          "end_time": "2021-10-26T14:39:56.887414",
          "exception": false,
          "start_time": "2021-10-26T14:39:56.479951",
          "status": "completed"
        },
        "tags": [],
        "colab": {
          "base_uri": "https://localhost:8080/",
          "height": 466
        },
        "id": "ec21cf92",
        "outputId": "946215d8-7469-4e7a-c0a7-2908c87c25a5"
      },
      "outputs": [
        {
          "output_type": "execute_result",
          "data": {
            "text/plain": [
              "<Axes: xlabel='Pclass', ylabel='Fare'>"
            ]
          },
          "metadata": {},
          "execution_count": 60
        },
        {
          "output_type": "display_data",
          "data": {
            "text/plain": [
              "<Figure size 640x480 with 1 Axes>"
            ],
            "image/png": "[encoded data removed]"
          },
          "metadata": {}
        }
      ],
      "source": [
        "sns.barplot(data=train, x='Pclass', y='Fare', hue='Survived')"
      ]
    },
    {
      "cell_type": "code",
      "execution_count": null,
      "id": "410f48d8",
      "metadata": {
        "execution": {
          "iopub.execute_input": "2021-10-26T14:39:56.988094Z",
          "iopub.status.busy": "2021-10-26T14:39:56.987164Z",
          "iopub.status.idle": "2021-10-26T14:39:57.342916Z",
          "shell.execute_reply": "2021-10-26T14:39:57.342238Z",
          "shell.execute_reply.started": "2021-10-26T14:04:41.016891Z"
        },
        "papermill": {
          "duration": 0.407863,
          "end_time": "2021-10-26T14:39:57.343064",
          "exception": false,
          "start_time": "2021-10-26T14:39:56.935201",
          "status": "completed"
        },
        "tags": [],
        "colab": {
          "base_uri": "https://localhost:8080/",
          "height": 466
        },
        "id": "410f48d8",
        "outputId": "99603bf4-dfad-47a3-f495-d795cb9969d8"
      },
      "outputs": [
        {
          "output_type": "execute_result",
          "data": {
            "text/plain": [
              "<Axes: xlabel='Survived', ylabel='Fare'>"
            ]
          },
          "metadata": {},
          "execution_count": 61
        },
        {
          "output_type": "display_data",
          "data": {
            "text/plain": [
              "<Figure size 640x480 with 1 Axes>"
            ],
            "image/png": "[encoded data removed]"
          },
          "metadata": {}
        }
      ],
      "source": [
        "sns.barplot(data=train, x='Survived', y='Fare', hue='Pclass')"
      ]
    },
    {
      "cell_type": "markdown",
      "id": "d24508e0",
      "metadata": {
        "papermill": {
          "duration": 0.048157,
          "end_time": "2021-10-26T14:39:57.439959",
          "exception": false,
          "start_time": "2021-10-26T14:39:57.391802",
          "status": "completed"
        },
        "tags": [],
        "id": "d24508e0"
      },
      "source": [
        "## Data Preprocessing"
      ]
    },
    {
      "cell_type": "code",
      "execution_count": null,
      "id": "1b5dd15a",
      "metadata": {
        "execution": {
          "iopub.execute_input": "2021-10-26T14:39:57.547626Z",
          "iopub.status.busy": "2021-10-26T14:39:57.544956Z",
          "iopub.status.idle": "2021-10-26T14:39:57.563157Z",
          "shell.execute_reply": "2021-10-26T14:39:57.562637Z",
          "shell.execute_reply.started": "2021-10-26T13:56:37.131490Z"
        },
        "papermill": {
          "duration": 0.074167,
          "end_time": "2021-10-26T14:39:57.563338",
          "exception": false,
          "start_time": "2021-10-26T14:39:57.489171",
          "status": "completed"
        },
        "tags": [],
        "colab": {
          "base_uri": "https://localhost:8080/",
          "height": 206
        },
        "id": "1b5dd15a",
        "outputId": "f95121c6-c698-45ec-bffc-4a3871bb445a"
      },
      "outputs": [
        {
          "output_type": "execute_result",
          "data": {
            "text/plain": [
              "   PassengerId  Survived  Pclass  \\\n",
              "0            1       0.0       3   \n",
              "1            2       1.0       1   \n",
              "2            3       1.0       3   \n",
              "3            4       1.0       1   \n",
              "4            5       0.0       3   \n",
              "\n",
              "                                                Name     Sex   Age  SibSp  \\\n",
              "0                            Braund, Mr. Owen Harris    male  22.0      1   \n",
              "1  Cumings, Mrs. John Bradley (Florence Briggs Th...  female  38.0      1   \n",
              "2                             Heikkinen, Miss. Laina  female  26.0      0   \n",
              "3       Futrelle, Mrs. Jacques Heath (Lily May Peel)  female  35.0      1   \n",
              "4                           Allen, Mr. William Henry    male  35.0      0   \n",
              "\n",
              "   Parch            Ticket     Fare Cabin Embarked  \n",
              "0      0         A/5 21171   7.2500   NaN        S  \n",
              "1      0          PC 17599  71.2833   C85        C  \n",
              "2      0  STON/O2. 3101282   7.9250   NaN        S  \n",
              "3      0            113803  53.1000  C123        S  \n",
              "4      0            373450   8.0500   NaN        S  "
            ],
            "text/html": [
              "\n",
              "  <div id=\"df-0c92ac66-4e21-489a-9913-fa52493b7c4a\">\n",
              "    <div class=\"colab-df-container\">\n",
              "      <div>\n",
              "<style scoped>\n",
              "    .dataframe tbody tr th:only-of-type {\n",
              "        vertical-align: middle;\n",
              "    }\n",
              "\n",
              "    .dataframe tbody tr th {\n",
              "        vertical-align: top;\n",
              "    }\n",
              "\n",
              "    .dataframe thead th {\n",
              "        text-align: right;\n",
              "    }\n",
              "</style>\n",
              "<table border=\"1\" class=\"dataframe\">\n",
              "  <thead>\n",
              "    <tr style=\"text-align: right;\">\n",
              "      <th></th>\n",
              "      <th>PassengerId</th>\n",
              "      <th>Survived</th>\n",
              "      <th>Pclass</th>\n",
              "      <th>Name</th>\n",
              "      <th>Sex</th>\n",
              "      <th>Age</th>\n",
              "      <th>SibSp</th>\n",
              "      <th>Parch</th>\n",
              "      <th>Ticket</th>\n",
              "      <th>Fare</th>\n",
              "      <th>Cabin</th>\n",
              "      <th>Embarked</th>\n",
              "    </tr>\n",
              "  </thead>\n",
              "  <tbody>\n",
              "    <tr>\n",
              "      <th>0</th>\n",
              "      <td>1</td>\n",
              "      <td>0.0</td>\n",
              "      <td>3</td>\n",
              "      <td>Braund, Mr. Owen Harris</td>\n",
              "      <td>male</td>\n",
              "      <td>22.0</td>\n",
              "      <td>1</td>\n",
              "      <td>0</td>\n",
              "      <td>A/5 21171</td>\n",
              "      <td>7.2500</td>\n",
              "      <td>NaN</td>\n",
              "      <td>S</td>\n",
              "    </tr>\n",
              "    <tr>\n",
              "      <th>1</th>\n",
              "      <td>2</td>\n",
              "      <td>1.0</td>\n",
              "      <td>1</td>\n",
              "      <td>Cumings, Mrs. John Bradley (Florence Briggs Th...</td>\n",
              "      <td>female</td>\n",
              "      <td>38.0</td>\n",
              "      <td>1</td>\n",
              "      <td>0</td>\n",
              "      <td>PC 17599</td>\n",
              "      <td>71.2833</td>\n",
              "      <td>C85</td>\n",
              "      <td>C</td>\n",
              "    </tr>\n",
              "    <tr>\n",
              "      <th>2</th>\n",
              "      <td>3</td>\n",
              "      <td>1.0</td>\n",
              "      <td>3</td>\n",
              "      <td>Heikkinen, Miss. Laina</td>\n",
              "      <td>female</td>\n",
              "      <td>26.0</td>\n",
              "      <td>0</td>\n",
              "      <td>0</td>\n",
              "      <td>STON/O2. 3101282</td>\n",
              "      <td>7.9250</td>\n",
              "      <td>NaN</td>\n",
              "      <td>S</td>\n",
              "    </tr>\n",
              "    <tr>\n",
              "      <th>3</th>\n",
              "      <td>4</td>\n",
              "      <td>1.0</td>\n",
              "      <td>1</td>\n",
              "      <td>Futrelle, Mrs. Jacques Heath (Lily May Peel)</td>\n",
              "      <td>female</td>\n",
              "      <td>35.0</td>\n",
              "      <td>1</td>\n",
              "      <td>0</td>\n",
              "      <td>113803</td>\n",
              "      <td>53.1000</td>\n",
              "      <td>C123</td>\n",
              "      <td>S</td>\n",
              "    </tr>\n",
              "    <tr>\n",
              "      <th>4</th>\n",
              "      <td>5</td>\n",
              "      <td>0.0</td>\n",
              "      <td>3</td>\n",
              "      <td>Allen, Mr. William Henry</td>\n",
              "      <td>male</td>\n",
              "      <td>35.0</td>\n",
              "      <td>0</td>\n",
              "      <td>0</td>\n",
              "      <td>373450</td>\n",
              "      <td>8.0500</td>\n",
              "      <td>NaN</td>\n",
              "      <td>S</td>\n",
              "    </tr>\n",
              "  </tbody>\n",
              "</table>\n",
              "</div>\n",
              "      <button class=\"colab-df-convert\" onclick=\"convertToInteractive('df-0c92ac66-4e21-489a-9913-fa52493b7c4a')\"\n",
              "              title=\"Convert this dataframe to an interactive table.\"\n",
              "              style=\"display:none;\">\n",
              "        \n",
              "  <svg xmlns=\"http://www.w3.org/2000/svg\" height=\"24px\"viewBox=\"0 0 24 24\"\n",
              "       width=\"24px\">\n",
              "    <path d=\"M0 0h24v24H0V0z\" fill=\"none\"/>\n",
              "    <path d=\"M18.56 5.44l.94 2.06.94-2.06 2.06-.94-2.06-.94-.94-2.06-.94 2.06-2.06.94zm-11 1L8.5 8.5l.94-2.06 2.06-.94-2.06-.94L8.5 2.5l-.94 2.06-2.06.94zm10 10l.94 2.06.94-2.06 2.06-.94-2.06-.94-.94-2.06-.94 2.06-2.06.94z\"/><path d=\"M17.41 7.96l-1.37-1.37c-.4-.4-.92-.59-1.43-.59-.52 0-1.04.2-1.43.59L10.3 9.45l-7.72 7.72c-.78.78-.78 2.05 0 2.83L4 21.41c.39.39.9.59 1.41.59.51 0 1.02-.2 1.41-.59l7.78-7.78 2.81-2.81c.8-.78.8-2.07 0-2.86zM5.41 20L4 18.59l7.72-7.72 1.47 1.35L5.41 20z\"/>\n",
              "  </svg>\n",
              "      </button>\n",
              "      \n",
              "  <style>\n",
              "    .colab-df-container {\n",
              "      display:flex;\n",
              "      flex-wrap:wrap;\n",
              "      gap: 12px;\n",
              "    }\n",
              "\n",
              "    .colab-df-convert {\n",
              "      background-color: #E8F0FE;\n",
              "      border: none;\n",
              "      border-radius: 50%;\n",
              "      cursor: pointer;\n",
              "      display: none;\n",
              "      fill: #1967D2;\n",
              "      height: 32px;\n",
              "      padding: 0 0 0 0;\n",
              "      width: 32px;\n",
              "    }\n",
              "\n",
              "    .colab-df-convert:hover {\n",
              "      background-color: #E2EBFA;\n",
              "      box-shadow: 0px 1px 2px rgba(60, 64, 67, 0.3), 0px 1px 3px 1px rgba(60, 64, 67, 0.15);\n",
              "      fill: #174EA6;\n",
              "    }\n",
              "\n",
              "    [theme=dark] .colab-df-convert {\n",
              "      background-color: #3B4455;\n",
              "      fill: #D2E3FC;\n",
              "    }\n",
              "\n",
              "    [theme=dark] .colab-df-convert:hover {\n",
              "      background-color: #434B5C;\n",
              "      box-shadow: 0px 1px 3px 1px rgba(0, 0, 0, 0.15);\n",
              "      filter: drop-shadow(0px 1px 2px rgba(0, 0, 0, 0.3));\n",
              "      fill: #FFFFFF;\n",
              "    }\n",
              "  </style>\n",
              "\n",
              "      <script>\n",
              "        const buttonEl =\n",
              "          document.querySelector('#df-0c92ac66-4e21-489a-9913-fa52493b7c4a button.colab-df-convert');\n",
              "        buttonEl.style.display =\n",
              "          google.colab.kernel.accessAllowed ? 'block' : 'none';\n",
              "\n",
              "        async function convertToInteractive(key) {\n",
              "          const element = document.querySelector('#df-0c92ac66-4e21-489a-9913-fa52493b7c4a');\n",
              "          const dataTable =\n",
              "            await google.colab.kernel.invokeFunction('convertToInteractive',\n",
              "                                                     [key], {});\n",
              "          if (!dataTable) return;\n",
              "\n",
              "          const docLinkHtml = 'Like what you see? Visit the ' +\n",
              "            '<a target=\"_blank\" href=https://colab.research.google.com/notebooks/data_table.ipynb>data table notebook</a>'\n",
              "            + ' to learn more about interactive tables.';\n",
              "          element.innerHTML = '';\n",
              "          dataTable['output_type'] = 'display_data';\n",
              "          await google.colab.output.renderOutput(dataTable, element);\n",
              "          const docLink = document.createElement('div');\n",
              "          docLink.innerHTML = docLinkHtml;\n",
              "          element.appendChild(docLink);\n",
              "        }\n",
              "      </script>\n",
              "    </div>\n",
              "  </div>\n",
              "  "
            ]
          },
          "metadata": {},
          "execution_count": 12
        }
      ],
      "source": [
        "train_len = len(train)\n",
        "# combine two dataframes\n",
        "df = pd.concat([train, test], axis=0)\n",
        "df = df.reset_index(drop=True)\n",
        "df.head()"
      ]
    },
    {
      "cell_type": "code",
      "execution_count": null,
      "id": "2a31831b",
      "metadata": {
        "execution": {
          "iopub.execute_input": "2021-10-26T14:39:57.668381Z",
          "iopub.status.busy": "2021-10-26T14:39:57.667723Z",
          "iopub.status.idle": "2021-10-26T14:39:57.679110Z",
          "shell.execute_reply": "2021-10-26T14:39:57.679678Z",
          "shell.execute_reply.started": "2021-10-26T13:56:39.579192Z"
        },
        "papermill": {
          "duration": 0.065557,
          "end_time": "2021-10-26T14:39:57.679841",
          "exception": false,
          "start_time": "2021-10-26T14:39:57.614284",
          "status": "completed"
        },
        "tags": [],
        "colab": {
          "base_uri": "https://localhost:8080/",
          "height": 206
        },
        "id": "2a31831b",
        "outputId": "c2c2ceea-63cc-4d6a-c246-f8d4c0ce4069"
      },
      "outputs": [
        {
          "output_type": "execute_result",
          "data": {
            "text/plain": [
              "      PassengerId  Survived  Pclass                          Name     Sex  \\\n",
              "1304         1305       NaN       3            Spector, Mr. Woolf    male   \n",
              "1305         1306       NaN       1  Oliva y Ocana, Dona. Fermina  female   \n",
              "1306         1307       NaN       3  Saether, Mr. Simon Sivertsen    male   \n",
              "1307         1308       NaN       3           Ware, Mr. Frederick    male   \n",
              "1308         1309       NaN       3      Peter, Master. Michael J    male   \n",
              "\n",
              "       Age  SibSp  Parch              Ticket      Fare Cabin Embarked  \n",
              "1304   NaN      0      0           A.5. 3236    8.0500   NaN        S  \n",
              "1305  39.0      0      0            PC 17758  108.9000  C105        C  \n",
              "1306  38.5      0      0  SOTON/O.Q. 3101262    7.2500   NaN        S  \n",
              "1307   NaN      0      0              359309    8.0500   NaN        S  \n",
              "1308   NaN      1      1                2668   22.3583   NaN        C  "
            ],
            "text/html": [
              "\n",
              "  <div id=\"df-dcb86dfe-6c57-4788-8872-1066b646e79a\">\n",
              "    <div class=\"colab-df-container\">\n",
              "      <div>\n",
              "<style scoped>\n",
              "    .dataframe tbody tr th:only-of-type {\n",
              "        vertical-align: middle;\n",
              "    }\n",
              "\n",
              "    .dataframe tbody tr th {\n",
              "        vertical-align: top;\n",
              "    }\n",
              "\n",
              "    .dataframe thead th {\n",
              "        text-align: right;\n",
              "    }\n",
              "</style>\n",
              "<table border=\"1\" class=\"dataframe\">\n",
              "  <thead>\n",
              "    <tr style=\"text-align: right;\">\n",
              "      <th></th>\n",
              "      <th>PassengerId</th>\n",
              "      <th>Survived</th>\n",
              "      <th>Pclass</th>\n",
              "      <th>Name</th>\n",
              "      <th>Sex</th>\n",
              "      <th>Age</th>\n",
              "      <th>SibSp</th>\n",
              "      <th>Parch</th>\n",
              "      <th>Ticket</th>\n",
              "      <th>Fare</th>\n",
              "      <th>Cabin</th>\n",
              "      <th>Embarked</th>\n",
              "    </tr>\n",
              "  </thead>\n",
              "  <tbody>\n",
              "    <tr>\n",
              "      <th>1304</th>\n",
              "      <td>1305</td>\n",
              "      <td>NaN</td>\n",
              "      <td>3</td>\n",
              "      <td>Spector, Mr. Woolf</td>\n",
              "      <td>male</td>\n",
              "      <td>NaN</td>\n",
              "      <td>0</td>\n",
              "      <td>0</td>\n",
              "      <td>A.5. 3236</td>\n",
              "      <td>8.0500</td>\n",
              "      <td>NaN</td>\n",
              "      <td>S</td>\n",
              "    </tr>\n",
              "    <tr>\n",
              "      <th>1305</th>\n",
              "      <td>1306</td>\n",
              "      <td>NaN</td>\n",
              "      <td>1</td>\n",
              "      <td>Oliva y Ocana, Dona. Fermina</td>\n",
              "      <td>female</td>\n",
              "      <td>39.0</td>\n",
              "      <td>0</td>\n",
              "      <td>0</td>\n",
              "      <td>PC 17758</td>\n",
              "      <td>108.9000</td>\n",
              "      <td>C105</td>\n",
              "      <td>C</td>\n",
              "    </tr>\n",
              "    <tr>\n",
              "      <th>1306</th>\n",
              "      <td>1307</td>\n",
              "      <td>NaN</td>\n",
              "      <td>3</td>\n",
              "      <td>Saether, Mr. Simon Sivertsen</td>\n",
              "      <td>male</td>\n",
              "      <td>38.5</td>\n",
              "      <td>0</td>\n",
              "      <td>0</td>\n",
              "      <td>SOTON/O.Q. 3101262</td>\n",
              "      <td>7.2500</td>\n",
              "      <td>NaN</td>\n",
              "      <td>S</td>\n",
              "    </tr>\n",
              "    <tr>\n",
              "      <th>1307</th>\n",
              "      <td>1308</td>\n",
              "      <td>NaN</td>\n",
              "      <td>3</td>\n",
              "      <td>Ware, Mr. Frederick</td>\n",
              "      <td>male</td>\n",
              "      <td>NaN</td>\n",
              "      <td>0</td>\n",
              "      <td>0</td>\n",
              "      <td>359309</td>\n",
              "      <td>8.0500</td>\n",
              "      <td>NaN</td>\n",
              "      <td>S</td>\n",
              "    </tr>\n",
              "    <tr>\n",
              "      <th>1308</th>\n",
              "      <td>1309</td>\n",
              "      <td>NaN</td>\n",
              "      <td>3</td>\n",
              "      <td>Peter, Master. Michael J</td>\n",
              "      <td>male</td>\n",
              "      <td>NaN</td>\n",
              "      <td>1</td>\n",
              "      <td>1</td>\n",
              "      <td>2668</td>\n",
              "      <td>22.3583</td>\n",
              "      <td>NaN</td>\n",
              "      <td>C</td>\n",
              "    </tr>\n",
              "  </tbody>\n",
              "</table>\n",
              "</div>\n",
              "      <button class=\"colab-df-convert\" onclick=\"convertToInteractive('df-dcb86dfe-6c57-4788-8872-1066b646e79a')\"\n",
              "              title=\"Convert this dataframe to an interactive table.\"\n",
              "              style=\"display:none;\">\n",
              "        \n",
              "  <svg xmlns=\"http://www.w3.org/2000/svg\" height=\"24px\"viewBox=\"0 0 24 24\"\n",
              "       width=\"24px\">\n",
              "    <path d=\"M0 0h24v24H0V0z\" fill=\"none\"/>\n",
              "    <path d=\"M18.56 5.44l.94 2.06.94-2.06 2.06-.94-2.06-.94-.94-2.06-.94 2.06-2.06.94zm-11 1L8.5 8.5l.94-2.06 2.06-.94-2.06-.94L8.5 2.5l-.94 2.06-2.06.94zm10 10l.94 2.06.94-2.06 2.06-.94-2.06-.94-.94-2.06-.94 2.06-2.06.94z\"/><path d=\"M17.41 7.96l-1.37-1.37c-.4-.4-.92-.59-1.43-.59-.52 0-1.04.2-1.43.59L10.3 9.45l-7.72 7.72c-.78.78-.78 2.05 0 2.83L4 21.41c.39.39.9.59 1.41.59.51 0 1.02-.2 1.41-.59l7.78-7.78 2.81-2.81c.8-.78.8-2.07 0-2.86zM5.41 20L4 18.59l7.72-7.72 1.47 1.35L5.41 20z\"/>\n",
              "  </svg>\n",
              "      </button>\n",
              "      \n",
              "  <style>\n",
              "    .colab-df-container {\n",
              "      display:flex;\n",
              "      flex-wrap:wrap;\n",
              "      gap: 12px;\n",
              "    }\n",
              "\n",
              "    .colab-df-convert {\n",
              "      background-color: #E8F0FE;\n",
              "      border: none;\n",
              "      border-radius: 50%;\n",
              "      cursor: pointer;\n",
              "      display: none;\n",
              "      fill: #1967D2;\n",
              "      height: 32px;\n",
              "      padding: 0 0 0 0;\n",
              "      width: 32px;\n",
              "    }\n",
              "\n",
              "    .colab-df-convert:hover {\n",
              "      background-color: #E2EBFA;\n",
              "      box-shadow: 0px 1px 2px rgba(60, 64, 67, 0.3), 0px 1px 3px 1px rgba(60, 64, 67, 0.15);\n",
              "      fill: #174EA6;\n",
              "    }\n",
              "\n",
              "    [theme=dark] .colab-df-convert {\n",
              "      background-color: #3B4455;\n",
              "      fill: #D2E3FC;\n",
              "    }\n",
              "\n",
              "    [theme=dark] .colab-df-convert:hover {\n",
              "      background-color: #434B5C;\n",
              "      box-shadow: 0px 1px 3px 1px rgba(0, 0, 0, 0.15);\n",
              "      filter: drop-shadow(0px 1px 2px rgba(0, 0, 0, 0.3));\n",
              "      fill: #FFFFFF;\n",
              "    }\n",
              "  </style>\n",
              "\n",
              "      <script>\n",
              "        const buttonEl =\n",
              "          document.querySelector('#df-dcb86dfe-6c57-4788-8872-1066b646e79a button.colab-df-convert');\n",
              "        buttonEl.style.display =\n",
              "          google.colab.kernel.accessAllowed ? 'block' : 'none';\n",
              "\n",
              "        async function convertToInteractive(key) {\n",
              "          const element = document.querySelector('#df-dcb86dfe-6c57-4788-8872-1066b646e79a');\n",
              "          const dataTable =\n",
              "            await google.colab.kernel.invokeFunction('convertToInteractive',\n",
              "                                                     [key], {});\n",
              "          if (!dataTable) return;\n",
              "\n",
              "          const docLinkHtml = 'Like what you see? Visit the ' +\n",
              "            '<a target=\"_blank\" href=https://colab.research.google.com/notebooks/data_table.ipynb>data table notebook</a>'\n",
              "            + ' to learn more about interactive tables.';\n",
              "          element.innerHTML = '';\n",
              "          dataTable['output_type'] = 'display_data';\n",
              "          await google.colab.output.renderOutput(dataTable, element);\n",
              "          const docLink = document.createElement('div');\n",
              "          docLink.innerHTML = docLinkHtml;\n",
              "          element.appendChild(docLink);\n",
              "        }\n",
              "      </script>\n",
              "    </div>\n",
              "  </div>\n",
              "  "
            ]
          },
          "metadata": {},
          "execution_count": 13
        }
      ],
      "source": [
        "df.tail()"
      ]
    },
    {
      "cell_type": "code",
      "execution_count": null,
      "id": "30cd102b",
      "metadata": {
        "execution": {
          "iopub.execute_input": "2021-10-26T14:39:57.781612Z",
          "iopub.status.busy": "2021-10-26T14:39:57.780995Z",
          "iopub.status.idle": "2021-10-26T14:39:57.788191Z",
          "shell.execute_reply": "2021-10-26T14:39:57.788710Z",
          "shell.execute_reply.started": "2021-10-26T13:56:43.674630Z"
        },
        "papermill": {
          "duration": 0.059742,
          "end_time": "2021-10-26T14:39:57.788872",
          "exception": false,
          "start_time": "2021-10-26T14:39:57.729130",
          "status": "completed"
        },
        "tags": [],
        "colab": {
          "base_uri": "https://localhost:8080/"
        },
        "id": "30cd102b",
        "outputId": "f828b58c-a6d7-41c9-ed0b-9f35939906fe"
      },
      "outputs": [
        {
          "output_type": "execute_result",
          "data": {
            "text/plain": [
              "PassengerId       0\n",
              "Survived        418\n",
              "Pclass            0\n",
              "Name              0\n",
              "Sex               0\n",
              "Age             263\n",
              "SibSp             0\n",
              "Parch             0\n",
              "Ticket            0\n",
              "Fare              1\n",
              "Cabin          1014\n",
              "Embarked          2\n",
              "dtype: int64"
            ]
          },
          "metadata": {},
          "execution_count": 14
        }
      ],
      "source": [
        "## find the null values\n",
        "df.isnull().sum()"
      ]
    },
    {
      "cell_type": "code",
      "execution_count": null,
      "id": "6348c916",
      "metadata": {
        "execution": {
          "iopub.execute_input": "2021-10-26T14:39:57.891301Z",
          "iopub.status.busy": "2021-10-26T14:39:57.890660Z",
          "iopub.status.idle": "2021-10-26T14:39:57.894729Z",
          "shell.execute_reply": "2021-10-26T14:39:57.895276Z",
          "shell.execute_reply.started": "2021-10-26T13:56:43.767948Z"
        },
        "papermill": {
          "duration": 0.057113,
          "end_time": "2021-10-26T14:39:57.895471",
          "exception": false,
          "start_time": "2021-10-26T14:39:57.838358",
          "status": "completed"
        },
        "tags": [],
        "id": "6348c916"
      },
      "outputs": [],
      "source": [
        "# drop or delete the column\n",
        "df = df.drop(columns=['Cabin'], axis=1)"
      ]
    },
    {
      "cell_type": "code",
      "execution_count": null,
      "id": "4ab016ab",
      "metadata": {
        "execution": {
          "iopub.execute_input": "2021-10-26T14:39:57.998471Z",
          "iopub.status.busy": "2021-10-26T14:39:57.997812Z",
          "iopub.status.idle": "2021-10-26T14:39:58.002901Z",
          "shell.execute_reply": "2021-10-26T14:39:58.003485Z",
          "shell.execute_reply.started": "2021-10-26T13:56:44.085547Z"
        },
        "papermill": {
          "duration": 0.058866,
          "end_time": "2021-10-26T14:39:58.003680",
          "exception": false,
          "start_time": "2021-10-26T14:39:57.944814",
          "status": "completed"
        },
        "tags": [],
        "colab": {
          "base_uri": "https://localhost:8080/"
        },
        "id": "4ab016ab",
        "outputId": "670ef2d4-7776-48ad-f874-d01c54209b5e"
      },
      "outputs": [
        {
          "output_type": "execute_result",
          "data": {
            "text/plain": [
              "29.881137667304014"
            ]
          },
          "metadata": {},
          "execution_count": 16
        }
      ],
      "source": [
        "df['Age'].mean()"
      ]
    },
    {
      "cell_type": "code",
      "execution_count": null,
      "id": "237a0e0d",
      "metadata": {
        "execution": {
          "iopub.execute_input": "2021-10-26T14:39:58.109798Z",
          "iopub.status.busy": "2021-10-26T14:39:58.108381Z",
          "iopub.status.idle": "2021-10-26T14:39:58.112490Z",
          "shell.execute_reply": "2021-10-26T14:39:58.112970Z",
          "shell.execute_reply.started": "2021-10-26T13:56:44.222872Z"
        },
        "papermill": {
          "duration": 0.058801,
          "end_time": "2021-10-26T14:39:58.113135",
          "exception": false,
          "start_time": "2021-10-26T14:39:58.054334",
          "status": "completed"
        },
        "tags": [],
        "id": "237a0e0d"
      },
      "outputs": [],
      "source": [
        "# fill missing values using mean of the numerical column\n",
        "df['Age'] = df['Age'].fillna(df['Age'].mean())\n",
        "df['Fare'] = df['Fare'].fillna(df['Fare'].mean())"
      ]
    },
    {
      "cell_type": "code",
      "execution_count": null,
      "id": "b595cdd7",
      "metadata": {
        "execution": {
          "iopub.execute_input": "2021-10-26T14:39:58.218629Z",
          "iopub.status.busy": "2021-10-26T14:39:58.218015Z",
          "iopub.status.idle": "2021-10-26T14:39:58.220186Z",
          "shell.execute_reply": "2021-10-26T14:39:58.220740Z",
          "shell.execute_reply.started": "2021-10-26T13:56:44.592316Z"
        },
        "papermill": {
          "duration": 0.05757,
          "end_time": "2021-10-26T14:39:58.220901",
          "exception": false,
          "start_time": "2021-10-26T14:39:58.163331",
          "status": "completed"
        },
        "tags": [],
        "colab": {
          "base_uri": "https://localhost:8080/",
          "height": 35
        },
        "id": "b595cdd7",
        "outputId": "14613db6-eefd-4244-f82d-b92d9c6d666c"
      },
      "outputs": [
        {
          "output_type": "execute_result",
          "data": {
            "text/plain": [
              "'S'"
            ],
            "application/vnd.google.colaboratory.intrinsic+json": {
              "type": "string"
            }
          },
          "metadata": {},
          "execution_count": 18
        }
      ],
      "source": [
        "df['Embarked'].mode()[0]"
      ]
    },
    {
      "cell_type": "code",
      "execution_count": null,
      "id": "4ba56936",
      "metadata": {
        "execution": {
          "iopub.execute_input": "2021-10-26T14:39:58.327206Z",
          "iopub.status.busy": "2021-10-26T14:39:58.326640Z",
          "iopub.status.idle": "2021-10-26T14:39:58.328630Z",
          "shell.execute_reply": "2021-10-26T14:39:58.329061Z",
          "shell.execute_reply.started": "2021-10-26T13:56:44.876390Z"
        },
        "papermill": {
          "duration": 0.058328,
          "end_time": "2021-10-26T14:39:58.329215",
          "exception": false,
          "start_time": "2021-10-26T14:39:58.270887",
          "status": "completed"
        },
        "tags": [],
        "id": "4ba56936"
      },
      "outputs": [],
      "source": [
        "# fill missing values using mode of the categorical column\n",
        "df['Embarked'] = df['Embarked'].fillna(df['Embarked'].mode()[0])"
      ]
    },
    {
      "cell_type": "markdown",
      "id": "4bdc1ace",
      "metadata": {
        "papermill": {
          "duration": 0.049573,
          "end_time": "2021-10-26T14:39:58.428350",
          "exception": false,
          "start_time": "2021-10-26T14:39:58.378777",
          "status": "completed"
        },
        "tags": [],
        "id": "4bdc1ace"
      },
      "source": [
        "## Log transformation for uniform data distribution"
      ]
    },
    {
      "cell_type": "code",
      "execution_count": null,
      "id": "6c453ad5",
      "metadata": {
        "execution": {
          "iopub.execute_input": "2021-10-26T14:39:58.531610Z",
          "iopub.status.busy": "2021-10-26T14:39:58.531015Z",
          "iopub.status.idle": "2021-10-26T14:39:58.844928Z",
          "shell.execute_reply": "2021-10-26T14:39:58.845420Z",
          "shell.execute_reply.started": "2021-10-26T13:56:46.117505Z"
        },
        "papermill": {
          "duration": 0.367478,
          "end_time": "2021-10-26T14:39:58.845612",
          "exception": false,
          "start_time": "2021-10-26T14:39:58.478134",
          "status": "completed"
        },
        "tags": [],
        "colab": {
          "base_uri": "https://localhost:8080/",
          "height": 466
        },
        "id": "6c453ad5",
        "outputId": "4daf6cde-d791-412c-9527-5f7feec2b272"
      },
      "outputs": [
        {
          "output_type": "execute_result",
          "data": {
            "text/plain": [
              "<Axes: xlabel='Fare', ylabel='Density'>"
            ]
          },
          "metadata": {},
          "execution_count": 20
        },
        {
          "output_type": "display_data",
          "data": {
            "text/plain": [
              "<Figure size 640x480 with 1 Axes>"
            ],
            "image/png": "[encoded data removed]"
          },
          "metadata": {}
        }
      ],
      "source": [
        "sns.distplot(df['Fare'])"
      ]
    },
    {
      "cell_type": "code",
      "execution_count": null,
      "id": "2eeeae34",
      "metadata": {
        "execution": {
          "iopub.execute_input": "2021-10-26T14:39:58.952173Z",
          "iopub.status.busy": "2021-10-26T14:39:58.951549Z",
          "iopub.status.idle": "2021-10-26T14:39:58.955511Z",
          "shell.execute_reply": "2021-10-26T14:39:58.956003Z",
          "shell.execute_reply.started": "2021-10-26T13:56:46.796655Z"
        },
        "papermill": {
          "duration": 0.058977,
          "end_time": "2021-10-26T14:39:58.956180",
          "exception": false,
          "start_time": "2021-10-26T14:39:58.897203",
          "status": "completed"
        },
        "tags": [],
        "id": "2eeeae34"
      },
      "outputs": [],
      "source": [
        "df['Fare'] = np.log(df['Fare']+1)"
      ]
    },
    {
      "cell_type": "code",
      "execution_count": null,
      "id": "29ef8866",
      "metadata": {
        "execution": {
          "iopub.execute_input": "2021-10-26T14:39:59.065143Z",
          "iopub.status.busy": "2021-10-26T14:39:59.064527Z",
          "iopub.status.idle": "2021-10-26T14:39:59.347455Z",
          "shell.execute_reply": "2021-10-26T14:39:59.346876Z",
          "shell.execute_reply.started": "2021-10-26T13:56:48.243426Z"
        },
        "papermill": {
          "duration": 0.336811,
          "end_time": "2021-10-26T14:39:59.347631",
          "exception": false,
          "start_time": "2021-10-26T14:39:59.010820",
          "status": "completed"
        },
        "tags": [],
        "colab": {
          "base_uri": "https://localhost:8080/",
          "height": 466
        },
        "id": "29ef8866",
        "outputId": "036f26ce-e9b7-4edc-8c4e-3d48555fbe46"
      },
      "outputs": [
        {
          "output_type": "execute_result",
          "data": {
            "text/plain": [
              "<Axes: xlabel='Fare', ylabel='Density'>"
            ]
          },
          "metadata": {},
          "execution_count": 22
        },
        {
          "output_type": "display_data",
          "data": {
            "text/plain": [
              "<Figure size 640x480 with 1 Axes>"
            ],
            "image/png": "[encoded data removed]"
          },
          "metadata": {}
        }
      ],
      "source": [
        "sns.distplot(df['Fare'])"
      ]
    },
    {
      "cell_type": "markdown",
      "id": "33e58957",
      "metadata": {
        "papermill": {
          "duration": 0.051724,
          "end_time": "2021-10-26T14:39:59.451308",
          "exception": false,
          "start_time": "2021-10-26T14:39:59.399584",
          "status": "completed"
        },
        "tags": [],
        "id": "33e58957"
      },
      "source": [
        "## Correlation Matrix"
      ]
    },
    {
      "cell_type": "code",
      "execution_count": null,
      "id": "fa618375",
      "metadata": {
        "execution": {
          "iopub.execute_input": "2021-10-26T14:39:59.559935Z",
          "iopub.status.busy": "2021-10-26T14:39:59.558950Z",
          "iopub.status.idle": "2021-10-26T14:40:00.134396Z",
          "shell.execute_reply": "2021-10-26T14:40:00.134865Z",
          "shell.execute_reply.started": "2021-10-26T13:56:50.439863Z"
        },
        "papermill": {
          "duration": 0.631059,
          "end_time": "2021-10-26T14:40:00.135031",
          "exception": false,
          "start_time": "2021-10-26T14:39:59.503972",
          "status": "completed"
        },
        "tags": [],
        "colab": {
          "base_uri": "https://localhost:8080/",
          "height": 776
        },
        "id": "fa618375",
        "outputId": "7cfc7a3f-83a6-4059-c3c8-9463cba121d0"
      },
      "outputs": [
        {
          "output_type": "execute_result",
          "data": {
            "text/plain": [
              "<Axes: >"
            ]
          },
          "metadata": {},
          "execution_count": 23
        },
        {
          "output_type": "display_data",
          "data": {
            "text/plain": [
              "<Figure size 1500x900 with 2 Axes>"
            ],
            "image/png": "[encoded data removed]"
          },
          "metadata": {}
        }
      ],
      "source": [
        "corr = df.corr()\n",
        "plt.figure(figsize=(15, 9))\n",
        "sns.heatmap(corr, annot=True, cmap='coolwarm')"
      ]
    },
    {
      "cell_type": "code",
      "execution_count": null,
      "id": "e3ea1303",
      "metadata": {
        "execution": {
          "iopub.execute_input": "2021-10-26T14:40:00.259119Z",
          "iopub.status.busy": "2021-10-26T14:40:00.258303Z",
          "iopub.status.idle": "2021-10-26T14:40:00.261614Z",
          "shell.execute_reply": "2021-10-26T14:40:00.262182Z",
          "shell.execute_reply.started": "2021-10-26T14:06:14.643056Z"
        },
        "papermill": {
          "duration": 0.073753,
          "end_time": "2021-10-26T14:40:00.262390",
          "exception": false,
          "start_time": "2021-10-26T14:40:00.188637",
          "status": "completed"
        },
        "tags": [],
        "colab": {
          "base_uri": "https://localhost:8080/",
          "height": 206
        },
        "id": "e3ea1303",
        "outputId": "2d366e4b-1e20-4d94-92c7-449740e14783"
      },
      "outputs": [
        {
          "output_type": "execute_result",
          "data": {
            "text/plain": [
              "   PassengerId  Survived  Pclass  \\\n",
              "0            1       0.0       3   \n",
              "1            2       1.0       1   \n",
              "2            3       1.0       3   \n",
              "3            4       1.0       1   \n",
              "4            5       0.0       3   \n",
              "\n",
              "                                                Name     Sex   Age  SibSp  \\\n",
              "0                            Braund, Mr. Owen Harris    male  22.0      1   \n",
              "1  Cumings, Mrs. John Bradley (Florence Briggs Th...  female  38.0      1   \n",
              "2                             Heikkinen, Miss. Laina  female  26.0      0   \n",
              "3       Futrelle, Mrs. Jacques Heath (Lily May Peel)  female  35.0      1   \n",
              "4                           Allen, Mr. William Henry    male  35.0      0   \n",
              "\n",
              "   Parch            Ticket      Fare Embarked  \n",
              "0      0         A/5 21171  2.110213        S  \n",
              "1      0          PC 17599  4.280593        C  \n",
              "2      0  STON/O2. 3101282  2.188856        S  \n",
              "3      0            113803  3.990834        S  \n",
              "4      0            373450  2.202765        S  "
            ],
            "text/html": [
              "\n",
              "  <div id=\"df-b31b17ac-cc64-465b-b803-e839c2690e74\">\n",
              "    <div class=\"colab-df-container\">\n",
              "      <div>\n",
              "<style scoped>\n",
              "    .dataframe tbody tr th:only-of-type {\n",
              "        vertical-align: middle;\n",
              "    }\n",
              "\n",
              "    .dataframe tbody tr th {\n",
              "        vertical-align: top;\n",
              "    }\n",
              "\n",
              "    .dataframe thead th {\n",
              "        text-align: right;\n",
              "    }\n",
              "</style>\n",
              "<table border=\"1\" class=\"dataframe\">\n",
              "  <thead>\n",
              "    <tr style=\"text-align: right;\">\n",
              "      <th></th>\n",
              "      <th>PassengerId</th>\n",
              "      <th>Survived</th>\n",
              "      <th>Pclass</th>\n",
              "      <th>Name</th>\n",
              "      <th>Sex</th>\n",
              "      <th>Age</th>\n",
              "      <th>SibSp</th>\n",
              "      <th>Parch</th>\n",
              "      <th>Ticket</th>\n",
              "      <th>Fare</th>\n",
              "      <th>Embarked</th>\n",
              "    </tr>\n",
              "  </thead>\n",
              "  <tbody>\n",
              "    <tr>\n",
              "      <th>0</th>\n",
              "      <td>1</td>\n",
              "      <td>0.0</td>\n",
              "      <td>3</td>\n",
              "      <td>Braund, Mr. Owen Harris</td>\n",
              "      <td>male</td>\n",
              "      <td>22.0</td>\n",
              "      <td>1</td>\n",
              "      <td>0</td>\n",
              "      <td>A/5 21171</td>\n",
              "      <td>2.110213</td>\n",
              "      <td>S</td>\n",
              "    </tr>\n",
              "    <tr>\n",
              "      <th>1</th>\n",
              "      <td>2</td>\n",
              "      <td>1.0</td>\n",
              "      <td>1</td>\n",
              "      <td>Cumings, Mrs. John Bradley (Florence Briggs Th...</td>\n",
              "      <td>female</td>\n",
              "      <td>38.0</td>\n",
              "      <td>1</td>\n",
              "      <td>0</td>\n",
              "      <td>PC 17599</td>\n",
              "      <td>4.280593</td>\n",
              "      <td>C</td>\n",
              "    </tr>\n",
              "    <tr>\n",
              "      <th>2</th>\n",
              "      <td>3</td>\n",
              "      <td>1.0</td>\n",
              "      <td>3</td>\n",
              "      <td>Heikkinen, Miss. Laina</td>\n",
              "      <td>female</td>\n",
              "      <td>26.0</td>\n",
              "      <td>0</td>\n",
              "      <td>0</td>\n",
              "      <td>STON/O2. 3101282</td>\n",
              "      <td>2.188856</td>\n",
              "      <td>S</td>\n",
              "    </tr>\n",
              "    <tr>\n",
              "      <th>3</th>\n",
              "      <td>4</td>\n",
              "      <td>1.0</td>\n",
              "      <td>1</td>\n",
              "      <td>Futrelle, Mrs. Jacques Heath (Lily May Peel)</td>\n",
              "      <td>female</td>\n",
              "      <td>35.0</td>\n",
              "      <td>1</td>\n",
              "      <td>0</td>\n",
              "      <td>113803</td>\n",
              "      <td>3.990834</td>\n",
              "      <td>S</td>\n",
              "    </tr>\n",
              "    <tr>\n",
              "      <th>4</th>\n",
              "      <td>5</td>\n",
              "      <td>0.0</td>\n",
              "      <td>3</td>\n",
              "      <td>Allen, Mr. William Henry</td>\n",
              "      <td>male</td>\n",
              "      <td>35.0</td>\n",
              "      <td>0</td>\n",
              "      <td>0</td>\n",
              "      <td>373450</td>\n",
              "      <td>2.202765</td>\n",
              "      <td>S</td>\n",
              "    </tr>\n",
              "  </tbody>\n",
              "</table>\n",
              "</div>\n",
              "      <button class=\"colab-df-convert\" onclick=\"convertToInteractive('df-b31b17ac-cc64-465b-b803-e839c2690e74')\"\n",
              "              title=\"Convert this dataframe to an interactive table.\"\n",
              "              style=\"display:none;\">\n",
              "        \n",
              "  <svg xmlns=\"http://www.w3.org/2000/svg\" height=\"24px\"viewBox=\"0 0 24 24\"\n",
              "       width=\"24px\">\n",
              "    <path d=\"M0 0h24v24H0V0z\" fill=\"none\"/>\n",
              "    <path d=\"M18.56 5.44l.94 2.06.94-2.06 2.06-.94-2.06-.94-.94-2.06-.94 2.06-2.06.94zm-11 1L8.5 8.5l.94-2.06 2.06-.94-2.06-.94L8.5 2.5l-.94 2.06-2.06.94zm10 10l.94 2.06.94-2.06 2.06-.94-2.06-.94-.94-2.06-.94 2.06-2.06.94z\"/><path d=\"M17.41 7.96l-1.37-1.37c-.4-.4-.92-.59-1.43-.59-.52 0-1.04.2-1.43.59L10.3 9.45l-7.72 7.72c-.78.78-.78 2.05 0 2.83L4 21.41c.39.39.9.59 1.41.59.51 0 1.02-.2 1.41-.59l7.78-7.78 2.81-2.81c.8-.78.8-2.07 0-2.86zM5.41 20L4 18.59l7.72-7.72 1.47 1.35L5.41 20z\"/>\n",
              "  </svg>\n",
              "      </button>\n",
              "      \n",
              "  <style>\n",
              "    .colab-df-container {\n",
              "      display:flex;\n",
              "      flex-wrap:wrap;\n",
              "      gap: 12px;\n",
              "    }\n",
              "\n",
              "    .colab-df-convert {\n",
              "      background-color: #E8F0FE;\n",
              "      border: none;\n",
              "      border-radius: 50%;\n",
              "      cursor: pointer;\n",
              "      display: none;\n",
              "      fill: #1967D2;\n",
              "      height: 32px;\n",
              "      padding: 0 0 0 0;\n",
              "      width: 32px;\n",
              "    }\n",
              "\n",
              "    .colab-df-convert:hover {\n",
              "      background-color: #E2EBFA;\n",
              "      box-shadow: 0px 1px 2px rgba(60, 64, 67, 0.3), 0px 1px 3px 1px rgba(60, 64, 67, 0.15);\n",
              "      fill: #174EA6;\n",
              "    }\n",
              "\n",
              "    [theme=dark] .colab-df-convert {\n",
              "      background-color: #3B4455;\n",
              "      fill: #D2E3FC;\n",
              "    }\n",
              "\n",
              "    [theme=dark] .colab-df-convert:hover {\n",
              "      background-color: #434B5C;\n",
              "      box-shadow: 0px 1px 3px 1px rgba(0, 0, 0, 0.15);\n",
              "      filter: drop-shadow(0px 1px 2px rgba(0, 0, 0, 0.3));\n",
              "      fill: #FFFFFF;\n",
              "    }\n",
              "  </style>\n",
              "\n",
              "      <script>\n",
              "        const buttonEl =\n",
              "          document.querySelector('#df-b31b17ac-cc64-465b-b803-e839c2690e74 button.colab-df-convert');\n",
              "        buttonEl.style.display =\n",
              "          google.colab.kernel.accessAllowed ? 'block' : 'none';\n",
              "\n",
              "        async function convertToInteractive(key) {\n",
              "          const element = document.querySelector('#df-b31b17ac-cc64-465b-b803-e839c2690e74');\n",
              "          const dataTable =\n",
              "            await google.colab.kernel.invokeFunction('convertToInteractive',\n",
              "                                                     [key], {});\n",
              "          if (!dataTable) return;\n",
              "\n",
              "          const docLinkHtml = 'Like what you see? Visit the ' +\n",
              "            '<a target=\"_blank\" href=https://colab.research.google.com/notebooks/data_table.ipynb>data table notebook</a>'\n",
              "            + ' to learn more about interactive tables.';\n",
              "          element.innerHTML = '';\n",
              "          dataTable['output_type'] = 'display_data';\n",
              "          await google.colab.output.renderOutput(dataTable, element);\n",
              "          const docLink = document.createElement('div');\n",
              "          docLink.innerHTML = docLinkHtml;\n",
              "          element.appendChild(docLink);\n",
              "        }\n",
              "      </script>\n",
              "    </div>\n",
              "  </div>\n",
              "  "
            ]
          },
          "metadata": {},
          "execution_count": 24
        }
      ],
      "source": [
        "df.head()"
      ]
    },
    {
      "cell_type": "code",
      "execution_count": null,
      "id": "a7743828",
      "metadata": {
        "execution": {
          "iopub.execute_input": "2021-10-26T14:40:00.377189Z",
          "iopub.status.busy": "2021-10-26T14:40:00.376556Z",
          "iopub.status.idle": "2021-10-26T14:40:00.389911Z",
          "shell.execute_reply": "2021-10-26T14:40:00.390437Z",
          "shell.execute_reply.started": "2021-10-26T14:07:57.367903Z"
        },
        "papermill": {
          "duration": 0.07386,
          "end_time": "2021-10-26T14:40:00.390607",
          "exception": false,
          "start_time": "2021-10-26T14:40:00.316747",
          "status": "completed"
        },
        "tags": [],
        "colab": {
          "base_uri": "https://localhost:8080/",
          "height": 206
        },
        "id": "a7743828",
        "outputId": "7f22538d-4bcd-40f6-acc5-b517f9052015"
      },
      "outputs": [
        {
          "output_type": "execute_result",
          "data": {
            "text/plain": [
              "   PassengerId  Survived  Pclass     Sex   Age  SibSp  Parch      Fare  \\\n",
              "0            1       0.0       3    male  22.0      1      0  2.110213   \n",
              "1            2       1.0       1  female  38.0      1      0  4.280593   \n",
              "2            3       1.0       3  female  26.0      0      0  2.188856   \n",
              "3            4       1.0       1  female  35.0      1      0  3.990834   \n",
              "4            5       0.0       3    male  35.0      0      0  2.202765   \n",
              "\n",
              "  Embarked  \n",
              "0        S  \n",
              "1        C  \n",
              "2        S  \n",
              "3        S  \n",
              "4        S  "
            ],
            "text/html": [
              "\n",
              "  <div id=\"df-2ed09d34-34ec-4fb6-9a6f-83679b4b5487\">\n",
              "    <div class=\"colab-df-container\">\n",
              "      <div>\n",
              "<style scoped>\n",
              "    .dataframe tbody tr th:only-of-type {\n",
              "        vertical-align: middle;\n",
              "    }\n",
              "\n",
              "    .dataframe tbody tr th {\n",
              "        vertical-align: top;\n",
              "    }\n",
              "\n",
              "    .dataframe thead th {\n",
              "        text-align: right;\n",
              "    }\n",
              "</style>\n",
              "<table border=\"1\" class=\"dataframe\">\n",
              "  <thead>\n",
              "    <tr style=\"text-align: right;\">\n",
              "      <th></th>\n",
              "      <th>PassengerId</th>\n",
              "      <th>Survived</th>\n",
              "      <th>Pclass</th>\n",
              "      <th>Sex</th>\n",
              "      <th>Age</th>\n",
              "      <th>SibSp</th>\n",
              "      <th>Parch</th>\n",
              "      <th>Fare</th>\n",
              "      <th>Embarked</th>\n",
              "    </tr>\n",
              "  </thead>\n",
              "  <tbody>\n",
              "    <tr>\n",
              "      <th>0</th>\n",
              "      <td>1</td>\n",
              "      <td>0.0</td>\n",
              "      <td>3</td>\n",
              "      <td>male</td>\n",
              "      <td>22.0</td>\n",
              "      <td>1</td>\n",
              "      <td>0</td>\n",
              "      <td>2.110213</td>\n",
              "      <td>S</td>\n",
              "    </tr>\n",
              "    <tr>\n",
              "      <th>1</th>\n",
              "      <td>2</td>\n",
              "      <td>1.0</td>\n",
              "      <td>1</td>\n",
              "      <td>female</td>\n",
              "      <td>38.0</td>\n",
              "      <td>1</td>\n",
              "      <td>0</td>\n",
              "      <td>4.280593</td>\n",
              "      <td>C</td>\n",
              "    </tr>\n",
              "    <tr>\n",
              "      <th>2</th>\n",
              "      <td>3</td>\n",
              "      <td>1.0</td>\n",
              "      <td>3</td>\n",
              "      <td>female</td>\n",
              "      <td>26.0</td>\n",
              "      <td>0</td>\n",
              "      <td>0</td>\n",
              "      <td>2.188856</td>\n",
              "      <td>S</td>\n",
              "    </tr>\n",
              "    <tr>\n",
              "      <th>3</th>\n",
              "      <td>4</td>\n",
              "      <td>1.0</td>\n",
              "      <td>1</td>\n",
              "      <td>female</td>\n",
              "      <td>35.0</td>\n",
              "      <td>1</td>\n",
              "      <td>0</td>\n",
              "      <td>3.990834</td>\n",
              "      <td>S</td>\n",
              "    </tr>\n",
              "    <tr>\n",
              "      <th>4</th>\n",
              "      <td>5</td>\n",
              "      <td>0.0</td>\n",
              "      <td>3</td>\n",
              "      <td>male</td>\n",
              "      <td>35.0</td>\n",
              "      <td>0</td>\n",
              "      <td>0</td>\n",
              "      <td>2.202765</td>\n",
              "      <td>S</td>\n",
              "    </tr>\n",
              "  </tbody>\n",
              "</table>\n",
              "</div>\n",
              "      <button class=\"colab-df-convert\" onclick=\"convertToInteractive('df-2ed09d34-34ec-4fb6-9a6f-83679b4b5487')\"\n",
              "              title=\"Convert this dataframe to an interactive table.\"\n",
              "              style=\"display:none;\">\n",
              "        \n",
              "  <svg xmlns=\"http://www.w3.org/2000/svg\" height=\"24px\"viewBox=\"0 0 24 24\"\n",
              "       width=\"24px\">\n",
              "    <path d=\"M0 0h24v24H0V0z\" fill=\"none\"/>\n",
              "    <path d=\"M18.56 5.44l.94 2.06.94-2.06 2.06-.94-2.06-.94-.94-2.06-.94 2.06-2.06.94zm-11 1L8.5 8.5l.94-2.06 2.06-.94-2.06-.94L8.5 2.5l-.94 2.06-2.06.94zm10 10l.94 2.06.94-2.06 2.06-.94-2.06-.94-.94-2.06-.94 2.06-2.06.94z\"/><path d=\"M17.41 7.96l-1.37-1.37c-.4-.4-.92-.59-1.43-.59-.52 0-1.04.2-1.43.59L10.3 9.45l-7.72 7.72c-.78.78-.78 2.05 0 2.83L4 21.41c.39.39.9.59 1.41.59.51 0 1.02-.2 1.41-.59l7.78-7.78 2.81-2.81c.8-.78.8-2.07 0-2.86zM5.41 20L4 18.59l7.72-7.72 1.47 1.35L5.41 20z\"/>\n",
              "  </svg>\n",
              "      </button>\n",
              "      \n",
              "  <style>\n",
              "    .colab-df-container {\n",
              "      display:flex;\n",
              "      flex-wrap:wrap;\n",
              "      gap: 12px;\n",
              "    }\n",
              "\n",
              "    .colab-df-convert {\n",
              "      background-color: #E8F0FE;\n",
              "      border: none;\n",
              "      border-radius: 50%;\n",
              "      cursor: pointer;\n",
              "      display: none;\n",
              "      fill: #1967D2;\n",
              "      height: 32px;\n",
              "      padding: 0 0 0 0;\n",
              "      width: 32px;\n",
              "    }\n",
              "\n",
              "    .colab-df-convert:hover {\n",
              "      background-color: #E2EBFA;\n",
              "      box-shadow: 0px 1px 2px rgba(60, 64, 67, 0.3), 0px 1px 3px 1px rgba(60, 64, 67, 0.15);\n",
              "      fill: #174EA6;\n",
              "    }\n",
              "\n",
              "    [theme=dark] .colab-df-convert {\n",
              "      background-color: #3B4455;\n",
              "      fill: #D2E3FC;\n",
              "    }\n",
              "\n",
              "    [theme=dark] .colab-df-convert:hover {\n",
              "      background-color: #434B5C;\n",
              "      box-shadow: 0px 1px 3px 1px rgba(0, 0, 0, 0.15);\n",
              "      filter: drop-shadow(0px 1px 2px rgba(0, 0, 0, 0.3));\n",
              "      fill: #FFFFFF;\n",
              "    }\n",
              "  </style>\n",
              "\n",
              "      <script>\n",
              "        const buttonEl =\n",
              "          document.querySelector('#df-2ed09d34-34ec-4fb6-9a6f-83679b4b5487 button.colab-df-convert');\n",
              "        buttonEl.style.display =\n",
              "          google.colab.kernel.accessAllowed ? 'block' : 'none';\n",
              "\n",
              "        async function convertToInteractive(key) {\n",
              "          const element = document.querySelector('#df-2ed09d34-34ec-4fb6-9a6f-83679b4b5487');\n",
              "          const dataTable =\n",
              "            await google.colab.kernel.invokeFunction('convertToInteractive',\n",
              "                                                     [key], {});\n",
              "          if (!dataTable) return;\n",
              "\n",
              "          const docLinkHtml = 'Like what you see? Visit the ' +\n",
              "            '<a target=\"_blank\" href=https://colab.research.google.com/notebooks/data_table.ipynb>data table notebook</a>'\n",
              "            + ' to learn more about interactive tables.';\n",
              "          element.innerHTML = '';\n",
              "          dataTable['output_type'] = 'display_data';\n",
              "          await google.colab.output.renderOutput(dataTable, element);\n",
              "          const docLink = document.createElement('div');\n",
              "          docLink.innerHTML = docLinkHtml;\n",
              "          element.appendChild(docLink);\n",
              "        }\n",
              "      </script>\n",
              "    </div>\n",
              "  </div>\n",
              "  "
            ]
          },
          "metadata": {},
          "execution_count": 25
        }
      ],
      "source": [
        "## drop unnecessary columns\n",
        "df = df.drop(columns=['Name', 'Ticket'], axis=1)\n",
        "df.head()"
      ]
    },
    {
      "cell_type": "markdown",
      "id": "ade57ccd",
      "metadata": {
        "papermill": {
          "duration": 0.054625,
          "end_time": "2021-10-26T14:40:00.500134",
          "exception": false,
          "start_time": "2021-10-26T14:40:00.445509",
          "status": "completed"
        },
        "tags": [],
        "id": "ade57ccd"
      },
      "source": [
        "## Label Encoding"
      ]
    },
    {
      "cell_type": "code",
      "execution_count": null,
      "id": "401140f1",
      "metadata": {
        "execution": {
          "iopub.execute_input": "2021-10-26T14:40:00.616564Z",
          "iopub.status.busy": "2021-10-26T14:40:00.615870Z",
          "iopub.status.idle": "2021-10-26T14:40:00.738230Z",
          "shell.execute_reply": "2021-10-26T14:40:00.737756Z",
          "shell.execute_reply.started": "2021-10-26T14:09:40.532050Z"
        },
        "papermill": {
          "duration": 0.182109,
          "end_time": "2021-10-26T14:40:00.738396",
          "exception": false,
          "start_time": "2021-10-26T14:40:00.556287",
          "status": "completed"
        },
        "tags": [],
        "colab": {
          "base_uri": "https://localhost:8080/",
          "height": 206
        },
        "id": "401140f1",
        "outputId": "89dd1693-b056-491c-bb0b-6029d448231f"
      },
      "outputs": [
        {
          "output_type": "execute_result",
          "data": {
            "text/plain": [
              "   PassengerId  Survived  Pclass  Sex   Age  SibSp  Parch      Fare  Embarked\n",
              "0            1       0.0       3    1  22.0      1      0  2.110213         2\n",
              "1            2       1.0       1    0  38.0      1      0  4.280593         0\n",
              "2            3       1.0       3    0  26.0      0      0  2.188856         2\n",
              "3            4       1.0       1    0  35.0      1      0  3.990834         2\n",
              "4            5       0.0       3    1  35.0      0      0  2.202765         2"
            ],
            "text/html": [
              "\n",
              "  <div id=\"df-1b1e9dee-0d76-4ecf-903b-18834a4f9ae8\">\n",
              "    <div class=\"colab-df-container\">\n",
              "      <div>\n",
              "<style scoped>\n",
              "    .dataframe tbody tr th:only-of-type {\n",
              "        vertical-align: middle;\n",
              "    }\n",
              "\n",
              "    .dataframe tbody tr th {\n",
              "        vertical-align: top;\n",
              "    }\n",
              "\n",
              "    .dataframe thead th {\n",
              "        text-align: right;\n",
              "    }\n",
              "</style>\n",
              "<table border=\"1\" class=\"dataframe\">\n",
              "  <thead>\n",
              "    <tr style=\"text-align: right;\">\n",
              "      <th></th>\n",
              "      <th>PassengerId</th>\n",
              "      <th>Survived</th>\n",
              "      <th>Pclass</th>\n",
              "      <th>Sex</th>\n",
              "      <th>Age</th>\n",
              "      <th>SibSp</th>\n",
              "      <th>Parch</th>\n",
              "      <th>Fare</th>\n",
              "      <th>Embarked</th>\n",
              "    </tr>\n",
              "  </thead>\n",
              "  <tbody>\n",
              "    <tr>\n",
              "      <th>0</th>\n",
              "      <td>1</td>\n",
              "      <td>0.0</td>\n",
              "      <td>3</td>\n",
              "      <td>1</td>\n",
              "      <td>22.0</td>\n",
              "      <td>1</td>\n",
              "      <td>0</td>\n",
              "      <td>2.110213</td>\n",
              "      <td>2</td>\n",
              "    </tr>\n",
              "    <tr>\n",
              "      <th>1</th>\n",
              "      <td>2</td>\n",
              "      <td>1.0</td>\n",
              "      <td>1</td>\n",
              "      <td>0</td>\n",
              "      <td>38.0</td>\n",
              "      <td>1</td>\n",
              "      <td>0</td>\n",
              "      <td>4.280593</td>\n",
              "      <td>0</td>\n",
              "    </tr>\n",
              "    <tr>\n",
              "      <th>2</th>\n",
              "      <td>3</td>\n",
              "      <td>1.0</td>\n",
              "      <td>3</td>\n",
              "      <td>0</td>\n",
              "      <td>26.0</td>\n",
              "      <td>0</td>\n",
              "      <td>0</td>\n",
              "      <td>2.188856</td>\n",
              "      <td>2</td>\n",
              "    </tr>\n",
              "    <tr>\n",
              "      <th>3</th>\n",
              "      <td>4</td>\n",
              "      <td>1.0</td>\n",
              "      <td>1</td>\n",
              "      <td>0</td>\n",
              "      <td>35.0</td>\n",
              "      <td>1</td>\n",
              "      <td>0</td>\n",
              "      <td>3.990834</td>\n",
              "      <td>2</td>\n",
              "    </tr>\n",
              "    <tr>\n",
              "      <th>4</th>\n",
              "      <td>5</td>\n",
              "      <td>0.0</td>\n",
              "      <td>3</td>\n",
              "      <td>1</td>\n",
              "      <td>35.0</td>\n",
              "      <td>0</td>\n",
              "      <td>0</td>\n",
              "      <td>2.202765</td>\n",
              "      <td>2</td>\n",
              "    </tr>\n",
              "  </tbody>\n",
              "</table>\n",
              "</div>\n",
              "      <button class=\"colab-df-convert\" onclick=\"convertToInteractive('df-1b1e9dee-0d76-4ecf-903b-18834a4f9ae8')\"\n",
              "              title=\"Convert this dataframe to an interactive table.\"\n",
              "              style=\"display:none;\">\n",
              "        \n",
              "  <svg xmlns=\"http://www.w3.org/2000/svg\" height=\"24px\"viewBox=\"0 0 24 24\"\n",
              "       width=\"24px\">\n",
              "    <path d=\"M0 0h24v24H0V0z\" fill=\"none\"/>\n",
              "    <path d=\"M18.56 5.44l.94 2.06.94-2.06 2.06-.94-2.06-.94-.94-2.06-.94 2.06-2.06.94zm-11 1L8.5 8.5l.94-2.06 2.06-.94-2.06-.94L8.5 2.5l-.94 2.06-2.06.94zm10 10l.94 2.06.94-2.06 2.06-.94-2.06-.94-.94-2.06-.94 2.06-2.06.94z\"/><path d=\"M17.41 7.96l-1.37-1.37c-.4-.4-.92-.59-1.43-.59-.52 0-1.04.2-1.43.59L10.3 9.45l-7.72 7.72c-.78.78-.78 2.05 0 2.83L4 21.41c.39.39.9.59 1.41.59.51 0 1.02-.2 1.41-.59l7.78-7.78 2.81-2.81c.8-.78.8-2.07 0-2.86zM5.41 20L4 18.59l7.72-7.72 1.47 1.35L5.41 20z\"/>\n",
              "  </svg>\n",
              "      </button>\n",
              "      \n",
              "  <style>\n",
              "    .colab-df-container {\n",
              "      display:flex;\n",
              "      flex-wrap:wrap;\n",
              "      gap: 12px;\n",
              "    }\n",
              "\n",
              "    .colab-df-convert {\n",
              "      background-color: #E8F0FE;\n",
              "      border: none;\n",
              "      border-radius: 50%;\n",
              "      cursor: pointer;\n",
              "      display: none;\n",
              "      fill: #1967D2;\n",
              "      height: 32px;\n",
              "      padding: 0 0 0 0;\n",
              "      width: 32px;\n",
              "    }\n",
              "\n",
              "    .colab-df-convert:hover {\n",
              "      background-color: #E2EBFA;\n",
              "      box-shadow: 0px 1px 2px rgba(60, 64, 67, 0.3), 0px 1px 3px 1px rgba(60, 64, 67, 0.15);\n",
              "      fill: #174EA6;\n",
              "    }\n",
              "\n",
              "    [theme=dark] .colab-df-convert {\n",
              "      background-color: #3B4455;\n",
              "      fill: #D2E3FC;\n",
              "    }\n",
              "\n",
              "    [theme=dark] .colab-df-convert:hover {\n",
              "      background-color: #434B5C;\n",
              "      box-shadow: 0px 1px 3px 1px rgba(0, 0, 0, 0.15);\n",
              "      filter: drop-shadow(0px 1px 2px rgba(0, 0, 0, 0.3));\n",
              "      fill: #FFFFFF;\n",
              "    }\n",
              "  </style>\n",
              "\n",
              "      <script>\n",
              "        const buttonEl =\n",
              "          document.querySelector('#df-1b1e9dee-0d76-4ecf-903b-18834a4f9ae8 button.colab-df-convert');\n",
              "        buttonEl.style.display =\n",
              "          google.colab.kernel.accessAllowed ? 'block' : 'none';\n",
              "\n",
              "        async function convertToInteractive(key) {\n",
              "          const element = document.querySelector('#df-1b1e9dee-0d76-4ecf-903b-18834a4f9ae8');\n",
              "          const dataTable =\n",
              "            await google.colab.kernel.invokeFunction('convertToInteractive',\n",
              "                                                     [key], {});\n",
              "          if (!dataTable) return;\n",
              "\n",
              "          const docLinkHtml = 'Like what you see? Visit the ' +\n",
              "            '<a target=\"_blank\" href=https://colab.research.google.com/notebooks/data_table.ipynb>data table notebook</a>'\n",
              "            + ' to learn more about interactive tables.';\n",
              "          element.innerHTML = '';\n",
              "          dataTable['output_type'] = 'display_data';\n",
              "          await google.colab.output.renderOutput(dataTable, element);\n",
              "          const docLink = document.createElement('div');\n",
              "          docLink.innerHTML = docLinkHtml;\n",
              "          element.appendChild(docLink);\n",
              "        }\n",
              "      </script>\n",
              "    </div>\n",
              "  </div>\n",
              "  "
            ]
          },
          "metadata": {},
          "execution_count": 26
        }
      ],
      "source": [
        "from sklearn.preprocessing import LabelEncoder\n",
        "cols = ['Sex', 'Embarked']\n",
        "le = LabelEncoder()\n",
        "\n",
        "for col in cols:\n",
        "    df[col] = le.fit_transform(df[col])\n",
        "df.head()"
      ]
    },
    {
      "cell_type": "markdown",
      "id": "37aa5d2b",
      "metadata": {
        "papermill": {
          "duration": 0.056568,
          "end_time": "2021-10-26T14:40:00.850393",
          "exception": false,
          "start_time": "2021-10-26T14:40:00.793825",
          "status": "completed"
        },
        "tags": [],
        "id": "37aa5d2b"
      },
      "source": [
        "## Train-Test Split"
      ]
    },
    {
      "cell_type": "code",
      "execution_count": null,
      "id": "e0776be5",
      "metadata": {
        "execution": {
          "iopub.execute_input": "2021-10-26T14:40:00.965452Z",
          "iopub.status.busy": "2021-10-26T14:40:00.964833Z",
          "iopub.status.idle": "2021-10-26T14:40:00.967423Z",
          "shell.execute_reply": "2021-10-26T14:40:00.966931Z",
          "shell.execute_reply.started": "2021-10-26T14:11:45.454858Z"
        },
        "papermill": {
          "duration": 0.062281,
          "end_time": "2021-10-26T14:40:00.967568",
          "exception": false,
          "start_time": "2021-10-26T14:40:00.905287",
          "status": "completed"
        },
        "tags": [],
        "id": "e0776be5"
      },
      "outputs": [],
      "source": [
        "train = df.iloc[:train_len, :]\n",
        "test = df.iloc[train_len:, :]"
      ]
    },
    {
      "cell_type": "code",
      "execution_count": null,
      "id": "982ff30e",
      "metadata": {
        "execution": {
          "iopub.execute_input": "2021-10-26T14:40:01.083139Z",
          "iopub.status.busy": "2021-10-26T14:40:01.082545Z",
          "iopub.status.idle": "2021-10-26T14:40:01.094677Z",
          "shell.execute_reply": "2021-10-26T14:40:01.094144Z",
          "shell.execute_reply.started": "2021-10-26T14:11:51.292028Z"
        },
        "papermill": {
          "duration": 0.071803,
          "end_time": "2021-10-26T14:40:01.094826",
          "exception": false,
          "start_time": "2021-10-26T14:40:01.023023",
          "status": "completed"
        },
        "tags": [],
        "colab": {
          "base_uri": "https://localhost:8080/",
          "height": 206
        },
        "id": "982ff30e",
        "outputId": "2920f507-edaa-4b65-ceec-3ad856736153"
      },
      "outputs": [
        {
          "output_type": "execute_result",
          "data": {
            "text/plain": [
              "   PassengerId  Survived  Pclass  Sex   Age  SibSp  Parch      Fare  Embarked\n",
              "0            1       0.0       3    1  22.0      1      0  2.110213         2\n",
              "1            2       1.0       1    0  38.0      1      0  4.280593         0\n",
              "2            3       1.0       3    0  26.0      0      0  2.188856         2\n",
              "3            4       1.0       1    0  35.0      1      0  3.990834         2\n",
              "4            5       0.0       3    1  35.0      0      0  2.202765         2"
            ],
            "text/html": [
              "\n",
              "  <div id=\"df-afe45a78-e0f5-4ec3-983d-cc2b8f854274\">\n",
              "    <div class=\"colab-df-container\">\n",
              "      <div>\n",
              "<style scoped>\n",
              "    .dataframe tbody tr th:only-of-type {\n",
              "        vertical-align: middle;\n",
              "    }\n",
              "\n",
              "    .dataframe tbody tr th {\n",
              "        vertical-align: top;\n",
              "    }\n",
              "\n",
              "    .dataframe thead th {\n",
              "        text-align: right;\n",
              "    }\n",
              "</style>\n",
              "<table border=\"1\" class=\"dataframe\">\n",
              "  <thead>\n",
              "    <tr style=\"text-align: right;\">\n",
              "      <th></th>\n",
              "      <th>PassengerId</th>\n",
              "      <th>Survived</th>\n",
              "      <th>Pclass</th>\n",
              "      <th>Sex</th>\n",
              "      <th>Age</th>\n",
              "      <th>SibSp</th>\n",
              "      <th>Parch</th>\n",
              "      <th>Fare</th>\n",
              "      <th>Embarked</th>\n",
              "    </tr>\n",
              "  </thead>\n",
              "  <tbody>\n",
              "    <tr>\n",
              "      <th>0</th>\n",
              "      <td>1</td>\n",
              "      <td>0.0</td>\n",
              "      <td>3</td>\n",
              "      <td>1</td>\n",
              "      <td>22.0</td>\n",
              "      <td>1</td>\n",
              "      <td>0</td>\n",
              "      <td>2.110213</td>\n",
              "      <td>2</td>\n",
              "    </tr>\n",
              "    <tr>\n",
              "      <th>1</th>\n",
              "      <td>2</td>\n",
              "      <td>1.0</td>\n",
              "      <td>1</td>\n",
              "      <td>0</td>\n",
              "      <td>38.0</td>\n",
              "      <td>1</td>\n",
              "      <td>0</td>\n",
              "      <td>4.280593</td>\n",
              "      <td>0</td>\n",
              "    </tr>\n",
              "    <tr>\n",
              "      <th>2</th>\n",
              "      <td>3</td>\n",
              "      <td>1.0</td>\n",
              "      <td>3</td>\n",
              "      <td>0</td>\n",
              "      <td>26.0</td>\n",
              "      <td>0</td>\n",
              "      <td>0</td>\n",
              "      <td>2.188856</td>\n",
              "      <td>2</td>\n",
              "    </tr>\n",
              "    <tr>\n",
              "      <th>3</th>\n",
              "      <td>4</td>\n",
              "      <td>1.0</td>\n",
              "      <td>1</td>\n",
              "      <td>0</td>\n",
              "      <td>35.0</td>\n",
              "      <td>1</td>\n",
              "      <td>0</td>\n",
              "      <td>3.990834</td>\n",
              "      <td>2</td>\n",
              "    </tr>\n",
              "    <tr>\n",
              "      <th>4</th>\n",
              "      <td>5</td>\n",
              "      <td>0.0</td>\n",
              "      <td>3</td>\n",
              "      <td>1</td>\n",
              "      <td>35.0</td>\n",
              "      <td>0</td>\n",
              "      <td>0</td>\n",
              "      <td>2.202765</td>\n",
              "      <td>2</td>\n",
              "    </tr>\n",
              "  </tbody>\n",
              "</table>\n",
              "</div>\n",
              "      <button class=\"colab-df-convert\" onclick=\"convertToInteractive('df-afe45a78-e0f5-4ec3-983d-cc2b8f854274')\"\n",
              "              title=\"Convert this dataframe to an interactive table.\"\n",
              "              style=\"display:none;\">\n",
              "        \n",
              "  <svg xmlns=\"http://www.w3.org/2000/svg\" height=\"24px\"viewBox=\"0 0 24 24\"\n",
              "       width=\"24px\">\n",
              "    <path d=\"M0 0h24v24H0V0z\" fill=\"none\"/>\n",
              "    <path d=\"M18.56 5.44l.94 2.06.94-2.06 2.06-.94-2.06-.94-.94-2.06-.94 2.06-2.06.94zm-11 1L8.5 8.5l.94-2.06 2.06-.94-2.06-.94L8.5 2.5l-.94 2.06-2.06.94zm10 10l.94 2.06.94-2.06 2.06-.94-2.06-.94-.94-2.06-.94 2.06-2.06.94z\"/><path d=\"M17.41 7.96l-1.37-1.37c-.4-.4-.92-.59-1.43-.59-.52 0-1.04.2-1.43.59L10.3 9.45l-7.72 7.72c-.78.78-.78 2.05 0 2.83L4 21.41c.39.39.9.59 1.41.59.51 0 1.02-.2 1.41-.59l7.78-7.78 2.81-2.81c.8-.78.8-2.07 0-2.86zM5.41 20L4 18.59l7.72-7.72 1.47 1.35L5.41 20z\"/>\n",
              "  </svg>\n",
              "      </button>\n",
              "      \n",
              "  <style>\n",
              "    .colab-df-container {\n",
              "      display:flex;\n",
              "      flex-wrap:wrap;\n",
              "      gap: 12px;\n",
              "    }\n",
              "\n",
              "    .colab-df-convert {\n",
              "      background-color: #E8F0FE;\n",
              "      border: none;\n",
              "      border-radius: 50%;\n",
              "      cursor: pointer;\n",
              "      display: none;\n",
              "      fill: #1967D2;\n",
              "      height: 32px;\n",
              "      padding: 0 0 0 0;\n",
              "      width: 32px;\n",
              "    }\n",
              "\n",
              "    .colab-df-convert:hover {\n",
              "      background-color: #E2EBFA;\n",
              "      box-shadow: 0px 1px 2px rgba(60, 64, 67, 0.3), 0px 1px 3px 1px rgba(60, 64, 67, 0.15);\n",
              "      fill: #174EA6;\n",
              "    }\n",
              "\n",
              "    [theme=dark] .colab-df-convert {\n",
              "      background-color: #3B4455;\n",
              "      fill: #D2E3FC;\n",
              "    }\n",
              "\n",
              "    [theme=dark] .colab-df-convert:hover {\n",
              "      background-color: #434B5C;\n",
              "      box-shadow: 0px 1px 3px 1px rgba(0, 0, 0, 0.15);\n",
              "      filter: drop-shadow(0px 1px 2px rgba(0, 0, 0, 0.3));\n",
              "      fill: #FFFFFF;\n",
              "    }\n",
              "  </style>\n",
              "\n",
              "      <script>\n",
              "        const buttonEl =\n",
              "          document.querySelector('#df-afe45a78-e0f5-4ec3-983d-cc2b8f854274 button.colab-df-convert');\n",
              "        buttonEl.style.display =\n",
              "          google.colab.kernel.accessAllowed ? 'block' : 'none';\n",
              "\n",
              "        async function convertToInteractive(key) {\n",
              "          const element = document.querySelector('#df-afe45a78-e0f5-4ec3-983d-cc2b8f854274');\n",
              "          const dataTable =\n",
              "            await google.colab.kernel.invokeFunction('convertToInteractive',\n",
              "                                                     [key], {});\n",
              "          if (!dataTable) return;\n",
              "\n",
              "          const docLinkHtml = 'Like what you see? Visit the ' +\n",
              "            '<a target=\"_blank\" href=https://colab.research.google.com/notebooks/data_table.ipynb>data table notebook</a>'\n",
              "            + ' to learn more about interactive tables.';\n",
              "          element.innerHTML = '';\n",
              "          dataTable['output_type'] = 'display_data';\n",
              "          await google.colab.output.renderOutput(dataTable, element);\n",
              "          const docLink = document.createElement('div');\n",
              "          docLink.innerHTML = docLinkHtml;\n",
              "          element.appendChild(docLink);\n",
              "        }\n",
              "      </script>\n",
              "    </div>\n",
              "  </div>\n",
              "  "
            ]
          },
          "metadata": {},
          "execution_count": 28
        }
      ],
      "source": [
        "train.head()"
      ]
    },
    {
      "cell_type": "code",
      "execution_count": null,
      "id": "0bdf1b78",
      "metadata": {
        "execution": {
          "iopub.execute_input": "2021-10-26T14:40:01.223932Z",
          "iopub.status.busy": "2021-10-26T14:40:01.214544Z",
          "iopub.status.idle": "2021-10-26T14:40:01.228037Z",
          "shell.execute_reply": "2021-10-26T14:40:01.227397Z",
          "shell.execute_reply.started": "2021-10-26T14:11:57.306026Z"
        },
        "papermill": {
          "duration": 0.074994,
          "end_time": "2021-10-26T14:40:01.228184",
          "exception": false,
          "start_time": "2021-10-26T14:40:01.153190",
          "status": "completed"
        },
        "tags": [],
        "colab": {
          "base_uri": "https://localhost:8080/",
          "height": 206
        },
        "id": "0bdf1b78",
        "outputId": "2aae9c22-4574-4dfd-b6df-9ef1f2d0f1d5"
      },
      "outputs": [
        {
          "output_type": "execute_result",
          "data": {
            "text/plain": [
              "     PassengerId  Survived  Pclass  Sex   Age  SibSp  Parch      Fare  \\\n",
              "891          892       NaN       3    1  34.5      0      0  2.178064   \n",
              "892          893       NaN       3    0  47.0      1      0  2.079442   \n",
              "893          894       NaN       2    1  62.0      0      0  2.369075   \n",
              "894          895       NaN       3    1  27.0      0      0  2.268252   \n",
              "895          896       NaN       3    0  22.0      1      1  2.586824   \n",
              "\n",
              "     Embarked  \n",
              "891         1  \n",
              "892         2  \n",
              "893         1  \n",
              "894         2  \n",
              "895         2  "
            ],
            "text/html": [
              "\n",
              "  <div id=\"df-acc9493b-86c6-4fac-adce-25db05eea787\">\n",
              "    <div class=\"colab-df-container\">\n",
              "      <div>\n",
              "<style scoped>\n",
              "    .dataframe tbody tr th:only-of-type {\n",
              "        vertical-align: middle;\n",
              "    }\n",
              "\n",
              "    .dataframe tbody tr th {\n",
              "        vertical-align: top;\n",
              "    }\n",
              "\n",
              "    .dataframe thead th {\n",
              "        text-align: right;\n",
              "    }\n",
              "</style>\n",
              "<table border=\"1\" class=\"dataframe\">\n",
              "  <thead>\n",
              "    <tr style=\"text-align: right;\">\n",
              "      <th></th>\n",
              "      <th>PassengerId</th>\n",
              "      <th>Survived</th>\n",
              "      <th>Pclass</th>\n",
              "      <th>Sex</th>\n",
              "      <th>Age</th>\n",
              "      <th>SibSp</th>\n",
              "      <th>Parch</th>\n",
              "      <th>Fare</th>\n",
              "      <th>Embarked</th>\n",
              "    </tr>\n",
              "  </thead>\n",
              "  <tbody>\n",
              "    <tr>\n",
              "      <th>891</th>\n",
              "      <td>892</td>\n",
              "      <td>NaN</td>\n",
              "      <td>3</td>\n",
              "      <td>1</td>\n",
              "      <td>34.5</td>\n",
              "      <td>0</td>\n",
              "      <td>0</td>\n",
              "      <td>2.178064</td>\n",
              "      <td>1</td>\n",
              "    </tr>\n",
              "    <tr>\n",
              "      <th>892</th>\n",
              "      <td>893</td>\n",
              "      <td>NaN</td>\n",
              "      <td>3</td>\n",
              "      <td>0</td>\n",
              "      <td>47.0</td>\n",
              "      <td>1</td>\n",
              "      <td>0</td>\n",
              "      <td>2.079442</td>\n",
              "      <td>2</td>\n",
              "    </tr>\n",
              "    <tr>\n",
              "      <th>893</th>\n",
              "      <td>894</td>\n",
              "      <td>NaN</td>\n",
              "      <td>2</td>\n",
              "      <td>1</td>\n",
              "      <td>62.0</td>\n",
              "      <td>0</td>\n",
              "      <td>0</td>\n",
              "      <td>2.369075</td>\n",
              "      <td>1</td>\n",
              "    </tr>\n",
              "    <tr>\n",
              "      <th>894</th>\n",
              "      <td>895</td>\n",
              "      <td>NaN</td>\n",
              "      <td>3</td>\n",
              "      <td>1</td>\n",
              "      <td>27.0</td>\n",
              "      <td>0</td>\n",
              "      <td>0</td>\n",
              "      <td>2.268252</td>\n",
              "      <td>2</td>\n",
              "    </tr>\n",
              "    <tr>\n",
              "      <th>895</th>\n",
              "      <td>896</td>\n",
              "      <td>NaN</td>\n",
              "      <td>3</td>\n",
              "      <td>0</td>\n",
              "      <td>22.0</td>\n",
              "      <td>1</td>\n",
              "      <td>1</td>\n",
              "      <td>2.586824</td>\n",
              "      <td>2</td>\n",
              "    </tr>\n",
              "  </tbody>\n",
              "</table>\n",
              "</div>\n",
              "      <button class=\"colab-df-convert\" onclick=\"convertToInteractive('df-acc9493b-86c6-4fac-adce-25db05eea787')\"\n",
              "              title=\"Convert this dataframe to an interactive table.\"\n",
              "              style=\"display:none;\">\n",
              "        \n",
              "  <svg xmlns=\"http://www.w3.org/2000/svg\" height=\"24px\"viewBox=\"0 0 24 24\"\n",
              "       width=\"24px\">\n",
              "    <path d=\"M0 0h24v24H0V0z\" fill=\"none\"/>\n",
              "    <path d=\"M18.56 5.44l.94 2.06.94-2.06 2.06-.94-2.06-.94-.94-2.06-.94 2.06-2.06.94zm-11 1L8.5 8.5l.94-2.06 2.06-.94-2.06-.94L8.5 2.5l-.94 2.06-2.06.94zm10 10l.94 2.06.94-2.06 2.06-.94-2.06-.94-.94-2.06-.94 2.06-2.06.94z\"/><path d=\"M17.41 7.96l-1.37-1.37c-.4-.4-.92-.59-1.43-.59-.52 0-1.04.2-1.43.59L10.3 9.45l-7.72 7.72c-.78.78-.78 2.05 0 2.83L4 21.41c.39.39.9.59 1.41.59.51 0 1.02-.2 1.41-.59l7.78-7.78 2.81-2.81c.8-.78.8-2.07 0-2.86zM5.41 20L4 18.59l7.72-7.72 1.47 1.35L5.41 20z\"/>\n",
              "  </svg>\n",
              "      </button>\n",
              "      \n",
              "  <style>\n",
              "    .colab-df-container {\n",
              "      display:flex;\n",
              "      flex-wrap:wrap;\n",
              "      gap: 12px;\n",
              "    }\n",
              "\n",
              "    .colab-df-convert {\n",
              "      background-color: #E8F0FE;\n",
              "      border: none;\n",
              "      border-radius: 50%;\n",
              "      cursor: pointer;\n",
              "      display: none;\n",
              "      fill: #1967D2;\n",
              "      height: 32px;\n",
              "      padding: 0 0 0 0;\n",
              "      width: 32px;\n",
              "    }\n",
              "\n",
              "    .colab-df-convert:hover {\n",
              "      background-color: #E2EBFA;\n",
              "      box-shadow: 0px 1px 2px rgba(60, 64, 67, 0.3), 0px 1px 3px 1px rgba(60, 64, 67, 0.15);\n",
              "      fill: #174EA6;\n",
              "    }\n",
              "\n",
              "    [theme=dark] .colab-df-convert {\n",
              "      background-color: #3B4455;\n",
              "      fill: #D2E3FC;\n",
              "    }\n",
              "\n",
              "    [theme=dark] .colab-df-convert:hover {\n",
              "      background-color: #434B5C;\n",
              "      box-shadow: 0px 1px 3px 1px rgba(0, 0, 0, 0.15);\n",
              "      filter: drop-shadow(0px 1px 2px rgba(0, 0, 0, 0.3));\n",
              "      fill: #FFFFFF;\n",
              "    }\n",
              "  </style>\n",
              "\n",
              "      <script>\n",
              "        const buttonEl =\n",
              "          document.querySelector('#df-acc9493b-86c6-4fac-adce-25db05eea787 button.colab-df-convert');\n",
              "        buttonEl.style.display =\n",
              "          google.colab.kernel.accessAllowed ? 'block' : 'none';\n",
              "\n",
              "        async function convertToInteractive(key) {\n",
              "          const element = document.querySelector('#df-acc9493b-86c6-4fac-adce-25db05eea787');\n",
              "          const dataTable =\n",
              "            await google.colab.kernel.invokeFunction('convertToInteractive',\n",
              "                                                     [key], {});\n",
              "          if (!dataTable) return;\n",
              "\n",
              "          const docLinkHtml = 'Like what you see? Visit the ' +\n",
              "            '<a target=\"_blank\" href=https://colab.research.google.com/notebooks/data_table.ipynb>data table notebook</a>'\n",
              "            + ' to learn more about interactive tables.';\n",
              "          element.innerHTML = '';\n",
              "          dataTable['output_type'] = 'display_data';\n",
              "          await google.colab.output.renderOutput(dataTable, element);\n",
              "          const docLink = document.createElement('div');\n",
              "          docLink.innerHTML = docLinkHtml;\n",
              "          element.appendChild(docLink);\n",
              "        }\n",
              "      </script>\n",
              "    </div>\n",
              "  </div>\n",
              "  "
            ]
          },
          "metadata": {},
          "execution_count": 29
        }
      ],
      "source": [
        "test.head()"
      ]
    },
    {
      "cell_type": "code",
      "execution_count": null,
      "id": "919d59d5",
      "metadata": {
        "execution": {
          "iopub.execute_input": "2021-10-26T14:40:01.349079Z",
          "iopub.status.busy": "2021-10-26T14:40:01.347672Z",
          "iopub.status.idle": "2021-10-26T14:40:01.352199Z",
          "shell.execute_reply": "2021-10-26T14:40:01.351668Z",
          "shell.execute_reply.started": "2021-10-26T14:13:29.102488Z"
        },
        "papermill": {
          "duration": 0.066526,
          "end_time": "2021-10-26T14:40:01.352355",
          "exception": false,
          "start_time": "2021-10-26T14:40:01.285829",
          "status": "completed"
        },
        "tags": [],
        "id": "919d59d5"
      },
      "outputs": [],
      "source": [
        "# input split\n",
        "X = train.drop(columns=['PassengerId', 'Survived'], axis=1)\n",
        "y = train['Survived']"
      ]
    },
    {
      "cell_type": "code",
      "execution_count": null,
      "id": "cdd472cb",
      "metadata": {
        "execution": {
          "iopub.execute_input": "2021-10-26T14:40:01.474332Z",
          "iopub.status.busy": "2021-10-26T14:40:01.473685Z",
          "iopub.status.idle": "2021-10-26T14:40:01.482336Z",
          "shell.execute_reply": "2021-10-26T14:40:01.482819Z",
          "shell.execute_reply.started": "2021-10-26T14:13:42.844559Z"
        },
        "papermill": {
          "duration": 0.073156,
          "end_time": "2021-10-26T14:40:01.483008",
          "exception": false,
          "start_time": "2021-10-26T14:40:01.409852",
          "status": "completed"
        },
        "tags": [],
        "colab": {
          "base_uri": "https://localhost:8080/",
          "height": 206
        },
        "id": "cdd472cb",
        "outputId": "20bb195e-2c87-41fe-960d-8f99998608cc"
      },
      "outputs": [
        {
          "output_type": "execute_result",
          "data": {
            "text/plain": [
              "   Pclass  Sex   Age  SibSp  Parch      Fare  Embarked\n",
              "0       3    1  22.0      1      0  2.110213         2\n",
              "1       1    0  38.0      1      0  4.280593         0\n",
              "2       3    0  26.0      0      0  2.188856         2\n",
              "3       1    0  35.0      1      0  3.990834         2\n",
              "4       3    1  35.0      0      0  2.202765         2"
            ],
            "text/html": [
              "\n",
              "  <div id=\"df-53bc0bf0-a6d4-4c21-9f7e-4add3b609019\">\n",
              "    <div class=\"colab-df-container\">\n",
              "      <div>\n",
              "<style scoped>\n",
              "    .dataframe tbody tr th:only-of-type {\n",
              "        vertical-align: middle;\n",
              "    }\n",
              "\n",
              "    .dataframe tbody tr th {\n",
              "        vertical-align: top;\n",
              "    }\n",
              "\n",
              "    .dataframe thead th {\n",
              "        text-align: right;\n",
              "    }\n",
              "</style>\n",
              "<table border=\"1\" class=\"dataframe\">\n",
              "  <thead>\n",
              "    <tr style=\"text-align: right;\">\n",
              "      <th></th>\n",
              "      <th>Pclass</th>\n",
              "      <th>Sex</th>\n",
              "      <th>Age</th>\n",
              "      <th>SibSp</th>\n",
              "      <th>Parch</th>\n",
              "      <th>Fare</th>\n",
              "      <th>Embarked</th>\n",
              "    </tr>\n",
              "  </thead>\n",
              "  <tbody>\n",
              "    <tr>\n",
              "      <th>0</th>\n",
              "      <td>3</td>\n",
              "      <td>1</td>\n",
              "      <td>22.0</td>\n",
              "      <td>1</td>\n",
              "      <td>0</td>\n",
              "      <td>2.110213</td>\n",
              "      <td>2</td>\n",
              "    </tr>\n",
              "    <tr>\n",
              "      <th>1</th>\n",
              "      <td>1</td>\n",
              "      <td>0</td>\n",
              "      <td>38.0</td>\n",
              "      <td>1</td>\n",
              "      <td>0</td>\n",
              "      <td>4.280593</td>\n",
              "      <td>0</td>\n",
              "    </tr>\n",
              "    <tr>\n",
              "      <th>2</th>\n",
              "      <td>3</td>\n",
              "      <td>0</td>\n",
              "      <td>26.0</td>\n",
              "      <td>0</td>\n",
              "      <td>0</td>\n",
              "      <td>2.188856</td>\n",
              "      <td>2</td>\n",
              "    </tr>\n",
              "    <tr>\n",
              "      <th>3</th>\n",
              "      <td>1</td>\n",
              "      <td>0</td>\n",
              "      <td>35.0</td>\n",
              "      <td>1</td>\n",
              "      <td>0</td>\n",
              "      <td>3.990834</td>\n",
              "      <td>2</td>\n",
              "    </tr>\n",
              "    <tr>\n",
              "      <th>4</th>\n",
              "      <td>3</td>\n",
              "      <td>1</td>\n",
              "      <td>35.0</td>\n",
              "      <td>0</td>\n",
              "      <td>0</td>\n",
              "      <td>2.202765</td>\n",
              "      <td>2</td>\n",
              "    </tr>\n",
              "  </tbody>\n",
              "</table>\n",
              "</div>\n",
              "      <button class=\"colab-df-convert\" onclick=\"convertToInteractive('df-53bc0bf0-a6d4-4c21-9f7e-4add3b609019')\"\n",
              "              title=\"Convert this dataframe to an interactive table.\"\n",
              "              style=\"display:none;\">\n",
              "        \n",
              "  <svg xmlns=\"http://www.w3.org/2000/svg\" height=\"24px\"viewBox=\"0 0 24 24\"\n",
              "       width=\"24px\">\n",
              "    <path d=\"M0 0h24v24H0V0z\" fill=\"none\"/>\n",
              "    <path d=\"M18.56 5.44l.94 2.06.94-2.06 2.06-.94-2.06-.94-.94-2.06-.94 2.06-2.06.94zm-11 1L8.5 8.5l.94-2.06 2.06-.94-2.06-.94L8.5 2.5l-.94 2.06-2.06.94zm10 10l.94 2.06.94-2.06 2.06-.94-2.06-.94-.94-2.06-.94 2.06-2.06.94z\"/><path d=\"M17.41 7.96l-1.37-1.37c-.4-.4-.92-.59-1.43-.59-.52 0-1.04.2-1.43.59L10.3 9.45l-7.72 7.72c-.78.78-.78 2.05 0 2.83L4 21.41c.39.39.9.59 1.41.59.51 0 1.02-.2 1.41-.59l7.78-7.78 2.81-2.81c.8-.78.8-2.07 0-2.86zM5.41 20L4 18.59l7.72-7.72 1.47 1.35L5.41 20z\"/>\n",
              "  </svg>\n",
              "      </button>\n",
              "      \n",
              "  <style>\n",
              "    .colab-df-container {\n",
              "      display:flex;\n",
              "      flex-wrap:wrap;\n",
              "      gap: 12px;\n",
              "    }\n",
              "\n",
              "    .colab-df-convert {\n",
              "      background-color: #E8F0FE;\n",
              "      border: none;\n",
              "      border-radius: 50%;\n",
              "      cursor: pointer;\n",
              "      display: none;\n",
              "      fill: #1967D2;\n",
              "      height: 32px;\n",
              "      padding: 0 0 0 0;\n",
              "      width: 32px;\n",
              "    }\n",
              "\n",
              "    .colab-df-convert:hover {\n",
              "      background-color: #E2EBFA;\n",
              "      box-shadow: 0px 1px 2px rgba(60, 64, 67, 0.3), 0px 1px 3px 1px rgba(60, 64, 67, 0.15);\n",
              "      fill: #174EA6;\n",
              "    }\n",
              "\n",
              "    [theme=dark] .colab-df-convert {\n",
              "      background-color: #3B4455;\n",
              "      fill: #D2E3FC;\n",
              "    }\n",
              "\n",
              "    [theme=dark] .colab-df-convert:hover {\n",
              "      background-color: #434B5C;\n",
              "      box-shadow: 0px 1px 3px 1px rgba(0, 0, 0, 0.15);\n",
              "      filter: drop-shadow(0px 1px 2px rgba(0, 0, 0, 0.3));\n",
              "      fill: #FFFFFF;\n",
              "    }\n",
              "  </style>\n",
              "\n",
              "      <script>\n",
              "        const buttonEl =\n",
              "          document.querySelector('#df-53bc0bf0-a6d4-4c21-9f7e-4add3b609019 button.colab-df-convert');\n",
              "        buttonEl.style.display =\n",
              "          google.colab.kernel.accessAllowed ? 'block' : 'none';\n",
              "\n",
              "        async function convertToInteractive(key) {\n",
              "          const element = document.querySelector('#df-53bc0bf0-a6d4-4c21-9f7e-4add3b609019');\n",
              "          const dataTable =\n",
              "            await google.colab.kernel.invokeFunction('convertToInteractive',\n",
              "                                                     [key], {});\n",
              "          if (!dataTable) return;\n",
              "\n",
              "          const docLinkHtml = 'Like what you see? Visit the ' +\n",
              "            '<a target=\"_blank\" href=https://colab.research.google.com/notebooks/data_table.ipynb>data table notebook</a>'\n",
              "            + ' to learn more about interactive tables.';\n",
              "          element.innerHTML = '';\n",
              "          dataTable['output_type'] = 'display_data';\n",
              "          await google.colab.output.renderOutput(dataTable, element);\n",
              "          const docLink = document.createElement('div');\n",
              "          docLink.innerHTML = docLinkHtml;\n",
              "          element.appendChild(docLink);\n",
              "        }\n",
              "      </script>\n",
              "    </div>\n",
              "  </div>\n",
              "  "
            ]
          },
          "metadata": {},
          "execution_count": 31
        }
      ],
      "source": [
        "X.head()"
      ]
    },
    {
      "cell_type": "markdown",
      "id": "c38aba4a",
      "metadata": {
        "papermill": {
          "duration": 0.05648,
          "end_time": "2021-10-26T14:40:01.595542",
          "exception": false,
          "start_time": "2021-10-26T14:40:01.539062",
          "status": "completed"
        },
        "tags": [],
        "id": "c38aba4a"
      },
      "source": [
        "## Model Training"
      ]
    },
    {
      "cell_type": "code",
      "execution_count": null,
      "id": "2ab207c7",
      "metadata": {
        "execution": {
          "iopub.execute_input": "2021-10-26T14:40:01.711591Z",
          "iopub.status.busy": "2021-10-26T14:40:01.710790Z",
          "iopub.status.idle": "2021-10-26T14:40:01.777518Z",
          "shell.execute_reply": "2021-10-26T14:40:01.776905Z",
          "shell.execute_reply.started": "2021-10-26T14:24:14.689882Z"
        },
        "papermill": {
          "duration": 0.125748,
          "end_time": "2021-10-26T14:40:01.777684",
          "exception": false,
          "start_time": "2021-10-26T14:40:01.651936",
          "status": "completed"
        },
        "tags": [],
        "id": "2ab207c7"
      },
      "outputs": [],
      "source": [
        "from sklearn.model_selection import train_test_split, cross_val_score\n",
        "# classify column\n",
        "def classify(model):\n",
        "    x_train, x_test, y_train, y_test = train_test_split(X, y, test_size=0.25, random_state=42)\n",
        "    model.fit(x_train, y_train)\n",
        "    print('Accuracy:', model.score(x_test, y_test))\n",
        "\n",
        "    score = cross_val_score(model, X, y, cv=5)\n",
        "    print('CV Score:', np.mean(score))"
      ]
    },
    {
      "cell_type": "code",
      "execution_count": null,
      "id": "13ae26c6",
      "metadata": {
        "execution": {
          "iopub.execute_input": "2021-10-26T14:40:01.903363Z",
          "iopub.status.busy": "2021-10-26T14:40:01.902779Z",
          "iopub.status.idle": "2021-10-26T14:40:02.272377Z",
          "shell.execute_reply": "2021-10-26T14:40:02.271877Z",
          "shell.execute_reply.started": "2021-10-26T14:24:15.464833Z"
        },
        "papermill": {
          "duration": 0.43207,
          "end_time": "2021-10-26T14:40:02.272542",
          "exception": false,
          "start_time": "2021-10-26T14:40:01.840472",
          "status": "completed"
        },
        "tags": [],
        "colab": {
          "base_uri": "https://localhost:8080/"
        },
        "id": "13ae26c6",
        "outputId": "3994c995-e2cf-4d00-f76f-d8220ea7eb7b"
      },
      "outputs": [
        {
          "output_type": "stream",
          "name": "stdout",
          "text": [
            "Accuracy: 0.8071748878923767\n",
            "CV Score: 0.7833971502102819\n"
          ]
        }
      ],
      "source": [
        "from sklearn.linear_model import LogisticRegression\n",
        "model = LogisticRegression()\n",
        "classify(model)"
      ]
    },
    {
      "cell_type": "code",
      "execution_count": null,
      "id": "c6b2936f",
      "metadata": {
        "execution": {
          "iopub.execute_input": "2021-10-26T14:40:02.389536Z",
          "iopub.status.busy": "2021-10-26T14:40:02.388941Z",
          "iopub.status.idle": "2021-10-26T14:40:02.518843Z",
          "shell.execute_reply": "2021-10-26T14:40:02.517948Z",
          "shell.execute_reply.started": "2021-10-26T14:24:16.297569Z"
        },
        "papermill": {
          "duration": 0.190053,
          "end_time": "2021-10-26T14:40:02.519031",
          "exception": false,
          "start_time": "2021-10-26T14:40:02.328978",
          "status": "completed"
        },
        "tags": [],
        "colab": {
          "base_uri": "https://localhost:8080/"
        },
        "id": "c6b2936f",
        "outputId": "e97ce37e-aab9-430c-d5e4-21804701cf3c"
      },
      "outputs": [
        {
          "output_type": "stream",
          "name": "stdout",
          "text": [
            "Accuracy: 0.726457399103139\n",
            "CV Score: 0.7677170296905405\n"
          ]
        }
      ],
      "source": [
        "from sklearn.tree import DecisionTreeClassifier\n",
        "model = DecisionTreeClassifier()\n",
        "classify(model)"
      ]
    },
    {
      "cell_type": "code",
      "execution_count": null,
      "id": "c19492dd",
      "metadata": {
        "execution": {
          "iopub.execute_input": "2021-10-26T14:40:02.639633Z",
          "iopub.status.busy": "2021-10-26T14:40:02.638829Z",
          "iopub.status.idle": "2021-10-26T14:40:03.768778Z",
          "shell.execute_reply": "2021-10-26T14:40:03.768207Z",
          "shell.execute_reply.started": "2021-10-26T14:24:17.976407Z"
        },
        "papermill": {
          "duration": 1.191513,
          "end_time": "2021-10-26T14:40:03.768926",
          "exception": false,
          "start_time": "2021-10-26T14:40:02.577413",
          "status": "completed"
        },
        "tags": [],
        "colab": {
          "base_uri": "https://localhost:8080/"
        },
        "id": "c19492dd",
        "outputId": "929f7128-2146-467b-e3e4-34c31245fd6d"
      },
      "outputs": [
        {
          "output_type": "stream",
          "name": "stdout",
          "text": [
            "Accuracy: 0.7937219730941704\n",
            "CV Score: 0.8092272926997678\n"
          ]
        }
      ],
      "source": [
        "from sklearn.ensemble import RandomForestClassifier\n",
        "model = RandomForestClassifier()\n",
        "classify(model)"
      ]
    },
    {
      "cell_type": "code",
      "execution_count": null,
      "id": "c52e6856",
      "metadata": {
        "execution": {
          "iopub.execute_input": "2021-10-26T14:40:03.886379Z",
          "iopub.status.busy": "2021-10-26T14:40:03.885812Z",
          "iopub.status.idle": "2021-10-26T14:40:04.796203Z",
          "shell.execute_reply": "2021-10-26T14:40:04.795428Z",
          "shell.execute_reply.started": "2021-10-26T14:25:06.863911Z"
        },
        "papermill": {
          "duration": 0.969994,
          "end_time": "2021-10-26T14:40:04.796414",
          "exception": false,
          "start_time": "2021-10-26T14:40:03.826420",
          "status": "completed"
        },
        "tags": [],
        "colab": {
          "base_uri": "https://localhost:8080/"
        },
        "id": "c52e6856",
        "outputId": "8ef769a4-b90a-4b2e-8a63-119e8da94a7f"
      },
      "outputs": [
        {
          "output_type": "stream",
          "name": "stdout",
          "text": [
            "Accuracy: 0.8026905829596412\n",
            "CV Score: 0.7912811499591991\n"
          ]
        }
      ],
      "source": [
        "from sklearn.ensemble import ExtraTreesClassifier\n",
        "model = ExtraTreesClassifier()\n",
        "classify(model)"
      ]
    },
    {
      "cell_type": "code",
      "execution_count": null,
      "id": "c03580ee",
      "metadata": {
        "execution": {
          "iopub.execute_input": "2021-10-26T14:40:04.917125Z",
          "iopub.status.busy": "2021-10-26T14:40:04.916404Z",
          "iopub.status.idle": "2021-10-26T14:40:05.512169Z",
          "shell.execute_reply": "2021-10-26T14:40:05.512693Z",
          "shell.execute_reply.started": "2021-10-26T14:25:34.368204Z"
        },
        "papermill": {
          "duration": 0.658113,
          "end_time": "2021-10-26T14:40:05.512880",
          "exception": false,
          "start_time": "2021-10-26T14:40:04.854767",
          "status": "completed"
        },
        "tags": [],
        "colab": {
          "base_uri": "https://localhost:8080/"
        },
        "id": "c03580ee",
        "outputId": "8e693eae-e33f-458c-b9bb-b91bd5b852f2"
      },
      "outputs": [
        {
          "output_type": "stream",
          "name": "stdout",
          "text": [
            "Accuracy: 0.7892376681614349\n",
            "CV Score: 0.8125980792166217\n"
          ]
        }
      ],
      "source": [
        "from xgboost import XGBClassifier\n",
        "model = XGBClassifier()\n",
        "classify(model)"
      ]
    },
    {
      "cell_type": "code",
      "execution_count": null,
      "id": "c2103438",
      "metadata": {
        "execution": {
          "iopub.execute_input": "2021-10-26T14:40:05.634090Z",
          "iopub.status.busy": "2021-10-26T14:40:05.633471Z",
          "iopub.status.idle": "2021-10-26T14:40:07.368906Z",
          "shell.execute_reply": "2021-10-26T14:40:07.370036Z",
          "shell.execute_reply.started": "2021-10-26T14:26:13.583660Z"
        },
        "papermill": {
          "duration": 1.79848,
          "end_time": "2021-10-26T14:40:07.370311",
          "exception": false,
          "start_time": "2021-10-26T14:40:05.571831",
          "status": "completed"
        },
        "tags": [],
        "colab": {
          "base_uri": "https://localhost:8080/"
        },
        "id": "c2103438",
        "outputId": "ae6addb2-2fb6-4260-8db3-39ad0fc75329"
      },
      "outputs": [
        {
          "output_type": "stream",
          "name": "stdout",
          "text": [
            "Accuracy: 0.8116591928251121\n",
            "CV Score: 0.8238277572029377\n"
          ]
        }
      ],
      "source": [
        "from lightgbm import LGBMClassifier\n",
        "model = LGBMClassifier()\n",
        "classify(model)"
      ]
    },
    {
      "cell_type": "code",
      "source": [
        "pip install catboost"
      ],
      "metadata": {
        "colab": {
          "base_uri": "https://localhost:8080/"
        },
        "id": "NXpCMdIwBGWY",
        "outputId": "e22a9f3e-be95-4190-b35c-1ab53b82d1b7"
      },
      "id": "NXpCMdIwBGWY",
      "execution_count": null,
      "outputs": [
        {
          "output_type": "stream",
          "name": "stdout",
          "text": [
            "Collecting catboost\n",
            "  Downloading catboost-1.2-cp310-cp310-manylinux2014_x86_64.whl (98.6 MB)\n",
            "\u001b[2K     \u001b[90m━━━━━━━━━━━━━━━━━━━━━━━━━━━━━━━━━━━━━━━━\u001b[0m \u001b[32m98.6/98.6 MB\u001b[0m \u001b[31m2.3 MB/s\u001b[0m eta \u001b[36m0:00:00\u001b[0m\n",
            "\u001b[?25hRequirement already satisfied: graphviz in /usr/local/lib/python3.10/dist-packages (from catboost) (0.20.1)\n",
            "Requirement already satisfied: matplotlib in /usr/local/lib/python3.10/dist-packages (from catboost) (3.7.1)\n",
            "Requirement already satisfied: numpy>=1.16.0 in /usr/local/lib/python3.10/dist-packages (from catboost) (1.22.4)\n",
            "Requirement already satisfied: pandas>=0.24 in /usr/local/lib/python3.10/dist-packages (from catboost) (1.5.3)\n",
            "Requirement already satisfied: scipy in /usr/local/lib/python3.10/dist-packages (from catboost) (1.10.1)\n",
            "Requirement already satisfied: plotly in /usr/local/lib/python3.10/dist-packages (from catboost) (5.13.1)\n",
            "Requirement already satisfied: six in /usr/local/lib/python3.10/dist-packages (from catboost) (1.16.0)\n",
            "Requirement already satisfied: python-dateutil>=2.8.1 in /usr/local/lib/python3.10/dist-packages (from pandas>=0.24->catboost) (2.8.2)\n",
            "Requirement already satisfied: pytz>=2020.1 in /usr/local/lib/python3.10/dist-packages (from pandas>=0.24->catboost) (2022.7.1)\n",
            "Requirement already satisfied: contourpy>=1.0.1 in /usr/local/lib/python3.10/dist-packages (from matplotlib->catboost) (1.1.0)\n",
            "Requirement already satisfied: cycler>=0.10 in /usr/local/lib/python3.10/dist-packages (from matplotlib->catboost) (0.11.0)\n",
            "Requirement already satisfied: fonttools>=4.22.0 in /usr/local/lib/python3.10/dist-packages (from matplotlib->catboost) (4.40.0)\n",
            "Requirement already satisfied: kiwisolver>=1.0.1 in /usr/local/lib/python3.10/dist-packages (from matplotlib->catboost) (1.4.4)\n",
            "Requirement already satisfied: packaging>=20.0 in /usr/local/lib/python3.10/dist-packages (from matplotlib->catboost) (23.1)\n",
            "Requirement already satisfied: pillow>=6.2.0 in /usr/local/lib/python3.10/dist-packages (from matplotlib->catboost) (8.4.0)\n",
            "Requirement already satisfied: pyparsing>=2.3.1 in /usr/local/lib/python3.10/dist-packages (from matplotlib->catboost) (3.1.0)\n",
            "Requirement already satisfied: tenacity>=6.2.0 in /usr/local/lib/python3.10/dist-packages (from plotly->catboost) (8.2.2)\n",
            "Installing collected packages: catboost\n",
            "Successfully installed catboost-1.2\n"
          ]
        }
      ]
    },
    {
      "cell_type": "code",
      "execution_count": null,
      "id": "df37859c",
      "metadata": {
        "execution": {
          "iopub.execute_input": "2021-10-26T14:40:07.502973Z",
          "iopub.status.busy": "2021-10-26T14:40:07.502333Z",
          "iopub.status.idle": "2021-10-26T14:40:12.891053Z",
          "shell.execute_reply": "2021-10-26T14:40:12.890564Z",
          "shell.execute_reply.started": "2021-10-26T14:27:01.384113Z"
        },
        "papermill": {
          "duration": 5.453449,
          "end_time": "2021-10-26T14:40:12.891210",
          "exception": false,
          "start_time": "2021-10-26T14:40:07.437761",
          "status": "completed"
        },
        "tags": [],
        "colab": {
          "base_uri": "https://localhost:8080/"
        },
        "id": "df37859c",
        "outputId": "2ac4111b-10b2-4e69-ddaf-655dbb2c0d91"
      },
      "outputs": [
        {
          "output_type": "stream",
          "name": "stdout",
          "text": [
            "Accuracy: 0.8295964125560538\n",
            "CV Score: 0.8226790534178645\n"
          ]
        }
      ],
      "source": [
        "from catboost import CatBoostClassifier\n",
        "model = CatBoostClassifier(verbose=0)\n",
        "classify(model)"
      ]
    },
    {
      "cell_type": "markdown",
      "id": "cd7d48af",
      "metadata": {
        "papermill": {
          "duration": 0.060015,
          "end_time": "2021-10-26T14:40:13.011975",
          "exception": false,
          "start_time": "2021-10-26T14:40:12.951960",
          "status": "completed"
        },
        "tags": [],
        "id": "cd7d48af"
      },
      "source": [
        "## Complete Model Training with Full Data"
      ]
    },
    {
      "cell_type": "code",
      "execution_count": null,
      "id": "c36f6f17",
      "metadata": {
        "execution": {
          "iopub.execute_input": "2021-10-26T14:40:13.138222Z",
          "iopub.status.busy": "2021-10-26T14:40:13.137294Z",
          "iopub.status.idle": "2021-10-26T14:40:13.223361Z",
          "shell.execute_reply": "2021-10-26T14:40:13.222781Z",
          "shell.execute_reply.started": "2021-10-26T14:28:22.512173Z"
        },
        "papermill": {
          "duration": 0.15166,
          "end_time": "2021-10-26T14:40:13.223514",
          "exception": false,
          "start_time": "2021-10-26T14:40:13.071854",
          "status": "completed"
        },
        "tags": [],
        "colab": {
          "base_uri": "https://localhost:8080/",
          "height": 74
        },
        "id": "c36f6f17",
        "outputId": "2e31c11a-8b2b-4f29-a099-ac01b1cce599"
      },
      "outputs": [
        {
          "output_type": "execute_result",
          "data": {
            "text/plain": [
              "LGBMClassifier()"
            ],
            "text/html": [
              "<style>#sk-container-id-1 {color: black;background-color: white;}#sk-container-id-1 pre{padding: 0;}#sk-container-id-1 div.sk-toggleable {background-color: white;}#sk-container-id-1 label.sk-toggleable__label {cursor: pointer;display: block;width: 100%;margin-bottom: 0;padding: 0.3em;box-sizing: border-box;text-align: center;}#sk-container-id-1 label.sk-toggleable__label-arrow:before {content: \"▸\";float: left;margin-right: 0.25em;color: #696969;}#sk-container-id-1 label.sk-toggleable__label-arrow:hover:before {color: black;}#sk-container-id-1 div.sk-estimator:hover label.sk-toggleable__label-arrow:before {color: black;}#sk-container-id-1 div.sk-toggleable__content {max-height: 0;max-width: 0;overflow: hidden;text-align: left;background-color: #f0f8ff;}#sk-container-id-1 div.sk-toggleable__content pre {margin: 0.2em;color: black;border-radius: 0.25em;background-color: #f0f8ff;}#sk-container-id-1 input.sk-toggleable__control:checked~div.sk-toggleable__content {max-height: 200px;max-width: 100%;overflow: auto;}#sk-container-id-1 input.sk-toggleable__control:checked~label.sk-toggleable__label-arrow:before {content: \"▾\";}#sk-container-id-1 div.sk-estimator input.sk-toggleable__control:checked~label.sk-toggleable__label {background-color: #d4ebff;}#sk-container-id-1 div.sk-label input.sk-toggleable__control:checked~label.sk-toggleable__label {background-color: #d4ebff;}#sk-container-id-1 input.sk-hidden--visually {border: 0;clip: rect(1px 1px 1px 1px);clip: rect(1px, 1px, 1px, 1px);height: 1px;margin: -1px;overflow: hidden;padding: 0;position: absolute;width: 1px;}#sk-container-id-1 div.sk-estimator {font-family: monospace;background-color: #f0f8ff;border: 1px dotted black;border-radius: 0.25em;box-sizing: border-box;margin-bottom: 0.5em;}#sk-container-id-1 div.sk-estimator:hover {background-color: #d4ebff;}#sk-container-id-1 div.sk-parallel-item::after {content: \"\";width: 100%;border-bottom: 1px solid gray;flex-grow: 1;}#sk-container-id-1 div.sk-label:hover label.sk-toggleable__label {background-color: #d4ebff;}#sk-container-id-1 div.sk-serial::before {content: \"\";position: absolute;border-left: 1px solid gray;box-sizing: border-box;top: 0;bottom: 0;left: 50%;z-index: 0;}#sk-container-id-1 div.sk-serial {display: flex;flex-direction: column;align-items: center;background-color: white;padding-right: 0.2em;padding-left: 0.2em;position: relative;}#sk-container-id-1 div.sk-item {position: relative;z-index: 1;}#sk-container-id-1 div.sk-parallel {display: flex;align-items: stretch;justify-content: center;background-color: white;position: relative;}#sk-container-id-1 div.sk-item::before, #sk-container-id-1 div.sk-parallel-item::before {content: \"\";position: absolute;border-left: 1px solid gray;box-sizing: border-box;top: 0;bottom: 0;left: 50%;z-index: -1;}#sk-container-id-1 div.sk-parallel-item {display: flex;flex-direction: column;z-index: 1;position: relative;background-color: white;}#sk-container-id-1 div.sk-parallel-item:first-child::after {align-self: flex-end;width: 50%;}#sk-container-id-1 div.sk-parallel-item:last-child::after {align-self: flex-start;width: 50%;}#sk-container-id-1 div.sk-parallel-item:only-child::after {width: 0;}#sk-container-id-1 div.sk-dashed-wrapped {border: 1px dashed gray;margin: 0 0.4em 0.5em 0.4em;box-sizing: border-box;padding-bottom: 0.4em;background-color: white;}#sk-container-id-1 div.sk-label label {font-family: monospace;font-weight: bold;display: inline-block;line-height: 1.2em;}#sk-container-id-1 div.sk-label-container {text-align: center;}#sk-container-id-1 div.sk-container {/* jupyter's `normalize.less` sets `[hidden] { display: none; }` but bootstrap.min.css set `[hidden] { display: none !important; }` so we also need the `!important` here to be able to override the default hidden behavior on the sphinx rendered scikit-learn.org. See: https://github.com/scikit-learn/scikit-learn/issues/21755 */display: inline-block !important;position: relative;}#sk-container-id-1 div.sk-text-repr-fallback {display: none;}</style><div id=\"sk-container-id-1\" class=\"sk-top-container\"><div class=\"sk-text-repr-fallback\"><pre>LGBMClassifier()</pre><b>In a Jupyter environment, please rerun this cell to show the HTML representation or trust the notebook. <br />On GitHub, the HTML representation is unable to render, please try loading this page with nbviewer.org.</b></div><div class=\"sk-container\" hidden><div class=\"sk-item\"><div class=\"sk-estimator sk-toggleable\"><input class=\"sk-toggleable__control sk-hidden--visually\" id=\"sk-estimator-id-1\" type=\"checkbox\" checked><label for=\"sk-estimator-id-1\" class=\"sk-toggleable__label sk-toggleable__label-arrow\">LGBMClassifier</label><div class=\"sk-toggleable__content\"><pre>LGBMClassifier()</pre></div></div></div></div></div>"
            ]
          },
          "metadata": {},
          "execution_count": 42
        }
      ],
      "source": [
        "model = LGBMClassifier()\n",
        "model.fit(X, y)"
      ]
    },
    {
      "cell_type": "code",
      "execution_count": null,
      "id": "784e7b43",
      "metadata": {
        "execution": {
          "iopub.execute_input": "2021-10-26T14:40:13.356973Z",
          "iopub.status.busy": "2021-10-26T14:40:13.355981Z",
          "iopub.status.idle": "2021-10-26T14:40:13.359495Z",
          "shell.execute_reply": "2021-10-26T14:40:13.359916Z",
          "shell.execute_reply.started": "2021-10-26T14:28:48.451537Z"
        },
        "papermill": {
          "duration": 0.076399,
          "end_time": "2021-10-26T14:40:13.360082",
          "exception": false,
          "start_time": "2021-10-26T14:40:13.283683",
          "status": "completed"
        },
        "tags": [],
        "colab": {
          "base_uri": "https://localhost:8080/",
          "height": 206
        },
        "id": "784e7b43",
        "outputId": "49907db5-0178-48dc-a1ef-291d3856ec5c"
      },
      "outputs": [
        {
          "output_type": "execute_result",
          "data": {
            "text/plain": [
              "     PassengerId  Survived  Pclass  Sex   Age  SibSp  Parch      Fare  \\\n",
              "891          892       NaN       3    1  34.5      0      0  2.178064   \n",
              "892          893       NaN       3    0  47.0      1      0  2.079442   \n",
              "893          894       NaN       2    1  62.0      0      0  2.369075   \n",
              "894          895       NaN       3    1  27.0      0      0  2.268252   \n",
              "895          896       NaN       3    0  22.0      1      1  2.586824   \n",
              "\n",
              "     Embarked  \n",
              "891         1  \n",
              "892         2  \n",
              "893         1  \n",
              "894         2  \n",
              "895         2  "
            ],
            "text/html": [
              "\n",
              "  <div id=\"df-75c5c74d-2890-4bde-a02b-371c78f787d0\">\n",
              "    <div class=\"colab-df-container\">\n",
              "      <div>\n",
              "<style scoped>\n",
              "    .dataframe tbody tr th:only-of-type {\n",
              "        vertical-align: middle;\n",
              "    }\n",
              "\n",
              "    .dataframe tbody tr th {\n",
              "        vertical-align: top;\n",
              "    }\n",
              "\n",
              "    .dataframe thead th {\n",
              "        text-align: right;\n",
              "    }\n",
              "</style>\n",
              "<table border=\"1\" class=\"dataframe\">\n",
              "  <thead>\n",
              "    <tr style=\"text-align: right;\">\n",
              "      <th></th>\n",
              "      <th>PassengerId</th>\n",
              "      <th>Survived</th>\n",
              "      <th>Pclass</th>\n",
              "      <th>Sex</th>\n",
              "      <th>Age</th>\n",
              "      <th>SibSp</th>\n",
              "      <th>Parch</th>\n",
              "      <th>Fare</th>\n",
              "      <th>Embarked</th>\n",
              "    </tr>\n",
              "  </thead>\n",
              "  <tbody>\n",
              "    <tr>\n",
              "      <th>891</th>\n",
              "      <td>892</td>\n",
              "      <td>NaN</td>\n",
              "      <td>3</td>\n",
              "      <td>1</td>\n",
              "      <td>34.5</td>\n",
              "      <td>0</td>\n",
              "      <td>0</td>\n",
              "      <td>2.178064</td>\n",
              "      <td>1</td>\n",
              "    </tr>\n",
              "    <tr>\n",
              "      <th>892</th>\n",
              "      <td>893</td>\n",
              "      <td>NaN</td>\n",
              "      <td>3</td>\n",
              "      <td>0</td>\n",
              "      <td>47.0</td>\n",
              "      <td>1</td>\n",
              "      <td>0</td>\n",
              "      <td>2.079442</td>\n",
              "      <td>2</td>\n",
              "    </tr>\n",
              "    <tr>\n",
              "      <th>893</th>\n",
              "      <td>894</td>\n",
              "      <td>NaN</td>\n",
              "      <td>2</td>\n",
              "      <td>1</td>\n",
              "      <td>62.0</td>\n",
              "      <td>0</td>\n",
              "      <td>0</td>\n",
              "      <td>2.369075</td>\n",
              "      <td>1</td>\n",
              "    </tr>\n",
              "    <tr>\n",
              "      <th>894</th>\n",
              "      <td>895</td>\n",
              "      <td>NaN</td>\n",
              "      <td>3</td>\n",
              "      <td>1</td>\n",
              "      <td>27.0</td>\n",
              "      <td>0</td>\n",
              "      <td>0</td>\n",
              "      <td>2.268252</td>\n",
              "      <td>2</td>\n",
              "    </tr>\n",
              "    <tr>\n",
              "      <th>895</th>\n",
              "      <td>896</td>\n",
              "      <td>NaN</td>\n",
              "      <td>3</td>\n",
              "      <td>0</td>\n",
              "      <td>22.0</td>\n",
              "      <td>1</td>\n",
              "      <td>1</td>\n",
              "      <td>2.586824</td>\n",
              "      <td>2</td>\n",
              "    </tr>\n",
              "  </tbody>\n",
              "</table>\n",
              "</div>\n",
              "      <button class=\"colab-df-convert\" onclick=\"convertToInteractive('df-75c5c74d-2890-4bde-a02b-371c78f787d0')\"\n",
              "              title=\"Convert this dataframe to an interactive table.\"\n",
              "              style=\"display:none;\">\n",
              "        \n",
              "  <svg xmlns=\"http://www.w3.org/2000/svg\" height=\"24px\"viewBox=\"0 0 24 24\"\n",
              "       width=\"24px\">\n",
              "    <path d=\"M0 0h24v24H0V0z\" fill=\"none\"/>\n",
              "    <path d=\"M18.56 5.44l.94 2.06.94-2.06 2.06-.94-2.06-.94-.94-2.06-.94 2.06-2.06.94zm-11 1L8.5 8.5l.94-2.06 2.06-.94-2.06-.94L8.5 2.5l-.94 2.06-2.06.94zm10 10l.94 2.06.94-2.06 2.06-.94-2.06-.94-.94-2.06-.94 2.06-2.06.94z\"/><path d=\"M17.41 7.96l-1.37-1.37c-.4-.4-.92-.59-1.43-.59-.52 0-1.04.2-1.43.59L10.3 9.45l-7.72 7.72c-.78.78-.78 2.05 0 2.83L4 21.41c.39.39.9.59 1.41.59.51 0 1.02-.2 1.41-.59l7.78-7.78 2.81-2.81c.8-.78.8-2.07 0-2.86zM5.41 20L4 18.59l7.72-7.72 1.47 1.35L5.41 20z\"/>\n",
              "  </svg>\n",
              "      </button>\n",
              "      \n",
              "  <style>\n",
              "    .colab-df-container {\n",
              "      display:flex;\n",
              "      flex-wrap:wrap;\n",
              "      gap: 12px;\n",
              "    }\n",
              "\n",
              "    .colab-df-convert {\n",
              "      background-color: #E8F0FE;\n",
              "      border: none;\n",
              "      border-radius: 50%;\n",
              "      cursor: pointer;\n",
              "      display: none;\n",
              "      fill: #1967D2;\n",
              "      height: 32px;\n",
              "      padding: 0 0 0 0;\n",
              "      width: 32px;\n",
              "    }\n",
              "\n",
              "    .colab-df-convert:hover {\n",
              "      background-color: #E2EBFA;\n",
              "      box-shadow: 0px 1px 2px rgba(60, 64, 67, 0.3), 0px 1px 3px 1px rgba(60, 64, 67, 0.15);\n",
              "      fill: #174EA6;\n",
              "    }\n",
              "\n",
              "    [theme=dark] .colab-df-convert {\n",
              "      background-color: #3B4455;\n",
              "      fill: #D2E3FC;\n",
              "    }\n",
              "\n",
              "    [theme=dark] .colab-df-convert:hover {\n",
              "      background-color: #434B5C;\n",
              "      box-shadow: 0px 1px 3px 1px rgba(0, 0, 0, 0.15);\n",
              "      filter: drop-shadow(0px 1px 2px rgba(0, 0, 0, 0.3));\n",
              "      fill: #FFFFFF;\n",
              "    }\n",
              "  </style>\n",
              "\n",
              "      <script>\n",
              "        const buttonEl =\n",
              "          document.querySelector('#df-75c5c74d-2890-4bde-a02b-371c78f787d0 button.colab-df-convert');\n",
              "        buttonEl.style.display =\n",
              "          google.colab.kernel.accessAllowed ? 'block' : 'none';\n",
              "\n",
              "        async function convertToInteractive(key) {\n",
              "          const element = document.querySelector('#df-75c5c74d-2890-4bde-a02b-371c78f787d0');\n",
              "          const dataTable =\n",
              "            await google.colab.kernel.invokeFunction('convertToInteractive',\n",
              "                                                     [key], {});\n",
              "          if (!dataTable) return;\n",
              "\n",
              "          const docLinkHtml = 'Like what you see? Visit the ' +\n",
              "            '<a target=\"_blank\" href=https://colab.research.google.com/notebooks/data_table.ipynb>data table notebook</a>'\n",
              "            + ' to learn more about interactive tables.';\n",
              "          element.innerHTML = '';\n",
              "          dataTable['output_type'] = 'display_data';\n",
              "          await google.colab.output.renderOutput(dataTable, element);\n",
              "          const docLink = document.createElement('div');\n",
              "          docLink.innerHTML = docLinkHtml;\n",
              "          element.appendChild(docLink);\n",
              "        }\n",
              "      </script>\n",
              "    </div>\n",
              "  </div>\n",
              "  "
            ]
          },
          "metadata": {},
          "execution_count": 43
        }
      ],
      "source": [
        "test.head()"
      ]
    },
    {
      "cell_type": "code",
      "execution_count": null,
      "id": "15fa3a48",
      "metadata": {
        "execution": {
          "iopub.execute_input": "2021-10-26T14:40:13.487356Z",
          "iopub.status.busy": "2021-10-26T14:40:13.486619Z",
          "iopub.status.idle": "2021-10-26T14:40:13.489331Z",
          "shell.execute_reply": "2021-10-26T14:40:13.488768Z",
          "shell.execute_reply.started": "2021-10-26T14:30:25.011271Z"
        },
        "papermill": {
          "duration": 0.068878,
          "end_time": "2021-10-26T14:40:13.489471",
          "exception": false,
          "start_time": "2021-10-26T14:40:13.420593",
          "status": "completed"
        },
        "tags": [],
        "id": "15fa3a48"
      },
      "outputs": [],
      "source": [
        "# input split for test data\n",
        "X_test = test.drop(columns=['PassengerId', 'Survived'], axis=1)"
      ]
    },
    {
      "cell_type": "code",
      "execution_count": null,
      "id": "3c6edd36",
      "metadata": {
        "execution": {
          "iopub.execute_input": "2021-10-26T14:40:13.620838Z",
          "iopub.status.busy": "2021-10-26T14:40:13.617444Z",
          "iopub.status.idle": "2021-10-26T14:40:13.625103Z",
          "shell.execute_reply": "2021-10-26T14:40:13.624628Z",
          "shell.execute_reply.started": "2021-10-26T14:30:25.728443Z"
        },
        "papermill": {
          "duration": 0.075487,
          "end_time": "2021-10-26T14:40:13.625263",
          "exception": false,
          "start_time": "2021-10-26T14:40:13.549776",
          "status": "completed"
        },
        "tags": [],
        "colab": {
          "base_uri": "https://localhost:8080/",
          "height": 206
        },
        "id": "3c6edd36",
        "outputId": "31d35281-832d-49d2-a9c5-d9a890331a83"
      },
      "outputs": [
        {
          "output_type": "execute_result",
          "data": {
            "text/plain": [
              "     Pclass  Sex   Age  SibSp  Parch      Fare  Embarked\n",
              "891       3    1  34.5      0      0  2.178064         1\n",
              "892       3    0  47.0      1      0  2.079442         2\n",
              "893       2    1  62.0      0      0  2.369075         1\n",
              "894       3    1  27.0      0      0  2.268252         2\n",
              "895       3    0  22.0      1      1  2.586824         2"
            ],
            "text/html": [
              "\n",
              "  <div id=\"df-99549120-b7fa-497d-b1d6-11bafa82cc1b\">\n",
              "    <div class=\"colab-df-container\">\n",
              "      <div>\n",
              "<style scoped>\n",
              "    .dataframe tbody tr th:only-of-type {\n",
              "        vertical-align: middle;\n",
              "    }\n",
              "\n",
              "    .dataframe tbody tr th {\n",
              "        vertical-align: top;\n",
              "    }\n",
              "\n",
              "    .dataframe thead th {\n",
              "        text-align: right;\n",
              "    }\n",
              "</style>\n",
              "<table border=\"1\" class=\"dataframe\">\n",
              "  <thead>\n",
              "    <tr style=\"text-align: right;\">\n",
              "      <th></th>\n",
              "      <th>Pclass</th>\n",
              "      <th>Sex</th>\n",
              "      <th>Age</th>\n",
              "      <th>SibSp</th>\n",
              "      <th>Parch</th>\n",
              "      <th>Fare</th>\n",
              "      <th>Embarked</th>\n",
              "    </tr>\n",
              "  </thead>\n",
              "  <tbody>\n",
              "    <tr>\n",
              "      <th>891</th>\n",
              "      <td>3</td>\n",
              "      <td>1</td>\n",
              "      <td>34.5</td>\n",
              "      <td>0</td>\n",
              "      <td>0</td>\n",
              "      <td>2.178064</td>\n",
              "      <td>1</td>\n",
              "    </tr>\n",
              "    <tr>\n",
              "      <th>892</th>\n",
              "      <td>3</td>\n",
              "      <td>0</td>\n",
              "      <td>47.0</td>\n",
              "      <td>1</td>\n",
              "      <td>0</td>\n",
              "      <td>2.079442</td>\n",
              "      <td>2</td>\n",
              "    </tr>\n",
              "    <tr>\n",
              "      <th>893</th>\n",
              "      <td>2</td>\n",
              "      <td>1</td>\n",
              "      <td>62.0</td>\n",
              "      <td>0</td>\n",
              "      <td>0</td>\n",
              "      <td>2.369075</td>\n",
              "      <td>1</td>\n",
              "    </tr>\n",
              "    <tr>\n",
              "      <th>894</th>\n",
              "      <td>3</td>\n",
              "      <td>1</td>\n",
              "      <td>27.0</td>\n",
              "      <td>0</td>\n",
              "      <td>0</td>\n",
              "      <td>2.268252</td>\n",
              "      <td>2</td>\n",
              "    </tr>\n",
              "    <tr>\n",
              "      <th>895</th>\n",
              "      <td>3</td>\n",
              "      <td>0</td>\n",
              "      <td>22.0</td>\n",
              "      <td>1</td>\n",
              "      <td>1</td>\n",
              "      <td>2.586824</td>\n",
              "      <td>2</td>\n",
              "    </tr>\n",
              "  </tbody>\n",
              "</table>\n",
              "</div>\n",
              "      <button class=\"colab-df-convert\" onclick=\"convertToInteractive('df-99549120-b7fa-497d-b1d6-11bafa82cc1b')\"\n",
              "              title=\"Convert this dataframe to an interactive table.\"\n",
              "              style=\"display:none;\">\n",
              "        \n",
              "  <svg xmlns=\"http://www.w3.org/2000/svg\" height=\"24px\"viewBox=\"0 0 24 24\"\n",
              "       width=\"24px\">\n",
              "    <path d=\"M0 0h24v24H0V0z\" fill=\"none\"/>\n",
              "    <path d=\"M18.56 5.44l.94 2.06.94-2.06 2.06-.94-2.06-.94-.94-2.06-.94 2.06-2.06.94zm-11 1L8.5 8.5l.94-2.06 2.06-.94-2.06-.94L8.5 2.5l-.94 2.06-2.06.94zm10 10l.94 2.06.94-2.06 2.06-.94-2.06-.94-.94-2.06-.94 2.06-2.06.94z\"/><path d=\"M17.41 7.96l-1.37-1.37c-.4-.4-.92-.59-1.43-.59-.52 0-1.04.2-1.43.59L10.3 9.45l-7.72 7.72c-.78.78-.78 2.05 0 2.83L4 21.41c.39.39.9.59 1.41.59.51 0 1.02-.2 1.41-.59l7.78-7.78 2.81-2.81c.8-.78.8-2.07 0-2.86zM5.41 20L4 18.59l7.72-7.72 1.47 1.35L5.41 20z\"/>\n",
              "  </svg>\n",
              "      </button>\n",
              "      \n",
              "  <style>\n",
              "    .colab-df-container {\n",
              "      display:flex;\n",
              "      flex-wrap:wrap;\n",
              "      gap: 12px;\n",
              "    }\n",
              "\n",
              "    .colab-df-convert {\n",
              "      background-color: #E8F0FE;\n",
              "      border: none;\n",
              "      border-radius: 50%;\n",
              "      cursor: pointer;\n",
              "      display: none;\n",
              "      fill: #1967D2;\n",
              "      height: 32px;\n",
              "      padding: 0 0 0 0;\n",
              "      width: 32px;\n",
              "    }\n",
              "\n",
              "    .colab-df-convert:hover {\n",
              "      background-color: #E2EBFA;\n",
              "      box-shadow: 0px 1px 2px rgba(60, 64, 67, 0.3), 0px 1px 3px 1px rgba(60, 64, 67, 0.15);\n",
              "      fill: #174EA6;\n",
              "    }\n",
              "\n",
              "    [theme=dark] .colab-df-convert {\n",
              "      background-color: #3B4455;\n",
              "      fill: #D2E3FC;\n",
              "    }\n",
              "\n",
              "    [theme=dark] .colab-df-convert:hover {\n",
              "      background-color: #434B5C;\n",
              "      box-shadow: 0px 1px 3px 1px rgba(0, 0, 0, 0.15);\n",
              "      filter: drop-shadow(0px 1px 2px rgba(0, 0, 0, 0.3));\n",
              "      fill: #FFFFFF;\n",
              "    }\n",
              "  </style>\n",
              "\n",
              "      <script>\n",
              "        const buttonEl =\n",
              "          document.querySelector('#df-99549120-b7fa-497d-b1d6-11bafa82cc1b button.colab-df-convert');\n",
              "        buttonEl.style.display =\n",
              "          google.colab.kernel.accessAllowed ? 'block' : 'none';\n",
              "\n",
              "        async function convertToInteractive(key) {\n",
              "          const element = document.querySelector('#df-99549120-b7fa-497d-b1d6-11bafa82cc1b');\n",
              "          const dataTable =\n",
              "            await google.colab.kernel.invokeFunction('convertToInteractive',\n",
              "                                                     [key], {});\n",
              "          if (!dataTable) return;\n",
              "\n",
              "          const docLinkHtml = 'Like what you see? Visit the ' +\n",
              "            '<a target=\"_blank\" href=https://colab.research.google.com/notebooks/data_table.ipynb>data table notebook</a>'\n",
              "            + ' to learn more about interactive tables.';\n",
              "          element.innerHTML = '';\n",
              "          dataTable['output_type'] = 'display_data';\n",
              "          await google.colab.output.renderOutput(dataTable, element);\n",
              "          const docLink = document.createElement('div');\n",
              "          docLink.innerHTML = docLinkHtml;\n",
              "          element.appendChild(docLink);\n",
              "        }\n",
              "      </script>\n",
              "    </div>\n",
              "  </div>\n",
              "  "
            ]
          },
          "metadata": {},
          "execution_count": 45
        }
      ],
      "source": [
        "X_test.head()"
      ]
    },
    {
      "cell_type": "code",
      "execution_count": null,
      "id": "3bc32f1b",
      "metadata": {
        "execution": {
          "iopub.execute_input": "2021-10-26T14:40:13.755821Z",
          "iopub.status.busy": "2021-10-26T14:40:13.755129Z",
          "iopub.status.idle": "2021-10-26T14:40:13.768940Z",
          "shell.execute_reply": "2021-10-26T14:40:13.768394Z",
          "shell.execute_reply.started": "2021-10-26T14:30:31.019109Z"
        },
        "papermill": {
          "duration": 0.082263,
          "end_time": "2021-10-26T14:40:13.769079",
          "exception": false,
          "start_time": "2021-10-26T14:40:13.686816",
          "status": "completed"
        },
        "tags": [],
        "colab": {
          "base_uri": "https://localhost:8080/"
        },
        "id": "3bc32f1b",
        "outputId": "96c8671e-606d-4d51-89ab-1c7afe477f65"
      },
      "outputs": [
        {
          "output_type": "execute_result",
          "data": {
            "text/plain": [
              "array([0., 0., 0., 1., 0., 0., 0., 0., 1., 0., 0., 0., 1., 0., 1., 1., 0.,\n",
              "       1., 1., 1., 0., 0., 1., 1., 1., 0., 1., 1., 1., 0., 0., 0., 0., 0.,\n",
              "       1., 0., 0., 0., 0., 1., 0., 1., 0., 1., 1., 0., 0., 0., 1., 1., 1.,\n",
              "       0., 1., 1., 0., 0., 0., 0., 0., 1., 0., 0., 0., 1., 1., 1., 1., 0.,\n",
              "       0., 1., 1., 0., 0., 0., 1., 1., 0., 1., 0., 1., 1., 0., 0., 0., 0.,\n",
              "       0., 1., 1., 1., 1., 0., 0., 1., 0., 1., 0., 1., 0., 0., 0., 1., 0.,\n",
              "       0., 0., 1., 0., 0., 0., 0., 0., 0., 1., 1., 1., 1., 0., 0., 1., 1.,\n",
              "       1., 1., 0., 1., 0., 0., 1., 0., 1., 0., 0., 0., 0., 0., 0., 0., 0.,\n",
              "       0., 0., 0., 0., 0., 1., 0., 0., 1., 0., 0., 0., 1., 0., 1., 0., 0.,\n",
              "       0., 0., 0., 1., 0., 1., 1., 1., 1., 1., 0., 0., 0., 0., 0., 1., 0.,\n",
              "       0., 1., 0., 0., 0., 1., 1., 0., 1., 1., 0., 0., 1., 0., 1., 0., 1.,\n",
              "       0., 0., 0., 0., 0., 0., 0., 1., 0., 1., 0., 0., 0., 1., 1., 0., 1.,\n",
              "       0., 0., 0., 0., 1., 0., 0., 0., 0., 1., 0., 0., 1., 0., 1., 0., 1.,\n",
              "       0., 1., 0., 1., 0., 0., 1., 0., 0., 0., 1., 0., 0., 1., 0., 0., 1.,\n",
              "       1., 1., 1., 1., 0., 0., 0., 0., 1., 0., 1., 0., 1., 0., 0., 0., 0.,\n",
              "       0., 0., 0., 1., 0., 0., 0., 1., 1., 0., 0., 0., 0., 0., 0., 0., 0.,\n",
              "       1., 1., 0., 1., 0., 0., 0., 0., 0., 1., 1., 0., 1., 0., 0., 0., 0.,\n",
              "       0., 0., 0., 0., 0., 0., 0., 1., 0., 0., 0., 0., 0., 0., 0., 1., 1.,\n",
              "       0., 1., 0., 0., 0., 1., 0., 0., 1., 1., 0., 0., 0., 0., 0., 0., 0.,\n",
              "       1., 1., 0., 1., 0., 0., 0., 1., 0., 0., 1., 0., 0., 1., 0., 0., 0.,\n",
              "       0., 0., 0., 1., 0., 1., 0., 1., 0., 1., 1., 0., 0., 0., 1., 0., 1.,\n",
              "       0., 0., 1., 0., 1., 1., 1., 1., 0., 0., 0., 1., 0., 0., 1., 0., 0.,\n",
              "       1., 1., 0., 0., 0., 1., 0., 0., 0., 1., 0., 1., 0., 0., 0., 0., 0.,\n",
              "       1., 0., 0., 0., 1., 0., 1., 0., 0., 1., 0., 1., 0., 0., 0., 0., 0.,\n",
              "       1., 1., 1., 1., 0., 0., 1., 0., 0., 1.])"
            ]
          },
          "metadata": {},
          "execution_count": 46
        }
      ],
      "source": [
        "pred = model.predict(X_test)\n",
        "pred"
      ]
    },
    {
      "cell_type": "markdown",
      "id": "2072b75e",
      "metadata": {
        "papermill": {
          "duration": 0.061044,
          "end_time": "2021-10-26T14:40:13.893390",
          "exception": false,
          "start_time": "2021-10-26T14:40:13.832346",
          "status": "completed"
        },
        "tags": [],
        "id": "2072b75e"
      },
      "source": [
        "## Test Submission"
      ]
    },
    {
      "cell_type": "code",
      "execution_count": null,
      "id": "88f711ee",
      "metadata": {
        "execution": {
          "iopub.execute_input": "2021-10-26T14:40:14.023573Z",
          "iopub.status.busy": "2021-10-26T14:40:14.022879Z",
          "iopub.status.idle": "2021-10-26T14:40:14.037946Z",
          "shell.execute_reply": "2021-10-26T14:40:14.037281Z",
          "shell.execute_reply.started": "2021-10-26T14:31:36.799477Z"
        },
        "papermill": {
          "duration": 0.081641,
          "end_time": "2021-10-26T14:40:14.038101",
          "exception": false,
          "start_time": "2021-10-26T14:40:13.956460",
          "status": "completed"
        },
        "tags": [],
        "colab": {
          "base_uri": "https://localhost:8080/",
          "height": 206
        },
        "id": "88f711ee",
        "outputId": "0cd89926-7b02-4273-faca-ebbeae664e5f"
      },
      "outputs": [
        {
          "output_type": "execute_result",
          "data": {
            "text/plain": [
              "   PassengerId  Survived\n",
              "0          892         0\n",
              "1          893         1\n",
              "2          894         0\n",
              "3          895         0\n",
              "4          896         1"
            ],
            "text/html": [
              "\n",
              "  <div id=\"df-f3fd3670-2688-477c-b187-1ef76e28ae8c\">\n",
              "    <div class=\"colab-df-container\">\n",
              "      <div>\n",
              "<style scoped>\n",
              "    .dataframe tbody tr th:only-of-type {\n",
              "        vertical-align: middle;\n",
              "    }\n",
              "\n",
              "    .dataframe tbody tr th {\n",
              "        vertical-align: top;\n",
              "    }\n",
              "\n",
              "    .dataframe thead th {\n",
              "        text-align: right;\n",
              "    }\n",
              "</style>\n",
              "<table border=\"1\" class=\"dataframe\">\n",
              "  <thead>\n",
              "    <tr style=\"text-align: right;\">\n",
              "      <th></th>\n",
              "      <th>PassengerId</th>\n",
              "      <th>Survived</th>\n",
              "    </tr>\n",
              "  </thead>\n",
              "  <tbody>\n",
              "    <tr>\n",
              "      <th>0</th>\n",
              "      <td>892</td>\n",
              "      <td>0</td>\n",
              "    </tr>\n",
              "    <tr>\n",
              "      <th>1</th>\n",
              "      <td>893</td>\n",
              "      <td>1</td>\n",
              "    </tr>\n",
              "    <tr>\n",
              "      <th>2</th>\n",
              "      <td>894</td>\n",
              "      <td>0</td>\n",
              "    </tr>\n",
              "    <tr>\n",
              "      <th>3</th>\n",
              "      <td>895</td>\n",
              "      <td>0</td>\n",
              "    </tr>\n",
              "    <tr>\n",
              "      <th>4</th>\n",
              "      <td>896</td>\n",
              "      <td>1</td>\n",
              "    </tr>\n",
              "  </tbody>\n",
              "</table>\n",
              "</div>\n",
              "      <button class=\"colab-df-convert\" onclick=\"convertToInteractive('df-f3fd3670-2688-477c-b187-1ef76e28ae8c')\"\n",
              "              title=\"Convert this dataframe to an interactive table.\"\n",
              "              style=\"display:none;\">\n",
              "        \n",
              "  <svg xmlns=\"http://www.w3.org/2000/svg\" height=\"24px\"viewBox=\"0 0 24 24\"\n",
              "       width=\"24px\">\n",
              "    <path d=\"M0 0h24v24H0V0z\" fill=\"none\"/>\n",
              "    <path d=\"M18.56 5.44l.94 2.06.94-2.06 2.06-.94-2.06-.94-.94-2.06-.94 2.06-2.06.94zm-11 1L8.5 8.5l.94-2.06 2.06-.94-2.06-.94L8.5 2.5l-.94 2.06-2.06.94zm10 10l.94 2.06.94-2.06 2.06-.94-2.06-.94-.94-2.06-.94 2.06-2.06.94z\"/><path d=\"M17.41 7.96l-1.37-1.37c-.4-.4-.92-.59-1.43-.59-.52 0-1.04.2-1.43.59L10.3 9.45l-7.72 7.72c-.78.78-.78 2.05 0 2.83L4 21.41c.39.39.9.59 1.41.59.51 0 1.02-.2 1.41-.59l7.78-7.78 2.81-2.81c.8-.78.8-2.07 0-2.86zM5.41 20L4 18.59l7.72-7.72 1.47 1.35L5.41 20z\"/>\n",
              "  </svg>\n",
              "      </button>\n",
              "      \n",
              "  <style>\n",
              "    .colab-df-container {\n",
              "      display:flex;\n",
              "      flex-wrap:wrap;\n",
              "      gap: 12px;\n",
              "    }\n",
              "\n",
              "    .colab-df-convert {\n",
              "      background-color: #E8F0FE;\n",
              "      border: none;\n",
              "      border-radius: 50%;\n",
              "      cursor: pointer;\n",
              "      display: none;\n",
              "      fill: #1967D2;\n",
              "      height: 32px;\n",
              "      padding: 0 0 0 0;\n",
              "      width: 32px;\n",
              "    }\n",
              "\n",
              "    .colab-df-convert:hover {\n",
              "      background-color: #E2EBFA;\n",
              "      box-shadow: 0px 1px 2px rgba(60, 64, 67, 0.3), 0px 1px 3px 1px rgba(60, 64, 67, 0.15);\n",
              "      fill: #174EA6;\n",
              "    }\n",
              "\n",
              "    [theme=dark] .colab-df-convert {\n",
              "      background-color: #3B4455;\n",
              "      fill: #D2E3FC;\n",
              "    }\n",
              "\n",
              "    [theme=dark] .colab-df-convert:hover {\n",
              "      background-color: #434B5C;\n",
              "      box-shadow: 0px 1px 3px 1px rgba(0, 0, 0, 0.15);\n",
              "      filter: drop-shadow(0px 1px 2px rgba(0, 0, 0, 0.3));\n",
              "      fill: #FFFFFF;\n",
              "    }\n",
              "  </style>\n",
              "\n",
              "      <script>\n",
              "        const buttonEl =\n",
              "          document.querySelector('#df-f3fd3670-2688-477c-b187-1ef76e28ae8c button.colab-df-convert');\n",
              "        buttonEl.style.display =\n",
              "          google.colab.kernel.accessAllowed ? 'block' : 'none';\n",
              "\n",
              "        async function convertToInteractive(key) {\n",
              "          const element = document.querySelector('#df-f3fd3670-2688-477c-b187-1ef76e28ae8c');\n",
              "          const dataTable =\n",
              "            await google.colab.kernel.invokeFunction('convertToInteractive',\n",
              "                                                     [key], {});\n",
              "          if (!dataTable) return;\n",
              "\n",
              "          const docLinkHtml = 'Like what you see? Visit the ' +\n",
              "            '<a target=\"_blank\" href=https://colab.research.google.com/notebooks/data_table.ipynb>data table notebook</a>'\n",
              "            + ' to learn more about interactive tables.';\n",
              "          element.innerHTML = '';\n",
              "          dataTable['output_type'] = 'display_data';\n",
              "          await google.colab.output.renderOutput(dataTable, element);\n",
              "          const docLink = document.createElement('div');\n",
              "          docLink.innerHTML = docLinkHtml;\n",
              "          element.appendChild(docLink);\n",
              "        }\n",
              "      </script>\n",
              "    </div>\n",
              "  </div>\n",
              "  "
            ]
          },
          "metadata": {},
          "execution_count": 48
        }
      ],
      "source": [
        "sub = pd.read_csv('/content/drive/MyDrive/codsoft/Titanic/gender_submission.csv')\n",
        "sub.head()"
      ]
    },
    {
      "cell_type": "code",
      "execution_count": null,
      "id": "53a46a4c",
      "metadata": {
        "execution": {
          "iopub.execute_input": "2021-10-26T14:40:14.165442Z",
          "iopub.status.busy": "2021-10-26T14:40:14.164824Z",
          "iopub.status.idle": "2021-10-26T14:40:14.175104Z",
          "shell.execute_reply": "2021-10-26T14:40:14.175559Z",
          "shell.execute_reply.started": "2021-10-26T14:39:07.214394Z"
        },
        "papermill": {
          "duration": 0.075318,
          "end_time": "2021-10-26T14:40:14.175740",
          "exception": false,
          "start_time": "2021-10-26T14:40:14.100422",
          "status": "completed"
        },
        "tags": [],
        "colab": {
          "base_uri": "https://localhost:8080/"
        },
        "id": "53a46a4c",
        "outputId": "88ac37f9-1096-45e8-fafa-156624432c70"
      },
      "outputs": [
        {
          "output_type": "stream",
          "name": "stdout",
          "text": [
            "<class 'pandas.core.frame.DataFrame'>\n",
            "RangeIndex: 418 entries, 0 to 417\n",
            "Data columns (total 2 columns):\n",
            " #   Column       Non-Null Count  Dtype\n",
            "---  ------       --------------  -----\n",
            " 0   PassengerId  418 non-null    int64\n",
            " 1   Survived     418 non-null    int64\n",
            "dtypes: int64(2)\n",
            "memory usage: 6.7 KB\n"
          ]
        }
      ],
      "source": [
        "sub.info()"
      ]
    },
    {
      "cell_type": "code",
      "execution_count": null,
      "id": "b34c63c5",
      "metadata": {
        "execution": {
          "iopub.execute_input": "2021-10-26T14:40:14.306143Z",
          "iopub.status.busy": "2021-10-26T14:40:14.305519Z",
          "iopub.status.idle": "2021-10-26T14:40:14.308189Z",
          "shell.execute_reply": "2021-10-26T14:40:14.307741Z",
          "shell.execute_reply.started": "2021-10-26T14:39:15.151826Z"
        },
        "papermill": {
          "duration": 0.070529,
          "end_time": "2021-10-26T14:40:14.308354",
          "exception": false,
          "start_time": "2021-10-26T14:40:14.237825",
          "status": "completed"
        },
        "tags": [],
        "id": "b34c63c5"
      },
      "outputs": [],
      "source": [
        "sub['Survived'] = pred\n",
        "sub['Survived'] = sub['Survived'].astype('int')"
      ]
    },
    {
      "cell_type": "code",
      "execution_count": null,
      "id": "96e8f0f5",
      "metadata": {
        "execution": {
          "iopub.execute_input": "2021-10-26T14:40:14.444649Z",
          "iopub.status.busy": "2021-10-26T14:40:14.443999Z",
          "iopub.status.idle": "2021-10-26T14:40:14.446145Z",
          "shell.execute_reply": "2021-10-26T14:40:14.447053Z",
          "shell.execute_reply.started": "2021-10-26T14:39:21.663803Z"
        },
        "papermill": {
          "duration": 0.076149,
          "end_time": "2021-10-26T14:40:14.447221",
          "exception": false,
          "start_time": "2021-10-26T14:40:14.371072",
          "status": "completed"
        },
        "tags": [],
        "colab": {
          "base_uri": "https://localhost:8080/"
        },
        "id": "96e8f0f5",
        "outputId": "8d25e5d3-b5c0-48ce-f096-1d1f82874bff"
      },
      "outputs": [
        {
          "output_type": "stream",
          "name": "stdout",
          "text": [
            "<class 'pandas.core.frame.DataFrame'>\n",
            "RangeIndex: 418 entries, 0 to 417\n",
            "Data columns (total 2 columns):\n",
            " #   Column       Non-Null Count  Dtype\n",
            "---  ------       --------------  -----\n",
            " 0   PassengerId  418 non-null    int64\n",
            " 1   Survived     418 non-null    int64\n",
            "dtypes: int64(2)\n",
            "memory usage: 6.7 KB\n"
          ]
        }
      ],
      "source": [
        "sub.info()"
      ]
    },
    {
      "cell_type": "code",
      "execution_count": null,
      "id": "cb4552a5",
      "metadata": {
        "execution": {
          "iopub.execute_input": "2021-10-26T14:40:14.579640Z",
          "iopub.status.busy": "2021-10-26T14:40:14.578665Z",
          "iopub.status.idle": "2021-10-26T14:40:14.582696Z",
          "shell.execute_reply": "2021-10-26T14:40:14.582179Z",
          "shell.execute_reply.started": "2021-10-26T14:39:26.347124Z"
        },
        "papermill": {
          "duration": 0.073952,
          "end_time": "2021-10-26T14:40:14.582840",
          "exception": false,
          "start_time": "2021-10-26T14:40:14.508888",
          "status": "completed"
        },
        "tags": [],
        "colab": {
          "base_uri": "https://localhost:8080/",
          "height": 206
        },
        "id": "cb4552a5",
        "outputId": "586b87a6-7761-4be2-a4d9-231d99f098b0"
      },
      "outputs": [
        {
          "output_type": "execute_result",
          "data": {
            "text/plain": [
              "   PassengerId  Survived\n",
              "0          892         0\n",
              "1          893         0\n",
              "2          894         0\n",
              "3          895         1\n",
              "4          896         0"
            ],
            "text/html": [
              "\n",
              "  <div id=\"df-2250b44f-8d64-462b-ae5a-216fe6f36247\">\n",
              "    <div class=\"colab-df-container\">\n",
              "      <div>\n",
              "<style scoped>\n",
              "    .dataframe tbody tr th:only-of-type {\n",
              "        vertical-align: middle;\n",
              "    }\n",
              "\n",
              "    .dataframe tbody tr th {\n",
              "        vertical-align: top;\n",
              "    }\n",
              "\n",
              "    .dataframe thead th {\n",
              "        text-align: right;\n",
              "    }\n",
              "</style>\n",
              "<table border=\"1\" class=\"dataframe\">\n",
              "  <thead>\n",
              "    <tr style=\"text-align: right;\">\n",
              "      <th></th>\n",
              "      <th>PassengerId</th>\n",
              "      <th>Survived</th>\n",
              "    </tr>\n",
              "  </thead>\n",
              "  <tbody>\n",
              "    <tr>\n",
              "      <th>0</th>\n",
              "      <td>892</td>\n",
              "      <td>0</td>\n",
              "    </tr>\n",
              "    <tr>\n",
              "      <th>1</th>\n",
              "      <td>893</td>\n",
              "      <td>0</td>\n",
              "    </tr>\n",
              "    <tr>\n",
              "      <th>2</th>\n",
              "      <td>894</td>\n",
              "      <td>0</td>\n",
              "    </tr>\n",
              "    <tr>\n",
              "      <th>3</th>\n",
              "      <td>895</td>\n",
              "      <td>1</td>\n",
              "    </tr>\n",
              "    <tr>\n",
              "      <th>4</th>\n",
              "      <td>896</td>\n",
              "      <td>0</td>\n",
              "    </tr>\n",
              "  </tbody>\n",
              "</table>\n",
              "</div>\n",
              "      <button class=\"colab-df-convert\" onclick=\"convertToInteractive('df-2250b44f-8d64-462b-ae5a-216fe6f36247')\"\n",
              "              title=\"Convert this dataframe to an interactive table.\"\n",
              "              style=\"display:none;\">\n",
              "        \n",
              "  <svg xmlns=\"http://www.w3.org/2000/svg\" height=\"24px\"viewBox=\"0 0 24 24\"\n",
              "       width=\"24px\">\n",
              "    <path d=\"M0 0h24v24H0V0z\" fill=\"none\"/>\n",
              "    <path d=\"M18.56 5.44l.94 2.06.94-2.06 2.06-.94-2.06-.94-.94-2.06-.94 2.06-2.06.94zm-11 1L8.5 8.5l.94-2.06 2.06-.94-2.06-.94L8.5 2.5l-.94 2.06-2.06.94zm10 10l.94 2.06.94-2.06 2.06-.94-2.06-.94-.94-2.06-.94 2.06-2.06.94z\"/><path d=\"M17.41 7.96l-1.37-1.37c-.4-.4-.92-.59-1.43-.59-.52 0-1.04.2-1.43.59L10.3 9.45l-7.72 7.72c-.78.78-.78 2.05 0 2.83L4 21.41c.39.39.9.59 1.41.59.51 0 1.02-.2 1.41-.59l7.78-7.78 2.81-2.81c.8-.78.8-2.07 0-2.86zM5.41 20L4 18.59l7.72-7.72 1.47 1.35L5.41 20z\"/>\n",
              "  </svg>\n",
              "      </button>\n",
              "      \n",
              "  <style>\n",
              "    .colab-df-container {\n",
              "      display:flex;\n",
              "      flex-wrap:wrap;\n",
              "      gap: 12px;\n",
              "    }\n",
              "\n",
              "    .colab-df-convert {\n",
              "      background-color: #E8F0FE;\n",
              "      border: none;\n",
              "      border-radius: 50%;\n",
              "      cursor: pointer;\n",
              "      display: none;\n",
              "      fill: #1967D2;\n",
              "      height: 32px;\n",
              "      padding: 0 0 0 0;\n",
              "      width: 32px;\n",
              "    }\n",
              "\n",
              "    .colab-df-convert:hover {\n",
              "      background-color: #E2EBFA;\n",
              "      box-shadow: 0px 1px 2px rgba(60, 64, 67, 0.3), 0px 1px 3px 1px rgba(60, 64, 67, 0.15);\n",
              "      fill: #174EA6;\n",
              "    }\n",
              "\n",
              "    [theme=dark] .colab-df-convert {\n",
              "      background-color: #3B4455;\n",
              "      fill: #D2E3FC;\n",
              "    }\n",
              "\n",
              "    [theme=dark] .colab-df-convert:hover {\n",
              "      background-color: #434B5C;\n",
              "      box-shadow: 0px 1px 3px 1px rgba(0, 0, 0, 0.15);\n",
              "      filter: drop-shadow(0px 1px 2px rgba(0, 0, 0, 0.3));\n",
              "      fill: #FFFFFF;\n",
              "    }\n",
              "  </style>\n",
              "\n",
              "      <script>\n",
              "        const buttonEl =\n",
              "          document.querySelector('#df-2250b44f-8d64-462b-ae5a-216fe6f36247 button.colab-df-convert');\n",
              "        buttonEl.style.display =\n",
              "          google.colab.kernel.accessAllowed ? 'block' : 'none';\n",
              "\n",
              "        async function convertToInteractive(key) {\n",
              "          const element = document.querySelector('#df-2250b44f-8d64-462b-ae5a-216fe6f36247');\n",
              "          const dataTable =\n",
              "            await google.colab.kernel.invokeFunction('convertToInteractive',\n",
              "                                                     [key], {});\n",
              "          if (!dataTable) return;\n",
              "\n",
              "          const docLinkHtml = 'Like what you see? Visit the ' +\n",
              "            '<a target=\"_blank\" href=https://colab.research.google.com/notebooks/data_table.ipynb>data table notebook</a>'\n",
              "            + ' to learn more about interactive tables.';\n",
              "          element.innerHTML = '';\n",
              "          dataTable['output_type'] = 'display_data';\n",
              "          await google.colab.output.renderOutput(dataTable, element);\n",
              "          const docLink = document.createElement('div');\n",
              "          docLink.innerHTML = docLinkHtml;\n",
              "          element.appendChild(docLink);\n",
              "        }\n",
              "      </script>\n",
              "    </div>\n",
              "  </div>\n",
              "  "
            ]
          },
          "metadata": {},
          "execution_count": 52
        }
      ],
      "source": [
        "sub.head()"
      ]
    },
    {
      "cell_type": "code",
      "source": [
        "import plotly.express as px\n",
        "fig = px.bar(df, x='Survived', color='Survived', title='Survival Count')\n",
        "fig.show()\n"
      ],
      "metadata": {
        "colab": {
          "base_uri": "https://localhost:8080/",
          "height": 542
        },
        "id": "-twmCxlCE14j",
        "outputId": "8cfa82b4-a5ae-45fe-af9e-3fb6d45771c4"
      },
      "id": "-twmCxlCE14j",
      "execution_count": null,
      "outputs": [
        {
          "output_type": "display_data",
          "data": {
            "text/html": [
              "<html>\n",
              "<head><meta charset=\"utf-8\" /></head>\n",
              "<body>\n",
              "    <div>            <script src=\"https://cdnjs.cloudflare.com/ajax/libs/mathjax/2.7.5/MathJax.js?config=TeX-AMS-MML_SVG\"></script><script type=\"text/javascript\">if (window.MathJax && window.MathJax.Hub && window.MathJax.Hub.Config) {window.MathJax.Hub.Config({SVG: {font: \"STIX-Web\"}});}</script>                <script type=\"text/javascript\">window.PlotlyConfig = {MathJaxConfig: 'local'};</script>\n",
              "        <script src=\"https://cdn.plot.ly/plotly-2.18.2.min.js\"></script>                <div id=\"83d664b9-eaee-4d34-9a91-d844498e5a03\" class=\"plotly-graph-div\" style=\"height:525px; width:100%;\"></div>            <script type=\"text/javascript\">                                    window.PLOTLYENV=window.PLOTLYENV || {};                                    if (document.getElementById(\"83d664b9-eaee-4d34-9a91-d844498e5a03\")) {                    Plotly.newPlot(                        \"83d664b9-eaee-4d34-9a91-d844498e5a03\",                        [{\"alignmentgroup\":\"True\",\"hovertemplate\":\"Survived=%{marker.color}<br>index=%{y}<extra></extra>\",\"legendgroup\":\"\",\"marker\":{\"color\":[0.0,1.0,1.0,1.0,0.0,0.0,0.0,0.0,1.0,1.0,1.0,1.0,0.0,0.0,0.0,1.0,0.0,1.0,0.0,1.0,0.0,1.0,1.0,1.0,0.0,1.0,0.0,0.0,1.0,0.0,0.0,1.0,1.0,0.0,0.0,0.0,1.0,0.0,0.0,1.0,0.0,0.0,0.0,1.0,1.0,0.0,0.0,1.0,0.0,0.0,0.0,0.0,1.0,1.0,0.0,1.0,1.0,0.0,1.0,0.0,0.0,1.0,0.0,0.0,0.0,1.0,1.0,0.0,1.0,0.0,0.0,0.0,0.0,0.0,1.0,0.0,0.0,0.0,1.0,1.0,0.0,1.0,1.0,0.0,1.0,1.0,0.0,0.0,1.0,0.0,0.0,0.0,0.0,0.0,0.0,0.0,0.0,1.0,1.0,0.0,0.0,0.0,0.0,0.0,0.0,0.0,1.0,1.0,0.0,1.0,0.0,0.0,0.0,0.0,0.0,0.0,0.0,0.0,0.0,0.0,0.0,0.0,0.0,1.0,0.0,1.0,0.0,1.0,1.0,0.0,0.0,0.0,0.0,1.0,0.0,0.0,1.0,0.0,0.0,0.0,0.0,1.0,1.0,0.0,0.0,0.0,1.0,0.0,0.0,0.0,0.0,1.0,0.0,0.0,0.0,0.0,1.0,0.0,0.0,0.0,0.0,1.0,0.0,0.0,0.0,1.0,1.0,0.0,0.0,0.0,0.0,0.0,1.0,0.0,0.0,0.0,0.0,0.0,0.0,0.0,0.0,0.0,0.0,1.0,1.0,0.0,1.0,1.0,0.0,0.0,1.0,0.0,1.0,1.0,1.0,1.0,0.0,0.0,1.0,0.0,0.0,0.0,0.0,0.0,1.0,0.0,0.0,1.0,1.0,1.0,0.0,1.0,0.0,0.0,0.0,1.0,1.0,0.0,1.0,0.0,1.0,0.0,0.0,0.0,1.0,0.0,1.0,0.0,0.0,0.0,1.0,0.0,0.0,1.0,0.0,0.0,0.0,1.0,0.0,0.0,0.0,1.0,0.0,0.0,0.0,0.0,0.0,1.0,1.0,0.0,0.0,0.0,0.0,0.0,0.0,1.0,1.0,1.0,1.0,1.0,0.0,1.0,0.0,0.0,0.0,0.0,0.0,1.0,1.0,1.0,0.0,1.0,1.0,0.0,1.0,1.0,0.0,0.0,0.0,1.0,0.0,0.0,0.0,1.0,0.0,0.0,1.0,0.0,1.0,1.0,1.0,1.0,0.0,0.0,0.0,0.0,0.0,0.0,1.0,1.0,1.0,1.0,0.0,1.0,0.0,1.0,1.0,1.0,0.0,1.0,1.0,1.0,0.0,0.0,0.0,1.0,1.0,0.0,1.0,1.0,0.0,0.0,1.0,1.0,0.0,1.0,0.0,1.0,1.0,1.0,1.0,0.0,0.0,0.0,1.0,0.0,0.0,1.0,1.0,0.0,1.0,1.0,0.0,0.0,0.0,1.0,1.0,1.0,1.0,0.0,0.0,0.0,0.0,0.0,0.0,0.0,1.0,0.0,1.0,1.0,0.0,0.0,0.0,0.0,0.0,0.0,1.0,1.0,1.0,1.0,1.0,0.0,0.0,0.0,0.0,1.0,1.0,0.0,0.0,0.0,1.0,1.0,0.0,1.0,0.0,0.0,0.0,1.0,0.0,1.0,1.0,1.0,0.0,1.0,1.0,0.0,0.0,0.0,0.0,1.0,1.0,0.0,0.0,0.0,0.0,0.0,0.0,1.0,0.0,0.0,0.0,0.0,1.0,0.0,1.0,0.0,1.0,1.0,0.0,0.0,0.0,0.0,0.0,0.0,0.0,0.0,1.0,1.0,0.0,1.0,1.0,1.0,1.0,0.0,0.0,1.0,0.0,1.0,0.0,0.0,1.0,0.0,0.0,1.0,1.0,1.0,1.0,1.0,1.0,1.0,0.0,0.0,0.0,1.0,0.0,1.0,0.0,1.0,1.0,0.0,1.0,0.0,0.0,0.0,0.0,0.0,0.0,0.0,0.0,1.0,0.0,0.0,1.0,1.0,0.0,0.0,0.0,0.0,0.0,1.0,0.0,0.0,0.0,1.0,1.0,0.0,1.0,0.0,0.0,1.0,0.0,0.0,0.0,0.0,0.0,0.0,1.0,0.0,0.0,0.0,0.0,0.0,0.0,0.0,1.0,0.0,1.0,1.0,0.0,1.0,1.0,0.0,1.0,1.0,0.0,0.0,1.0,0.0,1.0,0.0,1.0,0.0,0.0,1.0,0.0,0.0,1.0,0.0,0.0,0.0,1.0,0.0,0.0,1.0,0.0,1.0,0.0,1.0,0.0,1.0,1.0,0.0,0.0,1.0,0.0,0.0,1.0,1.0,0.0,1.0,1.0,0.0,0.0,1.0,1.0,0.0,1.0,0.0,1.0,1.0,0.0,0.0,0.0,0.0,0.0,0.0,0.0,0.0,0.0,1.0,1.0,1.0,1.0,1.0,0.0,0.0,1.0,1.0,0.0,1.0,1.0,1.0,0.0,0.0,0.0,1.0,0.0,1.0,0.0,0.0,0.0,1.0,0.0,0.0,0.0,0.0,1.0,0.0,0.0,1.0,1.0,0.0,0.0,0.0,1.0,0.0,0.0,1.0,1.0,1.0,0.0,0.0,1.0,0.0,0.0,1.0,0.0,0.0,1.0,0.0,0.0,1.0,1.0,0.0,0.0,0.0,0.0,1.0,0.0,0.0,1.0,0.0,1.0,0.0,0.0,1.0,0.0,0.0,0.0,0.0,0.0,1.0,0.0,1.0,1.0,1.0,0.0,1.0,0.0,1.0,0.0,1.0,0.0,1.0,0.0,0.0,0.0,0.0,0.0,0.0,1.0,0.0,0.0,0.0,1.0,0.0,0.0,0.0,0.0,1.0,1.0,0.0,0.0,1.0,0.0,0.0,0.0,1.0,0.0,1.0,0.0,1.0,0.0,0.0,0.0,0.0,0.0,0.0,0.0,1.0,1.0,1.0,1.0,0.0,0.0,0.0,0.0,1.0,0.0,0.0,1.0,1.0,0.0,0.0,0.0,0.0,1.0,1.0,1.0,1.0,1.0,0.0,1.0,0.0,0.0,0.0,1.0,1.0,0.0,0.0,1.0,0.0,0.0,0.0,1.0,0.0,1.0,1.0,0.0,0.0,1.0,0.0,0.0,0.0,0.0,0.0,0.0,1.0,0.0,0.0,1.0,0.0,1.0,0.0,1.0,0.0,0.0,1.0,0.0,0.0,1.0,1.0,0.0,0.0,1.0,1.0,0.0,0.0,0.0,1.0,0.0,0.0,1.0,1.0,0.0,1.0,0.0,0.0,0.0,0.0,0.0,0.0,0.0,0.0,1.0,0.0,0.0,1.0,0.0,1.0,1.0,1.0,0.0,0.0,0.0,0.0,1.0,0.0,1.0,0.0,0.0,0.0,0.0,0.0,0.0,0.0,1.0,1.0,0.0,0.0,0.0,1.0,1.0,1.0,1.0,0.0,0.0,0.0,0.0,1.0,0.0,0.0,0.0,0.0,0.0,0.0,0.0,0.0,0.0,0.0,1.0,1.0,0.0,1.0,0.0,0.0,0.0,1.0,1.0,1.0,1.0,1.0,0.0,0.0,0.0,1.0,0.0,0.0,1.0,1.0,0.0,0.0,1.0,0.0,0.0,0.0,0.0,0.0,0.0,1.0,0.0,0.0,0.0,1.0,0.0,1.0,1.0,1.0,1.0,0.0,0.0,0.0,1.0,0.0,0.0,1.0,1.0,0.0,0.0,1.0,0.0,1.0,0.0,0.0,1.0,1.0,0.0,0.0,0.0,1.0,1.0,0.0,0.0,0.0,0.0,0.0,0.0,1.0,0.0,1.0,0.0,null,null,null,null,null,null,null,null,null,null,null,null,null,null,null,null,null,null,null,null,null,null,null,null,null,null,null,null,null,null,null,null,null,null,null,null,null,null,null,null,null,null,null,null,null,null,null,null,null,null,null,null,null,null,null,null,null,null,null,null,null,null,null,null,null,null,null,null,null,null,null,null,null,null,null,null,null,null,null,null,null,null,null,null,null,null,null,null,null,null,null,null,null,null,null,null,null,null,null,null,null,null,null,null,null,null,null,null,null,null,null,null,null,null,null,null,null,null,null,null,null,null,null,null,null,null,null,null,null,null,null,null,null,null,null,null,null,null,null,null,null,null,null,null,null,null,null,null,null,null,null,null,null,null,null,null,null,null,null,null,null,null,null,null,null,null,null,null,null,null,null,null,null,null,null,null,null,null,null,null,null,null,null,null,null,null,null,null,null,null,null,null,null,null,null,null,null,null,null,null,null,null,null,null,null,null,null,null,null,null,null,null,null,null,null,null,null,null,null,null,null,null,null,null,null,null,null,null,null,null,null,null,null,null,null,null,null,null,null,null,null,null,null,null,null,null,null,null,null,null,null,null,null,null,null,null,null,null,null,null,null,null,null,null,null,null,null,null,null,null,null,null,null,null,null,null,null,null,null,null,null,null,null,null,null,null,null,null,null,null,null,null,null,null,null,null,null,null,null,null,null,null,null,null,null,null,null,null,null,null,null,null,null,null,null,null,null,null,null,null,null,null,null,null,null,null,null,null,null,null,null,null,null,null,null,null,null,null,null,null,null,null,null,null,null,null,null,null,null,null,null,null,null,null,null,null,null,null,null,null,null,null,null,null,null,null,null,null,null,null,null,null,null,null,null,null,null,null,null,null,null,null,null,null,null,null,null,null,null,null,null,null,null,null,null,null,null,null,null,null,null,null,null,null,null,null,null,null,null,null,null,null,null,null,null,null,null,null],\"coloraxis\":\"coloraxis\",\"pattern\":{\"shape\":\"\"}},\"name\":\"\",\"offsetgroup\":\"\",\"orientation\":\"h\",\"showlegend\":false,\"textposition\":\"auto\",\"x\":[0.0,1.0,1.0,1.0,0.0,0.0,0.0,0.0,1.0,1.0,1.0,1.0,0.0,0.0,0.0,1.0,0.0,1.0,0.0,1.0,0.0,1.0,1.0,1.0,0.0,1.0,0.0,0.0,1.0,0.0,0.0,1.0,1.0,0.0,0.0,0.0,1.0,0.0,0.0,1.0,0.0,0.0,0.0,1.0,1.0,0.0,0.0,1.0,0.0,0.0,0.0,0.0,1.0,1.0,0.0,1.0,1.0,0.0,1.0,0.0,0.0,1.0,0.0,0.0,0.0,1.0,1.0,0.0,1.0,0.0,0.0,0.0,0.0,0.0,1.0,0.0,0.0,0.0,1.0,1.0,0.0,1.0,1.0,0.0,1.0,1.0,0.0,0.0,1.0,0.0,0.0,0.0,0.0,0.0,0.0,0.0,0.0,1.0,1.0,0.0,0.0,0.0,0.0,0.0,0.0,0.0,1.0,1.0,0.0,1.0,0.0,0.0,0.0,0.0,0.0,0.0,0.0,0.0,0.0,0.0,0.0,0.0,0.0,1.0,0.0,1.0,0.0,1.0,1.0,0.0,0.0,0.0,0.0,1.0,0.0,0.0,1.0,0.0,0.0,0.0,0.0,1.0,1.0,0.0,0.0,0.0,1.0,0.0,0.0,0.0,0.0,1.0,0.0,0.0,0.0,0.0,1.0,0.0,0.0,0.0,0.0,1.0,0.0,0.0,0.0,1.0,1.0,0.0,0.0,0.0,0.0,0.0,1.0,0.0,0.0,0.0,0.0,0.0,0.0,0.0,0.0,0.0,0.0,1.0,1.0,0.0,1.0,1.0,0.0,0.0,1.0,0.0,1.0,1.0,1.0,1.0,0.0,0.0,1.0,0.0,0.0,0.0,0.0,0.0,1.0,0.0,0.0,1.0,1.0,1.0,0.0,1.0,0.0,0.0,0.0,1.0,1.0,0.0,1.0,0.0,1.0,0.0,0.0,0.0,1.0,0.0,1.0,0.0,0.0,0.0,1.0,0.0,0.0,1.0,0.0,0.0,0.0,1.0,0.0,0.0,0.0,1.0,0.0,0.0,0.0,0.0,0.0,1.0,1.0,0.0,0.0,0.0,0.0,0.0,0.0,1.0,1.0,1.0,1.0,1.0,0.0,1.0,0.0,0.0,0.0,0.0,0.0,1.0,1.0,1.0,0.0,1.0,1.0,0.0,1.0,1.0,0.0,0.0,0.0,1.0,0.0,0.0,0.0,1.0,0.0,0.0,1.0,0.0,1.0,1.0,1.0,1.0,0.0,0.0,0.0,0.0,0.0,0.0,1.0,1.0,1.0,1.0,0.0,1.0,0.0,1.0,1.0,1.0,0.0,1.0,1.0,1.0,0.0,0.0,0.0,1.0,1.0,0.0,1.0,1.0,0.0,0.0,1.0,1.0,0.0,1.0,0.0,1.0,1.0,1.0,1.0,0.0,0.0,0.0,1.0,0.0,0.0,1.0,1.0,0.0,1.0,1.0,0.0,0.0,0.0,1.0,1.0,1.0,1.0,0.0,0.0,0.0,0.0,0.0,0.0,0.0,1.0,0.0,1.0,1.0,0.0,0.0,0.0,0.0,0.0,0.0,1.0,1.0,1.0,1.0,1.0,0.0,0.0,0.0,0.0,1.0,1.0,0.0,0.0,0.0,1.0,1.0,0.0,1.0,0.0,0.0,0.0,1.0,0.0,1.0,1.0,1.0,0.0,1.0,1.0,0.0,0.0,0.0,0.0,1.0,1.0,0.0,0.0,0.0,0.0,0.0,0.0,1.0,0.0,0.0,0.0,0.0,1.0,0.0,1.0,0.0,1.0,1.0,0.0,0.0,0.0,0.0,0.0,0.0,0.0,0.0,1.0,1.0,0.0,1.0,1.0,1.0,1.0,0.0,0.0,1.0,0.0,1.0,0.0,0.0,1.0,0.0,0.0,1.0,1.0,1.0,1.0,1.0,1.0,1.0,0.0,0.0,0.0,1.0,0.0,1.0,0.0,1.0,1.0,0.0,1.0,0.0,0.0,0.0,0.0,0.0,0.0,0.0,0.0,1.0,0.0,0.0,1.0,1.0,0.0,0.0,0.0,0.0,0.0,1.0,0.0,0.0,0.0,1.0,1.0,0.0,1.0,0.0,0.0,1.0,0.0,0.0,0.0,0.0,0.0,0.0,1.0,0.0,0.0,0.0,0.0,0.0,0.0,0.0,1.0,0.0,1.0,1.0,0.0,1.0,1.0,0.0,1.0,1.0,0.0,0.0,1.0,0.0,1.0,0.0,1.0,0.0,0.0,1.0,0.0,0.0,1.0,0.0,0.0,0.0,1.0,0.0,0.0,1.0,0.0,1.0,0.0,1.0,0.0,1.0,1.0,0.0,0.0,1.0,0.0,0.0,1.0,1.0,0.0,1.0,1.0,0.0,0.0,1.0,1.0,0.0,1.0,0.0,1.0,1.0,0.0,0.0,0.0,0.0,0.0,0.0,0.0,0.0,0.0,1.0,1.0,1.0,1.0,1.0,0.0,0.0,1.0,1.0,0.0,1.0,1.0,1.0,0.0,0.0,0.0,1.0,0.0,1.0,0.0,0.0,0.0,1.0,0.0,0.0,0.0,0.0,1.0,0.0,0.0,1.0,1.0,0.0,0.0,0.0,1.0,0.0,0.0,1.0,1.0,1.0,0.0,0.0,1.0,0.0,0.0,1.0,0.0,0.0,1.0,0.0,0.0,1.0,1.0,0.0,0.0,0.0,0.0,1.0,0.0,0.0,1.0,0.0,1.0,0.0,0.0,1.0,0.0,0.0,0.0,0.0,0.0,1.0,0.0,1.0,1.0,1.0,0.0,1.0,0.0,1.0,0.0,1.0,0.0,1.0,0.0,0.0,0.0,0.0,0.0,0.0,1.0,0.0,0.0,0.0,1.0,0.0,0.0,0.0,0.0,1.0,1.0,0.0,0.0,1.0,0.0,0.0,0.0,1.0,0.0,1.0,0.0,1.0,0.0,0.0,0.0,0.0,0.0,0.0,0.0,1.0,1.0,1.0,1.0,0.0,0.0,0.0,0.0,1.0,0.0,0.0,1.0,1.0,0.0,0.0,0.0,0.0,1.0,1.0,1.0,1.0,1.0,0.0,1.0,0.0,0.0,0.0,1.0,1.0,0.0,0.0,1.0,0.0,0.0,0.0,1.0,0.0,1.0,1.0,0.0,0.0,1.0,0.0,0.0,0.0,0.0,0.0,0.0,1.0,0.0,0.0,1.0,0.0,1.0,0.0,1.0,0.0,0.0,1.0,0.0,0.0,1.0,1.0,0.0,0.0,1.0,1.0,0.0,0.0,0.0,1.0,0.0,0.0,1.0,1.0,0.0,1.0,0.0,0.0,0.0,0.0,0.0,0.0,0.0,0.0,1.0,0.0,0.0,1.0,0.0,1.0,1.0,1.0,0.0,0.0,0.0,0.0,1.0,0.0,1.0,0.0,0.0,0.0,0.0,0.0,0.0,0.0,1.0,1.0,0.0,0.0,0.0,1.0,1.0,1.0,1.0,0.0,0.0,0.0,0.0,1.0,0.0,0.0,0.0,0.0,0.0,0.0,0.0,0.0,0.0,0.0,1.0,1.0,0.0,1.0,0.0,0.0,0.0,1.0,1.0,1.0,1.0,1.0,0.0,0.0,0.0,1.0,0.0,0.0,1.0,1.0,0.0,0.0,1.0,0.0,0.0,0.0,0.0,0.0,0.0,1.0,0.0,0.0,0.0,1.0,0.0,1.0,1.0,1.0,1.0,0.0,0.0,0.0,1.0,0.0,0.0,1.0,1.0,0.0,0.0,1.0,0.0,1.0,0.0,0.0,1.0,1.0,0.0,0.0,0.0,1.0,1.0,0.0,0.0,0.0,0.0,0.0,0.0,1.0,0.0,1.0,0.0,null,null,null,null,null,null,null,null,null,null,null,null,null,null,null,null,null,null,null,null,null,null,null,null,null,null,null,null,null,null,null,null,null,null,null,null,null,null,null,null,null,null,null,null,null,null,null,null,null,null,null,null,null,null,null,null,null,null,null,null,null,null,null,null,null,null,null,null,null,null,null,null,null,null,null,null,null,null,null,null,null,null,null,null,null,null,null,null,null,null,null,null,null,null,null,null,null,null,null,null,null,null,null,null,null,null,null,null,null,null,null,null,null,null,null,null,null,null,null,null,null,null,null,null,null,null,null,null,null,null,null,null,null,null,null,null,null,null,null,null,null,null,null,null,null,null,null,null,null,null,null,null,null,null,null,null,null,null,null,null,null,null,null,null,null,null,null,null,null,null,null,null,null,null,null,null,null,null,null,null,null,null,null,null,null,null,null,null,null,null,null,null,null,null,null,null,null,null,null,null,null,null,null,null,null,null,null,null,null,null,null,null,null,null,null,null,null,null,null,null,null,null,null,null,null,null,null,null,null,null,null,null,null,null,null,null,null,null,null,null,null,null,null,null,null,null,null,null,null,null,null,null,null,null,null,null,null,null,null,null,null,null,null,null,null,null,null,null,null,null,null,null,null,null,null,null,null,null,null,null,null,null,null,null,null,null,null,null,null,null,null,null,null,null,null,null,null,null,null,null,null,null,null,null,null,null,null,null,null,null,null,null,null,null,null,null,null,null,null,null,null,null,null,null,null,null,null,null,null,null,null,null,null,null,null,null,null,null,null,null,null,null,null,null,null,null,null,null,null,null,null,null,null,null,null,null,null,null,null,null,null,null,null,null,null,null,null,null,null,null,null,null,null,null,null,null,null,null,null,null,null,null,null,null,null,null,null,null,null,null,null,null,null,null,null,null,null,null,null,null,null,null,null,null,null,null,null,null,null,null,null,null,null,null,null,null,null,null],\"xaxis\":\"x\",\"y\":[0,1,2,3,4,5,6,7,8,9,10,11,12,13,14,15,16,17,18,19,20,21,22,23,24,25,26,27,28,29,30,31,32,33,34,35,36,37,38,39,40,41,42,43,44,45,46,47,48,49,50,51,52,53,54,55,56,57,58,59,60,61,62,63,64,65,66,67,68,69,70,71,72,73,74,75,76,77,78,79,80,81,82,83,84,85,86,87,88,89,90,91,92,93,94,95,96,97,98,99,100,101,102,103,104,105,106,107,108,109,110,111,112,113,114,115,116,117,118,119,120,121,122,123,124,125,126,127,128,129,130,131,132,133,134,135,136,137,138,139,140,141,142,143,144,145,146,147,148,149,150,151,152,153,154,155,156,157,158,159,160,161,162,163,164,165,166,167,168,169,170,171,172,173,174,175,176,177,178,179,180,181,182,183,184,185,186,187,188,189,190,191,192,193,194,195,196,197,198,199,200,201,202,203,204,205,206,207,208,209,210,211,212,213,214,215,216,217,218,219,220,221,222,223,224,225,226,227,228,229,230,231,232,233,234,235,236,237,238,239,240,241,242,243,244,245,246,247,248,249,250,251,252,253,254,255,256,257,258,259,260,261,262,263,264,265,266,267,268,269,270,271,272,273,274,275,276,277,278,279,280,281,282,283,284,285,286,287,288,289,290,291,292,293,294,295,296,297,298,299,300,301,302,303,304,305,306,307,308,309,310,311,312,313,314,315,316,317,318,319,320,321,322,323,324,325,326,327,328,329,330,331,332,333,334,335,336,337,338,339,340,341,342,343,344,345,346,347,348,349,350,351,352,353,354,355,356,357,358,359,360,361,362,363,364,365,366,367,368,369,370,371,372,373,374,375,376,377,378,379,380,381,382,383,384,385,386,387,388,389,390,391,392,393,394,395,396,397,398,399,400,401,402,403,404,405,406,407,408,409,410,411,412,413,414,415,416,417,418,419,420,421,422,423,424,425,426,427,428,429,430,431,432,433,434,435,436,437,438,439,440,441,442,443,444,445,446,447,448,449,450,451,452,453,454,455,456,457,458,459,460,461,462,463,464,465,466,467,468,469,470,471,472,473,474,475,476,477,478,479,480,481,482,483,484,485,486,487,488,489,490,491,492,493,494,495,496,497,498,499,500,501,502,503,504,505,506,507,508,509,510,511,512,513,514,515,516,517,518,519,520,521,522,523,524,525,526,527,528,529,530,531,532,533,534,535,536,537,538,539,540,541,542,543,544,545,546,547,548,549,550,551,552,553,554,555,556,557,558,559,560,561,562,563,564,565,566,567,568,569,570,571,572,573,574,575,576,577,578,579,580,581,582,583,584,585,586,587,588,589,590,591,592,593,594,595,596,597,598,599,600,601,602,603,604,605,606,607,608,609,610,611,612,613,614,615,616,617,618,619,620,621,622,623,624,625,626,627,628,629,630,631,632,633,634,635,636,637,638,639,640,641,642,643,644,645,646,647,648,649,650,651,652,653,654,655,656,657,658,659,660,661,662,663,664,665,666,667,668,669,670,671,672,673,674,675,676,677,678,679,680,681,682,683,684,685,686,687,688,689,690,691,692,693,694,695,696,697,698,699,700,701,702,703,704,705,706,707,708,709,710,711,712,713,714,715,716,717,718,719,720,721,722,723,724,725,726,727,728,729,730,731,732,733,734,735,736,737,738,739,740,741,742,743,744,745,746,747,748,749,750,751,752,753,754,755,756,757,758,759,760,761,762,763,764,765,766,767,768,769,770,771,772,773,774,775,776,777,778,779,780,781,782,783,784,785,786,787,788,789,790,791,792,793,794,795,796,797,798,799,800,801,802,803,804,805,806,807,808,809,810,811,812,813,814,815,816,817,818,819,820,821,822,823,824,825,826,827,828,829,830,831,832,833,834,835,836,837,838,839,840,841,842,843,844,845,846,847,848,849,850,851,852,853,854,855,856,857,858,859,860,861,862,863,864,865,866,867,868,869,870,871,872,873,874,875,876,877,878,879,880,881,882,883,884,885,886,887,888,889,890,891,892,893,894,895,896,897,898,899,900,901,902,903,904,905,906,907,908,909,910,911,912,913,914,915,916,917,918,919,920,921,922,923,924,925,926,927,928,929,930,931,932,933,934,935,936,937,938,939,940,941,942,943,944,945,946,947,948,949,950,951,952,953,954,955,956,957,958,959,960,961,962,963,964,965,966,967,968,969,970,971,972,973,974,975,976,977,978,979,980,981,982,983,984,985,986,987,988,989,990,991,992,993,994,995,996,997,998,999,1000,1001,1002,1003,1004,1005,1006,1007,1008,1009,1010,1011,1012,1013,1014,1015,1016,1017,1018,1019,1020,1021,1022,1023,1024,1025,1026,1027,1028,1029,1030,1031,1032,1033,1034,1035,1036,1037,1038,1039,1040,1041,1042,1043,1044,1045,1046,1047,1048,1049,1050,1051,1052,1053,1054,1055,1056,1057,1058,1059,1060,1061,1062,1063,1064,1065,1066,1067,1068,1069,1070,1071,1072,1073,1074,1075,1076,1077,1078,1079,1080,1081,1082,1083,1084,1085,1086,1087,1088,1089,1090,1091,1092,1093,1094,1095,1096,1097,1098,1099,1100,1101,1102,1103,1104,1105,1106,1107,1108,1109,1110,1111,1112,1113,1114,1115,1116,1117,1118,1119,1120,1121,1122,1123,1124,1125,1126,1127,1128,1129,1130,1131,1132,1133,1134,1135,1136,1137,1138,1139,1140,1141,1142,1143,1144,1145,1146,1147,1148,1149,1150,1151,1152,1153,1154,1155,1156,1157,1158,1159,1160,1161,1162,1163,1164,1165,1166,1167,1168,1169,1170,1171,1172,1173,1174,1175,1176,1177,1178,1179,1180,1181,1182,1183,1184,1185,1186,1187,1188,1189,1190,1191,1192,1193,1194,1195,1196,1197,1198,1199,1200,1201,1202,1203,1204,1205,1206,1207,1208,1209,1210,1211,1212,1213,1214,1215,1216,1217,1218,1219,1220,1221,1222,1223,1224,1225,1226,1227,1228,1229,1230,1231,1232,1233,1234,1235,1236,1237,1238,1239,1240,1241,1242,1243,1244,1245,1246,1247,1248,1249,1250,1251,1252,1253,1254,1255,1256,1257,1258,1259,1260,1261,1262,1263,1264,1265,1266,1267,1268,1269,1270,1271,1272,1273,1274,1275,1276,1277,1278,1279,1280,1281,1282,1283,1284,1285,1286,1287,1288,1289,1290,1291,1292,1293,1294,1295,1296,1297,1298,1299,1300,1301,1302,1303,1304,1305,1306,1307,1308],\"yaxis\":\"y\",\"type\":\"bar\"}],                        {\"template\":{\"data\":{\"histogram2dcontour\":[{\"type\":\"histogram2dcontour\",\"colorbar\":{\"outlinewidth\":0,\"ticks\":\"\"},\"colorscale\":[[0.0,\"#0d0887\"],[0.1111111111111111,\"#46039f\"],[0.2222222222222222,\"#7201a8\"],[0.3333333333333333,\"#9c179e\"],[0.4444444444444444,\"#bd3786\"],[0.5555555555555556,\"#d8576b\"],[0.6666666666666666,\"#ed7953\"],[0.7777777777777778,\"#fb9f3a\"],[0.8888888888888888,\"#fdca26\"],[1.0,\"#f0f921\"]]}],\"choropleth\":[{\"type\":\"choropleth\",\"colorbar\":{\"outlinewidth\":0,\"ticks\":\"\"}}],\"histogram2d\":[{\"type\":\"histogram2d\",\"colorbar\":{\"outlinewidth\":0,\"ticks\":\"\"},\"colorscale\":[[0.0,\"#0d0887\"],[0.1111111111111111,\"#46039f\"],[0.2222222222222222,\"#7201a8\"],[0.3333333333333333,\"#9c179e\"],[0.4444444444444444,\"#bd3786\"],[0.5555555555555556,\"#d8576b\"],[0.6666666666666666,\"#ed7953\"],[0.7777777777777778,\"#fb9f3a\"],[0.8888888888888888,\"#fdca26\"],[1.0,\"#f0f921\"]]}],\"heatmap\":[{\"type\":\"heatmap\",\"colorbar\":{\"outlinewidth\":0,\"ticks\":\"\"},\"colorscale\":[[0.0,\"#0d0887\"],[0.1111111111111111,\"#46039f\"],[0.2222222222222222,\"#7201a8\"],[0.3333333333333333,\"#9c179e\"],[0.4444444444444444,\"#bd3786\"],[0.5555555555555556,\"#d8576b\"],[0.6666666666666666,\"#ed7953\"],[0.7777777777777778,\"#fb9f3a\"],[0.8888888888888888,\"#fdca26\"],[1.0,\"#f0f921\"]]}],\"heatmapgl\":[{\"type\":\"heatmapgl\",\"colorbar\":{\"outlinewidth\":0,\"ticks\":\"\"},\"colorscale\":[[0.0,\"#0d0887\"],[0.1111111111111111,\"#46039f\"],[0.2222222222222222,\"#7201a8\"],[0.3333333333333333,\"#9c179e\"],[0.4444444444444444,\"#bd3786\"],[0.5555555555555556,\"#d8576b\"],[0.6666666666666666,\"#ed7953\"],[0.7777777777777778,\"#fb9f3a\"],[0.8888888888888888,\"#fdca26\"],[1.0,\"#f0f921\"]]}],\"contourcarpet\":[{\"type\":\"contourcarpet\",\"colorbar\":{\"outlinewidth\":0,\"ticks\":\"\"}}],\"contour\":[{\"type\":\"contour\",\"colorbar\":{\"outlinewidth\":0,\"ticks\":\"\"},\"colorscale\":[[0.0,\"#0d0887\"],[0.1111111111111111,\"#46039f\"],[0.2222222222222222,\"#7201a8\"],[0.3333333333333333,\"#9c179e\"],[0.4444444444444444,\"#bd3786\"],[0.5555555555555556,\"#d8576b\"],[0.6666666666666666,\"#ed7953\"],[0.7777777777777778,\"#fb9f3a\"],[0.8888888888888888,\"#fdca26\"],[1.0,\"#f0f921\"]]}],\"surface\":[{\"type\":\"surface\",\"colorbar\":{\"outlinewidth\":0,\"ticks\":\"\"},\"colorscale\":[[0.0,\"#0d0887\"],[0.1111111111111111,\"#46039f\"],[0.2222222222222222,\"#7201a8\"],[0.3333333333333333,\"#9c179e\"],[0.4444444444444444,\"#bd3786\"],[0.5555555555555556,\"#d8576b\"],[0.6666666666666666,\"#ed7953\"],[0.7777777777777778,\"#fb9f3a\"],[0.8888888888888888,\"#fdca26\"],[1.0,\"#f0f921\"]]}],\"mesh3d\":[{\"type\":\"mesh3d\",\"colorbar\":{\"outlinewidth\":0,\"ticks\":\"\"}}],\"scatter\":[{\"fillpattern\":{\"fillmode\":\"overlay\",\"size\":10,\"solidity\":0.2},\"type\":\"scatter\"}],\"parcoords\":[{\"type\":\"parcoords\",\"line\":{\"colorbar\":{\"outlinewidth\":0,\"ticks\":\"\"}}}],\"scatterpolargl\":[{\"type\":\"scatterpolargl\",\"marker\":{\"colorbar\":{\"outlinewidth\":0,\"ticks\":\"\"}}}],\"bar\":[{\"error_x\":{\"color\":\"#2a3f5f\"},\"error_y\":{\"color\":\"#2a3f5f\"},\"marker\":{\"line\":{\"color\":\"#E5ECF6\",\"width\":0.5},\"pattern\":{\"fillmode\":\"overlay\",\"size\":10,\"solidity\":0.2}},\"type\":\"bar\"}],\"scattergeo\":[{\"type\":\"scattergeo\",\"marker\":{\"colorbar\":{\"outlinewidth\":0,\"ticks\":\"\"}}}],\"scatterpolar\":[{\"type\":\"scatterpolar\",\"marker\":{\"colorbar\":{\"outlinewidth\":0,\"ticks\":\"\"}}}],\"histogram\":[{\"marker\":{\"pattern\":{\"fillmode\":\"overlay\",\"size\":10,\"solidity\":0.2}},\"type\":\"histogram\"}],\"scattergl\":[{\"type\":\"scattergl\",\"marker\":{\"colorbar\":{\"outlinewidth\":0,\"ticks\":\"\"}}}],\"scatter3d\":[{\"type\":\"scatter3d\",\"line\":{\"colorbar\":{\"outlinewidth\":0,\"ticks\":\"\"}},\"marker\":{\"colorbar\":{\"outlinewidth\":0,\"ticks\":\"\"}}}],\"scattermapbox\":[{\"type\":\"scattermapbox\",\"marker\":{\"colorbar\":{\"outlinewidth\":0,\"ticks\":\"\"}}}],\"scatterternary\":[{\"type\":\"scatterternary\",\"marker\":{\"colorbar\":{\"outlinewidth\":0,\"ticks\":\"\"}}}],\"scattercarpet\":[{\"type\":\"scattercarpet\",\"marker\":{\"colorbar\":{\"outlinewidth\":0,\"ticks\":\"\"}}}],\"carpet\":[{\"aaxis\":{\"endlinecolor\":\"#2a3f5f\",\"gridcolor\":\"white\",\"linecolor\":\"white\",\"minorgridcolor\":\"white\",\"startlinecolor\":\"#2a3f5f\"},\"baxis\":{\"endlinecolor\":\"#2a3f5f\",\"gridcolor\":\"white\",\"linecolor\":\"white\",\"minorgridcolor\":\"white\",\"startlinecolor\":\"#2a3f5f\"},\"type\":\"carpet\"}],\"table\":[{\"cells\":{\"fill\":{\"color\":\"#EBF0F8\"},\"line\":{\"color\":\"white\"}},\"header\":{\"fill\":{\"color\":\"#C8D4E3\"},\"line\":{\"color\":\"white\"}},\"type\":\"table\"}],\"barpolar\":[{\"marker\":{\"line\":{\"color\":\"#E5ECF6\",\"width\":0.5},\"pattern\":{\"fillmode\":\"overlay\",\"size\":10,\"solidity\":0.2}},\"type\":\"barpolar\"}],\"pie\":[{\"automargin\":true,\"type\":\"pie\"}]},\"layout\":{\"autotypenumbers\":\"strict\",\"colorway\":[\"#636efa\",\"#EF553B\",\"#00cc96\",\"#ab63fa\",\"#FFA15A\",\"#19d3f3\",\"#FF6692\",\"#B6E880\",\"#FF97FF\",\"#FECB52\"],\"font\":{\"color\":\"#2a3f5f\"},\"hovermode\":\"closest\",\"hoverlabel\":{\"align\":\"left\"},\"paper_bgcolor\":\"white\",\"plot_bgcolor\":\"#E5ECF6\",\"polar\":{\"bgcolor\":\"#E5ECF6\",\"angularaxis\":{\"gridcolor\":\"white\",\"linecolor\":\"white\",\"ticks\":\"\"},\"radialaxis\":{\"gridcolor\":\"white\",\"linecolor\":\"white\",\"ticks\":\"\"}},\"ternary\":{\"bgcolor\":\"#E5ECF6\",\"aaxis\":{\"gridcolor\":\"white\",\"linecolor\":\"white\",\"ticks\":\"\"},\"baxis\":{\"gridcolor\":\"white\",\"linecolor\":\"white\",\"ticks\":\"\"},\"caxis\":{\"gridcolor\":\"white\",\"linecolor\":\"white\",\"ticks\":\"\"}},\"coloraxis\":{\"colorbar\":{\"outlinewidth\":0,\"ticks\":\"\"}},\"colorscale\":{\"sequential\":[[0.0,\"#0d0887\"],[0.1111111111111111,\"#46039f\"],[0.2222222222222222,\"#7201a8\"],[0.3333333333333333,\"#9c179e\"],[0.4444444444444444,\"#bd3786\"],[0.5555555555555556,\"#d8576b\"],[0.6666666666666666,\"#ed7953\"],[0.7777777777777778,\"#fb9f3a\"],[0.8888888888888888,\"#fdca26\"],[1.0,\"#f0f921\"]],\"sequentialminus\":[[0.0,\"#0d0887\"],[0.1111111111111111,\"#46039f\"],[0.2222222222222222,\"#7201a8\"],[0.3333333333333333,\"#9c179e\"],[0.4444444444444444,\"#bd3786\"],[0.5555555555555556,\"#d8576b\"],[0.6666666666666666,\"#ed7953\"],[0.7777777777777778,\"#fb9f3a\"],[0.8888888888888888,\"#fdca26\"],[1.0,\"#f0f921\"]],\"diverging\":[[0,\"#8e0152\"],[0.1,\"#c51b7d\"],[0.2,\"#de77ae\"],[0.3,\"#f1b6da\"],[0.4,\"#fde0ef\"],[0.5,\"#f7f7f7\"],[0.6,\"#e6f5d0\"],[0.7,\"#b8e186\"],[0.8,\"#7fbc41\"],[0.9,\"#4d9221\"],[1,\"#276419\"]]},\"xaxis\":{\"gridcolor\":\"white\",\"linecolor\":\"white\",\"ticks\":\"\",\"title\":{\"standoff\":15},\"zerolinecolor\":\"white\",\"automargin\":true,\"zerolinewidth\":2},\"yaxis\":{\"gridcolor\":\"white\",\"linecolor\":\"white\",\"ticks\":\"\",\"title\":{\"standoff\":15},\"zerolinecolor\":\"white\",\"automargin\":true,\"zerolinewidth\":2},\"scene\":{\"xaxis\":{\"backgroundcolor\":\"#E5ECF6\",\"gridcolor\":\"white\",\"linecolor\":\"white\",\"showbackground\":true,\"ticks\":\"\",\"zerolinecolor\":\"white\",\"gridwidth\":2},\"yaxis\":{\"backgroundcolor\":\"#E5ECF6\",\"gridcolor\":\"white\",\"linecolor\":\"white\",\"showbackground\":true,\"ticks\":\"\",\"zerolinecolor\":\"white\",\"gridwidth\":2},\"zaxis\":{\"backgroundcolor\":\"#E5ECF6\",\"gridcolor\":\"white\",\"linecolor\":\"white\",\"showbackground\":true,\"ticks\":\"\",\"zerolinecolor\":\"white\",\"gridwidth\":2}},\"shapedefaults\":{\"line\":{\"color\":\"#2a3f5f\"}},\"annotationdefaults\":{\"arrowcolor\":\"#2a3f5f\",\"arrowhead\":0,\"arrowwidth\":1},\"geo\":{\"bgcolor\":\"white\",\"landcolor\":\"#E5ECF6\",\"subunitcolor\":\"white\",\"showland\":true,\"showlakes\":true,\"lakecolor\":\"white\"},\"title\":{\"x\":0.05},\"mapbox\":{\"style\":\"light\"}}},\"xaxis\":{\"anchor\":\"y\",\"domain\":[0.0,1.0],\"title\":{\"text\":\"Survived\"}},\"yaxis\":{\"anchor\":\"x\",\"domain\":[0.0,1.0],\"title\":{\"text\":\"index\"}},\"coloraxis\":{\"colorbar\":{\"title\":{\"text\":\"Survived\"}},\"colorscale\":[[0.0,\"#0d0887\"],[0.1111111111111111,\"#46039f\"],[0.2222222222222222,\"#7201a8\"],[0.3333333333333333,\"#9c179e\"],[0.4444444444444444,\"#bd3786\"],[0.5555555555555556,\"#d8576b\"],[0.6666666666666666,\"#ed7953\"],[0.7777777777777778,\"#fb9f3a\"],[0.8888888888888888,\"#fdca26\"],[1.0,\"#f0f921\"]]},\"legend\":{\"tracegroupgap\":0},\"title\":{\"text\":\"Survival Count\"},\"barmode\":\"relative\"},                        {\"responsive\": true}                    ).then(function(){\n",
              "                            \n",
              "var gd = document.getElementById('83d664b9-eaee-4d34-9a91-d844498e5a03');\n",
              "var x = new MutationObserver(function (mutations, observer) {{\n",
              "        var display = window.getComputedStyle(gd).display;\n",
              "        if (!display || display === 'none') {{\n",
              "            console.log([gd, 'removed!']);\n",
              "            Plotly.purge(gd);\n",
              "            observer.disconnect();\n",
              "        }}\n",
              "}});\n",
              "\n",
              "// Listen for the removal of the full notebook cells\n",
              "var notebookContainer = gd.closest('#notebook-container');\n",
              "if (notebookContainer) {{\n",
              "    x.observe(notebookContainer, {childList: true});\n",
              "}}\n",
              "\n",
              "// Listen for the clearing of the current output cell\n",
              "var outputEl = gd.closest('.output');\n",
              "if (outputEl) {{\n",
              "    x.observe(outputEl, {childList: true});\n",
              "}}\n",
              "\n",
              "                        })                };                            </script>        </div>\n",
              "</body>\n",
              "</html>"
            ]
          },
          "metadata": {}
        }
      ]
    },
    {
      "cell_type": "code",
      "source": [
        "fig = px.pie(df, names='Pclass', title='Passenger Class Distribution')\n",
        "fig.show()"
      ],
      "metadata": {
        "colab": {
          "base_uri": "https://localhost:8080/",
          "height": 542
        },
        "id": "i36mJsBQE2Ex",
        "outputId": "e361a6f6-9727-4057-eadf-839456ad2a44"
      },
      "id": "i36mJsBQE2Ex",
      "execution_count": null,
      "outputs": [
        {
          "output_type": "display_data",
          "data": {
            "text/html": [
              "<html>\n",
              "<head><meta charset=\"utf-8\" /></head>\n",
              "<body>\n",
              "    <div>            <script src=\"https://cdnjs.cloudflare.com/ajax/libs/mathjax/2.7.5/MathJax.js?config=TeX-AMS-MML_SVG\"></script><script type=\"text/javascript\">if (window.MathJax && window.MathJax.Hub && window.MathJax.Hub.Config) {window.MathJax.Hub.Config({SVG: {font: \"STIX-Web\"}});}</script>                <script type=\"text/javascript\">window.PlotlyConfig = {MathJaxConfig: 'local'};</script>\n",
              "        <script src=\"https://cdn.plot.ly/plotly-2.18.2.min.js\"></script>                <div id=\"5bb46d8b-93f3-487d-940a-c9f1b050fa40\" class=\"plotly-graph-div\" style=\"height:525px; width:100%;\"></div>            <script type=\"text/javascript\">                                    window.PLOTLYENV=window.PLOTLYENV || {};                                    if (document.getElementById(\"5bb46d8b-93f3-487d-940a-c9f1b050fa40\")) {                    Plotly.newPlot(                        \"5bb46d8b-93f3-487d-940a-c9f1b050fa40\",                        [{\"domain\":{\"x\":[0.0,1.0],\"y\":[0.0,1.0]},\"hovertemplate\":\"Pclass=%{label}<extra></extra>\",\"labels\":[3,1,3,1,3,3,1,3,3,2,3,1,3,3,3,2,3,2,3,3,2,2,3,1,3,3,3,1,3,3,1,1,3,2,1,1,3,3,3,3,3,2,3,2,3,3,3,3,3,3,3,3,1,2,1,1,2,3,2,3,3,1,1,3,1,3,2,3,3,3,2,3,2,3,3,3,3,3,2,3,3,3,3,1,2,3,3,3,1,3,3,3,1,3,3,3,1,1,2,2,3,3,1,3,3,3,3,3,3,3,1,3,3,3,3,3,3,2,1,3,2,3,2,2,1,3,3,3,3,3,3,3,3,2,2,2,1,1,3,1,3,3,3,3,2,2,3,3,2,2,2,1,3,3,3,1,3,3,3,3,3,2,3,3,3,3,1,3,1,3,1,3,3,3,1,3,3,1,2,3,3,2,3,2,3,1,3,1,3,3,2,2,3,2,1,1,3,3,3,2,3,3,3,3,3,3,3,3,3,1,3,2,3,2,3,1,3,2,1,2,3,2,3,3,1,3,2,3,2,3,1,3,2,3,2,3,2,2,2,2,3,3,2,3,3,1,3,2,1,2,3,3,1,3,3,3,1,1,1,2,3,3,1,1,3,2,3,3,1,1,1,3,2,1,3,1,3,2,3,3,3,3,3,3,1,3,3,3,2,3,1,1,2,3,3,1,3,1,1,1,3,3,3,2,3,1,1,1,2,1,1,1,2,3,2,3,2,2,1,1,3,3,2,2,3,1,3,2,3,1,3,1,1,3,1,3,1,1,3,1,2,1,2,2,2,2,2,3,3,3,3,1,3,3,3,3,1,2,3,3,3,2,3,3,3,3,1,3,3,1,1,3,3,1,3,1,3,1,3,3,1,3,3,1,3,2,3,2,3,2,1,3,3,1,3,3,3,2,2,2,3,3,3,3,3,2,3,2,3,3,3,3,1,2,3,3,2,2,2,3,3,3,3,3,3,3,2,2,3,3,1,3,2,3,1,1,3,2,1,2,2,3,3,2,3,1,2,1,3,1,2,3,1,1,3,3,1,1,2,3,1,3,1,2,3,3,2,1,3,3,3,3,2,2,3,1,2,3,3,3,3,2,3,3,1,3,1,1,3,3,3,3,1,1,3,3,1,3,1,3,3,3,3,3,1,1,2,1,3,3,3,3,1,1,3,1,2,3,2,3,1,3,3,1,3,3,2,1,3,2,2,3,3,3,3,2,1,1,3,1,1,3,3,2,1,1,2,2,3,2,1,2,3,3,3,1,1,1,1,3,3,3,2,3,3,3,3,3,3,3,2,1,1,3,3,3,2,1,3,3,2,1,2,1,3,1,2,1,3,3,3,1,3,3,2,3,2,3,3,1,2,3,1,3,1,3,3,1,2,1,3,3,3,3,3,2,3,3,2,2,3,1,3,3,3,1,2,1,3,3,1,3,1,1,3,2,3,2,3,3,3,1,3,3,3,1,3,1,3,3,3,2,3,3,3,2,3,3,2,1,1,3,1,3,3,2,2,3,3,1,2,1,2,2,2,3,3,3,3,1,3,1,3,3,2,2,3,3,3,1,1,3,3,3,1,2,3,3,1,3,1,1,3,3,3,2,2,1,1,3,1,1,1,3,2,3,1,2,3,3,2,3,2,2,1,3,2,3,2,3,1,3,2,2,2,3,3,1,3,3,1,1,1,3,3,1,3,2,1,3,2,3,3,3,2,2,3,2,3,1,3,3,3,1,3,1,1,3,3,3,3,3,2,3,2,3,3,3,3,1,3,1,1,3,3,3,3,3,3,1,3,2,3,1,3,2,1,3,3,3,2,2,1,3,3,3,1,3,2,1,3,3,2,3,3,1,3,2,3,3,1,3,1,3,3,3,3,2,3,1,3,2,3,3,3,1,3,3,3,1,3,2,1,3,3,3,3,3,2,1,3,3,3,1,2,3,1,1,3,3,3,2,1,3,2,2,2,1,3,3,3,1,1,3,2,3,3,3,3,1,2,3,3,2,3,3,2,1,3,1,3,3,3,2,3,3,3,3,2,3,3,3,1,1,2,1,2,2,3,3,3,1,3,1,1,1,3,1,3,1,3,2,2,3,3,1,3,3,3,3,3,3,1,3,2,1,3,1,3,1,3,1,2,2,1,2,3,3,3,3,1,3,2,3,3,1,2,3,1,1,1,3,3,3,1,1,1,3,1,2,3,3,1,1,3,2,3,3,3,3,2,3,3,1,3,1,3,1,3,3,3,1,2,3,3,3,3,3,3,3,2,2,3,1,3,1,3,3,3,1,2,2,3,1,3,3,3,3,3,2,3,3,1,3,3,3,3,3,2,3,3,3,1,1,2,1,3,1,3,1,2,1,3,3,3,3,3,1,3,1,3,3,3,2,3,2,3,1,3,1,3,3,3,3,3,3,2,2,1,2,1,2,1,1,3,1,2,2,3,3,2,2,1,3,2,2,3,1,3,2,3,3,3,1,2,2,1,3,2,1,3,3,3,2,2,3,1,3,1,1,3,2,3,2,3,1,3,3,3,3,2,2,1,3,3,1,3,1,3,2,1,1,2,1,3,3,1,2,2,2,3,2,3,1,3,3,3,3,3,2,3,3,3,2,3,2,3,1,3,3,3,1,3,1,3,3,2,2,2,2,2,3,3,3,3,3,3,3,1,3,3,1,3,3,1,3,3,2,3,1,3,3,2,2,3,3,1,1,3,1,3,3,3,3,3,1,3,1,2,3,2,3,3,2,1,1,3,2,1,2,2,2,1,3,3,3,1,2,3,2,3,2,3,3,1,3,3,2,3,2,2,1,2,2,2,3,1,1,3,3,3,3,2,2,3,1,3,3,3,1,2,2,1,1,2,1,1,3,2,1,3,3,3,3,3,2,2,3,2,3,3,1,1,3,2,3,1,3,1,3,3,1,2,1,1,1,2,2,1,3,3,3,1,3,3,1,3,3,3],\"legendgroup\":\"\",\"name\":\"\",\"showlegend\":true,\"type\":\"pie\"}],                        {\"template\":{\"data\":{\"histogram2dcontour\":[{\"type\":\"histogram2dcontour\",\"colorbar\":{\"outlinewidth\":0,\"ticks\":\"\"},\"colorscale\":[[0.0,\"#0d0887\"],[0.1111111111111111,\"#46039f\"],[0.2222222222222222,\"#7201a8\"],[0.3333333333333333,\"#9c179e\"],[0.4444444444444444,\"#bd3786\"],[0.5555555555555556,\"#d8576b\"],[0.6666666666666666,\"#ed7953\"],[0.7777777777777778,\"#fb9f3a\"],[0.8888888888888888,\"#fdca26\"],[1.0,\"#f0f921\"]]}],\"choropleth\":[{\"type\":\"choropleth\",\"colorbar\":{\"outlinewidth\":0,\"ticks\":\"\"}}],\"histogram2d\":[{\"type\":\"histogram2d\",\"colorbar\":{\"outlinewidth\":0,\"ticks\":\"\"},\"colorscale\":[[0.0,\"#0d0887\"],[0.1111111111111111,\"#46039f\"],[0.2222222222222222,\"#7201a8\"],[0.3333333333333333,\"#9c179e\"],[0.4444444444444444,\"#bd3786\"],[0.5555555555555556,\"#d8576b\"],[0.6666666666666666,\"#ed7953\"],[0.7777777777777778,\"#fb9f3a\"],[0.8888888888888888,\"#fdca26\"],[1.0,\"#f0f921\"]]}],\"heatmap\":[{\"type\":\"heatmap\",\"colorbar\":{\"outlinewidth\":0,\"ticks\":\"\"},\"colorscale\":[[0.0,\"#0d0887\"],[0.1111111111111111,\"#46039f\"],[0.2222222222222222,\"#7201a8\"],[0.3333333333333333,\"#9c179e\"],[0.4444444444444444,\"#bd3786\"],[0.5555555555555556,\"#d8576b\"],[0.6666666666666666,\"#ed7953\"],[0.7777777777777778,\"#fb9f3a\"],[0.8888888888888888,\"#fdca26\"],[1.0,\"#f0f921\"]]}],\"heatmapgl\":[{\"type\":\"heatmapgl\",\"colorbar\":{\"outlinewidth\":0,\"ticks\":\"\"},\"colorscale\":[[0.0,\"#0d0887\"],[0.1111111111111111,\"#46039f\"],[0.2222222222222222,\"#7201a8\"],[0.3333333333333333,\"#9c179e\"],[0.4444444444444444,\"#bd3786\"],[0.5555555555555556,\"#d8576b\"],[0.6666666666666666,\"#ed7953\"],[0.7777777777777778,\"#fb9f3a\"],[0.8888888888888888,\"#fdca26\"],[1.0,\"#f0f921\"]]}],\"contourcarpet\":[{\"type\":\"contourcarpet\",\"colorbar\":{\"outlinewidth\":0,\"ticks\":\"\"}}],\"contour\":[{\"type\":\"contour\",\"colorbar\":{\"outlinewidth\":0,\"ticks\":\"\"},\"colorscale\":[[0.0,\"#0d0887\"],[0.1111111111111111,\"#46039f\"],[0.2222222222222222,\"#7201a8\"],[0.3333333333333333,\"#9c179e\"],[0.4444444444444444,\"#bd3786\"],[0.5555555555555556,\"#d8576b\"],[0.6666666666666666,\"#ed7953\"],[0.7777777777777778,\"#fb9f3a\"],[0.8888888888888888,\"#fdca26\"],[1.0,\"#f0f921\"]]}],\"surface\":[{\"type\":\"surface\",\"colorbar\":{\"outlinewidth\":0,\"ticks\":\"\"},\"colorscale\":[[0.0,\"#0d0887\"],[0.1111111111111111,\"#46039f\"],[0.2222222222222222,\"#7201a8\"],[0.3333333333333333,\"#9c179e\"],[0.4444444444444444,\"#bd3786\"],[0.5555555555555556,\"#d8576b\"],[0.6666666666666666,\"#ed7953\"],[0.7777777777777778,\"#fb9f3a\"],[0.8888888888888888,\"#fdca26\"],[1.0,\"#f0f921\"]]}],\"mesh3d\":[{\"type\":\"mesh3d\",\"colorbar\":{\"outlinewidth\":0,\"ticks\":\"\"}}],\"scatter\":[{\"fillpattern\":{\"fillmode\":\"overlay\",\"size\":10,\"solidity\":0.2},\"type\":\"scatter\"}],\"parcoords\":[{\"type\":\"parcoords\",\"line\":{\"colorbar\":{\"outlinewidth\":0,\"ticks\":\"\"}}}],\"scatterpolargl\":[{\"type\":\"scatterpolargl\",\"marker\":{\"colorbar\":{\"outlinewidth\":0,\"ticks\":\"\"}}}],\"bar\":[{\"error_x\":{\"color\":\"#2a3f5f\"},\"error_y\":{\"color\":\"#2a3f5f\"},\"marker\":{\"line\":{\"color\":\"#E5ECF6\",\"width\":0.5},\"pattern\":{\"fillmode\":\"overlay\",\"size\":10,\"solidity\":0.2}},\"type\":\"bar\"}],\"scattergeo\":[{\"type\":\"scattergeo\",\"marker\":{\"colorbar\":{\"outlinewidth\":0,\"ticks\":\"\"}}}],\"scatterpolar\":[{\"type\":\"scatterpolar\",\"marker\":{\"colorbar\":{\"outlinewidth\":0,\"ticks\":\"\"}}}],\"histogram\":[{\"marker\":{\"pattern\":{\"fillmode\":\"overlay\",\"size\":10,\"solidity\":0.2}},\"type\":\"histogram\"}],\"scattergl\":[{\"type\":\"scattergl\",\"marker\":{\"colorbar\":{\"outlinewidth\":0,\"ticks\":\"\"}}}],\"scatter3d\":[{\"type\":\"scatter3d\",\"line\":{\"colorbar\":{\"outlinewidth\":0,\"ticks\":\"\"}},\"marker\":{\"colorbar\":{\"outlinewidth\":0,\"ticks\":\"\"}}}],\"scattermapbox\":[{\"type\":\"scattermapbox\",\"marker\":{\"colorbar\":{\"outlinewidth\":0,\"ticks\":\"\"}}}],\"scatterternary\":[{\"type\":\"scatterternary\",\"marker\":{\"colorbar\":{\"outlinewidth\":0,\"ticks\":\"\"}}}],\"scattercarpet\":[{\"type\":\"scattercarpet\",\"marker\":{\"colorbar\":{\"outlinewidth\":0,\"ticks\":\"\"}}}],\"carpet\":[{\"aaxis\":{\"endlinecolor\":\"#2a3f5f\",\"gridcolor\":\"white\",\"linecolor\":\"white\",\"minorgridcolor\":\"white\",\"startlinecolor\":\"#2a3f5f\"},\"baxis\":{\"endlinecolor\":\"#2a3f5f\",\"gridcolor\":\"white\",\"linecolor\":\"white\",\"minorgridcolor\":\"white\",\"startlinecolor\":\"#2a3f5f\"},\"type\":\"carpet\"}],\"table\":[{\"cells\":{\"fill\":{\"color\":\"#EBF0F8\"},\"line\":{\"color\":\"white\"}},\"header\":{\"fill\":{\"color\":\"#C8D4E3\"},\"line\":{\"color\":\"white\"}},\"type\":\"table\"}],\"barpolar\":[{\"marker\":{\"line\":{\"color\":\"#E5ECF6\",\"width\":0.5},\"pattern\":{\"fillmode\":\"overlay\",\"size\":10,\"solidity\":0.2}},\"type\":\"barpolar\"}],\"pie\":[{\"automargin\":true,\"type\":\"pie\"}]},\"layout\":{\"autotypenumbers\":\"strict\",\"colorway\":[\"#636efa\",\"#EF553B\",\"#00cc96\",\"#ab63fa\",\"#FFA15A\",\"#19d3f3\",\"#FF6692\",\"#B6E880\",\"#FF97FF\",\"#FECB52\"],\"font\":{\"color\":\"#2a3f5f\"},\"hovermode\":\"closest\",\"hoverlabel\":{\"align\":\"left\"},\"paper_bgcolor\":\"white\",\"plot_bgcolor\":\"#E5ECF6\",\"polar\":{\"bgcolor\":\"#E5ECF6\",\"angularaxis\":{\"gridcolor\":\"white\",\"linecolor\":\"white\",\"ticks\":\"\"},\"radialaxis\":{\"gridcolor\":\"white\",\"linecolor\":\"white\",\"ticks\":\"\"}},\"ternary\":{\"bgcolor\":\"#E5ECF6\",\"aaxis\":{\"gridcolor\":\"white\",\"linecolor\":\"white\",\"ticks\":\"\"},\"baxis\":{\"gridcolor\":\"white\",\"linecolor\":\"white\",\"ticks\":\"\"},\"caxis\":{\"gridcolor\":\"white\",\"linecolor\":\"white\",\"ticks\":\"\"}},\"coloraxis\":{\"colorbar\":{\"outlinewidth\":0,\"ticks\":\"\"}},\"colorscale\":{\"sequential\":[[0.0,\"#0d0887\"],[0.1111111111111111,\"#46039f\"],[0.2222222222222222,\"#7201a8\"],[0.3333333333333333,\"#9c179e\"],[0.4444444444444444,\"#bd3786\"],[0.5555555555555556,\"#d8576b\"],[0.6666666666666666,\"#ed7953\"],[0.7777777777777778,\"#fb9f3a\"],[0.8888888888888888,\"#fdca26\"],[1.0,\"#f0f921\"]],\"sequentialminus\":[[0.0,\"#0d0887\"],[0.1111111111111111,\"#46039f\"],[0.2222222222222222,\"#7201a8\"],[0.3333333333333333,\"#9c179e\"],[0.4444444444444444,\"#bd3786\"],[0.5555555555555556,\"#d8576b\"],[0.6666666666666666,\"#ed7953\"],[0.7777777777777778,\"#fb9f3a\"],[0.8888888888888888,\"#fdca26\"],[1.0,\"#f0f921\"]],\"diverging\":[[0,\"#8e0152\"],[0.1,\"#c51b7d\"],[0.2,\"#de77ae\"],[0.3,\"#f1b6da\"],[0.4,\"#fde0ef\"],[0.5,\"#f7f7f7\"],[0.6,\"#e6f5d0\"],[0.7,\"#b8e186\"],[0.8,\"#7fbc41\"],[0.9,\"#4d9221\"],[1,\"#276419\"]]},\"xaxis\":{\"gridcolor\":\"white\",\"linecolor\":\"white\",\"ticks\":\"\",\"title\":{\"standoff\":15},\"zerolinecolor\":\"white\",\"automargin\":true,\"zerolinewidth\":2},\"yaxis\":{\"gridcolor\":\"white\",\"linecolor\":\"white\",\"ticks\":\"\",\"title\":{\"standoff\":15},\"zerolinecolor\":\"white\",\"automargin\":true,\"zerolinewidth\":2},\"scene\":{\"xaxis\":{\"backgroundcolor\":\"#E5ECF6\",\"gridcolor\":\"white\",\"linecolor\":\"white\",\"showbackground\":true,\"ticks\":\"\",\"zerolinecolor\":\"white\",\"gridwidth\":2},\"yaxis\":{\"backgroundcolor\":\"#E5ECF6\",\"gridcolor\":\"white\",\"linecolor\":\"white\",\"showbackground\":true,\"ticks\":\"\",\"zerolinecolor\":\"white\",\"gridwidth\":2},\"zaxis\":{\"backgroundcolor\":\"#E5ECF6\",\"gridcolor\":\"white\",\"linecolor\":\"white\",\"showbackground\":true,\"ticks\":\"\",\"zerolinecolor\":\"white\",\"gridwidth\":2}},\"shapedefaults\":{\"line\":{\"color\":\"#2a3f5f\"}},\"annotationdefaults\":{\"arrowcolor\":\"#2a3f5f\",\"arrowhead\":0,\"arrowwidth\":1},\"geo\":{\"bgcolor\":\"white\",\"landcolor\":\"#E5ECF6\",\"subunitcolor\":\"white\",\"showland\":true,\"showlakes\":true,\"lakecolor\":\"white\"},\"title\":{\"x\":0.05},\"mapbox\":{\"style\":\"light\"}}},\"legend\":{\"tracegroupgap\":0},\"title\":{\"text\":\"Passenger Class Distribution\"}},                        {\"responsive\": true}                    ).then(function(){\n",
              "                            \n",
              "var gd = document.getElementById('5bb46d8b-93f3-487d-940a-c9f1b050fa40');\n",
              "var x = new MutationObserver(function (mutations, observer) {{\n",
              "        var display = window.getComputedStyle(gd).display;\n",
              "        if (!display || display === 'none') {{\n",
              "            console.log([gd, 'removed!']);\n",
              "            Plotly.purge(gd);\n",
              "            observer.disconnect();\n",
              "        }}\n",
              "}});\n",
              "\n",
              "// Listen for the removal of the full notebook cells\n",
              "var notebookContainer = gd.closest('#notebook-container');\n",
              "if (notebookContainer) {{\n",
              "    x.observe(notebookContainer, {childList: true});\n",
              "}}\n",
              "\n",
              "// Listen for the clearing of the current output cell\n",
              "var outputEl = gd.closest('.output');\n",
              "if (outputEl) {{\n",
              "    x.observe(outputEl, {childList: true});\n",
              "}}\n",
              "\n",
              "                        })                };                            </script>        </div>\n",
              "</body>\n",
              "</html>"
            ]
          },
          "metadata": {}
        }
      ]
    },
    {
      "cell_type": "code",
      "source": [
        "fig = px.scatter(df, x='Age', y='Fare', color='Survived', title='Age vs. Fare')\n",
        "fig.show()\n"
      ],
      "metadata": {
        "colab": {
          "base_uri": "https://localhost:8080/",
          "height": 542
        },
        "id": "4d4h9wuqFVnk",
        "outputId": "2f9a4b5d-cd5d-4596-deb3-04d59ad5673d"
      },
      "id": "4d4h9wuqFVnk",
      "execution_count": null,
      "outputs": [
        {
          "output_type": "display_data",
          "data": {
            "text/html": [
              "<html>\n",
              "<head><meta charset=\"utf-8\" /></head>\n",
              "<body>\n",
              "    <div>            <script src=\"https://cdnjs.cloudflare.com/ajax/libs/mathjax/2.7.5/MathJax.js?config=TeX-AMS-MML_SVG\"></script><script type=\"text/javascript\">if (window.MathJax && window.MathJax.Hub && window.MathJax.Hub.Config) {window.MathJax.Hub.Config({SVG: {font: \"STIX-Web\"}});}</script>                <script type=\"text/javascript\">window.PlotlyConfig = {MathJaxConfig: 'local'};</script>\n",
              "        <script src=\"https://cdn.plot.ly/plotly-2.18.2.min.js\"></script>                <div id=\"5a91c1fd-3e43-472a-9172-8854b0a61685\" class=\"plotly-graph-div\" style=\"height:525px; width:100%;\"></div>            <script type=\"text/javascript\">                                    window.PLOTLYENV=window.PLOTLYENV || {};                                    if (document.getElementById(\"5a91c1fd-3e43-472a-9172-8854b0a61685\")) {                    Plotly.newPlot(                        \"5a91c1fd-3e43-472a-9172-8854b0a61685\",                        [{\"hovertemplate\":\"Age=%{x}<br>Fare=%{y}<br>Survived=%{marker.color}<extra></extra>\",\"legendgroup\":\"\",\"marker\":{\"color\":[0.0,1.0,1.0,1.0,0.0,0.0,0.0,0.0,1.0,1.0,1.0,1.0,0.0,0.0,0.0,1.0,0.0,1.0,0.0,1.0,0.0,1.0,1.0,1.0,0.0,1.0,0.0,0.0,1.0,0.0,0.0,1.0,1.0,0.0,0.0,0.0,1.0,0.0,0.0,1.0,0.0,0.0,0.0,1.0,1.0,0.0,0.0,1.0,0.0,0.0,0.0,0.0,1.0,1.0,0.0,1.0,1.0,0.0,1.0,0.0,0.0,1.0,0.0,0.0,0.0,1.0,1.0,0.0,1.0,0.0,0.0,0.0,0.0,0.0,1.0,0.0,0.0,0.0,1.0,1.0,0.0,1.0,1.0,0.0,1.0,1.0,0.0,0.0,1.0,0.0,0.0,0.0,0.0,0.0,0.0,0.0,0.0,1.0,1.0,0.0,0.0,0.0,0.0,0.0,0.0,0.0,1.0,1.0,0.0,1.0,0.0,0.0,0.0,0.0,0.0,0.0,0.0,0.0,0.0,0.0,0.0,0.0,0.0,1.0,0.0,1.0,0.0,1.0,1.0,0.0,0.0,0.0,0.0,1.0,0.0,0.0,1.0,0.0,0.0,0.0,0.0,1.0,1.0,0.0,0.0,0.0,1.0,0.0,0.0,0.0,0.0,1.0,0.0,0.0,0.0,0.0,1.0,0.0,0.0,0.0,0.0,1.0,0.0,0.0,0.0,1.0,1.0,0.0,0.0,0.0,0.0,0.0,1.0,0.0,0.0,0.0,0.0,0.0,0.0,0.0,0.0,0.0,0.0,1.0,1.0,0.0,1.0,1.0,0.0,0.0,1.0,0.0,1.0,1.0,1.0,1.0,0.0,0.0,1.0,0.0,0.0,0.0,0.0,0.0,1.0,0.0,0.0,1.0,1.0,1.0,0.0,1.0,0.0,0.0,0.0,1.0,1.0,0.0,1.0,0.0,1.0,0.0,0.0,0.0,1.0,0.0,1.0,0.0,0.0,0.0,1.0,0.0,0.0,1.0,0.0,0.0,0.0,1.0,0.0,0.0,0.0,1.0,0.0,0.0,0.0,0.0,0.0,1.0,1.0,0.0,0.0,0.0,0.0,0.0,0.0,1.0,1.0,1.0,1.0,1.0,0.0,1.0,0.0,0.0,0.0,0.0,0.0,1.0,1.0,1.0,0.0,1.0,1.0,0.0,1.0,1.0,0.0,0.0,0.0,1.0,0.0,0.0,0.0,1.0,0.0,0.0,1.0,0.0,1.0,1.0,1.0,1.0,0.0,0.0,0.0,0.0,0.0,0.0,1.0,1.0,1.0,1.0,0.0,1.0,0.0,1.0,1.0,1.0,0.0,1.0,1.0,1.0,0.0,0.0,0.0,1.0,1.0,0.0,1.0,1.0,0.0,0.0,1.0,1.0,0.0,1.0,0.0,1.0,1.0,1.0,1.0,0.0,0.0,0.0,1.0,0.0,0.0,1.0,1.0,0.0,1.0,1.0,0.0,0.0,0.0,1.0,1.0,1.0,1.0,0.0,0.0,0.0,0.0,0.0,0.0,0.0,1.0,0.0,1.0,1.0,0.0,0.0,0.0,0.0,0.0,0.0,1.0,1.0,1.0,1.0,1.0,0.0,0.0,0.0,0.0,1.0,1.0,0.0,0.0,0.0,1.0,1.0,0.0,1.0,0.0,0.0,0.0,1.0,0.0,1.0,1.0,1.0,0.0,1.0,1.0,0.0,0.0,0.0,0.0,1.0,1.0,0.0,0.0,0.0,0.0,0.0,0.0,1.0,0.0,0.0,0.0,0.0,1.0,0.0,1.0,0.0,1.0,1.0,0.0,0.0,0.0,0.0,0.0,0.0,0.0,0.0,1.0,1.0,0.0,1.0,1.0,1.0,1.0,0.0,0.0,1.0,0.0,1.0,0.0,0.0,1.0,0.0,0.0,1.0,1.0,1.0,1.0,1.0,1.0,1.0,0.0,0.0,0.0,1.0,0.0,1.0,0.0,1.0,1.0,0.0,1.0,0.0,0.0,0.0,0.0,0.0,0.0,0.0,0.0,1.0,0.0,0.0,1.0,1.0,0.0,0.0,0.0,0.0,0.0,1.0,0.0,0.0,0.0,1.0,1.0,0.0,1.0,0.0,0.0,1.0,0.0,0.0,0.0,0.0,0.0,0.0,1.0,0.0,0.0,0.0,0.0,0.0,0.0,0.0,1.0,0.0,1.0,1.0,0.0,1.0,1.0,0.0,1.0,1.0,0.0,0.0,1.0,0.0,1.0,0.0,1.0,0.0,0.0,1.0,0.0,0.0,1.0,0.0,0.0,0.0,1.0,0.0,0.0,1.0,0.0,1.0,0.0,1.0,0.0,1.0,1.0,0.0,0.0,1.0,0.0,0.0,1.0,1.0,0.0,1.0,1.0,0.0,0.0,1.0,1.0,0.0,1.0,0.0,1.0,1.0,0.0,0.0,0.0,0.0,0.0,0.0,0.0,0.0,0.0,1.0,1.0,1.0,1.0,1.0,0.0,0.0,1.0,1.0,0.0,1.0,1.0,1.0,0.0,0.0,0.0,1.0,0.0,1.0,0.0,0.0,0.0,1.0,0.0,0.0,0.0,0.0,1.0,0.0,0.0,1.0,1.0,0.0,0.0,0.0,1.0,0.0,0.0,1.0,1.0,1.0,0.0,0.0,1.0,0.0,0.0,1.0,0.0,0.0,1.0,0.0,0.0,1.0,1.0,0.0,0.0,0.0,0.0,1.0,0.0,0.0,1.0,0.0,1.0,0.0,0.0,1.0,0.0,0.0,0.0,0.0,0.0,1.0,0.0,1.0,1.0,1.0,0.0,1.0,0.0,1.0,0.0,1.0,0.0,1.0,0.0,0.0,0.0,0.0,0.0,0.0,1.0,0.0,0.0,0.0,1.0,0.0,0.0,0.0,0.0,1.0,1.0,0.0,0.0,1.0,0.0,0.0,0.0,1.0,0.0,1.0,0.0,1.0,0.0,0.0,0.0,0.0,0.0,0.0,0.0,1.0,1.0,1.0,1.0,0.0,0.0,0.0,0.0,1.0,0.0,0.0,1.0,1.0,0.0,0.0,0.0,0.0,1.0,1.0,1.0,1.0,1.0,0.0,1.0,0.0,0.0,0.0,1.0,1.0,0.0,0.0,1.0,0.0,0.0,0.0,1.0,0.0,1.0,1.0,0.0,0.0,1.0,0.0,0.0,0.0,0.0,0.0,0.0,1.0,0.0,0.0,1.0,0.0,1.0,0.0,1.0,0.0,0.0,1.0,0.0,0.0,1.0,1.0,0.0,0.0,1.0,1.0,0.0,0.0,0.0,1.0,0.0,0.0,1.0,1.0,0.0,1.0,0.0,0.0,0.0,0.0,0.0,0.0,0.0,0.0,1.0,0.0,0.0,1.0,0.0,1.0,1.0,1.0,0.0,0.0,0.0,0.0,1.0,0.0,1.0,0.0,0.0,0.0,0.0,0.0,0.0,0.0,1.0,1.0,0.0,0.0,0.0,1.0,1.0,1.0,1.0,0.0,0.0,0.0,0.0,1.0,0.0,0.0,0.0,0.0,0.0,0.0,0.0,0.0,0.0,0.0,1.0,1.0,0.0,1.0,0.0,0.0,0.0,1.0,1.0,1.0,1.0,1.0,0.0,0.0,0.0,1.0,0.0,0.0,1.0,1.0,0.0,0.0,1.0,0.0,0.0,0.0,0.0,0.0,0.0,1.0,0.0,0.0,0.0,1.0,0.0,1.0,1.0,1.0,1.0,0.0,0.0,0.0,1.0,0.0,0.0,1.0,1.0,0.0,0.0,1.0,0.0,1.0,0.0,0.0,1.0,1.0,0.0,0.0,0.0,1.0,1.0,0.0,0.0,0.0,0.0,0.0,0.0,1.0,0.0,1.0,0.0,null,null,null,null,null,null,null,null,null,null,null,null,null,null,null,null,null,null,null,null,null,null,null,null,null,null,null,null,null,null,null,null,null,null,null,null,null,null,null,null,null,null,null,null,null,null,null,null,null,null,null,null,null,null,null,null,null,null,null,null,null,null,null,null,null,null,null,null,null,null,null,null,null,null,null,null,null,null,null,null,null,null,null,null,null,null,null,null,null,null,null,null,null,null,null,null,null,null,null,null,null,null,null,null,null,null,null,null,null,null,null,null,null,null,null,null,null,null,null,null,null,null,null,null,null,null,null,null,null,null,null,null,null,null,null,null,null,null,null,null,null,null,null,null,null,null,null,null,null,null,null,null,null,null,null,null,null,null,null,null,null,null,null,null,null,null,null,null,null,null,null,null,null,null,null,null,null,null,null,null,null,null,null,null,null,null,null,null,null,null,null,null,null,null,null,null,null,null,null,null,null,null,null,null,null,null,null,null,null,null,null,null,null,null,null,null,null,null,null,null,null,null,null,null,null,null,null,null,null,null,null,null,null,null,null,null,null,null,null,null,null,null,null,null,null,null,null,null,null,null,null,null,null,null,null,null,null,null,null,null,null,null,null,null,null,null,null,null,null,null,null,null,null,null,null,null,null,null,null,null,null,null,null,null,null,null,null,null,null,null,null,null,null,null,null,null,null,null,null,null,null,null,null,null,null,null,null,null,null,null,null,null,null,null,null,null,null,null,null,null,null,null,null,null,null,null,null,null,null,null,null,null,null,null,null,null,null,null,null,null,null,null,null,null,null,null,null,null,null,null,null,null,null,null,null,null,null,null,null,null,null,null,null,null,null,null,null,null,null,null,null,null,null,null,null,null,null,null,null,null,null,null,null,null,null,null,null,null,null,null,null,null,null,null,null,null,null,null,null,null,null,null,null,null,null,null,null,null,null,null,null,null,null,null,null,null,null,null],\"coloraxis\":\"coloraxis\",\"symbol\":\"circle\"},\"mode\":\"markers\",\"name\":\"\",\"showlegend\":false,\"x\":[22.0,38.0,26.0,35.0,35.0,29.881137667304014,54.0,2.0,27.0,14.0,4.0,58.0,20.0,39.0,14.0,55.0,2.0,29.881137667304014,31.0,29.881137667304014,35.0,34.0,15.0,28.0,8.0,38.0,29.881137667304014,19.0,29.881137667304014,29.881137667304014,40.0,29.881137667304014,29.881137667304014,66.0,28.0,42.0,29.881137667304014,21.0,18.0,14.0,40.0,27.0,29.881137667304014,3.0,19.0,29.881137667304014,29.881137667304014,29.881137667304014,29.881137667304014,18.0,7.0,21.0,49.0,29.0,65.0,29.881137667304014,21.0,28.5,5.0,11.0,22.0,38.0,45.0,4.0,29.881137667304014,29.881137667304014,29.0,19.0,17.0,26.0,32.0,16.0,21.0,26.0,32.0,25.0,29.881137667304014,29.881137667304014,0.83,30.0,22.0,29.0,29.881137667304014,28.0,17.0,33.0,16.0,29.881137667304014,23.0,24.0,29.0,20.0,46.0,26.0,59.0,29.881137667304014,71.0,23.0,34.0,34.0,28.0,29.881137667304014,21.0,33.0,37.0,28.0,21.0,29.881137667304014,38.0,29.881137667304014,47.0,14.5,22.0,20.0,17.0,21.0,70.5,29.0,24.0,2.0,21.0,29.881137667304014,32.5,32.5,54.0,12.0,29.881137667304014,24.0,29.881137667304014,45.0,33.0,20.0,47.0,29.0,25.0,23.0,19.0,37.0,16.0,24.0,29.881137667304014,22.0,24.0,19.0,18.0,19.0,27.0,9.0,36.5,42.0,51.0,22.0,55.5,40.5,29.881137667304014,51.0,16.0,30.0,29.881137667304014,29.881137667304014,44.0,40.0,26.0,17.0,1.0,9.0,29.881137667304014,45.0,29.881137667304014,28.0,61.0,4.0,1.0,21.0,56.0,18.0,29.881137667304014,50.0,30.0,36.0,29.881137667304014,29.881137667304014,9.0,1.0,4.0,29.881137667304014,29.881137667304014,45.0,40.0,36.0,32.0,19.0,19.0,3.0,44.0,58.0,29.881137667304014,42.0,29.881137667304014,24.0,28.0,29.881137667304014,34.0,45.5,18.0,2.0,32.0,26.0,16.0,40.0,24.0,35.0,22.0,30.0,29.881137667304014,31.0,27.0,42.0,32.0,30.0,16.0,27.0,51.0,29.881137667304014,38.0,22.0,19.0,20.5,18.0,29.881137667304014,35.0,29.0,59.0,5.0,24.0,29.881137667304014,44.0,8.0,19.0,33.0,29.881137667304014,29.881137667304014,29.0,22.0,30.0,44.0,25.0,24.0,37.0,54.0,29.881137667304014,29.0,62.0,30.0,41.0,29.0,29.881137667304014,30.0,35.0,50.0,29.881137667304014,3.0,52.0,40.0,29.881137667304014,36.0,16.0,25.0,58.0,35.0,29.881137667304014,25.0,41.0,37.0,29.881137667304014,63.0,45.0,29.881137667304014,7.0,35.0,65.0,28.0,16.0,19.0,29.881137667304014,33.0,30.0,22.0,42.0,22.0,26.0,19.0,36.0,24.0,24.0,29.881137667304014,23.5,2.0,29.881137667304014,50.0,29.881137667304014,29.881137667304014,19.0,29.881137667304014,29.881137667304014,0.92,29.881137667304014,17.0,30.0,30.0,24.0,18.0,26.0,28.0,43.0,26.0,24.0,54.0,31.0,40.0,22.0,27.0,30.0,22.0,29.881137667304014,36.0,61.0,36.0,31.0,16.0,29.881137667304014,45.5,38.0,16.0,29.881137667304014,29.881137667304014,29.0,41.0,45.0,45.0,2.0,24.0,28.0,25.0,36.0,24.0,40.0,29.881137667304014,3.0,42.0,23.0,29.881137667304014,15.0,25.0,29.881137667304014,28.0,22.0,38.0,29.881137667304014,29.881137667304014,40.0,29.0,45.0,35.0,29.881137667304014,30.0,60.0,29.881137667304014,29.881137667304014,24.0,25.0,18.0,19.0,22.0,3.0,29.881137667304014,22.0,27.0,20.0,19.0,42.0,1.0,32.0,35.0,29.881137667304014,18.0,1.0,36.0,29.881137667304014,17.0,36.0,21.0,28.0,23.0,24.0,22.0,31.0,46.0,23.0,28.0,39.0,26.0,21.0,28.0,20.0,34.0,51.0,3.0,21.0,29.881137667304014,29.881137667304014,29.881137667304014,33.0,29.881137667304014,44.0,29.881137667304014,34.0,18.0,30.0,10.0,29.881137667304014,21.0,29.0,28.0,18.0,29.881137667304014,28.0,19.0,29.881137667304014,32.0,28.0,29.881137667304014,42.0,17.0,50.0,14.0,21.0,24.0,64.0,31.0,45.0,20.0,25.0,28.0,29.881137667304014,4.0,13.0,34.0,5.0,52.0,36.0,29.881137667304014,30.0,49.0,29.881137667304014,29.0,65.0,29.881137667304014,50.0,29.881137667304014,48.0,34.0,47.0,48.0,29.881137667304014,38.0,29.881137667304014,56.0,29.881137667304014,0.75,29.881137667304014,38.0,33.0,23.0,22.0,29.881137667304014,34.0,29.0,22.0,2.0,9.0,29.881137667304014,50.0,63.0,25.0,29.881137667304014,35.0,58.0,30.0,9.0,29.881137667304014,21.0,55.0,71.0,21.0,29.881137667304014,54.0,29.881137667304014,25.0,24.0,17.0,21.0,29.881137667304014,37.0,16.0,18.0,33.0,29.881137667304014,28.0,26.0,29.0,29.881137667304014,36.0,54.0,24.0,47.0,34.0,29.881137667304014,36.0,32.0,30.0,22.0,29.881137667304014,44.0,29.881137667304014,40.5,50.0,29.881137667304014,39.0,23.0,2.0,29.881137667304014,17.0,29.881137667304014,30.0,7.0,45.0,30.0,29.881137667304014,22.0,36.0,9.0,11.0,32.0,50.0,64.0,19.0,29.881137667304014,33.0,8.0,17.0,27.0,29.881137667304014,22.0,22.0,62.0,48.0,29.881137667304014,39.0,36.0,29.881137667304014,40.0,28.0,29.881137667304014,29.881137667304014,24.0,19.0,29.0,29.881137667304014,32.0,62.0,53.0,36.0,29.881137667304014,16.0,19.0,34.0,39.0,29.881137667304014,32.0,25.0,39.0,54.0,36.0,29.881137667304014,18.0,47.0,60.0,22.0,29.881137667304014,35.0,52.0,47.0,29.881137667304014,37.0,36.0,29.881137667304014,49.0,29.881137667304014,49.0,24.0,29.881137667304014,29.881137667304014,44.0,35.0,36.0,30.0,27.0,22.0,40.0,39.0,29.881137667304014,29.881137667304014,29.881137667304014,35.0,24.0,34.0,26.0,4.0,26.0,27.0,42.0,20.0,21.0,21.0,61.0,57.0,21.0,26.0,29.881137667304014,80.0,51.0,32.0,29.881137667304014,9.0,28.0,32.0,31.0,41.0,29.881137667304014,20.0,24.0,2.0,29.881137667304014,0.75,48.0,19.0,56.0,29.881137667304014,23.0,29.881137667304014,18.0,21.0,29.881137667304014,18.0,24.0,29.881137667304014,32.0,23.0,58.0,50.0,40.0,47.0,36.0,20.0,32.0,25.0,29.881137667304014,43.0,29.881137667304014,40.0,31.0,70.0,31.0,29.881137667304014,18.0,24.5,18.0,43.0,36.0,29.881137667304014,27.0,20.0,14.0,60.0,25.0,14.0,19.0,18.0,15.0,31.0,4.0,29.881137667304014,25.0,60.0,52.0,44.0,29.881137667304014,49.0,42.0,18.0,35.0,18.0,25.0,26.0,39.0,45.0,42.0,22.0,29.881137667304014,24.0,29.881137667304014,48.0,29.0,52.0,19.0,38.0,27.0,29.881137667304014,33.0,6.0,17.0,34.0,50.0,27.0,20.0,30.0,29.881137667304014,25.0,25.0,29.0,11.0,29.881137667304014,23.0,23.0,28.5,48.0,35.0,29.881137667304014,29.881137667304014,29.881137667304014,36.0,21.0,24.0,31.0,70.0,16.0,30.0,19.0,31.0,4.0,6.0,33.0,23.0,48.0,0.67,28.0,18.0,34.0,33.0,29.881137667304014,41.0,20.0,36.0,16.0,51.0,29.881137667304014,30.5,29.881137667304014,32.0,24.0,48.0,57.0,29.881137667304014,54.0,18.0,29.881137667304014,5.0,29.881137667304014,43.0,13.0,17.0,29.0,29.881137667304014,25.0,25.0,18.0,8.0,1.0,46.0,29.881137667304014,16.0,29.881137667304014,29.881137667304014,25.0,39.0,49.0,31.0,30.0,30.0,34.0,31.0,11.0,0.42,27.0,31.0,39.0,18.0,39.0,33.0,26.0,39.0,35.0,6.0,30.5,29.881137667304014,23.0,31.0,43.0,10.0,52.0,27.0,38.0,27.0,2.0,29.881137667304014,29.881137667304014,1.0,29.881137667304014,62.0,15.0,0.83,29.881137667304014,23.0,18.0,39.0,21.0,29.881137667304014,32.0,29.881137667304014,20.0,16.0,30.0,34.5,17.0,42.0,29.881137667304014,35.0,28.0,29.881137667304014,4.0,74.0,9.0,16.0,44.0,18.0,45.0,51.0,24.0,29.881137667304014,41.0,21.0,48.0,29.881137667304014,24.0,42.0,27.0,31.0,29.881137667304014,4.0,26.0,47.0,33.0,47.0,28.0,15.0,20.0,19.0,29.881137667304014,56.0,25.0,33.0,22.0,28.0,25.0,39.0,27.0,19.0,29.881137667304014,26.0,32.0,34.5,47.0,62.0,27.0,22.0,14.0,30.0,26.0,18.0,21.0,29.881137667304014,46.0,23.0,63.0,47.0,24.0,35.0,21.0,27.0,45.0,55.0,9.0,29.881137667304014,21.0,48.0,50.0,22.0,22.5,41.0,29.881137667304014,50.0,24.0,33.0,29.881137667304014,30.0,18.5,29.881137667304014,21.0,25.0,29.881137667304014,39.0,29.881137667304014,41.0,30.0,45.0,25.0,45.0,29.881137667304014,60.0,36.0,24.0,27.0,20.0,28.0,29.881137667304014,10.0,35.0,25.0,29.881137667304014,36.0,17.0,32.0,18.0,22.0,13.0,29.881137667304014,18.0,47.0,31.0,60.0,24.0,21.0,29.0,28.5,35.0,32.5,29.881137667304014,55.0,30.0,24.0,6.0,67.0,49.0,29.881137667304014,29.881137667304014,29.881137667304014,27.0,18.0,29.881137667304014,2.0,22.0,29.881137667304014,27.0,29.881137667304014,25.0,25.0,76.0,29.0,20.0,33.0,43.0,27.0,29.881137667304014,26.0,16.0,28.0,21.0,29.881137667304014,29.881137667304014,18.5,41.0,29.881137667304014,36.0,18.5,63.0,18.0,29.881137667304014,1.0,36.0,29.0,12.0,29.881137667304014,35.0,28.0,29.881137667304014,17.0,22.0,29.881137667304014,42.0,24.0,32.0,53.0,29.881137667304014,29.881137667304014,43.0,24.0,26.5,26.0,23.0,40.0,10.0,33.0,61.0,28.0,42.0,31.0,29.881137667304014,22.0,29.881137667304014,30.0,23.0,29.881137667304014,60.5,36.0,13.0,24.0,29.0,23.0,42.0,26.0,29.881137667304014,7.0,26.0,29.881137667304014,41.0,26.0,48.0,18.0,29.881137667304014,22.0,29.881137667304014,27.0,23.0,29.881137667304014,40.0,15.0,20.0,54.0,36.0,64.0,30.0,37.0,18.0,29.881137667304014,27.0,40.0,21.0,17.0,29.881137667304014,40.0,34.0,29.881137667304014,11.5,61.0,8.0,33.0,6.0,18.0,23.0,29.881137667304014,29.881137667304014,0.33,47.0,8.0,25.0,29.881137667304014,35.0,24.0,33.0,25.0,32.0,29.881137667304014,17.0,60.0,38.0,42.0,29.881137667304014,57.0,50.0,29.881137667304014,30.0,21.0,22.0,21.0,53.0,29.881137667304014,23.0,29.881137667304014,40.5,36.0,14.0,21.0,21.0,29.881137667304014,39.0,20.0,64.0,20.0,18.0,48.0,55.0,45.0,45.0,29.881137667304014,29.881137667304014,41.0,22.0,42.0,29.0,29.881137667304014,0.92,20.0,27.0,24.0,32.5,29.881137667304014,29.881137667304014,28.0,19.0,21.0,36.5,21.0,29.0,1.0,30.0,29.881137667304014,29.881137667304014,29.881137667304014,29.881137667304014,17.0,46.0,29.881137667304014,26.0,29.881137667304014,29.881137667304014,20.0,28.0,40.0,30.0,22.0,23.0,0.75,29.881137667304014,9.0,2.0,36.0,29.881137667304014,24.0,29.881137667304014,29.881137667304014,29.881137667304014,30.0,29.881137667304014,53.0,36.0,26.0,1.0,29.881137667304014,30.0,29.0,32.0,29.881137667304014,43.0,24.0,29.881137667304014,64.0,30.0,0.83,55.0,45.0,18.0,22.0,29.881137667304014,37.0,55.0,17.0,57.0,19.0,27.0,22.0,26.0,25.0,26.0,33.0,39.0,23.0,12.0,46.0,29.0,21.0,48.0,39.0,29.881137667304014,19.0,27.0,30.0,32.0,39.0,25.0,29.881137667304014,18.0,32.0,29.881137667304014,58.0,29.881137667304014,16.0,26.0,38.0,24.0,31.0,45.0,25.0,18.0,49.0,0.17,50.0,59.0,29.881137667304014,29.881137667304014,30.0,14.5,24.0,31.0,27.0,25.0,29.881137667304014,29.881137667304014,22.0,45.0,29.0,21.0,31.0,49.0,44.0,54.0,45.0,22.0,21.0,55.0,5.0,29.881137667304014,26.0,29.881137667304014,19.0,29.881137667304014,24.0,24.0,57.0,21.0,6.0,23.0,51.0,13.0,47.0,29.0,18.0,24.0,48.0,22.0,31.0,30.0,38.0,22.0,17.0,43.0,20.0,23.0,50.0,29.881137667304014,3.0,29.881137667304014,37.0,28.0,29.881137667304014,39.0,38.5,29.881137667304014,29.881137667304014],\"xaxis\":\"x\",\"y\":[2.1102132003465894,4.2805931204649,2.188856327665703,3.9908341858524357,2.2027647577118348,2.246892662898172,3.967694202798607,3.0944457464900235,2.495953738718064,3.436268471383741,2.8735646395797834,3.3160025355989236,2.2027647577118348,3.4742929367327062,2.180891922715322,2.833213344056216,3.405355391810819,2.6390573296152584,2.9444389791664403,2.1071782966514356,3.295836866004329,2.6390573296152584,2.2004637699272855,3.597312260588446,3.0944457464900235,3.4777725458882283,2.1071782966514356,5.575949103146316,2.1837114628556327,2.1855792552411137,3.357621598945279,4.993969182787072,2.169053700369523,2.4423470353692043,4.420896324687287,3.970291913552122,2.1076888046179385,2.2027647577118348,2.9444389791664403,2.5048481563289,2.348991465808201,3.091042453358316,2.1855792552411137,3.7513658711253766,2.1837114628556327,2.2027647577118348,2.803360380906535,2.169053700369523,3.1214482048688246,2.9338568698359038,3.705920919968788,2.174751721484161,4.353230991152628,3.295836866004329,4.142804513146981,3.597312260588446,2.4423470353692043,2.1076888046179385,3.3586377672433594,3.8691155044168695,2.1076888046179385,4.394449154672439,4.436455632600354,3.3638415951183864,3.357621598945279,2.7878344138303452,2.4423470353692043,2.2146605719425225,2.188856327665703,2.2682524139135403,2.4423470353692043,3.8691155044168695,4.310799125385514,2.737880811060884,4.05171190165724,2.157559320943788,2.1855792552411137,2.2027647577118348,3.4011973816621555,2.600836116795061,2.302585092994046,2.3513752571634776,2.1733302571367834,3.8732821771117156,2.4423470353692043,2.8243506567983707,3.5660053559634015,2.2027647577118348,5.575949103146316,2.2027647577118348,2.2027647577118348,2.180891922715322,4.1299529896894684,3.0715352369694915,2.1102132003465894,2.2027647577118348,3.57386695198272,4.164465907853638,3.1780538303479458,3.295836866004329,2.1855792552411137,2.1855792552411137,4.360387947851531,2.267393053825037,2.188856327665703,2.1855792552411137,2.157559320943788,2.1719067693519296,2.1855792552411137,3.224857896545748,3.970291913552122,2.737880811060884,2.2027647577118348,2.3818582738885534,2.738146075922933,2.188856327665703,2.169053700369523,3.091042453358316,5.515526544247129,3.4742929367327062,4.310799125385514,2.2027647577118348,3.436268471383741,2.6390573296152584,4.360387947851531,2.5048481563289,2.169053700369523,2.0969990034181696,3.1509523813392697,2.076311648670908,2.1855792552411137,2.0856720914304723,2.740840023925201,3.295836866004329,2.6390573296152584,2.775447133088262,3.3062747934011893,3.9908341858524357,2.3240236363515288,4.384523514872469,2.7878344138303452,2.169053700369523,2.8243506567983707,2.0476928433652555,2.5257286443082556,3.6309854756950335,2.174274334826008,3.5660053559634015,3.295836866004329,2.6390573296152584,2.6045398247325453,4.213607983048918,2.2027647577118348,2.740840023925201,2.1177604059819726,4.133231886474144,2.167143305297764,2.2027647577118348,2.2682524139135403,4.256321678298823,2.8390784635086144,2.8183982582710754,2.1719067693519296,2.2682524139135403,3.705920919968788,3.0692150503137943,4.02535169073515,3.3638415951183864,3.2930552230424524,4.05171190165724,3.5409593240373143,3.405355391810819,2.495953738718064,2.188856327665703,3.4561841799918147,2.180891922715322,3.275887339030031,3.391567832686312,2.6390573296152584,0.0,4.256321678298823,2.775708849576025,3.4777725458882283,3.6888794541139363,3.1365805821413706,3.9318256327243257,2.803360380906535,3.3160025355989236,2.803360380906535,2.1855792552411137,2.6390573296152584,2.6390573296152584,2.180891922715322,3.295836866004329,3.357621598945279,4.993969182787072,2.169053700369523,2.2411563979973974,2.169053700369523,2.6390573296152584,2.3513752571634776,4.256321678298823,2.0143428636837015,2.1071782966514356,2.2027647577118348,2.4390808375825834,2.8243506567983707,2.9850504252071306,2.169053700369523,3.4657359027997265,2.0856720914304723,3.091042453358316,2.1102132003465894,2.6390573296152584,2.169053700369523,4.738607824217808,2.188856327665703,3.332204510175204,4.347586575960343,2.4423470353692043,2.2027647577118348,2.6390573296152584,2.2027647577118348,2.1855792552411137,4.51085950651685,2.336986519711378,2.4423470353692043,2.1102132003465894,2.6390573296152584,3.275887339030031,4.436455632600354,2.1719067693519296,2.6741486494265287,3.4777725458882283,2.4423470353692043,2.145931282948669,3.295836866004329,3.305053521109253,2.4423470353692043,2.5858825671280026,2.737880811060884,2.803360380906535,2.4423470353692043,2.094945728215801,2.1071782966514356,4.51085950651685,2.1719067693519296,2.740840023925201,3.9806942251907276,3.295836866004329,2.1102132003465894,2.4390808375825834,3.3160025355989236,2.8390784635086144,3.0545906305603445,2.7878344138303452,4.384523514872469,4.471638793363569,6.240917354759096,3.295836866004329,2.169053700369523,3.4777725458882283,4.390118804571218,0.0,2.169053700369523,2.4423470353692043,3.705920919968788,2.1719067693519296,5.039951348430309,4.91730069488021,3.4657359027997265,0.0,3.0204248861443626,3.4242626545931514,2.169053700369523,4.368919865004903,2.169053700369523,0.0,3.405355391810819,3.056356895370426,2.169053700369523,2.180891922715322,2.3513752571634776,2.2027647577118348,3.295836866004329,2.2682524139135403,2.3513752571634776,2.1855792552411137,2.6390573296152584,2.169053700369523,4.380149874661021,4.5226490762785785,2.630088659632498,2.2874714551839976,2.1855792552411137,3.357621598945279,2.1076888046179385,5.027492411162679,3.449987545831587,5.515526544247129,2.169053700369523,3.188416617383492,0.0,2.5915163848462583,2.2027647577118348,5.027492411162679,4.717456363787216,4.699570861409576,3.2188758248682006,4.0592215752427645,4.432699549165613,5.5735788721243535,3.295836866004329,2.1855792552411137,3.305053521109253,2.180891922715322,3.295836866004329,2.70805020110221,5.11118445372147,4.908971640319756,2.1102132003465894,2.1855792552411137,2.5915163848462583,3.4011973816621555,4.256321678298823,4.91730069488021,1.9792758428991135,2.6390573296152584,3.0692150503137943,4.077184839375167,3.188416617383492,3.3843902633457743,5.039951348430309,2.9444389791664403,4.902678819257608,2.1855792552411137,4.213607983048918,4.908971640319756,2.2027647577118348,3.597312260588446,3.295836866004329,5.575949103146316,2.6390573296152584,2.6390573296152584,2.6390573296152584,2.6390573296152584,2.6390573296152584,2.8390784635086144,2.8273136219290276,2.2682524139135403,2.3248357019288655,3.58351893845611,2.1076888046179385,2.9338568698359038,2.1071782966514356,2.3513752571634776,4.02535169073515,2.6390573296152584,2.1837114628556327,2.1837114628556327,3.3638415951183864,3.357621598945279,2.737880811060884,2.0856720914304723,2.803360380906535,2.1102132003465894,4.334017415487521,2.1076888046179385,2.169053700369523,4.252771798816619,4.0332082470129285,2.0143428636837015,2.2027647577118348,4.91730069488021,3.0944457464900235,4.420896324687287,2.1102132003465894,5.358941988364472,1.6119347926326877,2.1719067693519296,5.4316456135398825,2.817902613071225,2.188856327665703,3.970291913552122,2.1855792552411137,4.310799125385514,3.8691155044168695,2.6390573296152584,2.1666737276227077,2.5649493574615367,4.795790545596741,2.174274334826008,2.188856327665703,4.738607824217808,2.8735646395797834,2.174274334826008,2.180891922715322,3.295836866004329,2.4423470353692043,2.613739521630969,2.188856327665703,2.2027647577118348,2.3818582738885534,2.8243506567983707,2.2682524139135403,3.091042453358316,2.169053700369523,2.9831534913471307,2.1719067693519296,3.275887339030031,2.1855792552411137,2.061570298060867,4.51085950651685,0.0,2.188856327665703,2.2027647577118348,3.5115454388310208,2.6390573296152584,2.6390573296152584,3.224857896545748,2.1855792552411137,2.167143305297764,2.1832383353614797,2.7343675094195836,3.0545906305603445,2.1102132003465894,3.295836866004329,3.295836866004329,2.169053700369523,2.2027647577118348,3.3160025355989236,2.8390784635086144,3.295836866004329,2.094945728215801,4.041295341132285,4.795790545596741,3.5660053559634015,2.9831534913471307,5.575949103146316,2.4423470353692043,3.305053521109253,2.3513752571634776,2.1719067693519296,2.6390573296152584,2.2096470973347766,4.417131919904876,3.0204248861443626,3.3160025355989236,3.0085645861193133,3.449987545831587,3.3586377672433594,3.0429354648621407,3.3586377672433594,4.500966778400217,2.2027647577118348,2.1855792552411137,3.3160025355989236,3.967694202798607,2.4423470353692043,2.169053700369523,3.3160025355989236,2.2027647577118348,3.676300671907076,2.6390573296152584,2.2027647577118348,2.0856720914304723,0.0,3.3160025355989236,2.1661924680884908,3.0085645861193133,2.1102132003465894,2.2682524139135403,3.3586377672433594,2.694066212646058,2.3830123421066602,3.970291913552122,3.091042453358316,2.0851502161468174,2.142510233146819,2.586823743668066,3.8691155044168695,0.0,2.2027647577118348,2.3596740599781727,4.5226490762785785,3.275887339030031,4.51085950651685,3.4242626545931514,2.2027647577118348,2.8273136219290276,3.0429354648621407,2.1102132003465894,3.449987545831587,3.922056501139853,2.2027647577118348,2.738146075922933,4.37281811610993,2.7788192719904172,5.027492411162679,2.174274334826008,2.2682524139135403,2.169053700369523,2.155151800914312,2.3596740599781727,4.471638793363569,4.699570861409576,3.295836866004329,3.3160025355989236,3.1580636854714434,4.05171190165724,2.169053700369523,2.2027647577118348,3.3064287218760624,4.100989104940769,2.139571923732859,3.5559421706858756,2.4423470353692043,3.224857896545748,3.295836866004329,2.1855792552411137,4.548599834499697,2.1855792552411137,2.1071782966514356,4.077184839375167,2.1076888046179385,2.169053700369523,2.4423470353692043,5.406181146423973,2.188856327665703,2.5257286443082556,3.295836866004329,2.1076888046179385,2.1076888046179385,3.1509523813392697,2.2682524139135403,3.305053521109253,3.3160025355989236,4.676792929661059,2.740840023925201,3.9219733362813143,4.276666119016055,3.4742929367327062,3.4742929367327062,3.295836866004329,4.676792929661059,3.295836866004329,3.295836866004329,2.6988412620169004,3.0692150503137943,3.6309854756950335,4.717456363787216,3.295836866004329,2.17806441028492,2.1071782966514356,2.1719067693519296,3.3160025355989236,3.703768066607687,5.4316456135398825,4.390118804571218,2.91235066461494,2.169053700369523,2.1855792552411137,2.6741486494265287,2.2027647577118348,2.2027647577118348,3.224857896545748,2.1855792552411137,3.0944457464900235,2.1076888046179385,2.180891922715322,2.4423470353692043,3.960416900617205,3.3100867049215847,2.169053700369523,2.2027647577118348,2.740840023925201,2.6390573296152584,4.041295341132285,2.738146075922933,2.188856327665703,3.4339872044851463,4.717456363787216,3.295836866004329,3.716616209085536,2.2734137156937657,4.390118804571218,2.772588722239781,4.384523514872469,2.2027647577118348,2.2027647577118348,2.094945728215801,4.37281811610993,2.1102132003465894,2.169053700369523,3.295836866004329,3.224857896545748,3.5263605246161616,0.0,2.1071782966514356,4.0592215752427645,3.332204510175204,2.1855792552411137,3.770459441106359,2.2027647577118348,3.3160025355989236,2.806386101823072,2.1855792552411137,3.449987545831587,3.7513658711253766,5.039951348430309,3.4742929367327062,2.0856720914304723,2.803360380906535,2.169053700369523,2.2027647577118348,4.189654742026425,2.7343675094195836,2.8390784635086144,3.6888794541139363,2.4423470353692043,2.737880811060884,3.9806942251907276,2.817902613071225,2.180891922715322,2.8390784635086144,3.5061818266142577,2.5915163848462583,4.368919865004903,2.1855792552411137,2.167143305297764,3.4339872044851463,2.086193694502369,3.449987545831587,0.0,3.3638415951183864,2.6390573296152584,2.188856327665703,3.305053521109253,3.705920919968788,2.8390784635086144,2.180891922715322,4.252771798816619,3.3638415951183864,4.05171190165724,3.0085645861193133,4.353230991152628,2.1855792552411137,3.597312260588446,2.145931282948669,2.145931282948669,2.1855792552411137,3.1780538303479458,2.2442459824059346,2.17806441028492,2.0476928433652555,4.310799125385514,2.1855792552411137,2.803360380906535,2.6390573296152584,4.738607824217808,4.902678819257608,2.1071782966514356,3.2804411805263554,2.139571923732859,2.188856327665703,4.310799125385514,2.6390573296152584,2.1719067693519296,2.2027647577118348,3.970291913552122,3.6888794541139363,3.970291913552122,2.4423470353692043,2.6390573296152584,0.0,2.1719067693519296,2.2027647577118348,2.3833998102837652,3.8691155044168695,6.240917354759096,2.212386825075897,4.353230991152628,2.3248357019288655,3.8691155044168695,3.6888794541139363,3.7513658711253766,3.705920919968788,2.4133032309283076,2.174274334826008,5.35817698994543,4.060443010546419,2.668387256845834,4.05171190165724,2.1071782966514356,3.3160025355989236,2.6741486494265287,2.2027647577118348,2.167143305297764,4.717456363787216,2.157559320943788,5.4316456135398825,3.3064287218760624,2.737880811060884,2.1681046787623672,2.180891922715322,3.295836866004329,2.6741486494265287,3.3064287218760624,5.027492411162679,2.7878344138303452,3.922056501139853,3.3160025355989236,3.970291913552122,2.3497835148230464,2.6390573296152584,2.157559320943788,5.4316456135398825,2.4423470353692043,2.803360380906535,2.1719067693519296,3.5263605246161616,2.086193694502369,2.6390573296152584,2.6390573296152584,3.9908341858524357,2.2682524139135403,3.091042453358316,2.1676241075599285,3.295836866004329,2.188856327665703,5.35817698994543,2.9850504252071306,0.0,2.6390573296152584,2.6390573296152584,2.8390784635086144,3.5660053559634015,6.240917354759096,2.1855792552411137,2.1855792552411137,3.4339872044851463,4.380149874661021,5.5735788721243535,2.8390784635086144,2.188856327665703,4.276666119016055,3.056356895370426,2.6390573296152584,3.9908341858524357,2.169053700369523,3.1780538303479458,2.600836116795061,2.3513752571634776,2.1855792552411137,4.189654742026425,2.740840023925201,2.174274334826008,2.5257286443082556,2.2027647577118348,4.471638793363569,2.740840023925201,2.094945728215801,2.1076888046179385,4.795790545596741,2.1719067693519296,4.368919865004903,3.703768066607687,2.169053700369523,3.224857896545748,2.236712348843338,2.3513752571634776,2.180891922715322,2.4423470353692043,2.1071782966514356,3.1780538303479458,2.169053700369523,2.169053700369523,2.600836116795061,2.1676241075599285,5.35817698994543,2.1076888046179385,4.060443010546419,3.4339872044851463,3.196630215920881,2.0856720914304723,2.1102132003465894,2.139571923732859,3.405355391810819,3.0715352369694915,4.384523514872469,2.169053700369523,3.295836866004329,4.256321678298823,3.4561841799918147,2.1855792552411137,2.6390573296152584,3.2932111997353943,2.270402752283094,2.1076888046179385,3.224857896545748,2.6390573296152584,3.305053521109253,4.795790545596741,2.2530481500547457,2.076311648670908,2.1719067693519296,0.0,2.1719067693519296,2.6390573296152584,3.9908341858524357,2.184645795129359,3.224857896545748,2.4423470353692043,3.4742929367327062,2.2027647577118348,0.0,2.188856327665703,3.637696679934592,2.0082140323914683,3.3638415951183864,4.548599834499697,2.2682524139135403,0.0,2.600836116795061,3.705920919968788,2.0731719286662407,4.05171190165724,3.637696679934592,2.169053700369523,4.394449154672439,2.737880811060884,2.9831534913471307,2.1076888046179385,2.180891922715322,2.2300144001592104,4.432699549165613,2.2682524139135403,2.2027647577118348,4.05171190165724,3.4242626545931514,2.188856327665703,2.4423470353692043,3.4657359027997265,2.006534770871748,2.2682524139135403,2.145931282948669,4.256321678298823,2.1855792552411137,3.5263605246161616,4.500966778400217,3.4742929367327062,2.1719067693519296,2.7878344138303452,3.6988297849671046,3.295836866004329,2.336986519711378,5.11118445372147,3.3160025355989236,3.0085645861193133,2.1076888046179385,2.7152442616824506,2.5257286443082556,3.2932111997353943,4.256321678298823,2.6390573296152584,2.6390573296152584,2.698558631668595,3.941500250945973,2.3513752571634776,2.495953738718064,2.1855792552411137,3.9806942251907276,1.791759469228055,2.302585092994046,3.2188758248682006,2.1071782966514356,2.3837779082709782,2.1855792552411137,2.1855792552411137,4.432699549165613,3.295836866004329,2.1855792552411137,2.4437981558973862,2.4423470353692043,2.0856720914304723,3.405355391810819,2.6390573296152584,3.4339872044851463,3.196630215920881,3.4339872044851463,2.169053700369523,2.17806441028492,2.0794415416798357,2.3690748342628787,2.2682524139135403,2.586823743668066,2.3248357019288655,2.155151800914312,3.4011973816621555,2.1076888046179385,3.224857896545748,2.1855792552411137,3.295836866004329,4.422048709343544,3.295836866004329,4.1299529896894684,3.357621598945279,2.5915163848462583,2.1071782966514356,2.188856327665703,2.1071782966514356,4.100989104940769,1.428107863933301,3.4868642440859134,4.133231886474144,5.5735788721243535,2.740840023925201,4.142804513146981,2.1071782966514356,3.449987545831587,3.1214482048688246,3.295836866004329,3.481240089335692,3.0715352369694915,3.196630215920881,4.073291153024268,2.1076888046179385,2.2027647577118348,2.2682524139135403,2.3513752571634776,4.05171190165724,2.668387256845834,3.3160025355989236,2.180417459019838,2.6390573296152584,3.9806942251907276,2.188856327665703,3.4242626545931514,2.169053700369523,4.347586575960343,2.8273136219290276,4.110873864173311,2.7746678094393658,3.1780538303479458,5.575949103146316,2.808148897638332,3.405355391810819,2.1855792552411137,2.157559320943788,2.8390784635086144,5.5735788721243535,2.1855792552411137,2.6741486494265287,2.169053700369523,2.1661924680884908,5.5735788721243535,3.091042453358316,2.1837114628556327,3.770459441106359,3.3856606425130265,5.575949103146316,2.169053700369523,2.1855792552411137,2.188856327665703,3.357621598945279,5.358941988364472,5.358941988364472,2.2027647577118348,3.2846635654062037,2.6390573296152584,2.169053700369523,2.7878344138303452,5.406181146423973,3.295836866004329,2.1855792552411137,2.4602979920066583,2.737880811060884,2.1837114628556327,2.2027647577118348,2.169053700369523,3.1780538303479458,2.7013612129514133,2.1719067693519296,3.970291913552122,2.2027647577118348,3.295836866004329,2.174274334826008,4.380149874661021,2.188856327665703,2.180891922715322,2.2027647577118348,4.0332082470129285,3.295836866004329,2.169053700369523,2.1719067693519296,2.2530481500547457,3.1580636854714434,2.177112568853282,2.169053700369523,2.2734137156937657,2.6390573296152584,2.775447133088262,2.172385287322574,3.486738789888005,2.114241439721562,5.406181146423973,2.737880811060884,2.006534770871748,2.8735646395797834,4.333908557103646,3.295836866004329,2.8183982582710754,2.169053700369523,4.073291153024268,2.1102132003465894,2.169053700369523,2.8390784635086144,2.174274334826008,3.188416617383492,2.6390573296152584,2.2027647577118348,2.2027647577118348,3.3843902633457743,3.275887339030031,2.006534770871748,2.1855792552411137,2.180891922715322,2.1071782966514356,2.6390573296152584,2.2027647577118348,3.8691155044168695,3.8691155044168695,5.027492411162679,5.5735788721243535,3.295836866004329,3.3160025355989236,2.9444389791664403,3.967694202798607,2.2027647577118348,3.3160025355989236,3.295836866004329,4.432699549165613,2.1855792552411137,3.535013546107913,2.57895087709735,3.4777725458882283,2.145931282948669,5.406181146423973,2.180891922715322,3.3160025355989236,2.692936563292162,2.167143305297764,2.7878344138303452,2.6741486494265287,2.0794415416798357,2.6390573296152584,3.1365805821413706,3.941500250945973,3.5660053559634015,3.357621598945279,2.2988280441163336,2.145931282948669,2.1071782966514356,2.7013612129514133,2.1076888046179385,3.4777725458882283,3.6888794541139363,3.6309854756950335,4.0332082470129285,3.6888794541139363,4.432699549165613,2.6390573296152584,4.432699549165613,3.9908341858524357,2.169053700369523,5.515526544247129,2.833213344056216,3.091042453358316,2.2027647577118348,4.256321678298823,2.6390573296152584,3.295836866004329,3.295836866004329,2.740840023925201,2.5915163848462583,3.5115454388310208,2.180891922715322,4.908971640319756,2.1719067693519296,2.4423470353692043,2.2096470973347766,2.803360380906535,2.7343675094195836,5.4316456135398825,3.295836866004329,2.4423470353692043,3.286224144821269,2.169053700369523,2.4423470353692043,3.357621598945279,2.1855792552411137,3.1580636854714434,2.0856720914304723,4.310799125385514,3.295836866004329,2.1719067693519296,3.7727609380946383,2.1837114628556327,5.11118445372147,5.358941988364472,2.2027647577118348,2.698558631668595,2.2027647577118348,2.4423470353692043,2.174274334826008,3.34800052225782,2.7878344138303452,2.174274334826008,2.169053700369523,2.7788192719904172,2.6390573296152584,4.189654742026425,3.3160025355989236,2.0143428636837015,2.1837114628556327,4.2805931204649,2.180891922715322,4.334017415487521,2.1071782966514356,2.6390573296152584,4.676792929661059,3.357621598945279,3.4339872044851463,4.908971640319756,2.184645795129359,3.196630215920881,3.967694202798607,3.091042453358316,3.5115454388310208,3.295836866004329,2.737880811060884,3.3586377672433594,2.188856327665703,4.925652403790231,2.3345681388470965,2.3513752571634776,2.145931282948669,2.169053700369523,2.2027647577118348,2.6390573296152584,2.1719067693519296,2.91235066461494,2.180891922715322,3.1780538303479458,2.57895087709735,2.62012931972974,2.1855792552411137,0.0,2.145931282948669,2.2027647577118348,2.2682524139135403,4.333908557103646,2.169053700369523,4.925652403790231,2.803360380906535,2.1071782966514356,3.295836866004329,2.4423470353692043,3.295836866004329,3.091042453358316,2.4423470353692043,2.2682524139135403,2.692936563292162,2.169053700369523,2.7878344138303452,3.0545906305603445,2.1102132003465894,2.1102132003465894,4.422048709343544,2.1076888046179385,2.2027647577118348,3.703768066607687,2.0731719286662407,2.1076888046179385,4.417131919904876,2.3513752571634776,2.1855792552411137,3.7513658711253766,3.1214482048688246,3.8394523125933104,2.180891922715322,2.1719067693519296,2.775447133088262,3.091042453358316,2.2682524139135403,2.169053700369523,3.3160025355989236,5.027492411162679,2.336986519711378,4.548599834499697,2.7152442616824506,2.2682524139135403,2.1071782966514356,2.1488509930520037,2.169053700369523,4.91730069488021,2.167143305297764,4.993969182787072,2.4423470353692043,2.180891922715322,3.481240089335692,2.1719067693519296,2.1076888046179385,2.6390573296152584,3.3160025355989236,5.35817698994543,2.0856720914304723,3.6888794541139363,4.384523514872469,3.295836866004329,2.6390573296152584,3.6309854756950335,3.4242626545931514,2.1071782966514356,2.817902613071225,2.1855792552411137,3.295836866004329,2.6390573296152584,2.1076888046179385,3.481240089335692,2.1076888046179385,2.4423470353692043,2.149340669059503,4.256321678298823,6.240917354759096,2.740840023925201,2.157559320943788,2.6390573296152584,2.1076888046179385,2.6741486494265287,3.091042453358316,4.164465907853638,2.4423470353692043,4.310799125385514,4.189654742026425,3.0715352369694915,3.295836866004329,3.960416900617205,2.1837114628556327,2.169053700369523,2.806386101823072,4.256321678298823,3.637696679934592,3.091042453358316,2.2682524139135403,4.0332082470129285,4.256321678298823,2.738146075922933,3.705920919968788,4.100989104940769,2.698558631668595,2.5257286443082556,4.908971640319756,0.0,2.6390573296152584,4.417131919904876,5.5735788721243535,2.2682524139135403,2.5257286443082556,3.9318256327243257,3.4777725458882283,2.169053700369523,2.1837114628556327,2.740840023925201,2.8390784635086144,2.630088659632498,4.189654742026425,2.1719067693519296,2.6390573296152584,2.169053700369523,3.0944457464900235,4.548599834499697,3.6988297849671046,3.056356895370426,2.4423470353692043,3.1365805821413706,4.110873864173311,2.1102132003465894,4.384523514872469,2.1719067693519296,2.167143305297764,5.11118445372147,3.091042453358316,4.100989104940769,3.8732821771117156,3.357621598945279,2.6988412620169004,2.4423470353692043,5.358941988364472,2.165710976832012,2.692936563292162,2.169053700369523,4.51085950651685,2.1719067693519296,2.2027647577118348,4.699570861409576,2.1102132003465894,2.2027647577118348,3.1509523813392697],\"yaxis\":\"y\",\"type\":\"scattergl\"}],                        {\"template\":{\"data\":{\"histogram2dcontour\":[{\"type\":\"histogram2dcontour\",\"colorbar\":{\"outlinewidth\":0,\"ticks\":\"\"},\"colorscale\":[[0.0,\"#0d0887\"],[0.1111111111111111,\"#46039f\"],[0.2222222222222222,\"#7201a8\"],[0.3333333333333333,\"#9c179e\"],[0.4444444444444444,\"#bd3786\"],[0.5555555555555556,\"#d8576b\"],[0.6666666666666666,\"#ed7953\"],[0.7777777777777778,\"#fb9f3a\"],[0.8888888888888888,\"#fdca26\"],[1.0,\"#f0f921\"]]}],\"choropleth\":[{\"type\":\"choropleth\",\"colorbar\":{\"outlinewidth\":0,\"ticks\":\"\"}}],\"histogram2d\":[{\"type\":\"histogram2d\",\"colorbar\":{\"outlinewidth\":0,\"ticks\":\"\"},\"colorscale\":[[0.0,\"#0d0887\"],[0.1111111111111111,\"#46039f\"],[0.2222222222222222,\"#7201a8\"],[0.3333333333333333,\"#9c179e\"],[0.4444444444444444,\"#bd3786\"],[0.5555555555555556,\"#d8576b\"],[0.6666666666666666,\"#ed7953\"],[0.7777777777777778,\"#fb9f3a\"],[0.8888888888888888,\"#fdca26\"],[1.0,\"#f0f921\"]]}],\"heatmap\":[{\"type\":\"heatmap\",\"colorbar\":{\"outlinewidth\":0,\"ticks\":\"\"},\"colorscale\":[[0.0,\"#0d0887\"],[0.1111111111111111,\"#46039f\"],[0.2222222222222222,\"#7201a8\"],[0.3333333333333333,\"#9c179e\"],[0.4444444444444444,\"#bd3786\"],[0.5555555555555556,\"#d8576b\"],[0.6666666666666666,\"#ed7953\"],[0.7777777777777778,\"#fb9f3a\"],[0.8888888888888888,\"#fdca26\"],[1.0,\"#f0f921\"]]}],\"heatmapgl\":[{\"type\":\"heatmapgl\",\"colorbar\":{\"outlinewidth\":0,\"ticks\":\"\"},\"colorscale\":[[0.0,\"#0d0887\"],[0.1111111111111111,\"#46039f\"],[0.2222222222222222,\"#7201a8\"],[0.3333333333333333,\"#9c179e\"],[0.4444444444444444,\"#bd3786\"],[0.5555555555555556,\"#d8576b\"],[0.6666666666666666,\"#ed7953\"],[0.7777777777777778,\"#fb9f3a\"],[0.8888888888888888,\"#fdca26\"],[1.0,\"#f0f921\"]]}],\"contourcarpet\":[{\"type\":\"contourcarpet\",\"colorbar\":{\"outlinewidth\":0,\"ticks\":\"\"}}],\"contour\":[{\"type\":\"contour\",\"colorbar\":{\"outlinewidth\":0,\"ticks\":\"\"},\"colorscale\":[[0.0,\"#0d0887\"],[0.1111111111111111,\"#46039f\"],[0.2222222222222222,\"#7201a8\"],[0.3333333333333333,\"#9c179e\"],[0.4444444444444444,\"#bd3786\"],[0.5555555555555556,\"#d8576b\"],[0.6666666666666666,\"#ed7953\"],[0.7777777777777778,\"#fb9f3a\"],[0.8888888888888888,\"#fdca26\"],[1.0,\"#f0f921\"]]}],\"surface\":[{\"type\":\"surface\",\"colorbar\":{\"outlinewidth\":0,\"ticks\":\"\"},\"colorscale\":[[0.0,\"#0d0887\"],[0.1111111111111111,\"#46039f\"],[0.2222222222222222,\"#7201a8\"],[0.3333333333333333,\"#9c179e\"],[0.4444444444444444,\"#bd3786\"],[0.5555555555555556,\"#d8576b\"],[0.6666666666666666,\"#ed7953\"],[0.7777777777777778,\"#fb9f3a\"],[0.8888888888888888,\"#fdca26\"],[1.0,\"#f0f921\"]]}],\"mesh3d\":[{\"type\":\"mesh3d\",\"colorbar\":{\"outlinewidth\":0,\"ticks\":\"\"}}],\"scatter\":[{\"fillpattern\":{\"fillmode\":\"overlay\",\"size\":10,\"solidity\":0.2},\"type\":\"scatter\"}],\"parcoords\":[{\"type\":\"parcoords\",\"line\":{\"colorbar\":{\"outlinewidth\":0,\"ticks\":\"\"}}}],\"scatterpolargl\":[{\"type\":\"scatterpolargl\",\"marker\":{\"colorbar\":{\"outlinewidth\":0,\"ticks\":\"\"}}}],\"bar\":[{\"error_x\":{\"color\":\"#2a3f5f\"},\"error_y\":{\"color\":\"#2a3f5f\"},\"marker\":{\"line\":{\"color\":\"#E5ECF6\",\"width\":0.5},\"pattern\":{\"fillmode\":\"overlay\",\"size\":10,\"solidity\":0.2}},\"type\":\"bar\"}],\"scattergeo\":[{\"type\":\"scattergeo\",\"marker\":{\"colorbar\":{\"outlinewidth\":0,\"ticks\":\"\"}}}],\"scatterpolar\":[{\"type\":\"scatterpolar\",\"marker\":{\"colorbar\":{\"outlinewidth\":0,\"ticks\":\"\"}}}],\"histogram\":[{\"marker\":{\"pattern\":{\"fillmode\":\"overlay\",\"size\":10,\"solidity\":0.2}},\"type\":\"histogram\"}],\"scattergl\":[{\"type\":\"scattergl\",\"marker\":{\"colorbar\":{\"outlinewidth\":0,\"ticks\":\"\"}}}],\"scatter3d\":[{\"type\":\"scatter3d\",\"line\":{\"colorbar\":{\"outlinewidth\":0,\"ticks\":\"\"}},\"marker\":{\"colorbar\":{\"outlinewidth\":0,\"ticks\":\"\"}}}],\"scattermapbox\":[{\"type\":\"scattermapbox\",\"marker\":{\"colorbar\":{\"outlinewidth\":0,\"ticks\":\"\"}}}],\"scatterternary\":[{\"type\":\"scatterternary\",\"marker\":{\"colorbar\":{\"outlinewidth\":0,\"ticks\":\"\"}}}],\"scattercarpet\":[{\"type\":\"scattercarpet\",\"marker\":{\"colorbar\":{\"outlinewidth\":0,\"ticks\":\"\"}}}],\"carpet\":[{\"aaxis\":{\"endlinecolor\":\"#2a3f5f\",\"gridcolor\":\"white\",\"linecolor\":\"white\",\"minorgridcolor\":\"white\",\"startlinecolor\":\"#2a3f5f\"},\"baxis\":{\"endlinecolor\":\"#2a3f5f\",\"gridcolor\":\"white\",\"linecolor\":\"white\",\"minorgridcolor\":\"white\",\"startlinecolor\":\"#2a3f5f\"},\"type\":\"carpet\"}],\"table\":[{\"cells\":{\"fill\":{\"color\":\"#EBF0F8\"},\"line\":{\"color\":\"white\"}},\"header\":{\"fill\":{\"color\":\"#C8D4E3\"},\"line\":{\"color\":\"white\"}},\"type\":\"table\"}],\"barpolar\":[{\"marker\":{\"line\":{\"color\":\"#E5ECF6\",\"width\":0.5},\"pattern\":{\"fillmode\":\"overlay\",\"size\":10,\"solidity\":0.2}},\"type\":\"barpolar\"}],\"pie\":[{\"automargin\":true,\"type\":\"pie\"}]},\"layout\":{\"autotypenumbers\":\"strict\",\"colorway\":[\"#636efa\",\"#EF553B\",\"#00cc96\",\"#ab63fa\",\"#FFA15A\",\"#19d3f3\",\"#FF6692\",\"#B6E880\",\"#FF97FF\",\"#FECB52\"],\"font\":{\"color\":\"#2a3f5f\"},\"hovermode\":\"closest\",\"hoverlabel\":{\"align\":\"left\"},\"paper_bgcolor\":\"white\",\"plot_bgcolor\":\"#E5ECF6\",\"polar\":{\"bgcolor\":\"#E5ECF6\",\"angularaxis\":{\"gridcolor\":\"white\",\"linecolor\":\"white\",\"ticks\":\"\"},\"radialaxis\":{\"gridcolor\":\"white\",\"linecolor\":\"white\",\"ticks\":\"\"}},\"ternary\":{\"bgcolor\":\"#E5ECF6\",\"aaxis\":{\"gridcolor\":\"white\",\"linecolor\":\"white\",\"ticks\":\"\"},\"baxis\":{\"gridcolor\":\"white\",\"linecolor\":\"white\",\"ticks\":\"\"},\"caxis\":{\"gridcolor\":\"white\",\"linecolor\":\"white\",\"ticks\":\"\"}},\"coloraxis\":{\"colorbar\":{\"outlinewidth\":0,\"ticks\":\"\"}},\"colorscale\":{\"sequential\":[[0.0,\"#0d0887\"],[0.1111111111111111,\"#46039f\"],[0.2222222222222222,\"#7201a8\"],[0.3333333333333333,\"#9c179e\"],[0.4444444444444444,\"#bd3786\"],[0.5555555555555556,\"#d8576b\"],[0.6666666666666666,\"#ed7953\"],[0.7777777777777778,\"#fb9f3a\"],[0.8888888888888888,\"#fdca26\"],[1.0,\"#f0f921\"]],\"sequentialminus\":[[0.0,\"#0d0887\"],[0.1111111111111111,\"#46039f\"],[0.2222222222222222,\"#7201a8\"],[0.3333333333333333,\"#9c179e\"],[0.4444444444444444,\"#bd3786\"],[0.5555555555555556,\"#d8576b\"],[0.6666666666666666,\"#ed7953\"],[0.7777777777777778,\"#fb9f3a\"],[0.8888888888888888,\"#fdca26\"],[1.0,\"#f0f921\"]],\"diverging\":[[0,\"#8e0152\"],[0.1,\"#c51b7d\"],[0.2,\"#de77ae\"],[0.3,\"#f1b6da\"],[0.4,\"#fde0ef\"],[0.5,\"#f7f7f7\"],[0.6,\"#e6f5d0\"],[0.7,\"#b8e186\"],[0.8,\"#7fbc41\"],[0.9,\"#4d9221\"],[1,\"#276419\"]]},\"xaxis\":{\"gridcolor\":\"white\",\"linecolor\":\"white\",\"ticks\":\"\",\"title\":{\"standoff\":15},\"zerolinecolor\":\"white\",\"automargin\":true,\"zerolinewidth\":2},\"yaxis\":{\"gridcolor\":\"white\",\"linecolor\":\"white\",\"ticks\":\"\",\"title\":{\"standoff\":15},\"zerolinecolor\":\"white\",\"automargin\":true,\"zerolinewidth\":2},\"scene\":{\"xaxis\":{\"backgroundcolor\":\"#E5ECF6\",\"gridcolor\":\"white\",\"linecolor\":\"white\",\"showbackground\":true,\"ticks\":\"\",\"zerolinecolor\":\"white\",\"gridwidth\":2},\"yaxis\":{\"backgroundcolor\":\"#E5ECF6\",\"gridcolor\":\"white\",\"linecolor\":\"white\",\"showbackground\":true,\"ticks\":\"\",\"zerolinecolor\":\"white\",\"gridwidth\":2},\"zaxis\":{\"backgroundcolor\":\"#E5ECF6\",\"gridcolor\":\"white\",\"linecolor\":\"white\",\"showbackground\":true,\"ticks\":\"\",\"zerolinecolor\":\"white\",\"gridwidth\":2}},\"shapedefaults\":{\"line\":{\"color\":\"#2a3f5f\"}},\"annotationdefaults\":{\"arrowcolor\":\"#2a3f5f\",\"arrowhead\":0,\"arrowwidth\":1},\"geo\":{\"bgcolor\":\"white\",\"landcolor\":\"#E5ECF6\",\"subunitcolor\":\"white\",\"showland\":true,\"showlakes\":true,\"lakecolor\":\"white\"},\"title\":{\"x\":0.05},\"mapbox\":{\"style\":\"light\"}}},\"xaxis\":{\"anchor\":\"y\",\"domain\":[0.0,1.0],\"title\":{\"text\":\"Age\"}},\"yaxis\":{\"anchor\":\"x\",\"domain\":[0.0,1.0],\"title\":{\"text\":\"Fare\"}},\"coloraxis\":{\"colorbar\":{\"title\":{\"text\":\"Survived\"}},\"colorscale\":[[0.0,\"#0d0887\"],[0.1111111111111111,\"#46039f\"],[0.2222222222222222,\"#7201a8\"],[0.3333333333333333,\"#9c179e\"],[0.4444444444444444,\"#bd3786\"],[0.5555555555555556,\"#d8576b\"],[0.6666666666666666,\"#ed7953\"],[0.7777777777777778,\"#fb9f3a\"],[0.8888888888888888,\"#fdca26\"],[1.0,\"#f0f921\"]]},\"legend\":{\"tracegroupgap\":0},\"title\":{\"text\":\"Age vs. Fare\"}},                        {\"responsive\": true}                    ).then(function(){\n",
              "                            \n",
              "var gd = document.getElementById('5a91c1fd-3e43-472a-9172-8854b0a61685');\n",
              "var x = new MutationObserver(function (mutations, observer) {{\n",
              "        var display = window.getComputedStyle(gd).display;\n",
              "        if (!display || display === 'none') {{\n",
              "            console.log([gd, 'removed!']);\n",
              "            Plotly.purge(gd);\n",
              "            observer.disconnect();\n",
              "        }}\n",
              "}});\n",
              "\n",
              "// Listen for the removal of the full notebook cells\n",
              "var notebookContainer = gd.closest('#notebook-container');\n",
              "if (notebookContainer) {{\n",
              "    x.observe(notebookContainer, {childList: true});\n",
              "}}\n",
              "\n",
              "// Listen for the clearing of the current output cell\n",
              "var outputEl = gd.closest('.output');\n",
              "if (outputEl) {{\n",
              "    x.observe(outputEl, {childList: true});\n",
              "}}\n",
              "\n",
              "                        })                };                            </script>        </div>\n",
              "</body>\n",
              "</html>"
            ]
          },
          "metadata": {}
        }
      ]
    },
    {
      "cell_type": "code",
      "source": [
        "fig = px.scatter_3d(df, x='Age', y='Fare', z='Pclass', color='Survived', title='3D Scatter Plot')\n",
        "fig.show()\n"
      ],
      "metadata": {
        "colab": {
          "base_uri": "https://localhost:8080/",
          "height": 542
        },
        "id": "_xaSj2liFhRv",
        "outputId": "e667f375-841d-4f09-8b5d-8f041c5a666d"
      },
      "id": "_xaSj2liFhRv",
      "execution_count": null,
      "outputs": [
        {
          "output_type": "display_data",
          "data": {
            "text/html": [
              "<html>\n",
              "<head><meta charset=\"utf-8\" /></head>\n",
              "<body>\n",
              "    <div>            <script src=\"https://cdnjs.cloudflare.com/ajax/libs/mathjax/2.7.5/MathJax.js?config=TeX-AMS-MML_SVG\"></script><script type=\"text/javascript\">if (window.MathJax && window.MathJax.Hub && window.MathJax.Hub.Config) {window.MathJax.Hub.Config({SVG: {font: \"STIX-Web\"}});}</script>                <script type=\"text/javascript\">window.PlotlyConfig = {MathJaxConfig: 'local'};</script>\n",
              "        <script src=\"https://cdn.plot.ly/plotly-2.18.2.min.js\"></script>                <div id=\"e1f3040b-6e25-49f6-983a-0c8456e55ce7\" class=\"plotly-graph-div\" style=\"height:525px; width:100%;\"></div>            <script type=\"text/javascript\">                                    window.PLOTLYENV=window.PLOTLYENV || {};                                    if (document.getElementById(\"e1f3040b-6e25-49f6-983a-0c8456e55ce7\")) {                    Plotly.newPlot(                        \"e1f3040b-6e25-49f6-983a-0c8456e55ce7\",                        [{\"hovertemplate\":\"Age=%{x}<br>Fare=%{y}<br>Pclass=%{z}<br>Survived=%{marker.color}<extra></extra>\",\"legendgroup\":\"\",\"marker\":{\"color\":[0.0,1.0,1.0,1.0,0.0,0.0,0.0,0.0,1.0,1.0,1.0,1.0,0.0,0.0,0.0,1.0,0.0,1.0,0.0,1.0,0.0,1.0,1.0,1.0,0.0,1.0,0.0,0.0,1.0,0.0,0.0,1.0,1.0,0.0,0.0,0.0,1.0,0.0,0.0,1.0,0.0,0.0,0.0,1.0,1.0,0.0,0.0,1.0,0.0,0.0,0.0,0.0,1.0,1.0,0.0,1.0,1.0,0.0,1.0,0.0,0.0,1.0,0.0,0.0,0.0,1.0,1.0,0.0,1.0,0.0,0.0,0.0,0.0,0.0,1.0,0.0,0.0,0.0,1.0,1.0,0.0,1.0,1.0,0.0,1.0,1.0,0.0,0.0,1.0,0.0,0.0,0.0,0.0,0.0,0.0,0.0,0.0,1.0,1.0,0.0,0.0,0.0,0.0,0.0,0.0,0.0,1.0,1.0,0.0,1.0,0.0,0.0,0.0,0.0,0.0,0.0,0.0,0.0,0.0,0.0,0.0,0.0,0.0,1.0,0.0,1.0,0.0,1.0,1.0,0.0,0.0,0.0,0.0,1.0,0.0,0.0,1.0,0.0,0.0,0.0,0.0,1.0,1.0,0.0,0.0,0.0,1.0,0.0,0.0,0.0,0.0,1.0,0.0,0.0,0.0,0.0,1.0,0.0,0.0,0.0,0.0,1.0,0.0,0.0,0.0,1.0,1.0,0.0,0.0,0.0,0.0,0.0,1.0,0.0,0.0,0.0,0.0,0.0,0.0,0.0,0.0,0.0,0.0,1.0,1.0,0.0,1.0,1.0,0.0,0.0,1.0,0.0,1.0,1.0,1.0,1.0,0.0,0.0,1.0,0.0,0.0,0.0,0.0,0.0,1.0,0.0,0.0,1.0,1.0,1.0,0.0,1.0,0.0,0.0,0.0,1.0,1.0,0.0,1.0,0.0,1.0,0.0,0.0,0.0,1.0,0.0,1.0,0.0,0.0,0.0,1.0,0.0,0.0,1.0,0.0,0.0,0.0,1.0,0.0,0.0,0.0,1.0,0.0,0.0,0.0,0.0,0.0,1.0,1.0,0.0,0.0,0.0,0.0,0.0,0.0,1.0,1.0,1.0,1.0,1.0,0.0,1.0,0.0,0.0,0.0,0.0,0.0,1.0,1.0,1.0,0.0,1.0,1.0,0.0,1.0,1.0,0.0,0.0,0.0,1.0,0.0,0.0,0.0,1.0,0.0,0.0,1.0,0.0,1.0,1.0,1.0,1.0,0.0,0.0,0.0,0.0,0.0,0.0,1.0,1.0,1.0,1.0,0.0,1.0,0.0,1.0,1.0,1.0,0.0,1.0,1.0,1.0,0.0,0.0,0.0,1.0,1.0,0.0,1.0,1.0,0.0,0.0,1.0,1.0,0.0,1.0,0.0,1.0,1.0,1.0,1.0,0.0,0.0,0.0,1.0,0.0,0.0,1.0,1.0,0.0,1.0,1.0,0.0,0.0,0.0,1.0,1.0,1.0,1.0,0.0,0.0,0.0,0.0,0.0,0.0,0.0,1.0,0.0,1.0,1.0,0.0,0.0,0.0,0.0,0.0,0.0,1.0,1.0,1.0,1.0,1.0,0.0,0.0,0.0,0.0,1.0,1.0,0.0,0.0,0.0,1.0,1.0,0.0,1.0,0.0,0.0,0.0,1.0,0.0,1.0,1.0,1.0,0.0,1.0,1.0,0.0,0.0,0.0,0.0,1.0,1.0,0.0,0.0,0.0,0.0,0.0,0.0,1.0,0.0,0.0,0.0,0.0,1.0,0.0,1.0,0.0,1.0,1.0,0.0,0.0,0.0,0.0,0.0,0.0,0.0,0.0,1.0,1.0,0.0,1.0,1.0,1.0,1.0,0.0,0.0,1.0,0.0,1.0,0.0,0.0,1.0,0.0,0.0,1.0,1.0,1.0,1.0,1.0,1.0,1.0,0.0,0.0,0.0,1.0,0.0,1.0,0.0,1.0,1.0,0.0,1.0,0.0,0.0,0.0,0.0,0.0,0.0,0.0,0.0,1.0,0.0,0.0,1.0,1.0,0.0,0.0,0.0,0.0,0.0,1.0,0.0,0.0,0.0,1.0,1.0,0.0,1.0,0.0,0.0,1.0,0.0,0.0,0.0,0.0,0.0,0.0,1.0,0.0,0.0,0.0,0.0,0.0,0.0,0.0,1.0,0.0,1.0,1.0,0.0,1.0,1.0,0.0,1.0,1.0,0.0,0.0,1.0,0.0,1.0,0.0,1.0,0.0,0.0,1.0,0.0,0.0,1.0,0.0,0.0,0.0,1.0,0.0,0.0,1.0,0.0,1.0,0.0,1.0,0.0,1.0,1.0,0.0,0.0,1.0,0.0,0.0,1.0,1.0,0.0,1.0,1.0,0.0,0.0,1.0,1.0,0.0,1.0,0.0,1.0,1.0,0.0,0.0,0.0,0.0,0.0,0.0,0.0,0.0,0.0,1.0,1.0,1.0,1.0,1.0,0.0,0.0,1.0,1.0,0.0,1.0,1.0,1.0,0.0,0.0,0.0,1.0,0.0,1.0,0.0,0.0,0.0,1.0,0.0,0.0,0.0,0.0,1.0,0.0,0.0,1.0,1.0,0.0,0.0,0.0,1.0,0.0,0.0,1.0,1.0,1.0,0.0,0.0,1.0,0.0,0.0,1.0,0.0,0.0,1.0,0.0,0.0,1.0,1.0,0.0,0.0,0.0,0.0,1.0,0.0,0.0,1.0,0.0,1.0,0.0,0.0,1.0,0.0,0.0,0.0,0.0,0.0,1.0,0.0,1.0,1.0,1.0,0.0,1.0,0.0,1.0,0.0,1.0,0.0,1.0,0.0,0.0,0.0,0.0,0.0,0.0,1.0,0.0,0.0,0.0,1.0,0.0,0.0,0.0,0.0,1.0,1.0,0.0,0.0,1.0,0.0,0.0,0.0,1.0,0.0,1.0,0.0,1.0,0.0,0.0,0.0,0.0,0.0,0.0,0.0,1.0,1.0,1.0,1.0,0.0,0.0,0.0,0.0,1.0,0.0,0.0,1.0,1.0,0.0,0.0,0.0,0.0,1.0,1.0,1.0,1.0,1.0,0.0,1.0,0.0,0.0,0.0,1.0,1.0,0.0,0.0,1.0,0.0,0.0,0.0,1.0,0.0,1.0,1.0,0.0,0.0,1.0,0.0,0.0,0.0,0.0,0.0,0.0,1.0,0.0,0.0,1.0,0.0,1.0,0.0,1.0,0.0,0.0,1.0,0.0,0.0,1.0,1.0,0.0,0.0,1.0,1.0,0.0,0.0,0.0,1.0,0.0,0.0,1.0,1.0,0.0,1.0,0.0,0.0,0.0,0.0,0.0,0.0,0.0,0.0,1.0,0.0,0.0,1.0,0.0,1.0,1.0,1.0,0.0,0.0,0.0,0.0,1.0,0.0,1.0,0.0,0.0,0.0,0.0,0.0,0.0,0.0,1.0,1.0,0.0,0.0,0.0,1.0,1.0,1.0,1.0,0.0,0.0,0.0,0.0,1.0,0.0,0.0,0.0,0.0,0.0,0.0,0.0,0.0,0.0,0.0,1.0,1.0,0.0,1.0,0.0,0.0,0.0,1.0,1.0,1.0,1.0,1.0,0.0,0.0,0.0,1.0,0.0,0.0,1.0,1.0,0.0,0.0,1.0,0.0,0.0,0.0,0.0,0.0,0.0,1.0,0.0,0.0,0.0,1.0,0.0,1.0,1.0,1.0,1.0,0.0,0.0,0.0,1.0,0.0,0.0,1.0,1.0,0.0,0.0,1.0,0.0,1.0,0.0,0.0,1.0,1.0,0.0,0.0,0.0,1.0,1.0,0.0,0.0,0.0,0.0,0.0,0.0,1.0,0.0,1.0,0.0,null,null,null,null,null,null,null,null,null,null,null,null,null,null,null,null,null,null,null,null,null,null,null,null,null,null,null,null,null,null,null,null,null,null,null,null,null,null,null,null,null,null,null,null,null,null,null,null,null,null,null,null,null,null,null,null,null,null,null,null,null,null,null,null,null,null,null,null,null,null,null,null,null,null,null,null,null,null,null,null,null,null,null,null,null,null,null,null,null,null,null,null,null,null,null,null,null,null,null,null,null,null,null,null,null,null,null,null,null,null,null,null,null,null,null,null,null,null,null,null,null,null,null,null,null,null,null,null,null,null,null,null,null,null,null,null,null,null,null,null,null,null,null,null,null,null,null,null,null,null,null,null,null,null,null,null,null,null,null,null,null,null,null,null,null,null,null,null,null,null,null,null,null,null,null,null,null,null,null,null,null,null,null,null,null,null,null,null,null,null,null,null,null,null,null,null,null,null,null,null,null,null,null,null,null,null,null,null,null,null,null,null,null,null,null,null,null,null,null,null,null,null,null,null,null,null,null,null,null,null,null,null,null,null,null,null,null,null,null,null,null,null,null,null,null,null,null,null,null,null,null,null,null,null,null,null,null,null,null,null,null,null,null,null,null,null,null,null,null,null,null,null,null,null,null,null,null,null,null,null,null,null,null,null,null,null,null,null,null,null,null,null,null,null,null,null,null,null,null,null,null,null,null,null,null,null,null,null,null,null,null,null,null,null,null,null,null,null,null,null,null,null,null,null,null,null,null,null,null,null,null,null,null,null,null,null,null,null,null,null,null,null,null,null,null,null,null,null,null,null,null,null,null,null,null,null,null,null,null,null,null,null,null,null,null,null,null,null,null,null,null,null,null,null,null,null,null,null,null,null,null,null,null,null,null,null,null,null,null,null,null,null,null,null,null,null,null,null,null,null,null,null,null,null,null,null,null,null,null,null,null,null,null,null,null,null,null,null],\"coloraxis\":\"coloraxis\",\"symbol\":\"circle\"},\"mode\":\"markers\",\"name\":\"\",\"scene\":\"scene\",\"showlegend\":false,\"x\":[22.0,38.0,26.0,35.0,35.0,29.881137667304014,54.0,2.0,27.0,14.0,4.0,58.0,20.0,39.0,14.0,55.0,2.0,29.881137667304014,31.0,29.881137667304014,35.0,34.0,15.0,28.0,8.0,38.0,29.881137667304014,19.0,29.881137667304014,29.881137667304014,40.0,29.881137667304014,29.881137667304014,66.0,28.0,42.0,29.881137667304014,21.0,18.0,14.0,40.0,27.0,29.881137667304014,3.0,19.0,29.881137667304014,29.881137667304014,29.881137667304014,29.881137667304014,18.0,7.0,21.0,49.0,29.0,65.0,29.881137667304014,21.0,28.5,5.0,11.0,22.0,38.0,45.0,4.0,29.881137667304014,29.881137667304014,29.0,19.0,17.0,26.0,32.0,16.0,21.0,26.0,32.0,25.0,29.881137667304014,29.881137667304014,0.83,30.0,22.0,29.0,29.881137667304014,28.0,17.0,33.0,16.0,29.881137667304014,23.0,24.0,29.0,20.0,46.0,26.0,59.0,29.881137667304014,71.0,23.0,34.0,34.0,28.0,29.881137667304014,21.0,33.0,37.0,28.0,21.0,29.881137667304014,38.0,29.881137667304014,47.0,14.5,22.0,20.0,17.0,21.0,70.5,29.0,24.0,2.0,21.0,29.881137667304014,32.5,32.5,54.0,12.0,29.881137667304014,24.0,29.881137667304014,45.0,33.0,20.0,47.0,29.0,25.0,23.0,19.0,37.0,16.0,24.0,29.881137667304014,22.0,24.0,19.0,18.0,19.0,27.0,9.0,36.5,42.0,51.0,22.0,55.5,40.5,29.881137667304014,51.0,16.0,30.0,29.881137667304014,29.881137667304014,44.0,40.0,26.0,17.0,1.0,9.0,29.881137667304014,45.0,29.881137667304014,28.0,61.0,4.0,1.0,21.0,56.0,18.0,29.881137667304014,50.0,30.0,36.0,29.881137667304014,29.881137667304014,9.0,1.0,4.0,29.881137667304014,29.881137667304014,45.0,40.0,36.0,32.0,19.0,19.0,3.0,44.0,58.0,29.881137667304014,42.0,29.881137667304014,24.0,28.0,29.881137667304014,34.0,45.5,18.0,2.0,32.0,26.0,16.0,40.0,24.0,35.0,22.0,30.0,29.881137667304014,31.0,27.0,42.0,32.0,30.0,16.0,27.0,51.0,29.881137667304014,38.0,22.0,19.0,20.5,18.0,29.881137667304014,35.0,29.0,59.0,5.0,24.0,29.881137667304014,44.0,8.0,19.0,33.0,29.881137667304014,29.881137667304014,29.0,22.0,30.0,44.0,25.0,24.0,37.0,54.0,29.881137667304014,29.0,62.0,30.0,41.0,29.0,29.881137667304014,30.0,35.0,50.0,29.881137667304014,3.0,52.0,40.0,29.881137667304014,36.0,16.0,25.0,58.0,35.0,29.881137667304014,25.0,41.0,37.0,29.881137667304014,63.0,45.0,29.881137667304014,7.0,35.0,65.0,28.0,16.0,19.0,29.881137667304014,33.0,30.0,22.0,42.0,22.0,26.0,19.0,36.0,24.0,24.0,29.881137667304014,23.5,2.0,29.881137667304014,50.0,29.881137667304014,29.881137667304014,19.0,29.881137667304014,29.881137667304014,0.92,29.881137667304014,17.0,30.0,30.0,24.0,18.0,26.0,28.0,43.0,26.0,24.0,54.0,31.0,40.0,22.0,27.0,30.0,22.0,29.881137667304014,36.0,61.0,36.0,31.0,16.0,29.881137667304014,45.5,38.0,16.0,29.881137667304014,29.881137667304014,29.0,41.0,45.0,45.0,2.0,24.0,28.0,25.0,36.0,24.0,40.0,29.881137667304014,3.0,42.0,23.0,29.881137667304014,15.0,25.0,29.881137667304014,28.0,22.0,38.0,29.881137667304014,29.881137667304014,40.0,29.0,45.0,35.0,29.881137667304014,30.0,60.0,29.881137667304014,29.881137667304014,24.0,25.0,18.0,19.0,22.0,3.0,29.881137667304014,22.0,27.0,20.0,19.0,42.0,1.0,32.0,35.0,29.881137667304014,18.0,1.0,36.0,29.881137667304014,17.0,36.0,21.0,28.0,23.0,24.0,22.0,31.0,46.0,23.0,28.0,39.0,26.0,21.0,28.0,20.0,34.0,51.0,3.0,21.0,29.881137667304014,29.881137667304014,29.881137667304014,33.0,29.881137667304014,44.0,29.881137667304014,34.0,18.0,30.0,10.0,29.881137667304014,21.0,29.0,28.0,18.0,29.881137667304014,28.0,19.0,29.881137667304014,32.0,28.0,29.881137667304014,42.0,17.0,50.0,14.0,21.0,24.0,64.0,31.0,45.0,20.0,25.0,28.0,29.881137667304014,4.0,13.0,34.0,5.0,52.0,36.0,29.881137667304014,30.0,49.0,29.881137667304014,29.0,65.0,29.881137667304014,50.0,29.881137667304014,48.0,34.0,47.0,48.0,29.881137667304014,38.0,29.881137667304014,56.0,29.881137667304014,0.75,29.881137667304014,38.0,33.0,23.0,22.0,29.881137667304014,34.0,29.0,22.0,2.0,9.0,29.881137667304014,50.0,63.0,25.0,29.881137667304014,35.0,58.0,30.0,9.0,29.881137667304014,21.0,55.0,71.0,21.0,29.881137667304014,54.0,29.881137667304014,25.0,24.0,17.0,21.0,29.881137667304014,37.0,16.0,18.0,33.0,29.881137667304014,28.0,26.0,29.0,29.881137667304014,36.0,54.0,24.0,47.0,34.0,29.881137667304014,36.0,32.0,30.0,22.0,29.881137667304014,44.0,29.881137667304014,40.5,50.0,29.881137667304014,39.0,23.0,2.0,29.881137667304014,17.0,29.881137667304014,30.0,7.0,45.0,30.0,29.881137667304014,22.0,36.0,9.0,11.0,32.0,50.0,64.0,19.0,29.881137667304014,33.0,8.0,17.0,27.0,29.881137667304014,22.0,22.0,62.0,48.0,29.881137667304014,39.0,36.0,29.881137667304014,40.0,28.0,29.881137667304014,29.881137667304014,24.0,19.0,29.0,29.881137667304014,32.0,62.0,53.0,36.0,29.881137667304014,16.0,19.0,34.0,39.0,29.881137667304014,32.0,25.0,39.0,54.0,36.0,29.881137667304014,18.0,47.0,60.0,22.0,29.881137667304014,35.0,52.0,47.0,29.881137667304014,37.0,36.0,29.881137667304014,49.0,29.881137667304014,49.0,24.0,29.881137667304014,29.881137667304014,44.0,35.0,36.0,30.0,27.0,22.0,40.0,39.0,29.881137667304014,29.881137667304014,29.881137667304014,35.0,24.0,34.0,26.0,4.0,26.0,27.0,42.0,20.0,21.0,21.0,61.0,57.0,21.0,26.0,29.881137667304014,80.0,51.0,32.0,29.881137667304014,9.0,28.0,32.0,31.0,41.0,29.881137667304014,20.0,24.0,2.0,29.881137667304014,0.75,48.0,19.0,56.0,29.881137667304014,23.0,29.881137667304014,18.0,21.0,29.881137667304014,18.0,24.0,29.881137667304014,32.0,23.0,58.0,50.0,40.0,47.0,36.0,20.0,32.0,25.0,29.881137667304014,43.0,29.881137667304014,40.0,31.0,70.0,31.0,29.881137667304014,18.0,24.5,18.0,43.0,36.0,29.881137667304014,27.0,20.0,14.0,60.0,25.0,14.0,19.0,18.0,15.0,31.0,4.0,29.881137667304014,25.0,60.0,52.0,44.0,29.881137667304014,49.0,42.0,18.0,35.0,18.0,25.0,26.0,39.0,45.0,42.0,22.0,29.881137667304014,24.0,29.881137667304014,48.0,29.0,52.0,19.0,38.0,27.0,29.881137667304014,33.0,6.0,17.0,34.0,50.0,27.0,20.0,30.0,29.881137667304014,25.0,25.0,29.0,11.0,29.881137667304014,23.0,23.0,28.5,48.0,35.0,29.881137667304014,29.881137667304014,29.881137667304014,36.0,21.0,24.0,31.0,70.0,16.0,30.0,19.0,31.0,4.0,6.0,33.0,23.0,48.0,0.67,28.0,18.0,34.0,33.0,29.881137667304014,41.0,20.0,36.0,16.0,51.0,29.881137667304014,30.5,29.881137667304014,32.0,24.0,48.0,57.0,29.881137667304014,54.0,18.0,29.881137667304014,5.0,29.881137667304014,43.0,13.0,17.0,29.0,29.881137667304014,25.0,25.0,18.0,8.0,1.0,46.0,29.881137667304014,16.0,29.881137667304014,29.881137667304014,25.0,39.0,49.0,31.0,30.0,30.0,34.0,31.0,11.0,0.42,27.0,31.0,39.0,18.0,39.0,33.0,26.0,39.0,35.0,6.0,30.5,29.881137667304014,23.0,31.0,43.0,10.0,52.0,27.0,38.0,27.0,2.0,29.881137667304014,29.881137667304014,1.0,29.881137667304014,62.0,15.0,0.83,29.881137667304014,23.0,18.0,39.0,21.0,29.881137667304014,32.0,29.881137667304014,20.0,16.0,30.0,34.5,17.0,42.0,29.881137667304014,35.0,28.0,29.881137667304014,4.0,74.0,9.0,16.0,44.0,18.0,45.0,51.0,24.0,29.881137667304014,41.0,21.0,48.0,29.881137667304014,24.0,42.0,27.0,31.0,29.881137667304014,4.0,26.0,47.0,33.0,47.0,28.0,15.0,20.0,19.0,29.881137667304014,56.0,25.0,33.0,22.0,28.0,25.0,39.0,27.0,19.0,29.881137667304014,26.0,32.0,34.5,47.0,62.0,27.0,22.0,14.0,30.0,26.0,18.0,21.0,29.881137667304014,46.0,23.0,63.0,47.0,24.0,35.0,21.0,27.0,45.0,55.0,9.0,29.881137667304014,21.0,48.0,50.0,22.0,22.5,41.0,29.881137667304014,50.0,24.0,33.0,29.881137667304014,30.0,18.5,29.881137667304014,21.0,25.0,29.881137667304014,39.0,29.881137667304014,41.0,30.0,45.0,25.0,45.0,29.881137667304014,60.0,36.0,24.0,27.0,20.0,28.0,29.881137667304014,10.0,35.0,25.0,29.881137667304014,36.0,17.0,32.0,18.0,22.0,13.0,29.881137667304014,18.0,47.0,31.0,60.0,24.0,21.0,29.0,28.5,35.0,32.5,29.881137667304014,55.0,30.0,24.0,6.0,67.0,49.0,29.881137667304014,29.881137667304014,29.881137667304014,27.0,18.0,29.881137667304014,2.0,22.0,29.881137667304014,27.0,29.881137667304014,25.0,25.0,76.0,29.0,20.0,33.0,43.0,27.0,29.881137667304014,26.0,16.0,28.0,21.0,29.881137667304014,29.881137667304014,18.5,41.0,29.881137667304014,36.0,18.5,63.0,18.0,29.881137667304014,1.0,36.0,29.0,12.0,29.881137667304014,35.0,28.0,29.881137667304014,17.0,22.0,29.881137667304014,42.0,24.0,32.0,53.0,29.881137667304014,29.881137667304014,43.0,24.0,26.5,26.0,23.0,40.0,10.0,33.0,61.0,28.0,42.0,31.0,29.881137667304014,22.0,29.881137667304014,30.0,23.0,29.881137667304014,60.5,36.0,13.0,24.0,29.0,23.0,42.0,26.0,29.881137667304014,7.0,26.0,29.881137667304014,41.0,26.0,48.0,18.0,29.881137667304014,22.0,29.881137667304014,27.0,23.0,29.881137667304014,40.0,15.0,20.0,54.0,36.0,64.0,30.0,37.0,18.0,29.881137667304014,27.0,40.0,21.0,17.0,29.881137667304014,40.0,34.0,29.881137667304014,11.5,61.0,8.0,33.0,6.0,18.0,23.0,29.881137667304014,29.881137667304014,0.33,47.0,8.0,25.0,29.881137667304014,35.0,24.0,33.0,25.0,32.0,29.881137667304014,17.0,60.0,38.0,42.0,29.881137667304014,57.0,50.0,29.881137667304014,30.0,21.0,22.0,21.0,53.0,29.881137667304014,23.0,29.881137667304014,40.5,36.0,14.0,21.0,21.0,29.881137667304014,39.0,20.0,64.0,20.0,18.0,48.0,55.0,45.0,45.0,29.881137667304014,29.881137667304014,41.0,22.0,42.0,29.0,29.881137667304014,0.92,20.0,27.0,24.0,32.5,29.881137667304014,29.881137667304014,28.0,19.0,21.0,36.5,21.0,29.0,1.0,30.0,29.881137667304014,29.881137667304014,29.881137667304014,29.881137667304014,17.0,46.0,29.881137667304014,26.0,29.881137667304014,29.881137667304014,20.0,28.0,40.0,30.0,22.0,23.0,0.75,29.881137667304014,9.0,2.0,36.0,29.881137667304014,24.0,29.881137667304014,29.881137667304014,29.881137667304014,30.0,29.881137667304014,53.0,36.0,26.0,1.0,29.881137667304014,30.0,29.0,32.0,29.881137667304014,43.0,24.0,29.881137667304014,64.0,30.0,0.83,55.0,45.0,18.0,22.0,29.881137667304014,37.0,55.0,17.0,57.0,19.0,27.0,22.0,26.0,25.0,26.0,33.0,39.0,23.0,12.0,46.0,29.0,21.0,48.0,39.0,29.881137667304014,19.0,27.0,30.0,32.0,39.0,25.0,29.881137667304014,18.0,32.0,29.881137667304014,58.0,29.881137667304014,16.0,26.0,38.0,24.0,31.0,45.0,25.0,18.0,49.0,0.17,50.0,59.0,29.881137667304014,29.881137667304014,30.0,14.5,24.0,31.0,27.0,25.0,29.881137667304014,29.881137667304014,22.0,45.0,29.0,21.0,31.0,49.0,44.0,54.0,45.0,22.0,21.0,55.0,5.0,29.881137667304014,26.0,29.881137667304014,19.0,29.881137667304014,24.0,24.0,57.0,21.0,6.0,23.0,51.0,13.0,47.0,29.0,18.0,24.0,48.0,22.0,31.0,30.0,38.0,22.0,17.0,43.0,20.0,23.0,50.0,29.881137667304014,3.0,29.881137667304014,37.0,28.0,29.881137667304014,39.0,38.5,29.881137667304014,29.881137667304014],\"y\":[2.1102132003465894,4.2805931204649,2.188856327665703,3.9908341858524357,2.2027647577118348,2.246892662898172,3.967694202798607,3.0944457464900235,2.495953738718064,3.436268471383741,2.8735646395797834,3.3160025355989236,2.2027647577118348,3.4742929367327062,2.180891922715322,2.833213344056216,3.405355391810819,2.6390573296152584,2.9444389791664403,2.1071782966514356,3.295836866004329,2.6390573296152584,2.2004637699272855,3.597312260588446,3.0944457464900235,3.4777725458882283,2.1071782966514356,5.575949103146316,2.1837114628556327,2.1855792552411137,3.357621598945279,4.993969182787072,2.169053700369523,2.4423470353692043,4.420896324687287,3.970291913552122,2.1076888046179385,2.2027647577118348,2.9444389791664403,2.5048481563289,2.348991465808201,3.091042453358316,2.1855792552411137,3.7513658711253766,2.1837114628556327,2.2027647577118348,2.803360380906535,2.169053700369523,3.1214482048688246,2.9338568698359038,3.705920919968788,2.174751721484161,4.353230991152628,3.295836866004329,4.142804513146981,3.597312260588446,2.4423470353692043,2.1076888046179385,3.3586377672433594,3.8691155044168695,2.1076888046179385,4.394449154672439,4.436455632600354,3.3638415951183864,3.357621598945279,2.7878344138303452,2.4423470353692043,2.2146605719425225,2.188856327665703,2.2682524139135403,2.4423470353692043,3.8691155044168695,4.310799125385514,2.737880811060884,4.05171190165724,2.157559320943788,2.1855792552411137,2.2027647577118348,3.4011973816621555,2.600836116795061,2.302585092994046,2.3513752571634776,2.1733302571367834,3.8732821771117156,2.4423470353692043,2.8243506567983707,3.5660053559634015,2.2027647577118348,5.575949103146316,2.2027647577118348,2.2027647577118348,2.180891922715322,4.1299529896894684,3.0715352369694915,2.1102132003465894,2.2027647577118348,3.57386695198272,4.164465907853638,3.1780538303479458,3.295836866004329,2.1855792552411137,2.1855792552411137,4.360387947851531,2.267393053825037,2.188856327665703,2.1855792552411137,2.157559320943788,2.1719067693519296,2.1855792552411137,3.224857896545748,3.970291913552122,2.737880811060884,2.2027647577118348,2.3818582738885534,2.738146075922933,2.188856327665703,2.169053700369523,3.091042453358316,5.515526544247129,3.4742929367327062,4.310799125385514,2.2027647577118348,3.436268471383741,2.6390573296152584,4.360387947851531,2.5048481563289,2.169053700369523,2.0969990034181696,3.1509523813392697,2.076311648670908,2.1855792552411137,2.0856720914304723,2.740840023925201,3.295836866004329,2.6390573296152584,2.775447133088262,3.3062747934011893,3.9908341858524357,2.3240236363515288,4.384523514872469,2.7878344138303452,2.169053700369523,2.8243506567983707,2.0476928433652555,2.5257286443082556,3.6309854756950335,2.174274334826008,3.5660053559634015,3.295836866004329,2.6390573296152584,2.6045398247325453,4.213607983048918,2.2027647577118348,2.740840023925201,2.1177604059819726,4.133231886474144,2.167143305297764,2.2027647577118348,2.2682524139135403,4.256321678298823,2.8390784635086144,2.8183982582710754,2.1719067693519296,2.2682524139135403,3.705920919968788,3.0692150503137943,4.02535169073515,3.3638415951183864,3.2930552230424524,4.05171190165724,3.5409593240373143,3.405355391810819,2.495953738718064,2.188856327665703,3.4561841799918147,2.180891922715322,3.275887339030031,3.391567832686312,2.6390573296152584,0.0,4.256321678298823,2.775708849576025,3.4777725458882283,3.6888794541139363,3.1365805821413706,3.9318256327243257,2.803360380906535,3.3160025355989236,2.803360380906535,2.1855792552411137,2.6390573296152584,2.6390573296152584,2.180891922715322,3.295836866004329,3.357621598945279,4.993969182787072,2.169053700369523,2.2411563979973974,2.169053700369523,2.6390573296152584,2.3513752571634776,4.256321678298823,2.0143428636837015,2.1071782966514356,2.2027647577118348,2.4390808375825834,2.8243506567983707,2.9850504252071306,2.169053700369523,3.4657359027997265,2.0856720914304723,3.091042453358316,2.1102132003465894,2.6390573296152584,2.169053700369523,4.738607824217808,2.188856327665703,3.332204510175204,4.347586575960343,2.4423470353692043,2.2027647577118348,2.6390573296152584,2.2027647577118348,2.1855792552411137,4.51085950651685,2.336986519711378,2.4423470353692043,2.1102132003465894,2.6390573296152584,3.275887339030031,4.436455632600354,2.1719067693519296,2.6741486494265287,3.4777725458882283,2.4423470353692043,2.145931282948669,3.295836866004329,3.305053521109253,2.4423470353692043,2.5858825671280026,2.737880811060884,2.803360380906535,2.4423470353692043,2.094945728215801,2.1071782966514356,4.51085950651685,2.1719067693519296,2.740840023925201,3.9806942251907276,3.295836866004329,2.1102132003465894,2.4390808375825834,3.3160025355989236,2.8390784635086144,3.0545906305603445,2.7878344138303452,4.384523514872469,4.471638793363569,6.240917354759096,3.295836866004329,2.169053700369523,3.4777725458882283,4.390118804571218,0.0,2.169053700369523,2.4423470353692043,3.705920919968788,2.1719067693519296,5.039951348430309,4.91730069488021,3.4657359027997265,0.0,3.0204248861443626,3.4242626545931514,2.169053700369523,4.368919865004903,2.169053700369523,0.0,3.405355391810819,3.056356895370426,2.169053700369523,2.180891922715322,2.3513752571634776,2.2027647577118348,3.295836866004329,2.2682524139135403,2.3513752571634776,2.1855792552411137,2.6390573296152584,2.169053700369523,4.380149874661021,4.5226490762785785,2.630088659632498,2.2874714551839976,2.1855792552411137,3.357621598945279,2.1076888046179385,5.027492411162679,3.449987545831587,5.515526544247129,2.169053700369523,3.188416617383492,0.0,2.5915163848462583,2.2027647577118348,5.027492411162679,4.717456363787216,4.699570861409576,3.2188758248682006,4.0592215752427645,4.432699549165613,5.5735788721243535,3.295836866004329,2.1855792552411137,3.305053521109253,2.180891922715322,3.295836866004329,2.70805020110221,5.11118445372147,4.908971640319756,2.1102132003465894,2.1855792552411137,2.5915163848462583,3.4011973816621555,4.256321678298823,4.91730069488021,1.9792758428991135,2.6390573296152584,3.0692150503137943,4.077184839375167,3.188416617383492,3.3843902633457743,5.039951348430309,2.9444389791664403,4.902678819257608,2.1855792552411137,4.213607983048918,4.908971640319756,2.2027647577118348,3.597312260588446,3.295836866004329,5.575949103146316,2.6390573296152584,2.6390573296152584,2.6390573296152584,2.6390573296152584,2.6390573296152584,2.8390784635086144,2.8273136219290276,2.2682524139135403,2.3248357019288655,3.58351893845611,2.1076888046179385,2.9338568698359038,2.1071782966514356,2.3513752571634776,4.02535169073515,2.6390573296152584,2.1837114628556327,2.1837114628556327,3.3638415951183864,3.357621598945279,2.737880811060884,2.0856720914304723,2.803360380906535,2.1102132003465894,4.334017415487521,2.1076888046179385,2.169053700369523,4.252771798816619,4.0332082470129285,2.0143428636837015,2.2027647577118348,4.91730069488021,3.0944457464900235,4.420896324687287,2.1102132003465894,5.358941988364472,1.6119347926326877,2.1719067693519296,5.4316456135398825,2.817902613071225,2.188856327665703,3.970291913552122,2.1855792552411137,4.310799125385514,3.8691155044168695,2.6390573296152584,2.1666737276227077,2.5649493574615367,4.795790545596741,2.174274334826008,2.188856327665703,4.738607824217808,2.8735646395797834,2.174274334826008,2.180891922715322,3.295836866004329,2.4423470353692043,2.613739521630969,2.188856327665703,2.2027647577118348,2.3818582738885534,2.8243506567983707,2.2682524139135403,3.091042453358316,2.169053700369523,2.9831534913471307,2.1719067693519296,3.275887339030031,2.1855792552411137,2.061570298060867,4.51085950651685,0.0,2.188856327665703,2.2027647577118348,3.5115454388310208,2.6390573296152584,2.6390573296152584,3.224857896545748,2.1855792552411137,2.167143305297764,2.1832383353614797,2.7343675094195836,3.0545906305603445,2.1102132003465894,3.295836866004329,3.295836866004329,2.169053700369523,2.2027647577118348,3.3160025355989236,2.8390784635086144,3.295836866004329,2.094945728215801,4.041295341132285,4.795790545596741,3.5660053559634015,2.9831534913471307,5.575949103146316,2.4423470353692043,3.305053521109253,2.3513752571634776,2.1719067693519296,2.6390573296152584,2.2096470973347766,4.417131919904876,3.0204248861443626,3.3160025355989236,3.0085645861193133,3.449987545831587,3.3586377672433594,3.0429354648621407,3.3586377672433594,4.500966778400217,2.2027647577118348,2.1855792552411137,3.3160025355989236,3.967694202798607,2.4423470353692043,2.169053700369523,3.3160025355989236,2.2027647577118348,3.676300671907076,2.6390573296152584,2.2027647577118348,2.0856720914304723,0.0,3.3160025355989236,2.1661924680884908,3.0085645861193133,2.1102132003465894,2.2682524139135403,3.3586377672433594,2.694066212646058,2.3830123421066602,3.970291913552122,3.091042453358316,2.0851502161468174,2.142510233146819,2.586823743668066,3.8691155044168695,0.0,2.2027647577118348,2.3596740599781727,4.5226490762785785,3.275887339030031,4.51085950651685,3.4242626545931514,2.2027647577118348,2.8273136219290276,3.0429354648621407,2.1102132003465894,3.449987545831587,3.922056501139853,2.2027647577118348,2.738146075922933,4.37281811610993,2.7788192719904172,5.027492411162679,2.174274334826008,2.2682524139135403,2.169053700369523,2.155151800914312,2.3596740599781727,4.471638793363569,4.699570861409576,3.295836866004329,3.3160025355989236,3.1580636854714434,4.05171190165724,2.169053700369523,2.2027647577118348,3.3064287218760624,4.100989104940769,2.139571923732859,3.5559421706858756,2.4423470353692043,3.224857896545748,3.295836866004329,2.1855792552411137,4.548599834499697,2.1855792552411137,2.1071782966514356,4.077184839375167,2.1076888046179385,2.169053700369523,2.4423470353692043,5.406181146423973,2.188856327665703,2.5257286443082556,3.295836866004329,2.1076888046179385,2.1076888046179385,3.1509523813392697,2.2682524139135403,3.305053521109253,3.3160025355989236,4.676792929661059,2.740840023925201,3.9219733362813143,4.276666119016055,3.4742929367327062,3.4742929367327062,3.295836866004329,4.676792929661059,3.295836866004329,3.295836866004329,2.6988412620169004,3.0692150503137943,3.6309854756950335,4.717456363787216,3.295836866004329,2.17806441028492,2.1071782966514356,2.1719067693519296,3.3160025355989236,3.703768066607687,5.4316456135398825,4.390118804571218,2.91235066461494,2.169053700369523,2.1855792552411137,2.6741486494265287,2.2027647577118348,2.2027647577118348,3.224857896545748,2.1855792552411137,3.0944457464900235,2.1076888046179385,2.180891922715322,2.4423470353692043,3.960416900617205,3.3100867049215847,2.169053700369523,2.2027647577118348,2.740840023925201,2.6390573296152584,4.041295341132285,2.738146075922933,2.188856327665703,3.4339872044851463,4.717456363787216,3.295836866004329,3.716616209085536,2.2734137156937657,4.390118804571218,2.772588722239781,4.384523514872469,2.2027647577118348,2.2027647577118348,2.094945728215801,4.37281811610993,2.1102132003465894,2.169053700369523,3.295836866004329,3.224857896545748,3.5263605246161616,0.0,2.1071782966514356,4.0592215752427645,3.332204510175204,2.1855792552411137,3.770459441106359,2.2027647577118348,3.3160025355989236,2.806386101823072,2.1855792552411137,3.449987545831587,3.7513658711253766,5.039951348430309,3.4742929367327062,2.0856720914304723,2.803360380906535,2.169053700369523,2.2027647577118348,4.189654742026425,2.7343675094195836,2.8390784635086144,3.6888794541139363,2.4423470353692043,2.737880811060884,3.9806942251907276,2.817902613071225,2.180891922715322,2.8390784635086144,3.5061818266142577,2.5915163848462583,4.368919865004903,2.1855792552411137,2.167143305297764,3.4339872044851463,2.086193694502369,3.449987545831587,0.0,3.3638415951183864,2.6390573296152584,2.188856327665703,3.305053521109253,3.705920919968788,2.8390784635086144,2.180891922715322,4.252771798816619,3.3638415951183864,4.05171190165724,3.0085645861193133,4.353230991152628,2.1855792552411137,3.597312260588446,2.145931282948669,2.145931282948669,2.1855792552411137,3.1780538303479458,2.2442459824059346,2.17806441028492,2.0476928433652555,4.310799125385514,2.1855792552411137,2.803360380906535,2.6390573296152584,4.738607824217808,4.902678819257608,2.1071782966514356,3.2804411805263554,2.139571923732859,2.188856327665703,4.310799125385514,2.6390573296152584,2.1719067693519296,2.2027647577118348,3.970291913552122,3.6888794541139363,3.970291913552122,2.4423470353692043,2.6390573296152584,0.0,2.1719067693519296,2.2027647577118348,2.3833998102837652,3.8691155044168695,6.240917354759096,2.212386825075897,4.353230991152628,2.3248357019288655,3.8691155044168695,3.6888794541139363,3.7513658711253766,3.705920919968788,2.4133032309283076,2.174274334826008,5.35817698994543,4.060443010546419,2.668387256845834,4.05171190165724,2.1071782966514356,3.3160025355989236,2.6741486494265287,2.2027647577118348,2.167143305297764,4.717456363787216,2.157559320943788,5.4316456135398825,3.3064287218760624,2.737880811060884,2.1681046787623672,2.180891922715322,3.295836866004329,2.6741486494265287,3.3064287218760624,5.027492411162679,2.7878344138303452,3.922056501139853,3.3160025355989236,3.970291913552122,2.3497835148230464,2.6390573296152584,2.157559320943788,5.4316456135398825,2.4423470353692043,2.803360380906535,2.1719067693519296,3.5263605246161616,2.086193694502369,2.6390573296152584,2.6390573296152584,3.9908341858524357,2.2682524139135403,3.091042453358316,2.1676241075599285,3.295836866004329,2.188856327665703,5.35817698994543,2.9850504252071306,0.0,2.6390573296152584,2.6390573296152584,2.8390784635086144,3.5660053559634015,6.240917354759096,2.1855792552411137,2.1855792552411137,3.4339872044851463,4.380149874661021,5.5735788721243535,2.8390784635086144,2.188856327665703,4.276666119016055,3.056356895370426,2.6390573296152584,3.9908341858524357,2.169053700369523,3.1780538303479458,2.600836116795061,2.3513752571634776,2.1855792552411137,4.189654742026425,2.740840023925201,2.174274334826008,2.5257286443082556,2.2027647577118348,4.471638793363569,2.740840023925201,2.094945728215801,2.1076888046179385,4.795790545596741,2.1719067693519296,4.368919865004903,3.703768066607687,2.169053700369523,3.224857896545748,2.236712348843338,2.3513752571634776,2.180891922715322,2.4423470353692043,2.1071782966514356,3.1780538303479458,2.169053700369523,2.169053700369523,2.600836116795061,2.1676241075599285,5.35817698994543,2.1076888046179385,4.060443010546419,3.4339872044851463,3.196630215920881,2.0856720914304723,2.1102132003465894,2.139571923732859,3.405355391810819,3.0715352369694915,4.384523514872469,2.169053700369523,3.295836866004329,4.256321678298823,3.4561841799918147,2.1855792552411137,2.6390573296152584,3.2932111997353943,2.270402752283094,2.1076888046179385,3.224857896545748,2.6390573296152584,3.305053521109253,4.795790545596741,2.2530481500547457,2.076311648670908,2.1719067693519296,0.0,2.1719067693519296,2.6390573296152584,3.9908341858524357,2.184645795129359,3.224857896545748,2.4423470353692043,3.4742929367327062,2.2027647577118348,0.0,2.188856327665703,3.637696679934592,2.0082140323914683,3.3638415951183864,4.548599834499697,2.2682524139135403,0.0,2.600836116795061,3.705920919968788,2.0731719286662407,4.05171190165724,3.637696679934592,2.169053700369523,4.394449154672439,2.737880811060884,2.9831534913471307,2.1076888046179385,2.180891922715322,2.2300144001592104,4.432699549165613,2.2682524139135403,2.2027647577118348,4.05171190165724,3.4242626545931514,2.188856327665703,2.4423470353692043,3.4657359027997265,2.006534770871748,2.2682524139135403,2.145931282948669,4.256321678298823,2.1855792552411137,3.5263605246161616,4.500966778400217,3.4742929367327062,2.1719067693519296,2.7878344138303452,3.6988297849671046,3.295836866004329,2.336986519711378,5.11118445372147,3.3160025355989236,3.0085645861193133,2.1076888046179385,2.7152442616824506,2.5257286443082556,3.2932111997353943,4.256321678298823,2.6390573296152584,2.6390573296152584,2.698558631668595,3.941500250945973,2.3513752571634776,2.495953738718064,2.1855792552411137,3.9806942251907276,1.791759469228055,2.302585092994046,3.2188758248682006,2.1071782966514356,2.3837779082709782,2.1855792552411137,2.1855792552411137,4.432699549165613,3.295836866004329,2.1855792552411137,2.4437981558973862,2.4423470353692043,2.0856720914304723,3.405355391810819,2.6390573296152584,3.4339872044851463,3.196630215920881,3.4339872044851463,2.169053700369523,2.17806441028492,2.0794415416798357,2.3690748342628787,2.2682524139135403,2.586823743668066,2.3248357019288655,2.155151800914312,3.4011973816621555,2.1076888046179385,3.224857896545748,2.1855792552411137,3.295836866004329,4.422048709343544,3.295836866004329,4.1299529896894684,3.357621598945279,2.5915163848462583,2.1071782966514356,2.188856327665703,2.1071782966514356,4.100989104940769,1.428107863933301,3.4868642440859134,4.133231886474144,5.5735788721243535,2.740840023925201,4.142804513146981,2.1071782966514356,3.449987545831587,3.1214482048688246,3.295836866004329,3.481240089335692,3.0715352369694915,3.196630215920881,4.073291153024268,2.1076888046179385,2.2027647577118348,2.2682524139135403,2.3513752571634776,4.05171190165724,2.668387256845834,3.3160025355989236,2.180417459019838,2.6390573296152584,3.9806942251907276,2.188856327665703,3.4242626545931514,2.169053700369523,4.347586575960343,2.8273136219290276,4.110873864173311,2.7746678094393658,3.1780538303479458,5.575949103146316,2.808148897638332,3.405355391810819,2.1855792552411137,2.157559320943788,2.8390784635086144,5.5735788721243535,2.1855792552411137,2.6741486494265287,2.169053700369523,2.1661924680884908,5.5735788721243535,3.091042453358316,2.1837114628556327,3.770459441106359,3.3856606425130265,5.575949103146316,2.169053700369523,2.1855792552411137,2.188856327665703,3.357621598945279,5.358941988364472,5.358941988364472,2.2027647577118348,3.2846635654062037,2.6390573296152584,2.169053700369523,2.7878344138303452,5.406181146423973,3.295836866004329,2.1855792552411137,2.4602979920066583,2.737880811060884,2.1837114628556327,2.2027647577118348,2.169053700369523,3.1780538303479458,2.7013612129514133,2.1719067693519296,3.970291913552122,2.2027647577118348,3.295836866004329,2.174274334826008,4.380149874661021,2.188856327665703,2.180891922715322,2.2027647577118348,4.0332082470129285,3.295836866004329,2.169053700369523,2.1719067693519296,2.2530481500547457,3.1580636854714434,2.177112568853282,2.169053700369523,2.2734137156937657,2.6390573296152584,2.775447133088262,2.172385287322574,3.486738789888005,2.114241439721562,5.406181146423973,2.737880811060884,2.006534770871748,2.8735646395797834,4.333908557103646,3.295836866004329,2.8183982582710754,2.169053700369523,4.073291153024268,2.1102132003465894,2.169053700369523,2.8390784635086144,2.174274334826008,3.188416617383492,2.6390573296152584,2.2027647577118348,2.2027647577118348,3.3843902633457743,3.275887339030031,2.006534770871748,2.1855792552411137,2.180891922715322,2.1071782966514356,2.6390573296152584,2.2027647577118348,3.8691155044168695,3.8691155044168695,5.027492411162679,5.5735788721243535,3.295836866004329,3.3160025355989236,2.9444389791664403,3.967694202798607,2.2027647577118348,3.3160025355989236,3.295836866004329,4.432699549165613,2.1855792552411137,3.535013546107913,2.57895087709735,3.4777725458882283,2.145931282948669,5.406181146423973,2.180891922715322,3.3160025355989236,2.692936563292162,2.167143305297764,2.7878344138303452,2.6741486494265287,2.0794415416798357,2.6390573296152584,3.1365805821413706,3.941500250945973,3.5660053559634015,3.357621598945279,2.2988280441163336,2.145931282948669,2.1071782966514356,2.7013612129514133,2.1076888046179385,3.4777725458882283,3.6888794541139363,3.6309854756950335,4.0332082470129285,3.6888794541139363,4.432699549165613,2.6390573296152584,4.432699549165613,3.9908341858524357,2.169053700369523,5.515526544247129,2.833213344056216,3.091042453358316,2.2027647577118348,4.256321678298823,2.6390573296152584,3.295836866004329,3.295836866004329,2.740840023925201,2.5915163848462583,3.5115454388310208,2.180891922715322,4.908971640319756,2.1719067693519296,2.4423470353692043,2.2096470973347766,2.803360380906535,2.7343675094195836,5.4316456135398825,3.295836866004329,2.4423470353692043,3.286224144821269,2.169053700369523,2.4423470353692043,3.357621598945279,2.1855792552411137,3.1580636854714434,2.0856720914304723,4.310799125385514,3.295836866004329,2.1719067693519296,3.7727609380946383,2.1837114628556327,5.11118445372147,5.358941988364472,2.2027647577118348,2.698558631668595,2.2027647577118348,2.4423470353692043,2.174274334826008,3.34800052225782,2.7878344138303452,2.174274334826008,2.169053700369523,2.7788192719904172,2.6390573296152584,4.189654742026425,3.3160025355989236,2.0143428636837015,2.1837114628556327,4.2805931204649,2.180891922715322,4.334017415487521,2.1071782966514356,2.6390573296152584,4.676792929661059,3.357621598945279,3.4339872044851463,4.908971640319756,2.184645795129359,3.196630215920881,3.967694202798607,3.091042453358316,3.5115454388310208,3.295836866004329,2.737880811060884,3.3586377672433594,2.188856327665703,4.925652403790231,2.3345681388470965,2.3513752571634776,2.145931282948669,2.169053700369523,2.2027647577118348,2.6390573296152584,2.1719067693519296,2.91235066461494,2.180891922715322,3.1780538303479458,2.57895087709735,2.62012931972974,2.1855792552411137,0.0,2.145931282948669,2.2027647577118348,2.2682524139135403,4.333908557103646,2.169053700369523,4.925652403790231,2.803360380906535,2.1071782966514356,3.295836866004329,2.4423470353692043,3.295836866004329,3.091042453358316,2.4423470353692043,2.2682524139135403,2.692936563292162,2.169053700369523,2.7878344138303452,3.0545906305603445,2.1102132003465894,2.1102132003465894,4.422048709343544,2.1076888046179385,2.2027647577118348,3.703768066607687,2.0731719286662407,2.1076888046179385,4.417131919904876,2.3513752571634776,2.1855792552411137,3.7513658711253766,3.1214482048688246,3.8394523125933104,2.180891922715322,2.1719067693519296,2.775447133088262,3.091042453358316,2.2682524139135403,2.169053700369523,3.3160025355989236,5.027492411162679,2.336986519711378,4.548599834499697,2.7152442616824506,2.2682524139135403,2.1071782966514356,2.1488509930520037,2.169053700369523,4.91730069488021,2.167143305297764,4.993969182787072,2.4423470353692043,2.180891922715322,3.481240089335692,2.1719067693519296,2.1076888046179385,2.6390573296152584,3.3160025355989236,5.35817698994543,2.0856720914304723,3.6888794541139363,4.384523514872469,3.295836866004329,2.6390573296152584,3.6309854756950335,3.4242626545931514,2.1071782966514356,2.817902613071225,2.1855792552411137,3.295836866004329,2.6390573296152584,2.1076888046179385,3.481240089335692,2.1076888046179385,2.4423470353692043,2.149340669059503,4.256321678298823,6.240917354759096,2.740840023925201,2.157559320943788,2.6390573296152584,2.1076888046179385,2.6741486494265287,3.091042453358316,4.164465907853638,2.4423470353692043,4.310799125385514,4.189654742026425,3.0715352369694915,3.295836866004329,3.960416900617205,2.1837114628556327,2.169053700369523,2.806386101823072,4.256321678298823,3.637696679934592,3.091042453358316,2.2682524139135403,4.0332082470129285,4.256321678298823,2.738146075922933,3.705920919968788,4.100989104940769,2.698558631668595,2.5257286443082556,4.908971640319756,0.0,2.6390573296152584,4.417131919904876,5.5735788721243535,2.2682524139135403,2.5257286443082556,3.9318256327243257,3.4777725458882283,2.169053700369523,2.1837114628556327,2.740840023925201,2.8390784635086144,2.630088659632498,4.189654742026425,2.1719067693519296,2.6390573296152584,2.169053700369523,3.0944457464900235,4.548599834499697,3.6988297849671046,3.056356895370426,2.4423470353692043,3.1365805821413706,4.110873864173311,2.1102132003465894,4.384523514872469,2.1719067693519296,2.167143305297764,5.11118445372147,3.091042453358316,4.100989104940769,3.8732821771117156,3.357621598945279,2.6988412620169004,2.4423470353692043,5.358941988364472,2.165710976832012,2.692936563292162,2.169053700369523,4.51085950651685,2.1719067693519296,2.2027647577118348,4.699570861409576,2.1102132003465894,2.2027647577118348,3.1509523813392697],\"z\":[3,1,3,1,3,3,1,3,3,2,3,1,3,3,3,2,3,2,3,3,2,2,3,1,3,3,3,1,3,3,1,1,3,2,1,1,3,3,3,3,3,2,3,2,3,3,3,3,3,3,3,3,1,2,1,1,2,3,2,3,3,1,1,3,1,3,2,3,3,3,2,3,2,3,3,3,3,3,2,3,3,3,3,1,2,3,3,3,1,3,3,3,1,3,3,3,1,1,2,2,3,3,1,3,3,3,3,3,3,3,1,3,3,3,3,3,3,2,1,3,2,3,2,2,1,3,3,3,3,3,3,3,3,2,2,2,1,1,3,1,3,3,3,3,2,2,3,3,2,2,2,1,3,3,3,1,3,3,3,3,3,2,3,3,3,3,1,3,1,3,1,3,3,3,1,3,3,1,2,3,3,2,3,2,3,1,3,1,3,3,2,2,3,2,1,1,3,3,3,2,3,3,3,3,3,3,3,3,3,1,3,2,3,2,3,1,3,2,1,2,3,2,3,3,1,3,2,3,2,3,1,3,2,3,2,3,2,2,2,2,3,3,2,3,3,1,3,2,1,2,3,3,1,3,3,3,1,1,1,2,3,3,1,1,3,2,3,3,1,1,1,3,2,1,3,1,3,2,3,3,3,3,3,3,1,3,3,3,2,3,1,1,2,3,3,1,3,1,1,1,3,3,3,2,3,1,1,1,2,1,1,1,2,3,2,3,2,2,1,1,3,3,2,2,3,1,3,2,3,1,3,1,1,3,1,3,1,1,3,1,2,1,2,2,2,2,2,3,3,3,3,1,3,3,3,3,1,2,3,3,3,2,3,3,3,3,1,3,3,1,1,3,3,1,3,1,3,1,3,3,1,3,3,1,3,2,3,2,3,2,1,3,3,1,3,3,3,2,2,2,3,3,3,3,3,2,3,2,3,3,3,3,1,2,3,3,2,2,2,3,3,3,3,3,3,3,2,2,3,3,1,3,2,3,1,1,3,2,1,2,2,3,3,2,3,1,2,1,3,1,2,3,1,1,3,3,1,1,2,3,1,3,1,2,3,3,2,1,3,3,3,3,2,2,3,1,2,3,3,3,3,2,3,3,1,3,1,1,3,3,3,3,1,1,3,3,1,3,1,3,3,3,3,3,1,1,2,1,3,3,3,3,1,1,3,1,2,3,2,3,1,3,3,1,3,3,2,1,3,2,2,3,3,3,3,2,1,1,3,1,1,3,3,2,1,1,2,2,3,2,1,2,3,3,3,1,1,1,1,3,3,3,2,3,3,3,3,3,3,3,2,1,1,3,3,3,2,1,3,3,2,1,2,1,3,1,2,1,3,3,3,1,3,3,2,3,2,3,3,1,2,3,1,3,1,3,3,1,2,1,3,3,3,3,3,2,3,3,2,2,3,1,3,3,3,1,2,1,3,3,1,3,1,1,3,2,3,2,3,3,3,1,3,3,3,1,3,1,3,3,3,2,3,3,3,2,3,3,2,1,1,3,1,3,3,2,2,3,3,1,2,1,2,2,2,3,3,3,3,1,3,1,3,3,2,2,3,3,3,1,1,3,3,3,1,2,3,3,1,3,1,1,3,3,3,2,2,1,1,3,1,1,1,3,2,3,1,2,3,3,2,3,2,2,1,3,2,3,2,3,1,3,2,2,2,3,3,1,3,3,1,1,1,3,3,1,3,2,1,3,2,3,3,3,2,2,3,2,3,1,3,3,3,1,3,1,1,3,3,3,3,3,2,3,2,3,3,3,3,1,3,1,1,3,3,3,3,3,3,1,3,2,3,1,3,2,1,3,3,3,2,2,1,3,3,3,1,3,2,1,3,3,2,3,3,1,3,2,3,3,1,3,1,3,3,3,3,2,3,1,3,2,3,3,3,1,3,3,3,1,3,2,1,3,3,3,3,3,2,1,3,3,3,1,2,3,1,1,3,3,3,2,1,3,2,2,2,1,3,3,3,1,1,3,2,3,3,3,3,1,2,3,3,2,3,3,2,1,3,1,3,3,3,2,3,3,3,3,2,3,3,3,1,1,2,1,2,2,3,3,3,1,3,1,1,1,3,1,3,1,3,2,2,3,3,1,3,3,3,3,3,3,1,3,2,1,3,1,3,1,3,1,2,2,1,2,3,3,3,3,1,3,2,3,3,1,2,3,1,1,1,3,3,3,1,1,1,3,1,2,3,3,1,1,3,2,3,3,3,3,2,3,3,1,3,1,3,1,3,3,3,1,2,3,3,3,3,3,3,3,2,2,3,1,3,1,3,3,3,1,2,2,3,1,3,3,3,3,3,2,3,3,1,3,3,3,3,3,2,3,3,3,1,1,2,1,3,1,3,1,2,1,3,3,3,3,3,1,3,1,3,3,3,2,3,2,3,1,3,1,3,3,3,3,3,3,2,2,1,2,1,2,1,1,3,1,2,2,3,3,2,2,1,3,2,2,3,1,3,2,3,3,3,1,2,2,1,3,2,1,3,3,3,2,2,3,1,3,1,1,3,2,3,2,3,1,3,3,3,3,2,2,1,3,3,1,3,1,3,2,1,1,2,1,3,3,1,2,2,2,3,2,3,1,3,3,3,3,3,2,3,3,3,2,3,2,3,1,3,3,3,1,3,1,3,3,2,2,2,2,2,3,3,3,3,3,3,3,1,3,3,1,3,3,1,3,3,2,3,1,3,3,2,2,3,3,1,1,3,1,3,3,3,3,3,1,3,1,2,3,2,3,3,2,1,1,3,2,1,2,2,2,1,3,3,3,1,2,3,2,3,2,3,3,1,3,3,2,3,2,2,1,2,2,2,3,1,1,3,3,3,3,2,2,3,1,3,3,3,1,2,2,1,1,2,1,1,3,2,1,3,3,3,3,3,2,2,3,2,3,3,1,1,3,2,3,1,3,1,3,3,1,2,1,1,1,2,2,1,3,3,3,1,3,3,1,3,3,3],\"type\":\"scatter3d\"}],                        {\"template\":{\"data\":{\"histogram2dcontour\":[{\"type\":\"histogram2dcontour\",\"colorbar\":{\"outlinewidth\":0,\"ticks\":\"\"},\"colorscale\":[[0.0,\"#0d0887\"],[0.1111111111111111,\"#46039f\"],[0.2222222222222222,\"#7201a8\"],[0.3333333333333333,\"#9c179e\"],[0.4444444444444444,\"#bd3786\"],[0.5555555555555556,\"#d8576b\"],[0.6666666666666666,\"#ed7953\"],[0.7777777777777778,\"#fb9f3a\"],[0.8888888888888888,\"#fdca26\"],[1.0,\"#f0f921\"]]}],\"choropleth\":[{\"type\":\"choropleth\",\"colorbar\":{\"outlinewidth\":0,\"ticks\":\"\"}}],\"histogram2d\":[{\"type\":\"histogram2d\",\"colorbar\":{\"outlinewidth\":0,\"ticks\":\"\"},\"colorscale\":[[0.0,\"#0d0887\"],[0.1111111111111111,\"#46039f\"],[0.2222222222222222,\"#7201a8\"],[0.3333333333333333,\"#9c179e\"],[0.4444444444444444,\"#bd3786\"],[0.5555555555555556,\"#d8576b\"],[0.6666666666666666,\"#ed7953\"],[0.7777777777777778,\"#fb9f3a\"],[0.8888888888888888,\"#fdca26\"],[1.0,\"#f0f921\"]]}],\"heatmap\":[{\"type\":\"heatmap\",\"colorbar\":{\"outlinewidth\":0,\"ticks\":\"\"},\"colorscale\":[[0.0,\"#0d0887\"],[0.1111111111111111,\"#46039f\"],[0.2222222222222222,\"#7201a8\"],[0.3333333333333333,\"#9c179e\"],[0.4444444444444444,\"#bd3786\"],[0.5555555555555556,\"#d8576b\"],[0.6666666666666666,\"#ed7953\"],[0.7777777777777778,\"#fb9f3a\"],[0.8888888888888888,\"#fdca26\"],[1.0,\"#f0f921\"]]}],\"heatmapgl\":[{\"type\":\"heatmapgl\",\"colorbar\":{\"outlinewidth\":0,\"ticks\":\"\"},\"colorscale\":[[0.0,\"#0d0887\"],[0.1111111111111111,\"#46039f\"],[0.2222222222222222,\"#7201a8\"],[0.3333333333333333,\"#9c179e\"],[0.4444444444444444,\"#bd3786\"],[0.5555555555555556,\"#d8576b\"],[0.6666666666666666,\"#ed7953\"],[0.7777777777777778,\"#fb9f3a\"],[0.8888888888888888,\"#fdca26\"],[1.0,\"#f0f921\"]]}],\"contourcarpet\":[{\"type\":\"contourcarpet\",\"colorbar\":{\"outlinewidth\":0,\"ticks\":\"\"}}],\"contour\":[{\"type\":\"contour\",\"colorbar\":{\"outlinewidth\":0,\"ticks\":\"\"},\"colorscale\":[[0.0,\"#0d0887\"],[0.1111111111111111,\"#46039f\"],[0.2222222222222222,\"#7201a8\"],[0.3333333333333333,\"#9c179e\"],[0.4444444444444444,\"#bd3786\"],[0.5555555555555556,\"#d8576b\"],[0.6666666666666666,\"#ed7953\"],[0.7777777777777778,\"#fb9f3a\"],[0.8888888888888888,\"#fdca26\"],[1.0,\"#f0f921\"]]}],\"surface\":[{\"type\":\"surface\",\"colorbar\":{\"outlinewidth\":0,\"ticks\":\"\"},\"colorscale\":[[0.0,\"#0d0887\"],[0.1111111111111111,\"#46039f\"],[0.2222222222222222,\"#7201a8\"],[0.3333333333333333,\"#9c179e\"],[0.4444444444444444,\"#bd3786\"],[0.5555555555555556,\"#d8576b\"],[0.6666666666666666,\"#ed7953\"],[0.7777777777777778,\"#fb9f3a\"],[0.8888888888888888,\"#fdca26\"],[1.0,\"#f0f921\"]]}],\"mesh3d\":[{\"type\":\"mesh3d\",\"colorbar\":{\"outlinewidth\":0,\"ticks\":\"\"}}],\"scatter\":[{\"fillpattern\":{\"fillmode\":\"overlay\",\"size\":10,\"solidity\":0.2},\"type\":\"scatter\"}],\"parcoords\":[{\"type\":\"parcoords\",\"line\":{\"colorbar\":{\"outlinewidth\":0,\"ticks\":\"\"}}}],\"scatterpolargl\":[{\"type\":\"scatterpolargl\",\"marker\":{\"colorbar\":{\"outlinewidth\":0,\"ticks\":\"\"}}}],\"bar\":[{\"error_x\":{\"color\":\"#2a3f5f\"},\"error_y\":{\"color\":\"#2a3f5f\"},\"marker\":{\"line\":{\"color\":\"#E5ECF6\",\"width\":0.5},\"pattern\":{\"fillmode\":\"overlay\",\"size\":10,\"solidity\":0.2}},\"type\":\"bar\"}],\"scattergeo\":[{\"type\":\"scattergeo\",\"marker\":{\"colorbar\":{\"outlinewidth\":0,\"ticks\":\"\"}}}],\"scatterpolar\":[{\"type\":\"scatterpolar\",\"marker\":{\"colorbar\":{\"outlinewidth\":0,\"ticks\":\"\"}}}],\"histogram\":[{\"marker\":{\"pattern\":{\"fillmode\":\"overlay\",\"size\":10,\"solidity\":0.2}},\"type\":\"histogram\"}],\"scattergl\":[{\"type\":\"scattergl\",\"marker\":{\"colorbar\":{\"outlinewidth\":0,\"ticks\":\"\"}}}],\"scatter3d\":[{\"type\":\"scatter3d\",\"line\":{\"colorbar\":{\"outlinewidth\":0,\"ticks\":\"\"}},\"marker\":{\"colorbar\":{\"outlinewidth\":0,\"ticks\":\"\"}}}],\"scattermapbox\":[{\"type\":\"scattermapbox\",\"marker\":{\"colorbar\":{\"outlinewidth\":0,\"ticks\":\"\"}}}],\"scatterternary\":[{\"type\":\"scatterternary\",\"marker\":{\"colorbar\":{\"outlinewidth\":0,\"ticks\":\"\"}}}],\"scattercarpet\":[{\"type\":\"scattercarpet\",\"marker\":{\"colorbar\":{\"outlinewidth\":0,\"ticks\":\"\"}}}],\"carpet\":[{\"aaxis\":{\"endlinecolor\":\"#2a3f5f\",\"gridcolor\":\"white\",\"linecolor\":\"white\",\"minorgridcolor\":\"white\",\"startlinecolor\":\"#2a3f5f\"},\"baxis\":{\"endlinecolor\":\"#2a3f5f\",\"gridcolor\":\"white\",\"linecolor\":\"white\",\"minorgridcolor\":\"white\",\"startlinecolor\":\"#2a3f5f\"},\"type\":\"carpet\"}],\"table\":[{\"cells\":{\"fill\":{\"color\":\"#EBF0F8\"},\"line\":{\"color\":\"white\"}},\"header\":{\"fill\":{\"color\":\"#C8D4E3\"},\"line\":{\"color\":\"white\"}},\"type\":\"table\"}],\"barpolar\":[{\"marker\":{\"line\":{\"color\":\"#E5ECF6\",\"width\":0.5},\"pattern\":{\"fillmode\":\"overlay\",\"size\":10,\"solidity\":0.2}},\"type\":\"barpolar\"}],\"pie\":[{\"automargin\":true,\"type\":\"pie\"}]},\"layout\":{\"autotypenumbers\":\"strict\",\"colorway\":[\"#636efa\",\"#EF553B\",\"#00cc96\",\"#ab63fa\",\"#FFA15A\",\"#19d3f3\",\"#FF6692\",\"#B6E880\",\"#FF97FF\",\"#FECB52\"],\"font\":{\"color\":\"#2a3f5f\"},\"hovermode\":\"closest\",\"hoverlabel\":{\"align\":\"left\"},\"paper_bgcolor\":\"white\",\"plot_bgcolor\":\"#E5ECF6\",\"polar\":{\"bgcolor\":\"#E5ECF6\",\"angularaxis\":{\"gridcolor\":\"white\",\"linecolor\":\"white\",\"ticks\":\"\"},\"radialaxis\":{\"gridcolor\":\"white\",\"linecolor\":\"white\",\"ticks\":\"\"}},\"ternary\":{\"bgcolor\":\"#E5ECF6\",\"aaxis\":{\"gridcolor\":\"white\",\"linecolor\":\"white\",\"ticks\":\"\"},\"baxis\":{\"gridcolor\":\"white\",\"linecolor\":\"white\",\"ticks\":\"\"},\"caxis\":{\"gridcolor\":\"white\",\"linecolor\":\"white\",\"ticks\":\"\"}},\"coloraxis\":{\"colorbar\":{\"outlinewidth\":0,\"ticks\":\"\"}},\"colorscale\":{\"sequential\":[[0.0,\"#0d0887\"],[0.1111111111111111,\"#46039f\"],[0.2222222222222222,\"#7201a8\"],[0.3333333333333333,\"#9c179e\"],[0.4444444444444444,\"#bd3786\"],[0.5555555555555556,\"#d8576b\"],[0.6666666666666666,\"#ed7953\"],[0.7777777777777778,\"#fb9f3a\"],[0.8888888888888888,\"#fdca26\"],[1.0,\"#f0f921\"]],\"sequentialminus\":[[0.0,\"#0d0887\"],[0.1111111111111111,\"#46039f\"],[0.2222222222222222,\"#7201a8\"],[0.3333333333333333,\"#9c179e\"],[0.4444444444444444,\"#bd3786\"],[0.5555555555555556,\"#d8576b\"],[0.6666666666666666,\"#ed7953\"],[0.7777777777777778,\"#fb9f3a\"],[0.8888888888888888,\"#fdca26\"],[1.0,\"#f0f921\"]],\"diverging\":[[0,\"#8e0152\"],[0.1,\"#c51b7d\"],[0.2,\"#de77ae\"],[0.3,\"#f1b6da\"],[0.4,\"#fde0ef\"],[0.5,\"#f7f7f7\"],[0.6,\"#e6f5d0\"],[0.7,\"#b8e186\"],[0.8,\"#7fbc41\"],[0.9,\"#4d9221\"],[1,\"#276419\"]]},\"xaxis\":{\"gridcolor\":\"white\",\"linecolor\":\"white\",\"ticks\":\"\",\"title\":{\"standoff\":15},\"zerolinecolor\":\"white\",\"automargin\":true,\"zerolinewidth\":2},\"yaxis\":{\"gridcolor\":\"white\",\"linecolor\":\"white\",\"ticks\":\"\",\"title\":{\"standoff\":15},\"zerolinecolor\":\"white\",\"automargin\":true,\"zerolinewidth\":2},\"scene\":{\"xaxis\":{\"backgroundcolor\":\"#E5ECF6\",\"gridcolor\":\"white\",\"linecolor\":\"white\",\"showbackground\":true,\"ticks\":\"\",\"zerolinecolor\":\"white\",\"gridwidth\":2},\"yaxis\":{\"backgroundcolor\":\"#E5ECF6\",\"gridcolor\":\"white\",\"linecolor\":\"white\",\"showbackground\":true,\"ticks\":\"\",\"zerolinecolor\":\"white\",\"gridwidth\":2},\"zaxis\":{\"backgroundcolor\":\"#E5ECF6\",\"gridcolor\":\"white\",\"linecolor\":\"white\",\"showbackground\":true,\"ticks\":\"\",\"zerolinecolor\":\"white\",\"gridwidth\":2}},\"shapedefaults\":{\"line\":{\"color\":\"#2a3f5f\"}},\"annotationdefaults\":{\"arrowcolor\":\"#2a3f5f\",\"arrowhead\":0,\"arrowwidth\":1},\"geo\":{\"bgcolor\":\"white\",\"landcolor\":\"#E5ECF6\",\"subunitcolor\":\"white\",\"showland\":true,\"showlakes\":true,\"lakecolor\":\"white\"},\"title\":{\"x\":0.05},\"mapbox\":{\"style\":\"light\"}}},\"scene\":{\"domain\":{\"x\":[0.0,1.0],\"y\":[0.0,1.0]},\"xaxis\":{\"title\":{\"text\":\"Age\"}},\"yaxis\":{\"title\":{\"text\":\"Fare\"}},\"zaxis\":{\"title\":{\"text\":\"Pclass\"}}},\"coloraxis\":{\"colorbar\":{\"title\":{\"text\":\"Survived\"}},\"colorscale\":[[0.0,\"#0d0887\"],[0.1111111111111111,\"#46039f\"],[0.2222222222222222,\"#7201a8\"],[0.3333333333333333,\"#9c179e\"],[0.4444444444444444,\"#bd3786\"],[0.5555555555555556,\"#d8576b\"],[0.6666666666666666,\"#ed7953\"],[0.7777777777777778,\"#fb9f3a\"],[0.8888888888888888,\"#fdca26\"],[1.0,\"#f0f921\"]]},\"legend\":{\"tracegroupgap\":0},\"title\":{\"text\":\"3D Scatter Plot\"}},                        {\"responsive\": true}                    ).then(function(){\n",
              "                            \n",
              "var gd = document.getElementById('e1f3040b-6e25-49f6-983a-0c8456e55ce7');\n",
              "var x = new MutationObserver(function (mutations, observer) {{\n",
              "        var display = window.getComputedStyle(gd).display;\n",
              "        if (!display || display === 'none') {{\n",
              "            console.log([gd, 'removed!']);\n",
              "            Plotly.purge(gd);\n",
              "            observer.disconnect();\n",
              "        }}\n",
              "}});\n",
              "\n",
              "// Listen for the removal of the full notebook cells\n",
              "var notebookContainer = gd.closest('#notebook-container');\n",
              "if (notebookContainer) {{\n",
              "    x.observe(notebookContainer, {childList: true});\n",
              "}}\n",
              "\n",
              "// Listen for the clearing of the current output cell\n",
              "var outputEl = gd.closest('.output');\n",
              "if (outputEl) {{\n",
              "    x.observe(outputEl, {childList: true});\n",
              "}}\n",
              "\n",
              "                        })                };                            </script>        </div>\n",
              "</body>\n",
              "</html>"
            ]
          },
          "metadata": {}
        }
      ]
    },
    {
      "cell_type": "code",
      "source": [
        "fig = px.histogram(df, x='Age', nbins=30, title='Age Distribution')\n",
        "fig.show()\n"
      ],
      "metadata": {
        "colab": {
          "base_uri": "https://localhost:8080/",
          "height": 542
        },
        "id": "SphwFgtXFoV0",
        "outputId": "427883bc-f06b-4a75-c9b7-497581c8e135"
      },
      "id": "SphwFgtXFoV0",
      "execution_count": null,
      "outputs": [
        {
          "output_type": "display_data",
          "data": {
            "text/html": [
              "<html>\n",
              "<head><meta charset=\"utf-8\" /></head>\n",
              "<body>\n",
              "    <div>            <script src=\"https://cdnjs.cloudflare.com/ajax/libs/mathjax/2.7.5/MathJax.js?config=TeX-AMS-MML_SVG\"></script><script type=\"text/javascript\">if (window.MathJax && window.MathJax.Hub && window.MathJax.Hub.Config) {window.MathJax.Hub.Config({SVG: {font: \"STIX-Web\"}});}</script>                <script type=\"text/javascript\">window.PlotlyConfig = {MathJaxConfig: 'local'};</script>\n",
              "        <script src=\"https://cdn.plot.ly/plotly-2.18.2.min.js\"></script>                <div id=\"3ee5e4ec-5582-49c7-b763-013002c235d7\" class=\"plotly-graph-div\" style=\"height:525px; width:100%;\"></div>            <script type=\"text/javascript\">                                    window.PLOTLYENV=window.PLOTLYENV || {};                                    if (document.getElementById(\"3ee5e4ec-5582-49c7-b763-013002c235d7\")) {                    Plotly.newPlot(                        \"3ee5e4ec-5582-49c7-b763-013002c235d7\",                        [{\"alignmentgroup\":\"True\",\"bingroup\":\"x\",\"hovertemplate\":\"Age=%{x}<br>count=%{y}<extra></extra>\",\"legendgroup\":\"\",\"marker\":{\"color\":\"#636efa\",\"pattern\":{\"shape\":\"\"}},\"name\":\"\",\"nbinsx\":30,\"offsetgroup\":\"\",\"orientation\":\"v\",\"showlegend\":false,\"x\":[22.0,38.0,26.0,35.0,35.0,29.881137667304014,54.0,2.0,27.0,14.0,4.0,58.0,20.0,39.0,14.0,55.0,2.0,29.881137667304014,31.0,29.881137667304014,35.0,34.0,15.0,28.0,8.0,38.0,29.881137667304014,19.0,29.881137667304014,29.881137667304014,40.0,29.881137667304014,29.881137667304014,66.0,28.0,42.0,29.881137667304014,21.0,18.0,14.0,40.0,27.0,29.881137667304014,3.0,19.0,29.881137667304014,29.881137667304014,29.881137667304014,29.881137667304014,18.0,7.0,21.0,49.0,29.0,65.0,29.881137667304014,21.0,28.5,5.0,11.0,22.0,38.0,45.0,4.0,29.881137667304014,29.881137667304014,29.0,19.0,17.0,26.0,32.0,16.0,21.0,26.0,32.0,25.0,29.881137667304014,29.881137667304014,0.83,30.0,22.0,29.0,29.881137667304014,28.0,17.0,33.0,16.0,29.881137667304014,23.0,24.0,29.0,20.0,46.0,26.0,59.0,29.881137667304014,71.0,23.0,34.0,34.0,28.0,29.881137667304014,21.0,33.0,37.0,28.0,21.0,29.881137667304014,38.0,29.881137667304014,47.0,14.5,22.0,20.0,17.0,21.0,70.5,29.0,24.0,2.0,21.0,29.881137667304014,32.5,32.5,54.0,12.0,29.881137667304014,24.0,29.881137667304014,45.0,33.0,20.0,47.0,29.0,25.0,23.0,19.0,37.0,16.0,24.0,29.881137667304014,22.0,24.0,19.0,18.0,19.0,27.0,9.0,36.5,42.0,51.0,22.0,55.5,40.5,29.881137667304014,51.0,16.0,30.0,29.881137667304014,29.881137667304014,44.0,40.0,26.0,17.0,1.0,9.0,29.881137667304014,45.0,29.881137667304014,28.0,61.0,4.0,1.0,21.0,56.0,18.0,29.881137667304014,50.0,30.0,36.0,29.881137667304014,29.881137667304014,9.0,1.0,4.0,29.881137667304014,29.881137667304014,45.0,40.0,36.0,32.0,19.0,19.0,3.0,44.0,58.0,29.881137667304014,42.0,29.881137667304014,24.0,28.0,29.881137667304014,34.0,45.5,18.0,2.0,32.0,26.0,16.0,40.0,24.0,35.0,22.0,30.0,29.881137667304014,31.0,27.0,42.0,32.0,30.0,16.0,27.0,51.0,29.881137667304014,38.0,22.0,19.0,20.5,18.0,29.881137667304014,35.0,29.0,59.0,5.0,24.0,29.881137667304014,44.0,8.0,19.0,33.0,29.881137667304014,29.881137667304014,29.0,22.0,30.0,44.0,25.0,24.0,37.0,54.0,29.881137667304014,29.0,62.0,30.0,41.0,29.0,29.881137667304014,30.0,35.0,50.0,29.881137667304014,3.0,52.0,40.0,29.881137667304014,36.0,16.0,25.0,58.0,35.0,29.881137667304014,25.0,41.0,37.0,29.881137667304014,63.0,45.0,29.881137667304014,7.0,35.0,65.0,28.0,16.0,19.0,29.881137667304014,33.0,30.0,22.0,42.0,22.0,26.0,19.0,36.0,24.0,24.0,29.881137667304014,23.5,2.0,29.881137667304014,50.0,29.881137667304014,29.881137667304014,19.0,29.881137667304014,29.881137667304014,0.92,29.881137667304014,17.0,30.0,30.0,24.0,18.0,26.0,28.0,43.0,26.0,24.0,54.0,31.0,40.0,22.0,27.0,30.0,22.0,29.881137667304014,36.0,61.0,36.0,31.0,16.0,29.881137667304014,45.5,38.0,16.0,29.881137667304014,29.881137667304014,29.0,41.0,45.0,45.0,2.0,24.0,28.0,25.0,36.0,24.0,40.0,29.881137667304014,3.0,42.0,23.0,29.881137667304014,15.0,25.0,29.881137667304014,28.0,22.0,38.0,29.881137667304014,29.881137667304014,40.0,29.0,45.0,35.0,29.881137667304014,30.0,60.0,29.881137667304014,29.881137667304014,24.0,25.0,18.0,19.0,22.0,3.0,29.881137667304014,22.0,27.0,20.0,19.0,42.0,1.0,32.0,35.0,29.881137667304014,18.0,1.0,36.0,29.881137667304014,17.0,36.0,21.0,28.0,23.0,24.0,22.0,31.0,46.0,23.0,28.0,39.0,26.0,21.0,28.0,20.0,34.0,51.0,3.0,21.0,29.881137667304014,29.881137667304014,29.881137667304014,33.0,29.881137667304014,44.0,29.881137667304014,34.0,18.0,30.0,10.0,29.881137667304014,21.0,29.0,28.0,18.0,29.881137667304014,28.0,19.0,29.881137667304014,32.0,28.0,29.881137667304014,42.0,17.0,50.0,14.0,21.0,24.0,64.0,31.0,45.0,20.0,25.0,28.0,29.881137667304014,4.0,13.0,34.0,5.0,52.0,36.0,29.881137667304014,30.0,49.0,29.881137667304014,29.0,65.0,29.881137667304014,50.0,29.881137667304014,48.0,34.0,47.0,48.0,29.881137667304014,38.0,29.881137667304014,56.0,29.881137667304014,0.75,29.881137667304014,38.0,33.0,23.0,22.0,29.881137667304014,34.0,29.0,22.0,2.0,9.0,29.881137667304014,50.0,63.0,25.0,29.881137667304014,35.0,58.0,30.0,9.0,29.881137667304014,21.0,55.0,71.0,21.0,29.881137667304014,54.0,29.881137667304014,25.0,24.0,17.0,21.0,29.881137667304014,37.0,16.0,18.0,33.0,29.881137667304014,28.0,26.0,29.0,29.881137667304014,36.0,54.0,24.0,47.0,34.0,29.881137667304014,36.0,32.0,30.0,22.0,29.881137667304014,44.0,29.881137667304014,40.5,50.0,29.881137667304014,39.0,23.0,2.0,29.881137667304014,17.0,29.881137667304014,30.0,7.0,45.0,30.0,29.881137667304014,22.0,36.0,9.0,11.0,32.0,50.0,64.0,19.0,29.881137667304014,33.0,8.0,17.0,27.0,29.881137667304014,22.0,22.0,62.0,48.0,29.881137667304014,39.0,36.0,29.881137667304014,40.0,28.0,29.881137667304014,29.881137667304014,24.0,19.0,29.0,29.881137667304014,32.0,62.0,53.0,36.0,29.881137667304014,16.0,19.0,34.0,39.0,29.881137667304014,32.0,25.0,39.0,54.0,36.0,29.881137667304014,18.0,47.0,60.0,22.0,29.881137667304014,35.0,52.0,47.0,29.881137667304014,37.0,36.0,29.881137667304014,49.0,29.881137667304014,49.0,24.0,29.881137667304014,29.881137667304014,44.0,35.0,36.0,30.0,27.0,22.0,40.0,39.0,29.881137667304014,29.881137667304014,29.881137667304014,35.0,24.0,34.0,26.0,4.0,26.0,27.0,42.0,20.0,21.0,21.0,61.0,57.0,21.0,26.0,29.881137667304014,80.0,51.0,32.0,29.881137667304014,9.0,28.0,32.0,31.0,41.0,29.881137667304014,20.0,24.0,2.0,29.881137667304014,0.75,48.0,19.0,56.0,29.881137667304014,23.0,29.881137667304014,18.0,21.0,29.881137667304014,18.0,24.0,29.881137667304014,32.0,23.0,58.0,50.0,40.0,47.0,36.0,20.0,32.0,25.0,29.881137667304014,43.0,29.881137667304014,40.0,31.0,70.0,31.0,29.881137667304014,18.0,24.5,18.0,43.0,36.0,29.881137667304014,27.0,20.0,14.0,60.0,25.0,14.0,19.0,18.0,15.0,31.0,4.0,29.881137667304014,25.0,60.0,52.0,44.0,29.881137667304014,49.0,42.0,18.0,35.0,18.0,25.0,26.0,39.0,45.0,42.0,22.0,29.881137667304014,24.0,29.881137667304014,48.0,29.0,52.0,19.0,38.0,27.0,29.881137667304014,33.0,6.0,17.0,34.0,50.0,27.0,20.0,30.0,29.881137667304014,25.0,25.0,29.0,11.0,29.881137667304014,23.0,23.0,28.5,48.0,35.0,29.881137667304014,29.881137667304014,29.881137667304014,36.0,21.0,24.0,31.0,70.0,16.0,30.0,19.0,31.0,4.0,6.0,33.0,23.0,48.0,0.67,28.0,18.0,34.0,33.0,29.881137667304014,41.0,20.0,36.0,16.0,51.0,29.881137667304014,30.5,29.881137667304014,32.0,24.0,48.0,57.0,29.881137667304014,54.0,18.0,29.881137667304014,5.0,29.881137667304014,43.0,13.0,17.0,29.0,29.881137667304014,25.0,25.0,18.0,8.0,1.0,46.0,29.881137667304014,16.0,29.881137667304014,29.881137667304014,25.0,39.0,49.0,31.0,30.0,30.0,34.0,31.0,11.0,0.42,27.0,31.0,39.0,18.0,39.0,33.0,26.0,39.0,35.0,6.0,30.5,29.881137667304014,23.0,31.0,43.0,10.0,52.0,27.0,38.0,27.0,2.0,29.881137667304014,29.881137667304014,1.0,29.881137667304014,62.0,15.0,0.83,29.881137667304014,23.0,18.0,39.0,21.0,29.881137667304014,32.0,29.881137667304014,20.0,16.0,30.0,34.5,17.0,42.0,29.881137667304014,35.0,28.0,29.881137667304014,4.0,74.0,9.0,16.0,44.0,18.0,45.0,51.0,24.0,29.881137667304014,41.0,21.0,48.0,29.881137667304014,24.0,42.0,27.0,31.0,29.881137667304014,4.0,26.0,47.0,33.0,47.0,28.0,15.0,20.0,19.0,29.881137667304014,56.0,25.0,33.0,22.0,28.0,25.0,39.0,27.0,19.0,29.881137667304014,26.0,32.0,34.5,47.0,62.0,27.0,22.0,14.0,30.0,26.0,18.0,21.0,29.881137667304014,46.0,23.0,63.0,47.0,24.0,35.0,21.0,27.0,45.0,55.0,9.0,29.881137667304014,21.0,48.0,50.0,22.0,22.5,41.0,29.881137667304014,50.0,24.0,33.0,29.881137667304014,30.0,18.5,29.881137667304014,21.0,25.0,29.881137667304014,39.0,29.881137667304014,41.0,30.0,45.0,25.0,45.0,29.881137667304014,60.0,36.0,24.0,27.0,20.0,28.0,29.881137667304014,10.0,35.0,25.0,29.881137667304014,36.0,17.0,32.0,18.0,22.0,13.0,29.881137667304014,18.0,47.0,31.0,60.0,24.0,21.0,29.0,28.5,35.0,32.5,29.881137667304014,55.0,30.0,24.0,6.0,67.0,49.0,29.881137667304014,29.881137667304014,29.881137667304014,27.0,18.0,29.881137667304014,2.0,22.0,29.881137667304014,27.0,29.881137667304014,25.0,25.0,76.0,29.0,20.0,33.0,43.0,27.0,29.881137667304014,26.0,16.0,28.0,21.0,29.881137667304014,29.881137667304014,18.5,41.0,29.881137667304014,36.0,18.5,63.0,18.0,29.881137667304014,1.0,36.0,29.0,12.0,29.881137667304014,35.0,28.0,29.881137667304014,17.0,22.0,29.881137667304014,42.0,24.0,32.0,53.0,29.881137667304014,29.881137667304014,43.0,24.0,26.5,26.0,23.0,40.0,10.0,33.0,61.0,28.0,42.0,31.0,29.881137667304014,22.0,29.881137667304014,30.0,23.0,29.881137667304014,60.5,36.0,13.0,24.0,29.0,23.0,42.0,26.0,29.881137667304014,7.0,26.0,29.881137667304014,41.0,26.0,48.0,18.0,29.881137667304014,22.0,29.881137667304014,27.0,23.0,29.881137667304014,40.0,15.0,20.0,54.0,36.0,64.0,30.0,37.0,18.0,29.881137667304014,27.0,40.0,21.0,17.0,29.881137667304014,40.0,34.0,29.881137667304014,11.5,61.0,8.0,33.0,6.0,18.0,23.0,29.881137667304014,29.881137667304014,0.33,47.0,8.0,25.0,29.881137667304014,35.0,24.0,33.0,25.0,32.0,29.881137667304014,17.0,60.0,38.0,42.0,29.881137667304014,57.0,50.0,29.881137667304014,30.0,21.0,22.0,21.0,53.0,29.881137667304014,23.0,29.881137667304014,40.5,36.0,14.0,21.0,21.0,29.881137667304014,39.0,20.0,64.0,20.0,18.0,48.0,55.0,45.0,45.0,29.881137667304014,29.881137667304014,41.0,22.0,42.0,29.0,29.881137667304014,0.92,20.0,27.0,24.0,32.5,29.881137667304014,29.881137667304014,28.0,19.0,21.0,36.5,21.0,29.0,1.0,30.0,29.881137667304014,29.881137667304014,29.881137667304014,29.881137667304014,17.0,46.0,29.881137667304014,26.0,29.881137667304014,29.881137667304014,20.0,28.0,40.0,30.0,22.0,23.0,0.75,29.881137667304014,9.0,2.0,36.0,29.881137667304014,24.0,29.881137667304014,29.881137667304014,29.881137667304014,30.0,29.881137667304014,53.0,36.0,26.0,1.0,29.881137667304014,30.0,29.0,32.0,29.881137667304014,43.0,24.0,29.881137667304014,64.0,30.0,0.83,55.0,45.0,18.0,22.0,29.881137667304014,37.0,55.0,17.0,57.0,19.0,27.0,22.0,26.0,25.0,26.0,33.0,39.0,23.0,12.0,46.0,29.0,21.0,48.0,39.0,29.881137667304014,19.0,27.0,30.0,32.0,39.0,25.0,29.881137667304014,18.0,32.0,29.881137667304014,58.0,29.881137667304014,16.0,26.0,38.0,24.0,31.0,45.0,25.0,18.0,49.0,0.17,50.0,59.0,29.881137667304014,29.881137667304014,30.0,14.5,24.0,31.0,27.0,25.0,29.881137667304014,29.881137667304014,22.0,45.0,29.0,21.0,31.0,49.0,44.0,54.0,45.0,22.0,21.0,55.0,5.0,29.881137667304014,26.0,29.881137667304014,19.0,29.881137667304014,24.0,24.0,57.0,21.0,6.0,23.0,51.0,13.0,47.0,29.0,18.0,24.0,48.0,22.0,31.0,30.0,38.0,22.0,17.0,43.0,20.0,23.0,50.0,29.881137667304014,3.0,29.881137667304014,37.0,28.0,29.881137667304014,39.0,38.5,29.881137667304014,29.881137667304014],\"xaxis\":\"x\",\"yaxis\":\"y\",\"type\":\"histogram\"}],                        {\"template\":{\"data\":{\"histogram2dcontour\":[{\"type\":\"histogram2dcontour\",\"colorbar\":{\"outlinewidth\":0,\"ticks\":\"\"},\"colorscale\":[[0.0,\"#0d0887\"],[0.1111111111111111,\"#46039f\"],[0.2222222222222222,\"#7201a8\"],[0.3333333333333333,\"#9c179e\"],[0.4444444444444444,\"#bd3786\"],[0.5555555555555556,\"#d8576b\"],[0.6666666666666666,\"#ed7953\"],[0.7777777777777778,\"#fb9f3a\"],[0.8888888888888888,\"#fdca26\"],[1.0,\"#f0f921\"]]}],\"choropleth\":[{\"type\":\"choropleth\",\"colorbar\":{\"outlinewidth\":0,\"ticks\":\"\"}}],\"histogram2d\":[{\"type\":\"histogram2d\",\"colorbar\":{\"outlinewidth\":0,\"ticks\":\"\"},\"colorscale\":[[0.0,\"#0d0887\"],[0.1111111111111111,\"#46039f\"],[0.2222222222222222,\"#7201a8\"],[0.3333333333333333,\"#9c179e\"],[0.4444444444444444,\"#bd3786\"],[0.5555555555555556,\"#d8576b\"],[0.6666666666666666,\"#ed7953\"],[0.7777777777777778,\"#fb9f3a\"],[0.8888888888888888,\"#fdca26\"],[1.0,\"#f0f921\"]]}],\"heatmap\":[{\"type\":\"heatmap\",\"colorbar\":{\"outlinewidth\":0,\"ticks\":\"\"},\"colorscale\":[[0.0,\"#0d0887\"],[0.1111111111111111,\"#46039f\"],[0.2222222222222222,\"#7201a8\"],[0.3333333333333333,\"#9c179e\"],[0.4444444444444444,\"#bd3786\"],[0.5555555555555556,\"#d8576b\"],[0.6666666666666666,\"#ed7953\"],[0.7777777777777778,\"#fb9f3a\"],[0.8888888888888888,\"#fdca26\"],[1.0,\"#f0f921\"]]}],\"heatmapgl\":[{\"type\":\"heatmapgl\",\"colorbar\":{\"outlinewidth\":0,\"ticks\":\"\"},\"colorscale\":[[0.0,\"#0d0887\"],[0.1111111111111111,\"#46039f\"],[0.2222222222222222,\"#7201a8\"],[0.3333333333333333,\"#9c179e\"],[0.4444444444444444,\"#bd3786\"],[0.5555555555555556,\"#d8576b\"],[0.6666666666666666,\"#ed7953\"],[0.7777777777777778,\"#fb9f3a\"],[0.8888888888888888,\"#fdca26\"],[1.0,\"#f0f921\"]]}],\"contourcarpet\":[{\"type\":\"contourcarpet\",\"colorbar\":{\"outlinewidth\":0,\"ticks\":\"\"}}],\"contour\":[{\"type\":\"contour\",\"colorbar\":{\"outlinewidth\":0,\"ticks\":\"\"},\"colorscale\":[[0.0,\"#0d0887\"],[0.1111111111111111,\"#46039f\"],[0.2222222222222222,\"#7201a8\"],[0.3333333333333333,\"#9c179e\"],[0.4444444444444444,\"#bd3786\"],[0.5555555555555556,\"#d8576b\"],[0.6666666666666666,\"#ed7953\"],[0.7777777777777778,\"#fb9f3a\"],[0.8888888888888888,\"#fdca26\"],[1.0,\"#f0f921\"]]}],\"surface\":[{\"type\":\"surface\",\"colorbar\":{\"outlinewidth\":0,\"ticks\":\"\"},\"colorscale\":[[0.0,\"#0d0887\"],[0.1111111111111111,\"#46039f\"],[0.2222222222222222,\"#7201a8\"],[0.3333333333333333,\"#9c179e\"],[0.4444444444444444,\"#bd3786\"],[0.5555555555555556,\"#d8576b\"],[0.6666666666666666,\"#ed7953\"],[0.7777777777777778,\"#fb9f3a\"],[0.8888888888888888,\"#fdca26\"],[1.0,\"#f0f921\"]]}],\"mesh3d\":[{\"type\":\"mesh3d\",\"colorbar\":{\"outlinewidth\":0,\"ticks\":\"\"}}],\"scatter\":[{\"fillpattern\":{\"fillmode\":\"overlay\",\"size\":10,\"solidity\":0.2},\"type\":\"scatter\"}],\"parcoords\":[{\"type\":\"parcoords\",\"line\":{\"colorbar\":{\"outlinewidth\":0,\"ticks\":\"\"}}}],\"scatterpolargl\":[{\"type\":\"scatterpolargl\",\"marker\":{\"colorbar\":{\"outlinewidth\":0,\"ticks\":\"\"}}}],\"bar\":[{\"error_x\":{\"color\":\"#2a3f5f\"},\"error_y\":{\"color\":\"#2a3f5f\"},\"marker\":{\"line\":{\"color\":\"#E5ECF6\",\"width\":0.5},\"pattern\":{\"fillmode\":\"overlay\",\"size\":10,\"solidity\":0.2}},\"type\":\"bar\"}],\"scattergeo\":[{\"type\":\"scattergeo\",\"marker\":{\"colorbar\":{\"outlinewidth\":0,\"ticks\":\"\"}}}],\"scatterpolar\":[{\"type\":\"scatterpolar\",\"marker\":{\"colorbar\":{\"outlinewidth\":0,\"ticks\":\"\"}}}],\"histogram\":[{\"marker\":{\"pattern\":{\"fillmode\":\"overlay\",\"size\":10,\"solidity\":0.2}},\"type\":\"histogram\"}],\"scattergl\":[{\"type\":\"scattergl\",\"marker\":{\"colorbar\":{\"outlinewidth\":0,\"ticks\":\"\"}}}],\"scatter3d\":[{\"type\":\"scatter3d\",\"line\":{\"colorbar\":{\"outlinewidth\":0,\"ticks\":\"\"}},\"marker\":{\"colorbar\":{\"outlinewidth\":0,\"ticks\":\"\"}}}],\"scattermapbox\":[{\"type\":\"scattermapbox\",\"marker\":{\"colorbar\":{\"outlinewidth\":0,\"ticks\":\"\"}}}],\"scatterternary\":[{\"type\":\"scatterternary\",\"marker\":{\"colorbar\":{\"outlinewidth\":0,\"ticks\":\"\"}}}],\"scattercarpet\":[{\"type\":\"scattercarpet\",\"marker\":{\"colorbar\":{\"outlinewidth\":0,\"ticks\":\"\"}}}],\"carpet\":[{\"aaxis\":{\"endlinecolor\":\"#2a3f5f\",\"gridcolor\":\"white\",\"linecolor\":\"white\",\"minorgridcolor\":\"white\",\"startlinecolor\":\"#2a3f5f\"},\"baxis\":{\"endlinecolor\":\"#2a3f5f\",\"gridcolor\":\"white\",\"linecolor\":\"white\",\"minorgridcolor\":\"white\",\"startlinecolor\":\"#2a3f5f\"},\"type\":\"carpet\"}],\"table\":[{\"cells\":{\"fill\":{\"color\":\"#EBF0F8\"},\"line\":{\"color\":\"white\"}},\"header\":{\"fill\":{\"color\":\"#C8D4E3\"},\"line\":{\"color\":\"white\"}},\"type\":\"table\"}],\"barpolar\":[{\"marker\":{\"line\":{\"color\":\"#E5ECF6\",\"width\":0.5},\"pattern\":{\"fillmode\":\"overlay\",\"size\":10,\"solidity\":0.2}},\"type\":\"barpolar\"}],\"pie\":[{\"automargin\":true,\"type\":\"pie\"}]},\"layout\":{\"autotypenumbers\":\"strict\",\"colorway\":[\"#636efa\",\"#EF553B\",\"#00cc96\",\"#ab63fa\",\"#FFA15A\",\"#19d3f3\",\"#FF6692\",\"#B6E880\",\"#FF97FF\",\"#FECB52\"],\"font\":{\"color\":\"#2a3f5f\"},\"hovermode\":\"closest\",\"hoverlabel\":{\"align\":\"left\"},\"paper_bgcolor\":\"white\",\"plot_bgcolor\":\"#E5ECF6\",\"polar\":{\"bgcolor\":\"#E5ECF6\",\"angularaxis\":{\"gridcolor\":\"white\",\"linecolor\":\"white\",\"ticks\":\"\"},\"radialaxis\":{\"gridcolor\":\"white\",\"linecolor\":\"white\",\"ticks\":\"\"}},\"ternary\":{\"bgcolor\":\"#E5ECF6\",\"aaxis\":{\"gridcolor\":\"white\",\"linecolor\":\"white\",\"ticks\":\"\"},\"baxis\":{\"gridcolor\":\"white\",\"linecolor\":\"white\",\"ticks\":\"\"},\"caxis\":{\"gridcolor\":\"white\",\"linecolor\":\"white\",\"ticks\":\"\"}},\"coloraxis\":{\"colorbar\":{\"outlinewidth\":0,\"ticks\":\"\"}},\"colorscale\":{\"sequential\":[[0.0,\"#0d0887\"],[0.1111111111111111,\"#46039f\"],[0.2222222222222222,\"#7201a8\"],[0.3333333333333333,\"#9c179e\"],[0.4444444444444444,\"#bd3786\"],[0.5555555555555556,\"#d8576b\"],[0.6666666666666666,\"#ed7953\"],[0.7777777777777778,\"#fb9f3a\"],[0.8888888888888888,\"#fdca26\"],[1.0,\"#f0f921\"]],\"sequentialminus\":[[0.0,\"#0d0887\"],[0.1111111111111111,\"#46039f\"],[0.2222222222222222,\"#7201a8\"],[0.3333333333333333,\"#9c179e\"],[0.4444444444444444,\"#bd3786\"],[0.5555555555555556,\"#d8576b\"],[0.6666666666666666,\"#ed7953\"],[0.7777777777777778,\"#fb9f3a\"],[0.8888888888888888,\"#fdca26\"],[1.0,\"#f0f921\"]],\"diverging\":[[0,\"#8e0152\"],[0.1,\"#c51b7d\"],[0.2,\"#de77ae\"],[0.3,\"#f1b6da\"],[0.4,\"#fde0ef\"],[0.5,\"#f7f7f7\"],[0.6,\"#e6f5d0\"],[0.7,\"#b8e186\"],[0.8,\"#7fbc41\"],[0.9,\"#4d9221\"],[1,\"#276419\"]]},\"xaxis\":{\"gridcolor\":\"white\",\"linecolor\":\"white\",\"ticks\":\"\",\"title\":{\"standoff\":15},\"zerolinecolor\":\"white\",\"automargin\":true,\"zerolinewidth\":2},\"yaxis\":{\"gridcolor\":\"white\",\"linecolor\":\"white\",\"ticks\":\"\",\"title\":{\"standoff\":15},\"zerolinecolor\":\"white\",\"automargin\":true,\"zerolinewidth\":2},\"scene\":{\"xaxis\":{\"backgroundcolor\":\"#E5ECF6\",\"gridcolor\":\"white\",\"linecolor\":\"white\",\"showbackground\":true,\"ticks\":\"\",\"zerolinecolor\":\"white\",\"gridwidth\":2},\"yaxis\":{\"backgroundcolor\":\"#E5ECF6\",\"gridcolor\":\"white\",\"linecolor\":\"white\",\"showbackground\":true,\"ticks\":\"\",\"zerolinecolor\":\"white\",\"gridwidth\":2},\"zaxis\":{\"backgroundcolor\":\"#E5ECF6\",\"gridcolor\":\"white\",\"linecolor\":\"white\",\"showbackground\":true,\"ticks\":\"\",\"zerolinecolor\":\"white\",\"gridwidth\":2}},\"shapedefaults\":{\"line\":{\"color\":\"#2a3f5f\"}},\"annotationdefaults\":{\"arrowcolor\":\"#2a3f5f\",\"arrowhead\":0,\"arrowwidth\":1},\"geo\":{\"bgcolor\":\"white\",\"landcolor\":\"#E5ECF6\",\"subunitcolor\":\"white\",\"showland\":true,\"showlakes\":true,\"lakecolor\":\"white\"},\"title\":{\"x\":0.05},\"mapbox\":{\"style\":\"light\"}}},\"xaxis\":{\"anchor\":\"y\",\"domain\":[0.0,1.0],\"title\":{\"text\":\"Age\"}},\"yaxis\":{\"anchor\":\"x\",\"domain\":[0.0,1.0],\"title\":{\"text\":\"count\"}},\"legend\":{\"tracegroupgap\":0},\"title\":{\"text\":\"Age Distribution\"},\"barmode\":\"relative\"},                        {\"responsive\": true}                    ).then(function(){\n",
              "                            \n",
              "var gd = document.getElementById('3ee5e4ec-5582-49c7-b763-013002c235d7');\n",
              "var x = new MutationObserver(function (mutations, observer) {{\n",
              "        var display = window.getComputedStyle(gd).display;\n",
              "        if (!display || display === 'none') {{\n",
              "            console.log([gd, 'removed!']);\n",
              "            Plotly.purge(gd);\n",
              "            observer.disconnect();\n",
              "        }}\n",
              "}});\n",
              "\n",
              "// Listen for the removal of the full notebook cells\n",
              "var notebookContainer = gd.closest('#notebook-container');\n",
              "if (notebookContainer) {{\n",
              "    x.observe(notebookContainer, {childList: true});\n",
              "}}\n",
              "\n",
              "// Listen for the clearing of the current output cell\n",
              "var outputEl = gd.closest('.output');\n",
              "if (outputEl) {{\n",
              "    x.observe(outputEl, {childList: true});\n",
              "}}\n",
              "\n",
              "                        })                };                            </script>        </div>\n",
              "</body>\n",
              "</html>"
            ]
          },
          "metadata": {}
        }
      ]
    },
    {
      "cell_type": "code",
      "source": [
        "fig = px.box(df, x='Pclass', y='Fare', title='Fare Distribution by Passenger Class')\n",
        "fig.show()\n"
      ],
      "metadata": {
        "colab": {
          "base_uri": "https://localhost:8080/",
          "height": 542
        },
        "id": "esHK6Et_Frxk",
        "outputId": "96c38cb6-fcac-4e50-acdf-4d015202930a"
      },
      "id": "esHK6Et_Frxk",
      "execution_count": null,
      "outputs": [
        {
          "output_type": "display_data",
          "data": {
            "text/html": [
              "<html>\n",
              "<head><meta charset=\"utf-8\" /></head>\n",
              "<body>\n",
              "    <div>            <script src=\"https://cdnjs.cloudflare.com/ajax/libs/mathjax/2.7.5/MathJax.js?config=TeX-AMS-MML_SVG\"></script><script type=\"text/javascript\">if (window.MathJax && window.MathJax.Hub && window.MathJax.Hub.Config) {window.MathJax.Hub.Config({SVG: {font: \"STIX-Web\"}});}</script>                <script type=\"text/javascript\">window.PlotlyConfig = {MathJaxConfig: 'local'};</script>\n",
              "        <script src=\"https://cdn.plot.ly/plotly-2.18.2.min.js\"></script>                <div id=\"685e5363-8da3-41ba-8a3c-3b9308799ea0\" class=\"plotly-graph-div\" style=\"height:525px; width:100%;\"></div>            <script type=\"text/javascript\">                                    window.PLOTLYENV=window.PLOTLYENV || {};                                    if (document.getElementById(\"685e5363-8da3-41ba-8a3c-3b9308799ea0\")) {                    Plotly.newPlot(                        \"685e5363-8da3-41ba-8a3c-3b9308799ea0\",                        [{\"alignmentgroup\":\"True\",\"hovertemplate\":\"Pclass=%{x}<br>Fare=%{y}<extra></extra>\",\"legendgroup\":\"\",\"marker\":{\"color\":\"#636efa\"},\"name\":\"\",\"notched\":false,\"offsetgroup\":\"\",\"orientation\":\"v\",\"showlegend\":false,\"x\":[3,1,3,1,3,3,1,3,3,2,3,1,3,3,3,2,3,2,3,3,2,2,3,1,3,3,3,1,3,3,1,1,3,2,1,1,3,3,3,3,3,2,3,2,3,3,3,3,3,3,3,3,1,2,1,1,2,3,2,3,3,1,1,3,1,3,2,3,3,3,2,3,2,3,3,3,3,3,2,3,3,3,3,1,2,3,3,3,1,3,3,3,1,3,3,3,1,1,2,2,3,3,1,3,3,3,3,3,3,3,1,3,3,3,3,3,3,2,1,3,2,3,2,2,1,3,3,3,3,3,3,3,3,2,2,2,1,1,3,1,3,3,3,3,2,2,3,3,2,2,2,1,3,3,3,1,3,3,3,3,3,2,3,3,3,3,1,3,1,3,1,3,3,3,1,3,3,1,2,3,3,2,3,2,3,1,3,1,3,3,2,2,3,2,1,1,3,3,3,2,3,3,3,3,3,3,3,3,3,1,3,2,3,2,3,1,3,2,1,2,3,2,3,3,1,3,2,3,2,3,1,3,2,3,2,3,2,2,2,2,3,3,2,3,3,1,3,2,1,2,3,3,1,3,3,3,1,1,1,2,3,3,1,1,3,2,3,3,1,1,1,3,2,1,3,1,3,2,3,3,3,3,3,3,1,3,3,3,2,3,1,1,2,3,3,1,3,1,1,1,3,3,3,2,3,1,1,1,2,1,1,1,2,3,2,3,2,2,1,1,3,3,2,2,3,1,3,2,3,1,3,1,1,3,1,3,1,1,3,1,2,1,2,2,2,2,2,3,3,3,3,1,3,3,3,3,1,2,3,3,3,2,3,3,3,3,1,3,3,1,1,3,3,1,3,1,3,1,3,3,1,3,3,1,3,2,3,2,3,2,1,3,3,1,3,3,3,2,2,2,3,3,3,3,3,2,3,2,3,3,3,3,1,2,3,3,2,2,2,3,3,3,3,3,3,3,2,2,3,3,1,3,2,3,1,1,3,2,1,2,2,3,3,2,3,1,2,1,3,1,2,3,1,1,3,3,1,1,2,3,1,3,1,2,3,3,2,1,3,3,3,3,2,2,3,1,2,3,3,3,3,2,3,3,1,3,1,1,3,3,3,3,1,1,3,3,1,3,1,3,3,3,3,3,1,1,2,1,3,3,3,3,1,1,3,1,2,3,2,3,1,3,3,1,3,3,2,1,3,2,2,3,3,3,3,2,1,1,3,1,1,3,3,2,1,1,2,2,3,2,1,2,3,3,3,1,1,1,1,3,3,3,2,3,3,3,3,3,3,3,2,1,1,3,3,3,2,1,3,3,2,1,2,1,3,1,2,1,3,3,3,1,3,3,2,3,2,3,3,1,2,3,1,3,1,3,3,1,2,1,3,3,3,3,3,2,3,3,2,2,3,1,3,3,3,1,2,1,3,3,1,3,1,1,3,2,3,2,3,3,3,1,3,3,3,1,3,1,3,3,3,2,3,3,3,2,3,3,2,1,1,3,1,3,3,2,2,3,3,1,2,1,2,2,2,3,3,3,3,1,3,1,3,3,2,2,3,3,3,1,1,3,3,3,1,2,3,3,1,3,1,1,3,3,3,2,2,1,1,3,1,1,1,3,2,3,1,2,3,3,2,3,2,2,1,3,2,3,2,3,1,3,2,2,2,3,3,1,3,3,1,1,1,3,3,1,3,2,1,3,2,3,3,3,2,2,3,2,3,1,3,3,3,1,3,1,1,3,3,3,3,3,2,3,2,3,3,3,3,1,3,1,1,3,3,3,3,3,3,1,3,2,3,1,3,2,1,3,3,3,2,2,1,3,3,3,1,3,2,1,3,3,2,3,3,1,3,2,3,3,1,3,1,3,3,3,3,2,3,1,3,2,3,3,3,1,3,3,3,1,3,2,1,3,3,3,3,3,2,1,3,3,3,1,2,3,1,1,3,3,3,2,1,3,2,2,2,1,3,3,3,1,1,3,2,3,3,3,3,1,2,3,3,2,3,3,2,1,3,1,3,3,3,2,3,3,3,3,2,3,3,3,1,1,2,1,2,2,3,3,3,1,3,1,1,1,3,1,3,1,3,2,2,3,3,1,3,3,3,3,3,3,1,3,2,1,3,1,3,1,3,1,2,2,1,2,3,3,3,3,1,3,2,3,3,1,2,3,1,1,1,3,3,3,1,1,1,3,1,2,3,3,1,1,3,2,3,3,3,3,2,3,3,1,3,1,3,1,3,3,3,1,2,3,3,3,3,3,3,3,2,2,3,1,3,1,3,3,3,1,2,2,3,1,3,3,3,3,3,2,3,3,1,3,3,3,3,3,2,3,3,3,1,1,2,1,3,1,3,1,2,1,3,3,3,3,3,1,3,1,3,3,3,2,3,2,3,1,3,1,3,3,3,3,3,3,2,2,1,2,1,2,1,1,3,1,2,2,3,3,2,2,1,3,2,2,3,1,3,2,3,3,3,1,2,2,1,3,2,1,3,3,3,2,2,3,1,3,1,1,3,2,3,2,3,1,3,3,3,3,2,2,1,3,3,1,3,1,3,2,1,1,2,1,3,3,1,2,2,2,3,2,3,1,3,3,3,3,3,2,3,3,3,2,3,2,3,1,3,3,3,1,3,1,3,3,2,2,2,2,2,3,3,3,3,3,3,3,1,3,3,1,3,3,1,3,3,2,3,1,3,3,2,2,3,3,1,1,3,1,3,3,3,3,3,1,3,1,2,3,2,3,3,2,1,1,3,2,1,2,2,2,1,3,3,3,1,2,3,2,3,2,3,3,1,3,3,2,3,2,2,1,2,2,2,3,1,1,3,3,3,3,2,2,3,1,3,3,3,1,2,2,1,1,2,1,1,3,2,1,3,3,3,3,3,2,2,3,2,3,3,1,1,3,2,3,1,3,1,3,3,1,2,1,1,1,2,2,1,3,3,3,1,3,3,1,3,3,3],\"x0\":\" \",\"xaxis\":\"x\",\"y\":[2.1102132003465894,4.2805931204649,2.188856327665703,3.9908341858524357,2.2027647577118348,2.246892662898172,3.967694202798607,3.0944457464900235,2.495953738718064,3.436268471383741,2.8735646395797834,3.3160025355989236,2.2027647577118348,3.4742929367327062,2.180891922715322,2.833213344056216,3.405355391810819,2.6390573296152584,2.9444389791664403,2.1071782966514356,3.295836866004329,2.6390573296152584,2.2004637699272855,3.597312260588446,3.0944457464900235,3.4777725458882283,2.1071782966514356,5.575949103146316,2.1837114628556327,2.1855792552411137,3.357621598945279,4.993969182787072,2.169053700369523,2.4423470353692043,4.420896324687287,3.970291913552122,2.1076888046179385,2.2027647577118348,2.9444389791664403,2.5048481563289,2.348991465808201,3.091042453358316,2.1855792552411137,3.7513658711253766,2.1837114628556327,2.2027647577118348,2.803360380906535,2.169053700369523,3.1214482048688246,2.9338568698359038,3.705920919968788,2.174751721484161,4.353230991152628,3.295836866004329,4.142804513146981,3.597312260588446,2.4423470353692043,2.1076888046179385,3.3586377672433594,3.8691155044168695,2.1076888046179385,4.394449154672439,4.436455632600354,3.3638415951183864,3.357621598945279,2.7878344138303452,2.4423470353692043,2.2146605719425225,2.188856327665703,2.2682524139135403,2.4423470353692043,3.8691155044168695,4.310799125385514,2.737880811060884,4.05171190165724,2.157559320943788,2.1855792552411137,2.2027647577118348,3.4011973816621555,2.600836116795061,2.302585092994046,2.3513752571634776,2.1733302571367834,3.8732821771117156,2.4423470353692043,2.8243506567983707,3.5660053559634015,2.2027647577118348,5.575949103146316,2.2027647577118348,2.2027647577118348,2.180891922715322,4.1299529896894684,3.0715352369694915,2.1102132003465894,2.2027647577118348,3.57386695198272,4.164465907853638,3.1780538303479458,3.295836866004329,2.1855792552411137,2.1855792552411137,4.360387947851531,2.267393053825037,2.188856327665703,2.1855792552411137,2.157559320943788,2.1719067693519296,2.1855792552411137,3.224857896545748,3.970291913552122,2.737880811060884,2.2027647577118348,2.3818582738885534,2.738146075922933,2.188856327665703,2.169053700369523,3.091042453358316,5.515526544247129,3.4742929367327062,4.310799125385514,2.2027647577118348,3.436268471383741,2.6390573296152584,4.360387947851531,2.5048481563289,2.169053700369523,2.0969990034181696,3.1509523813392697,2.076311648670908,2.1855792552411137,2.0856720914304723,2.740840023925201,3.295836866004329,2.6390573296152584,2.775447133088262,3.3062747934011893,3.9908341858524357,2.3240236363515288,4.384523514872469,2.7878344138303452,2.169053700369523,2.8243506567983707,2.0476928433652555,2.5257286443082556,3.6309854756950335,2.174274334826008,3.5660053559634015,3.295836866004329,2.6390573296152584,2.6045398247325453,4.213607983048918,2.2027647577118348,2.740840023925201,2.1177604059819726,4.133231886474144,2.167143305297764,2.2027647577118348,2.2682524139135403,4.256321678298823,2.8390784635086144,2.8183982582710754,2.1719067693519296,2.2682524139135403,3.705920919968788,3.0692150503137943,4.02535169073515,3.3638415951183864,3.2930552230424524,4.05171190165724,3.5409593240373143,3.405355391810819,2.495953738718064,2.188856327665703,3.4561841799918147,2.180891922715322,3.275887339030031,3.391567832686312,2.6390573296152584,0.0,4.256321678298823,2.775708849576025,3.4777725458882283,3.6888794541139363,3.1365805821413706,3.9318256327243257,2.803360380906535,3.3160025355989236,2.803360380906535,2.1855792552411137,2.6390573296152584,2.6390573296152584,2.180891922715322,3.295836866004329,3.357621598945279,4.993969182787072,2.169053700369523,2.2411563979973974,2.169053700369523,2.6390573296152584,2.3513752571634776,4.256321678298823,2.0143428636837015,2.1071782966514356,2.2027647577118348,2.4390808375825834,2.8243506567983707,2.9850504252071306,2.169053700369523,3.4657359027997265,2.0856720914304723,3.091042453358316,2.1102132003465894,2.6390573296152584,2.169053700369523,4.738607824217808,2.188856327665703,3.332204510175204,4.347586575960343,2.4423470353692043,2.2027647577118348,2.6390573296152584,2.2027647577118348,2.1855792552411137,4.51085950651685,2.336986519711378,2.4423470353692043,2.1102132003465894,2.6390573296152584,3.275887339030031,4.436455632600354,2.1719067693519296,2.6741486494265287,3.4777725458882283,2.4423470353692043,2.145931282948669,3.295836866004329,3.305053521109253,2.4423470353692043,2.5858825671280026,2.737880811060884,2.803360380906535,2.4423470353692043,2.094945728215801,2.1071782966514356,4.51085950651685,2.1719067693519296,2.740840023925201,3.9806942251907276,3.295836866004329,2.1102132003465894,2.4390808375825834,3.3160025355989236,2.8390784635086144,3.0545906305603445,2.7878344138303452,4.384523514872469,4.471638793363569,6.240917354759096,3.295836866004329,2.169053700369523,3.4777725458882283,4.390118804571218,0.0,2.169053700369523,2.4423470353692043,3.705920919968788,2.1719067693519296,5.039951348430309,4.91730069488021,3.4657359027997265,0.0,3.0204248861443626,3.4242626545931514,2.169053700369523,4.368919865004903,2.169053700369523,0.0,3.405355391810819,3.056356895370426,2.169053700369523,2.180891922715322,2.3513752571634776,2.2027647577118348,3.295836866004329,2.2682524139135403,2.3513752571634776,2.1855792552411137,2.6390573296152584,2.169053700369523,4.380149874661021,4.5226490762785785,2.630088659632498,2.2874714551839976,2.1855792552411137,3.357621598945279,2.1076888046179385,5.027492411162679,3.449987545831587,5.515526544247129,2.169053700369523,3.188416617383492,0.0,2.5915163848462583,2.2027647577118348,5.027492411162679,4.717456363787216,4.699570861409576,3.2188758248682006,4.0592215752427645,4.432699549165613,5.5735788721243535,3.295836866004329,2.1855792552411137,3.305053521109253,2.180891922715322,3.295836866004329,2.70805020110221,5.11118445372147,4.908971640319756,2.1102132003465894,2.1855792552411137,2.5915163848462583,3.4011973816621555,4.256321678298823,4.91730069488021,1.9792758428991135,2.6390573296152584,3.0692150503137943,4.077184839375167,3.188416617383492,3.3843902633457743,5.039951348430309,2.9444389791664403,4.902678819257608,2.1855792552411137,4.213607983048918,4.908971640319756,2.2027647577118348,3.597312260588446,3.295836866004329,5.575949103146316,2.6390573296152584,2.6390573296152584,2.6390573296152584,2.6390573296152584,2.6390573296152584,2.8390784635086144,2.8273136219290276,2.2682524139135403,2.3248357019288655,3.58351893845611,2.1076888046179385,2.9338568698359038,2.1071782966514356,2.3513752571634776,4.02535169073515,2.6390573296152584,2.1837114628556327,2.1837114628556327,3.3638415951183864,3.357621598945279,2.737880811060884,2.0856720914304723,2.803360380906535,2.1102132003465894,4.334017415487521,2.1076888046179385,2.169053700369523,4.252771798816619,4.0332082470129285,2.0143428636837015,2.2027647577118348,4.91730069488021,3.0944457464900235,4.420896324687287,2.1102132003465894,5.358941988364472,1.6119347926326877,2.1719067693519296,5.4316456135398825,2.817902613071225,2.188856327665703,3.970291913552122,2.1855792552411137,4.310799125385514,3.8691155044168695,2.6390573296152584,2.1666737276227077,2.5649493574615367,4.795790545596741,2.174274334826008,2.188856327665703,4.738607824217808,2.8735646395797834,2.174274334826008,2.180891922715322,3.295836866004329,2.4423470353692043,2.613739521630969,2.188856327665703,2.2027647577118348,2.3818582738885534,2.8243506567983707,2.2682524139135403,3.091042453358316,2.169053700369523,2.9831534913471307,2.1719067693519296,3.275887339030031,2.1855792552411137,2.061570298060867,4.51085950651685,0.0,2.188856327665703,2.2027647577118348,3.5115454388310208,2.6390573296152584,2.6390573296152584,3.224857896545748,2.1855792552411137,2.167143305297764,2.1832383353614797,2.7343675094195836,3.0545906305603445,2.1102132003465894,3.295836866004329,3.295836866004329,2.169053700369523,2.2027647577118348,3.3160025355989236,2.8390784635086144,3.295836866004329,2.094945728215801,4.041295341132285,4.795790545596741,3.5660053559634015,2.9831534913471307,5.575949103146316,2.4423470353692043,3.305053521109253,2.3513752571634776,2.1719067693519296,2.6390573296152584,2.2096470973347766,4.417131919904876,3.0204248861443626,3.3160025355989236,3.0085645861193133,3.449987545831587,3.3586377672433594,3.0429354648621407,3.3586377672433594,4.500966778400217,2.2027647577118348,2.1855792552411137,3.3160025355989236,3.967694202798607,2.4423470353692043,2.169053700369523,3.3160025355989236,2.2027647577118348,3.676300671907076,2.6390573296152584,2.2027647577118348,2.0856720914304723,0.0,3.3160025355989236,2.1661924680884908,3.0085645861193133,2.1102132003465894,2.2682524139135403,3.3586377672433594,2.694066212646058,2.3830123421066602,3.970291913552122,3.091042453358316,2.0851502161468174,2.142510233146819,2.586823743668066,3.8691155044168695,0.0,2.2027647577118348,2.3596740599781727,4.5226490762785785,3.275887339030031,4.51085950651685,3.4242626545931514,2.2027647577118348,2.8273136219290276,3.0429354648621407,2.1102132003465894,3.449987545831587,3.922056501139853,2.2027647577118348,2.738146075922933,4.37281811610993,2.7788192719904172,5.027492411162679,2.174274334826008,2.2682524139135403,2.169053700369523,2.155151800914312,2.3596740599781727,4.471638793363569,4.699570861409576,3.295836866004329,3.3160025355989236,3.1580636854714434,4.05171190165724,2.169053700369523,2.2027647577118348,3.3064287218760624,4.100989104940769,2.139571923732859,3.5559421706858756,2.4423470353692043,3.224857896545748,3.295836866004329,2.1855792552411137,4.548599834499697,2.1855792552411137,2.1071782966514356,4.077184839375167,2.1076888046179385,2.169053700369523,2.4423470353692043,5.406181146423973,2.188856327665703,2.5257286443082556,3.295836866004329,2.1076888046179385,2.1076888046179385,3.1509523813392697,2.2682524139135403,3.305053521109253,3.3160025355989236,4.676792929661059,2.740840023925201,3.9219733362813143,4.276666119016055,3.4742929367327062,3.4742929367327062,3.295836866004329,4.676792929661059,3.295836866004329,3.295836866004329,2.6988412620169004,3.0692150503137943,3.6309854756950335,4.717456363787216,3.295836866004329,2.17806441028492,2.1071782966514356,2.1719067693519296,3.3160025355989236,3.703768066607687,5.4316456135398825,4.390118804571218,2.91235066461494,2.169053700369523,2.1855792552411137,2.6741486494265287,2.2027647577118348,2.2027647577118348,3.224857896545748,2.1855792552411137,3.0944457464900235,2.1076888046179385,2.180891922715322,2.4423470353692043,3.960416900617205,3.3100867049215847,2.169053700369523,2.2027647577118348,2.740840023925201,2.6390573296152584,4.041295341132285,2.738146075922933,2.188856327665703,3.4339872044851463,4.717456363787216,3.295836866004329,3.716616209085536,2.2734137156937657,4.390118804571218,2.772588722239781,4.384523514872469,2.2027647577118348,2.2027647577118348,2.094945728215801,4.37281811610993,2.1102132003465894,2.169053700369523,3.295836866004329,3.224857896545748,3.5263605246161616,0.0,2.1071782966514356,4.0592215752427645,3.332204510175204,2.1855792552411137,3.770459441106359,2.2027647577118348,3.3160025355989236,2.806386101823072,2.1855792552411137,3.449987545831587,3.7513658711253766,5.039951348430309,3.4742929367327062,2.0856720914304723,2.803360380906535,2.169053700369523,2.2027647577118348,4.189654742026425,2.7343675094195836,2.8390784635086144,3.6888794541139363,2.4423470353692043,2.737880811060884,3.9806942251907276,2.817902613071225,2.180891922715322,2.8390784635086144,3.5061818266142577,2.5915163848462583,4.368919865004903,2.1855792552411137,2.167143305297764,3.4339872044851463,2.086193694502369,3.449987545831587,0.0,3.3638415951183864,2.6390573296152584,2.188856327665703,3.305053521109253,3.705920919968788,2.8390784635086144,2.180891922715322,4.252771798816619,3.3638415951183864,4.05171190165724,3.0085645861193133,4.353230991152628,2.1855792552411137,3.597312260588446,2.145931282948669,2.145931282948669,2.1855792552411137,3.1780538303479458,2.2442459824059346,2.17806441028492,2.0476928433652555,4.310799125385514,2.1855792552411137,2.803360380906535,2.6390573296152584,4.738607824217808,4.902678819257608,2.1071782966514356,3.2804411805263554,2.139571923732859,2.188856327665703,4.310799125385514,2.6390573296152584,2.1719067693519296,2.2027647577118348,3.970291913552122,3.6888794541139363,3.970291913552122,2.4423470353692043,2.6390573296152584,0.0,2.1719067693519296,2.2027647577118348,2.3833998102837652,3.8691155044168695,6.240917354759096,2.212386825075897,4.353230991152628,2.3248357019288655,3.8691155044168695,3.6888794541139363,3.7513658711253766,3.705920919968788,2.4133032309283076,2.174274334826008,5.35817698994543,4.060443010546419,2.668387256845834,4.05171190165724,2.1071782966514356,3.3160025355989236,2.6741486494265287,2.2027647577118348,2.167143305297764,4.717456363787216,2.157559320943788,5.4316456135398825,3.3064287218760624,2.737880811060884,2.1681046787623672,2.180891922715322,3.295836866004329,2.6741486494265287,3.3064287218760624,5.027492411162679,2.7878344138303452,3.922056501139853,3.3160025355989236,3.970291913552122,2.3497835148230464,2.6390573296152584,2.157559320943788,5.4316456135398825,2.4423470353692043,2.803360380906535,2.1719067693519296,3.5263605246161616,2.086193694502369,2.6390573296152584,2.6390573296152584,3.9908341858524357,2.2682524139135403,3.091042453358316,2.1676241075599285,3.295836866004329,2.188856327665703,5.35817698994543,2.9850504252071306,0.0,2.6390573296152584,2.6390573296152584,2.8390784635086144,3.5660053559634015,6.240917354759096,2.1855792552411137,2.1855792552411137,3.4339872044851463,4.380149874661021,5.5735788721243535,2.8390784635086144,2.188856327665703,4.276666119016055,3.056356895370426,2.6390573296152584,3.9908341858524357,2.169053700369523,3.1780538303479458,2.600836116795061,2.3513752571634776,2.1855792552411137,4.189654742026425,2.740840023925201,2.174274334826008,2.5257286443082556,2.2027647577118348,4.471638793363569,2.740840023925201,2.094945728215801,2.1076888046179385,4.795790545596741,2.1719067693519296,4.368919865004903,3.703768066607687,2.169053700369523,3.224857896545748,2.236712348843338,2.3513752571634776,2.180891922715322,2.4423470353692043,2.1071782966514356,3.1780538303479458,2.169053700369523,2.169053700369523,2.600836116795061,2.1676241075599285,5.35817698994543,2.1076888046179385,4.060443010546419,3.4339872044851463,3.196630215920881,2.0856720914304723,2.1102132003465894,2.139571923732859,3.405355391810819,3.0715352369694915,4.384523514872469,2.169053700369523,3.295836866004329,4.256321678298823,3.4561841799918147,2.1855792552411137,2.6390573296152584,3.2932111997353943,2.270402752283094,2.1076888046179385,3.224857896545748,2.6390573296152584,3.305053521109253,4.795790545596741,2.2530481500547457,2.076311648670908,2.1719067693519296,0.0,2.1719067693519296,2.6390573296152584,3.9908341858524357,2.184645795129359,3.224857896545748,2.4423470353692043,3.4742929367327062,2.2027647577118348,0.0,2.188856327665703,3.637696679934592,2.0082140323914683,3.3638415951183864,4.548599834499697,2.2682524139135403,0.0,2.600836116795061,3.705920919968788,2.0731719286662407,4.05171190165724,3.637696679934592,2.169053700369523,4.394449154672439,2.737880811060884,2.9831534913471307,2.1076888046179385,2.180891922715322,2.2300144001592104,4.432699549165613,2.2682524139135403,2.2027647577118348,4.05171190165724,3.4242626545931514,2.188856327665703,2.4423470353692043,3.4657359027997265,2.006534770871748,2.2682524139135403,2.145931282948669,4.256321678298823,2.1855792552411137,3.5263605246161616,4.500966778400217,3.4742929367327062,2.1719067693519296,2.7878344138303452,3.6988297849671046,3.295836866004329,2.336986519711378,5.11118445372147,3.3160025355989236,3.0085645861193133,2.1076888046179385,2.7152442616824506,2.5257286443082556,3.2932111997353943,4.256321678298823,2.6390573296152584,2.6390573296152584,2.698558631668595,3.941500250945973,2.3513752571634776,2.495953738718064,2.1855792552411137,3.9806942251907276,1.791759469228055,2.302585092994046,3.2188758248682006,2.1071782966514356,2.3837779082709782,2.1855792552411137,2.1855792552411137,4.432699549165613,3.295836866004329,2.1855792552411137,2.4437981558973862,2.4423470353692043,2.0856720914304723,3.405355391810819,2.6390573296152584,3.4339872044851463,3.196630215920881,3.4339872044851463,2.169053700369523,2.17806441028492,2.0794415416798357,2.3690748342628787,2.2682524139135403,2.586823743668066,2.3248357019288655,2.155151800914312,3.4011973816621555,2.1076888046179385,3.224857896545748,2.1855792552411137,3.295836866004329,4.422048709343544,3.295836866004329,4.1299529896894684,3.357621598945279,2.5915163848462583,2.1071782966514356,2.188856327665703,2.1071782966514356,4.100989104940769,1.428107863933301,3.4868642440859134,4.133231886474144,5.5735788721243535,2.740840023925201,4.142804513146981,2.1071782966514356,3.449987545831587,3.1214482048688246,3.295836866004329,3.481240089335692,3.0715352369694915,3.196630215920881,4.073291153024268,2.1076888046179385,2.2027647577118348,2.2682524139135403,2.3513752571634776,4.05171190165724,2.668387256845834,3.3160025355989236,2.180417459019838,2.6390573296152584,3.9806942251907276,2.188856327665703,3.4242626545931514,2.169053700369523,4.347586575960343,2.8273136219290276,4.110873864173311,2.7746678094393658,3.1780538303479458,5.575949103146316,2.808148897638332,3.405355391810819,2.1855792552411137,2.157559320943788,2.8390784635086144,5.5735788721243535,2.1855792552411137,2.6741486494265287,2.169053700369523,2.1661924680884908,5.5735788721243535,3.091042453358316,2.1837114628556327,3.770459441106359,3.3856606425130265,5.575949103146316,2.169053700369523,2.1855792552411137,2.188856327665703,3.357621598945279,5.358941988364472,5.358941988364472,2.2027647577118348,3.2846635654062037,2.6390573296152584,2.169053700369523,2.7878344138303452,5.406181146423973,3.295836866004329,2.1855792552411137,2.4602979920066583,2.737880811060884,2.1837114628556327,2.2027647577118348,2.169053700369523,3.1780538303479458,2.7013612129514133,2.1719067693519296,3.970291913552122,2.2027647577118348,3.295836866004329,2.174274334826008,4.380149874661021,2.188856327665703,2.180891922715322,2.2027647577118348,4.0332082470129285,3.295836866004329,2.169053700369523,2.1719067693519296,2.2530481500547457,3.1580636854714434,2.177112568853282,2.169053700369523,2.2734137156937657,2.6390573296152584,2.775447133088262,2.172385287322574,3.486738789888005,2.114241439721562,5.406181146423973,2.737880811060884,2.006534770871748,2.8735646395797834,4.333908557103646,3.295836866004329,2.8183982582710754,2.169053700369523,4.073291153024268,2.1102132003465894,2.169053700369523,2.8390784635086144,2.174274334826008,3.188416617383492,2.6390573296152584,2.2027647577118348,2.2027647577118348,3.3843902633457743,3.275887339030031,2.006534770871748,2.1855792552411137,2.180891922715322,2.1071782966514356,2.6390573296152584,2.2027647577118348,3.8691155044168695,3.8691155044168695,5.027492411162679,5.5735788721243535,3.295836866004329,3.3160025355989236,2.9444389791664403,3.967694202798607,2.2027647577118348,3.3160025355989236,3.295836866004329,4.432699549165613,2.1855792552411137,3.535013546107913,2.57895087709735,3.4777725458882283,2.145931282948669,5.406181146423973,2.180891922715322,3.3160025355989236,2.692936563292162,2.167143305297764,2.7878344138303452,2.6741486494265287,2.0794415416798357,2.6390573296152584,3.1365805821413706,3.941500250945973,3.5660053559634015,3.357621598945279,2.2988280441163336,2.145931282948669,2.1071782966514356,2.7013612129514133,2.1076888046179385,3.4777725458882283,3.6888794541139363,3.6309854756950335,4.0332082470129285,3.6888794541139363,4.432699549165613,2.6390573296152584,4.432699549165613,3.9908341858524357,2.169053700369523,5.515526544247129,2.833213344056216,3.091042453358316,2.2027647577118348,4.256321678298823,2.6390573296152584,3.295836866004329,3.295836866004329,2.740840023925201,2.5915163848462583,3.5115454388310208,2.180891922715322,4.908971640319756,2.1719067693519296,2.4423470353692043,2.2096470973347766,2.803360380906535,2.7343675094195836,5.4316456135398825,3.295836866004329,2.4423470353692043,3.286224144821269,2.169053700369523,2.4423470353692043,3.357621598945279,2.1855792552411137,3.1580636854714434,2.0856720914304723,4.310799125385514,3.295836866004329,2.1719067693519296,3.7727609380946383,2.1837114628556327,5.11118445372147,5.358941988364472,2.2027647577118348,2.698558631668595,2.2027647577118348,2.4423470353692043,2.174274334826008,3.34800052225782,2.7878344138303452,2.174274334826008,2.169053700369523,2.7788192719904172,2.6390573296152584,4.189654742026425,3.3160025355989236,2.0143428636837015,2.1837114628556327,4.2805931204649,2.180891922715322,4.334017415487521,2.1071782966514356,2.6390573296152584,4.676792929661059,3.357621598945279,3.4339872044851463,4.908971640319756,2.184645795129359,3.196630215920881,3.967694202798607,3.091042453358316,3.5115454388310208,3.295836866004329,2.737880811060884,3.3586377672433594,2.188856327665703,4.925652403790231,2.3345681388470965,2.3513752571634776,2.145931282948669,2.169053700369523,2.2027647577118348,2.6390573296152584,2.1719067693519296,2.91235066461494,2.180891922715322,3.1780538303479458,2.57895087709735,2.62012931972974,2.1855792552411137,0.0,2.145931282948669,2.2027647577118348,2.2682524139135403,4.333908557103646,2.169053700369523,4.925652403790231,2.803360380906535,2.1071782966514356,3.295836866004329,2.4423470353692043,3.295836866004329,3.091042453358316,2.4423470353692043,2.2682524139135403,2.692936563292162,2.169053700369523,2.7878344138303452,3.0545906305603445,2.1102132003465894,2.1102132003465894,4.422048709343544,2.1076888046179385,2.2027647577118348,3.703768066607687,2.0731719286662407,2.1076888046179385,4.417131919904876,2.3513752571634776,2.1855792552411137,3.7513658711253766,3.1214482048688246,3.8394523125933104,2.180891922715322,2.1719067693519296,2.775447133088262,3.091042453358316,2.2682524139135403,2.169053700369523,3.3160025355989236,5.027492411162679,2.336986519711378,4.548599834499697,2.7152442616824506,2.2682524139135403,2.1071782966514356,2.1488509930520037,2.169053700369523,4.91730069488021,2.167143305297764,4.993969182787072,2.4423470353692043,2.180891922715322,3.481240089335692,2.1719067693519296,2.1076888046179385,2.6390573296152584,3.3160025355989236,5.35817698994543,2.0856720914304723,3.6888794541139363,4.384523514872469,3.295836866004329,2.6390573296152584,3.6309854756950335,3.4242626545931514,2.1071782966514356,2.817902613071225,2.1855792552411137,3.295836866004329,2.6390573296152584,2.1076888046179385,3.481240089335692,2.1076888046179385,2.4423470353692043,2.149340669059503,4.256321678298823,6.240917354759096,2.740840023925201,2.157559320943788,2.6390573296152584,2.1076888046179385,2.6741486494265287,3.091042453358316,4.164465907853638,2.4423470353692043,4.310799125385514,4.189654742026425,3.0715352369694915,3.295836866004329,3.960416900617205,2.1837114628556327,2.169053700369523,2.806386101823072,4.256321678298823,3.637696679934592,3.091042453358316,2.2682524139135403,4.0332082470129285,4.256321678298823,2.738146075922933,3.705920919968788,4.100989104940769,2.698558631668595,2.5257286443082556,4.908971640319756,0.0,2.6390573296152584,4.417131919904876,5.5735788721243535,2.2682524139135403,2.5257286443082556,3.9318256327243257,3.4777725458882283,2.169053700369523,2.1837114628556327,2.740840023925201,2.8390784635086144,2.630088659632498,4.189654742026425,2.1719067693519296,2.6390573296152584,2.169053700369523,3.0944457464900235,4.548599834499697,3.6988297849671046,3.056356895370426,2.4423470353692043,3.1365805821413706,4.110873864173311,2.1102132003465894,4.384523514872469,2.1719067693519296,2.167143305297764,5.11118445372147,3.091042453358316,4.100989104940769,3.8732821771117156,3.357621598945279,2.6988412620169004,2.4423470353692043,5.358941988364472,2.165710976832012,2.692936563292162,2.169053700369523,4.51085950651685,2.1719067693519296,2.2027647577118348,4.699570861409576,2.1102132003465894,2.2027647577118348,3.1509523813392697],\"y0\":\" \",\"yaxis\":\"y\",\"type\":\"box\"}],                        {\"template\":{\"data\":{\"histogram2dcontour\":[{\"type\":\"histogram2dcontour\",\"colorbar\":{\"outlinewidth\":0,\"ticks\":\"\"},\"colorscale\":[[0.0,\"#0d0887\"],[0.1111111111111111,\"#46039f\"],[0.2222222222222222,\"#7201a8\"],[0.3333333333333333,\"#9c179e\"],[0.4444444444444444,\"#bd3786\"],[0.5555555555555556,\"#d8576b\"],[0.6666666666666666,\"#ed7953\"],[0.7777777777777778,\"#fb9f3a\"],[0.8888888888888888,\"#fdca26\"],[1.0,\"#f0f921\"]]}],\"choropleth\":[{\"type\":\"choropleth\",\"colorbar\":{\"outlinewidth\":0,\"ticks\":\"\"}}],\"histogram2d\":[{\"type\":\"histogram2d\",\"colorbar\":{\"outlinewidth\":0,\"ticks\":\"\"},\"colorscale\":[[0.0,\"#0d0887\"],[0.1111111111111111,\"#46039f\"],[0.2222222222222222,\"#7201a8\"],[0.3333333333333333,\"#9c179e\"],[0.4444444444444444,\"#bd3786\"],[0.5555555555555556,\"#d8576b\"],[0.6666666666666666,\"#ed7953\"],[0.7777777777777778,\"#fb9f3a\"],[0.8888888888888888,\"#fdca26\"],[1.0,\"#f0f921\"]]}],\"heatmap\":[{\"type\":\"heatmap\",\"colorbar\":{\"outlinewidth\":0,\"ticks\":\"\"},\"colorscale\":[[0.0,\"#0d0887\"],[0.1111111111111111,\"#46039f\"],[0.2222222222222222,\"#7201a8\"],[0.3333333333333333,\"#9c179e\"],[0.4444444444444444,\"#bd3786\"],[0.5555555555555556,\"#d8576b\"],[0.6666666666666666,\"#ed7953\"],[0.7777777777777778,\"#fb9f3a\"],[0.8888888888888888,\"#fdca26\"],[1.0,\"#f0f921\"]]}],\"heatmapgl\":[{\"type\":\"heatmapgl\",\"colorbar\":{\"outlinewidth\":0,\"ticks\":\"\"},\"colorscale\":[[0.0,\"#0d0887\"],[0.1111111111111111,\"#46039f\"],[0.2222222222222222,\"#7201a8\"],[0.3333333333333333,\"#9c179e\"],[0.4444444444444444,\"#bd3786\"],[0.5555555555555556,\"#d8576b\"],[0.6666666666666666,\"#ed7953\"],[0.7777777777777778,\"#fb9f3a\"],[0.8888888888888888,\"#fdca26\"],[1.0,\"#f0f921\"]]}],\"contourcarpet\":[{\"type\":\"contourcarpet\",\"colorbar\":{\"outlinewidth\":0,\"ticks\":\"\"}}],\"contour\":[{\"type\":\"contour\",\"colorbar\":{\"outlinewidth\":0,\"ticks\":\"\"},\"colorscale\":[[0.0,\"#0d0887\"],[0.1111111111111111,\"#46039f\"],[0.2222222222222222,\"#7201a8\"],[0.3333333333333333,\"#9c179e\"],[0.4444444444444444,\"#bd3786\"],[0.5555555555555556,\"#d8576b\"],[0.6666666666666666,\"#ed7953\"],[0.7777777777777778,\"#fb9f3a\"],[0.8888888888888888,\"#fdca26\"],[1.0,\"#f0f921\"]]}],\"surface\":[{\"type\":\"surface\",\"colorbar\":{\"outlinewidth\":0,\"ticks\":\"\"},\"colorscale\":[[0.0,\"#0d0887\"],[0.1111111111111111,\"#46039f\"],[0.2222222222222222,\"#7201a8\"],[0.3333333333333333,\"#9c179e\"],[0.4444444444444444,\"#bd3786\"],[0.5555555555555556,\"#d8576b\"],[0.6666666666666666,\"#ed7953\"],[0.7777777777777778,\"#fb9f3a\"],[0.8888888888888888,\"#fdca26\"],[1.0,\"#f0f921\"]]}],\"mesh3d\":[{\"type\":\"mesh3d\",\"colorbar\":{\"outlinewidth\":0,\"ticks\":\"\"}}],\"scatter\":[{\"fillpattern\":{\"fillmode\":\"overlay\",\"size\":10,\"solidity\":0.2},\"type\":\"scatter\"}],\"parcoords\":[{\"type\":\"parcoords\",\"line\":{\"colorbar\":{\"outlinewidth\":0,\"ticks\":\"\"}}}],\"scatterpolargl\":[{\"type\":\"scatterpolargl\",\"marker\":{\"colorbar\":{\"outlinewidth\":0,\"ticks\":\"\"}}}],\"bar\":[{\"error_x\":{\"color\":\"#2a3f5f\"},\"error_y\":{\"color\":\"#2a3f5f\"},\"marker\":{\"line\":{\"color\":\"#E5ECF6\",\"width\":0.5},\"pattern\":{\"fillmode\":\"overlay\",\"size\":10,\"solidity\":0.2}},\"type\":\"bar\"}],\"scattergeo\":[{\"type\":\"scattergeo\",\"marker\":{\"colorbar\":{\"outlinewidth\":0,\"ticks\":\"\"}}}],\"scatterpolar\":[{\"type\":\"scatterpolar\",\"marker\":{\"colorbar\":{\"outlinewidth\":0,\"ticks\":\"\"}}}],\"histogram\":[{\"marker\":{\"pattern\":{\"fillmode\":\"overlay\",\"size\":10,\"solidity\":0.2}},\"type\":\"histogram\"}],\"scattergl\":[{\"type\":\"scattergl\",\"marker\":{\"colorbar\":{\"outlinewidth\":0,\"ticks\":\"\"}}}],\"scatter3d\":[{\"type\":\"scatter3d\",\"line\":{\"colorbar\":{\"outlinewidth\":0,\"ticks\":\"\"}},\"marker\":{\"colorbar\":{\"outlinewidth\":0,\"ticks\":\"\"}}}],\"scattermapbox\":[{\"type\":\"scattermapbox\",\"marker\":{\"colorbar\":{\"outlinewidth\":0,\"ticks\":\"\"}}}],\"scatterternary\":[{\"type\":\"scatterternary\",\"marker\":{\"colorbar\":{\"outlinewidth\":0,\"ticks\":\"\"}}}],\"scattercarpet\":[{\"type\":\"scattercarpet\",\"marker\":{\"colorbar\":{\"outlinewidth\":0,\"ticks\":\"\"}}}],\"carpet\":[{\"aaxis\":{\"endlinecolor\":\"#2a3f5f\",\"gridcolor\":\"white\",\"linecolor\":\"white\",\"minorgridcolor\":\"white\",\"startlinecolor\":\"#2a3f5f\"},\"baxis\":{\"endlinecolor\":\"#2a3f5f\",\"gridcolor\":\"white\",\"linecolor\":\"white\",\"minorgridcolor\":\"white\",\"startlinecolor\":\"#2a3f5f\"},\"type\":\"carpet\"}],\"table\":[{\"cells\":{\"fill\":{\"color\":\"#EBF0F8\"},\"line\":{\"color\":\"white\"}},\"header\":{\"fill\":{\"color\":\"#C8D4E3\"},\"line\":{\"color\":\"white\"}},\"type\":\"table\"}],\"barpolar\":[{\"marker\":{\"line\":{\"color\":\"#E5ECF6\",\"width\":0.5},\"pattern\":{\"fillmode\":\"overlay\",\"size\":10,\"solidity\":0.2}},\"type\":\"barpolar\"}],\"pie\":[{\"automargin\":true,\"type\":\"pie\"}]},\"layout\":{\"autotypenumbers\":\"strict\",\"colorway\":[\"#636efa\",\"#EF553B\",\"#00cc96\",\"#ab63fa\",\"#FFA15A\",\"#19d3f3\",\"#FF6692\",\"#B6E880\",\"#FF97FF\",\"#FECB52\"],\"font\":{\"color\":\"#2a3f5f\"},\"hovermode\":\"closest\",\"hoverlabel\":{\"align\":\"left\"},\"paper_bgcolor\":\"white\",\"plot_bgcolor\":\"#E5ECF6\",\"polar\":{\"bgcolor\":\"#E5ECF6\",\"angularaxis\":{\"gridcolor\":\"white\",\"linecolor\":\"white\",\"ticks\":\"\"},\"radialaxis\":{\"gridcolor\":\"white\",\"linecolor\":\"white\",\"ticks\":\"\"}},\"ternary\":{\"bgcolor\":\"#E5ECF6\",\"aaxis\":{\"gridcolor\":\"white\",\"linecolor\":\"white\",\"ticks\":\"\"},\"baxis\":{\"gridcolor\":\"white\",\"linecolor\":\"white\",\"ticks\":\"\"},\"caxis\":{\"gridcolor\":\"white\",\"linecolor\":\"white\",\"ticks\":\"\"}},\"coloraxis\":{\"colorbar\":{\"outlinewidth\":0,\"ticks\":\"\"}},\"colorscale\":{\"sequential\":[[0.0,\"#0d0887\"],[0.1111111111111111,\"#46039f\"],[0.2222222222222222,\"#7201a8\"],[0.3333333333333333,\"#9c179e\"],[0.4444444444444444,\"#bd3786\"],[0.5555555555555556,\"#d8576b\"],[0.6666666666666666,\"#ed7953\"],[0.7777777777777778,\"#fb9f3a\"],[0.8888888888888888,\"#fdca26\"],[1.0,\"#f0f921\"]],\"sequentialminus\":[[0.0,\"#0d0887\"],[0.1111111111111111,\"#46039f\"],[0.2222222222222222,\"#7201a8\"],[0.3333333333333333,\"#9c179e\"],[0.4444444444444444,\"#bd3786\"],[0.5555555555555556,\"#d8576b\"],[0.6666666666666666,\"#ed7953\"],[0.7777777777777778,\"#fb9f3a\"],[0.8888888888888888,\"#fdca26\"],[1.0,\"#f0f921\"]],\"diverging\":[[0,\"#8e0152\"],[0.1,\"#c51b7d\"],[0.2,\"#de77ae\"],[0.3,\"#f1b6da\"],[0.4,\"#fde0ef\"],[0.5,\"#f7f7f7\"],[0.6,\"#e6f5d0\"],[0.7,\"#b8e186\"],[0.8,\"#7fbc41\"],[0.9,\"#4d9221\"],[1,\"#276419\"]]},\"xaxis\":{\"gridcolor\":\"white\",\"linecolor\":\"white\",\"ticks\":\"\",\"title\":{\"standoff\":15},\"zerolinecolor\":\"white\",\"automargin\":true,\"zerolinewidth\":2},\"yaxis\":{\"gridcolor\":\"white\",\"linecolor\":\"white\",\"ticks\":\"\",\"title\":{\"standoff\":15},\"zerolinecolor\":\"white\",\"automargin\":true,\"zerolinewidth\":2},\"scene\":{\"xaxis\":{\"backgroundcolor\":\"#E5ECF6\",\"gridcolor\":\"white\",\"linecolor\":\"white\",\"showbackground\":true,\"ticks\":\"\",\"zerolinecolor\":\"white\",\"gridwidth\":2},\"yaxis\":{\"backgroundcolor\":\"#E5ECF6\",\"gridcolor\":\"white\",\"linecolor\":\"white\",\"showbackground\":true,\"ticks\":\"\",\"zerolinecolor\":\"white\",\"gridwidth\":2},\"zaxis\":{\"backgroundcolor\":\"#E5ECF6\",\"gridcolor\":\"white\",\"linecolor\":\"white\",\"showbackground\":true,\"ticks\":\"\",\"zerolinecolor\":\"white\",\"gridwidth\":2}},\"shapedefaults\":{\"line\":{\"color\":\"#2a3f5f\"}},\"annotationdefaults\":{\"arrowcolor\":\"#2a3f5f\",\"arrowhead\":0,\"arrowwidth\":1},\"geo\":{\"bgcolor\":\"white\",\"landcolor\":\"#E5ECF6\",\"subunitcolor\":\"white\",\"showland\":true,\"showlakes\":true,\"lakecolor\":\"white\"},\"title\":{\"x\":0.05},\"mapbox\":{\"style\":\"light\"}}},\"xaxis\":{\"anchor\":\"y\",\"domain\":[0.0,1.0],\"title\":{\"text\":\"Pclass\"}},\"yaxis\":{\"anchor\":\"x\",\"domain\":[0.0,1.0],\"title\":{\"text\":\"Fare\"}},\"legend\":{\"tracegroupgap\":0},\"title\":{\"text\":\"Fare Distribution by Passenger Class\"},\"boxmode\":\"group\"},                        {\"responsive\": true}                    ).then(function(){\n",
              "                            \n",
              "var gd = document.getElementById('685e5363-8da3-41ba-8a3c-3b9308799ea0');\n",
              "var x = new MutationObserver(function (mutations, observer) {{\n",
              "        var display = window.getComputedStyle(gd).display;\n",
              "        if (!display || display === 'none') {{\n",
              "            console.log([gd, 'removed!']);\n",
              "            Plotly.purge(gd);\n",
              "            observer.disconnect();\n",
              "        }}\n",
              "}});\n",
              "\n",
              "// Listen for the removal of the full notebook cells\n",
              "var notebookContainer = gd.closest('#notebook-container');\n",
              "if (notebookContainer) {{\n",
              "    x.observe(notebookContainer, {childList: true});\n",
              "}}\n",
              "\n",
              "// Listen for the clearing of the current output cell\n",
              "var outputEl = gd.closest('.output');\n",
              "if (outputEl) {{\n",
              "    x.observe(outputEl, {childList: true});\n",
              "}}\n",
              "\n",
              "                        })                };                            </script>        </div>\n",
              "</body>\n",
              "</html>"
            ]
          },
          "metadata": {}
        }
      ]
    },
    {
      "cell_type": "code",
      "source": [
        "import plotly.express as px\n",
        "fig = px.scatter_3d(df, x='Age', y='Fare', z='Survived',\n",
        "                    color='Pclass', symbol='Sex',\n",
        "                    size='SibSp', hover_name='PassengerId',\n",
        "                    opacity=0.8, title='Titanic Survival 3D Visualization')\n",
        "\n",
        "fig.update_layout(scene=dict(\n",
        "    xaxis_title='Age',\n",
        "    yaxis_title='Fare',\n",
        "    zaxis_title='Survived'))\n",
        "\n",
        "fig.show()\n"
      ],
      "metadata": {
        "colab": {
          "base_uri": "https://localhost:8080/",
          "height": 542
        },
        "id": "u7gRueOjGIup",
        "outputId": "e78403f1-268e-421f-c586-12ff60134fbc"
      },
      "id": "u7gRueOjGIup",
      "execution_count": null,
      "outputs": [
        {
          "output_type": "display_data",
          "data": {
            "text/html": [
              "<html>\n",
              "<head><meta charset=\"utf-8\" /></head>\n",
              "<body>\n",
              "    <div>            <script src=\"https://cdnjs.cloudflare.com/ajax/libs/mathjax/2.7.5/MathJax.js?config=TeX-AMS-MML_SVG\"></script><script type=\"text/javascript\">if (window.MathJax && window.MathJax.Hub && window.MathJax.Hub.Config) {window.MathJax.Hub.Config({SVG: {font: \"STIX-Web\"}});}</script>                <script type=\"text/javascript\">window.PlotlyConfig = {MathJaxConfig: 'local'};</script>\n",
              "        <script src=\"https://cdn.plot.ly/plotly-2.18.2.min.js\"></script>                <div id=\"2afa0c9e-8e0a-4f4e-b9db-2965c3934d55\" class=\"plotly-graph-div\" style=\"height:525px; width:100%;\"></div>            <script type=\"text/javascript\">                                    window.PLOTLYENV=window.PLOTLYENV || {};                                    if (document.getElementById(\"2afa0c9e-8e0a-4f4e-b9db-2965c3934d55\")) {                    Plotly.newPlot(                        \"2afa0c9e-8e0a-4f4e-b9db-2965c3934d55\",                        [{\"hovertemplate\":\"<b>%{hovertext}</b><br><br>Sex=1<br>Age=%{x}<br>Fare=%{y}<br>Survived=%{z}<br>SibSp=%{marker.size}<br>Pclass=%{marker.color}<extra></extra>\",\"hovertext\":[1.0,5.0,6.0,7.0,8.0,13.0,14.0,17.0,18.0,21.0,22.0,24.0,27.0,28.0,30.0,31.0,34.0,35.0,36.0,37.0,38.0,43.0,46.0,47.0,49.0,51.0,52.0,55.0,56.0,58.0,60.0,61.0,63.0,64.0,65.0,66.0,68.0,70.0,71.0,73.0,74.0,75.0,76.0,77.0,78.0,79.0,81.0,82.0,84.0,87.0,88.0,90.0,91.0,92.0,93.0,94.0,95.0,96.0,97.0,98.0,100.0,102.0,103.0,104.0,105.0,106.0,108.0,109.0,111.0,113.0,116.0,117.0,118.0,119.0,121.0,122.0,123.0,125.0,126.0,127.0,128.0,130.0,131.0,132.0,135.0,136.0,138.0,139.0,140.0,144.0,145.0,146.0,147.0,149.0,150.0,151.0,153.0,154.0,155.0,156.0,158.0,159.0,160.0,161.0,163.0,164.0,165.0,166.0,169.0,170.0,171.0,172.0,174.0,175.0,176.0,177.0,179.0,180.0,182.0,183.0,184.0,186.0,188.0,189.0,190.0,192.0,194.0,197.0,198.0,201.0,202.0,203.0,204.0,205.0,207.0,208.0,210.0,211.0,213.0,214.0,215.0,218.0,220.0,221.0,222.0,223.0,224.0,225.0,226.0,227.0,228.0,229.0,232.0,233.0,235.0,237.0,239.0,240.0,243.0,244.0,245.0,246.0,249.0,250.0,251.0,253.0,254.0,261.0,262.0,263.0,264.0,266.0,267.0,268.0,271.0,272.0,274.0,278.0,279.0,281.0,282.0,283.0,284.0,285.0,286.0,287.0,288.0,289.0,293.0,295.0,296.0,297.0,299.0,302.0,303.0,305.0,306.0,309.0,314.0,315.0,318.0,321.0,322.0,325.0,327.0,332.0,333.0,334.0,336.0,337.0,339.0,340.0,341.0,343.0,344.0,345.0,349.0,350.0,351.0,352.0,353.0,354.0,355.0,356.0,361.0,362.0,364.0,365.0,366.0,371.0,372.0,373.0,374.0,378.0,379.0,380.0,383.0,385.0,386.0,387.0,389.0,391.0,392.0,393.0,396.0,398.0,399.0,401.0,402.0,404.0,406.0,407.0,408.0,409.0,411.0,412.0,414.0,415.0,419.0,421.0,422.0,423.0,425.0,426.0,429.0,430.0,431.0,434.0,435.0,439.0,440.0,442.0,443.0,445.0,446.0,448.0,450.0,451.0,452.0,453.0,454.0,455.0,456.0,457.0,460.0,461.0,462.0,463.0,464.0,465.0,466.0,467.0,468.0,469.0,471.0,472.0,476.0,477.0,478.0,479.0,481.0,482.0,483.0,485.0,488.0,489.0,490.0,491.0,492.0,493.0,494.0,495.0,496.0,498.0,500.0,501.0,506.0,508.0,509.0,510.0,511.0,512.0,513.0,515.0,516.0,518.0,520.0,522.0,523.0,525.0,526.0,528.0,529.0,530.0,532.0,533.0,537.0,539.0,544.0,545.0,546.0,548.0,549.0,550.0,551.0,552.0,553.0,554.0,556.0,558.0,561.0,562.0,563.0,564.0,566.0,567.0,569.0,570.0,571.0,573.0,575.0,576.0,580.0,583.0,584.0,585.0,587.0,588.0,589.0,590.0,591.0,593.0,595.0,596.0,598.0,599.0,600.0,602.0,603.0,604.0,605.0,606.0,607.0,608.0,612.0,614.0,615.0,617.0,620.0,621.0,622.0,623.0,624.0,625.0,626.0,627.0,629.0,630.0,631.0,632.0,633.0,634.0,637.0,638.0,640.0,641.0,644.0,646.0,647.0,648.0,649.0,651.0,653.0,656.0,657.0,659.0,660.0,661.0,662.0,663.0,664.0,665.0,666.0,667.0,668.0,669.0,672.0,673.0,674.0,675.0,676.0,677.0,680.0,682.0,683.0,684.0,685.0,686.0,687.0,688.0,689.0,691.0,693.0,694.0,695.0,696.0,697.0,699.0,700.0,702.0,704.0,705.0,706.0,708.0,710.0,712.0,713.0,714.0,715.0,716.0,719.0,720.0,722.0,723.0,724.0,725.0,726.0,729.0,732.0,733.0,734.0,735.0,736.0,738.0,739.0,740.0,741.0,742.0,744.0,745.0,746.0,747.0,749.0,750.0,752.0,753.0,754.0,756.0,757.0,758.0,759.0,761.0,762.0,763.0,765.0,767.0,769.0,770.0,771.0,772.0,774.0,776.0,777.0,779.0,783.0,784.0,785.0,786.0,788.0,789.0,790.0,791.0,792.0,794.0,795.0,796.0,799.0,801.0,803.0,804.0,805.0,806.0,807.0,809.0,811.0,812.0,813.0,815.0,816.0,818.0,819.0,820.0,822.0,823.0,825.0,826.0,827.0,828.0,829.0,832.0,833.0,834.0,835.0,837.0,838.0,839.0,840.0,841.0,842.0,844.0,845.0,846.0,847.0,848.0,849.0,851.0,852.0,858.0,860.0,861.0,862.0,865.0,868.0,869.0,870.0,871.0,873.0,874.0,877.0,878.0,879.0,882.0,884.0,885.0,887.0,890.0,891.0,892.0,894.0,895.0,897.0,899.0,901.0,902.0,903.0,905.0,908.0,909.0,912.0,913.0,915.0,917.0,919.0,920.0,921.0,922.0,923.0,926.0,927.0,930.0,931.0,932.0,933.0,934.0,937.0,938.0,939.0,942.0,943.0,946.0,947.0,948.0,949.0,950.0,952.0,953.0,954.0,956.0,959.0,960.0,963.0,965.0,967.0,968.0,970.0,972.0,973.0,974.0,975.0,976.0,977.0,981.0,983.0,985.0,986.0,987.0,989.0,991.0,993.0,994.0,995.0,997.0,998.0,999.0,1000.0,1001.0,1002.0,1007.0,1008.0,1010.0,1013.0,1015.0,1016.0,1018.0,1020.0,1021.0,1022.0,1023.0,1025.0,1026.0,1027.0,1028.0,1029.0,1031.0,1034.0,1035.0,1036.0,1037.0,1038.0,1039.0,1040.0,1041.0,1043.0,1044.0,1046.0,1047.0,1050.0,1053.0,1055.0,1056.0,1058.0,1059.0,1062.0,1063.0,1064.0,1065.0,1066.0,1069.0,1072.0,1073.0,1075.0,1077.0,1079.0,1081.0,1082.0,1083.0,1084.0,1085.0,1086.0,1087.0,1088.0,1090.0,1093.0,1094.0,1096.0,1097.0,1099.0,1101.0,1102.0,1103.0,1104.0,1107.0,1109.0,1111.0,1113.0,1115.0,1118.0,1120.0,1121.0,1122.0,1124.0,1125.0,1126.0,1127.0,1128.0,1129.0,1134.0,1135.0,1136.0,1137.0,1139.0,1143.0,1144.0,1145.0,1146.0,1147.0,1148.0,1149.0,1151.0,1152.0,1153.0,1156.0,1157.0,1158.0,1159.0,1161.0,1162.0,1163.0,1166.0,1168.0,1169.0,1170.0,1171.0,1173.0,1177.0,1178.0,1179.0,1180.0,1181.0,1182.0,1184.0,1185.0,1186.0,1187.0,1189.0,1190.0,1191.0,1192.0,1193.0,1194.0,1195.0,1198.0,1199.0,1200.0,1202.0,1203.0,1204.0,1208.0,1209.0,1210.0,1211.0,1212.0,1213.0,1214.0,1215.0,1217.0,1219.0,1220.0,1221.0,1223.0,1224.0,1226.0,1227.0,1228.0,1229.0,1230.0,1231.0,1232.0,1233.0,1234.0,1236.0,1238.0,1240.0,1243.0,1244.0,1245.0,1247.0,1249.0,1250.0,1252.0,1255.0,1258.0,1261.0,1262.0,1264.0,1265.0,1269.0,1270.0,1271.0,1272.0,1273.0,1276.0,1278.0,1279.0,1280.0,1281.0,1282.0,1284.0,1285.0,1286.0,1288.0,1290.0,1291.0,1293.0,1295.0,1296.0,1297.0,1298.0,1299.0,1305.0,1307.0,1308.0,1309.0],\"legendgroup\":\"1\",\"marker\":{\"color\":[3,3,3,1,3,3,3,3,2,2,2,1,3,1,3,1,2,1,1,3,3,3,3,3,3,3,3,1,1,3,3,3,1,3,1,3,3,3,2,2,3,3,3,3,3,2,3,3,1,3,3,3,3,3,1,3,3,3,1,1,2,3,1,3,3,3,3,3,1,3,3,3,2,1,2,3,2,1,3,3,3,3,3,3,2,2,1,3,1,3,2,2,3,2,2,2,3,3,3,1,3,3,3,3,3,3,3,3,1,3,1,3,3,1,3,3,2,3,2,3,2,1,1,3,3,2,2,3,3,3,3,3,3,3,3,3,1,3,3,2,3,2,2,3,2,3,3,1,3,2,3,2,3,2,2,2,2,2,2,3,3,1,1,2,3,1,3,3,3,1,1,2,3,3,1,3,1,2,3,3,3,3,3,1,3,3,3,2,2,3,1,3,1,3,3,3,1,2,3,2,2,3,3,3,3,1,1,3,3,1,3,1,2,2,2,2,3,3,3,1,3,3,3,3,3,2,3,3,3,1,3,3,1,1,3,3,3,3,2,3,3,1,3,3,3,2,2,3,3,3,2,3,2,3,3,3,2,3,2,3,3,3,3,3,3,3,1,3,1,1,2,3,3,3,1,1,1,2,3,1,1,3,3,1,3,1,3,1,2,3,3,2,1,3,3,3,1,2,3,3,3,2,3,1,1,3,3,3,3,1,1,3,3,3,3,3,1,1,3,3,3,3,1,3,1,3,3,3,3,3,3,1,3,2,3,3,1,3,2,1,1,2,3,2,1,2,3,3,1,1,3,3,2,3,3,3,3,3,2,1,3,3,3,2,1,3,2,1,3,3,3,3,2,3,3,3,1,3,1,3,1,3,3,1,3,3,3,3,2,3,1,3,3,3,1,2,3,3,1,3,1,1,3,2,3,3,3,1,3,1,3,3,3,2,3,2,1,1,3,1,3,3,2,2,3,3,1,2,2,2,3,3,1,1,3,3,2,2,3,3,3,1,3,3,1,2,3,1,3,1,3,3,2,1,3,1,1,3,2,3,3,3,3,2,2,1,3,2,3,2,2,2,3,1,3,3,1,1,3,3,1,3,1,3,3,3,3,2,3,2,3,3,3,3,3,1,3,3,3,3,3,3,3,3,1,3,3,3,3,3,1,3,2,1,3,2,3,2,1,3,3,3,1,2,3,3,2,3,1,2,3,3,3,1,3,3,3,2,3,2,3,3,3,3,3,3,1,3,2,3,3,3,3,3,2,3,3,1,3,3,2,2,1,3,3,3,1,3,3,3,3,3,2,3,2,1,3,3,2,3,3,2,3,3,1,2,2,3,1,3,1,3,3,1,3,2,2,1,3,3,3,3,1,3,3,1,3,1,2,2,3,3,3,3,3,2,3,1,1,1,3,1,1,3,2,3,1,1,3,2,3,2,3,3,1,3,3,3,2,3,3,3,3,3,3,2,2,3,3,1,3,3,3,3,2,3,3,1,3,3,3,3,2,3,1,2,1,3,1,3,1,2,3,3,3,3,1,3,3,2,1,3,3,3,3,3,3,1,2,1,3,2,3,2,2,1,3,2,2,3,1,2,3,1,2,1,2,3,3,3,2,1,1,3,3,3,3,3,2,2,3,3,1,3,1,3,1,3,3,1,2,3,1,3,3,3,3,3,3,3,3,2,3,1,3,3,1,3,3,2,2,2,2,3,3,3,1,3,3,1,3,1,3,3,3,1,3,3,2,2,3,1,3,1,3,3,3,1,2,3,2,3,3,2,1,3,1,2,2,1,3,3,1,2,3,2,3,2,3,3,3,2,2,2,2,2,1,3,3,3,3,3,2,2,1,2,2,1,3,3,3,2,3,2,3,3,1,3,2,3,3,3,3,2,1,1,2,2,1,3,3,3,3],\"coloraxis\":\"coloraxis\",\"opacity\":0.8,\"size\":[1,0,0,0,3,0,1,4,0,0,0,0,0,3,0,0,0,1,1,0,0,0,0,1,2,4,0,0,0,0,5,0,1,3,0,1,0,2,0,0,1,0,0,0,0,0,0,0,0,1,0,0,0,0,1,1,0,0,0,0,1,0,0,0,2,0,0,0,0,0,0,0,1,0,2,0,1,0,1,0,0,0,0,0,0,0,1,0,0,0,0,1,0,0,0,0,0,0,0,0,0,0,8,0,0,0,4,0,0,0,0,4,0,0,1,3,0,0,0,4,2,0,0,1,0,0,1,0,0,0,8,0,0,0,1,0,0,0,0,0,1,1,0,0,0,0,0,1,0,0,0,0,0,0,0,1,0,0,0,0,0,2,1,1,0,0,1,0,4,1,0,0,4,1,0,0,0,0,4,0,0,0,0,0,0,0,0,0,0,0,0,0,0,2,0,0,1,1,0,1,0,0,0,8,0,0,0,2,0,1,0,0,1,0,0,0,1,0,0,0,1,1,0,0,1,1,0,1,0,1,1,0,0,0,0,0,0,0,0,5,0,1,0,2,0,0,0,0,0,1,1,0,1,0,0,0,0,0,0,0,0,0,1,0,0,0,0,0,1,1,0,0,1,0,0,0,0,1,1,0,1,0,0,0,0,0,0,0,0,0,0,0,0,0,0,0,0,1,1,0,5,0,0,1,0,0,1,1,0,0,0,0,0,0,0,0,1,0,0,0,0,0,0,0,0,0,0,0,0,0,0,0,0,2,0,1,0,0,1,1,0,0,1,1,0,0,0,0,0,0,0,0,0,0,2,0,0,0,0,0,0,0,0,0,0,0,0,1,0,0,0,0,1,1,0,0,1,0,0,0,0,1,0,0,0,0,0,1,0,1,1,1,0,0,0,0,0,0,0,0,0,0,0,1,1,0,0,1,0,0,0,0,0,2,0,0,0,2,0,0,0,1,2,0,0,0,1,0,0,0,0,0,0,0,0,5,1,1,4,0,0,1,0,0,0,0,0,1,0,0,0,1,0,0,1,0,1,0,0,0,0,0,1,0,0,1,0,1,0,0,0,0,0,0,0,0,0,1,1,0,1,1,1,0,0,0,0,1,0,0,0,0,0,0,0,0,1,0,0,0,0,0,0,0,0,1,0,0,4,1,0,0,0,0,0,0,0,0,1,0,0,0,0,0,0,0,0,0,0,1,0,3,0,0,4,0,0,0,0,1,0,0,0,0,0,0,0,0,0,0,0,0,8,0,0,4,0,0,0,2,1,0,0,0,1,0,0,0,0,0,0,0,0,0,0,0,0,0,0,0,0,1,2,0,0,1,0,0,1,0,0,1,0,0,2,1,2,1,0,0,0,0,0,0,0,0,0,1,0,0,4,0,0,1,0,0,0,2,0,0,0,0,0,0,0,1,1,0,0,0,1,1,0,0,0,0,0,0,1,0,0,0,0,0,0,0,0,1,0,0,1,0,0,0,0,0,0,0,1,0,0,0,0,1,1,0,0,3,0,0,0,1,0,0,4,0,0,1,0,0,0,2,0,0,1,0,1,1,0,1,0,0,2,0,1,0,1,0,0,0,0,0,0,1,0,0,0,0,0,0,0,0,1,0,0,0,0,0,0,0,1,0,1,0,1,0,1,0,1,1,1,0,1,0,0,0,0,0,0,1,0,0,0,0,0,0,0,0,0,0,1,1,0,1,0,0,1,0,0,0,0,1,0,0,2,0,0,0,0,0,0,1,0,1,0,0,0,1,0,0,2,0,0,0,0,0,0,1,0,0,0,0,0,0,0,0,0,0,0,1,1,0,0,0,0,1,0,0,0,8,0,1,0,1,0,0,0,0,4,0,0,0,0,0,0,3,0,0,0,3,0,0,0,1,0,1,0,1,1,0,0,0,1],\"sizemode\":\"area\",\"sizeref\":0.02,\"symbol\":\"circle\"},\"mode\":\"markers\",\"name\":\"1\",\"scene\":\"scene\",\"showlegend\":true,\"x\":[22.0,35.0,29.881137667304014,54.0,2.0,20.0,39.0,2.0,29.881137667304014,35.0,34.0,28.0,29.881137667304014,19.0,29.881137667304014,40.0,66.0,28.0,42.0,29.881137667304014,21.0,29.881137667304014,29.881137667304014,29.881137667304014,29.881137667304014,7.0,21.0,65.0,29.881137667304014,28.5,11.0,22.0,45.0,4.0,29.881137667304014,29.881137667304014,19.0,26.0,32.0,21.0,26.0,32.0,25.0,29.881137667304014,29.881137667304014,0.83,22.0,29.0,28.0,16.0,29.881137667304014,24.0,29.0,20.0,46.0,26.0,59.0,29.881137667304014,71.0,23.0,34.0,29.881137667304014,21.0,33.0,37.0,28.0,29.881137667304014,38.0,47.0,22.0,21.0,70.5,29.0,24.0,21.0,29.881137667304014,32.5,54.0,12.0,29.881137667304014,24.0,45.0,33.0,20.0,25.0,23.0,37.0,16.0,24.0,19.0,18.0,19.0,27.0,36.5,42.0,51.0,55.5,40.5,29.881137667304014,51.0,30.0,29.881137667304014,29.881137667304014,44.0,26.0,17.0,1.0,9.0,29.881137667304014,28.0,61.0,4.0,21.0,56.0,18.0,29.881137667304014,30.0,36.0,29.881137667304014,9.0,1.0,29.881137667304014,45.0,40.0,36.0,19.0,3.0,29.881137667304014,42.0,28.0,29.881137667304014,34.0,45.5,18.0,32.0,26.0,40.0,24.0,22.0,30.0,29.881137667304014,42.0,30.0,16.0,27.0,51.0,29.881137667304014,38.0,22.0,19.0,20.5,18.0,29.0,59.0,24.0,44.0,19.0,33.0,29.0,22.0,30.0,44.0,37.0,54.0,29.881137667304014,62.0,30.0,29.881137667304014,3.0,52.0,40.0,36.0,16.0,25.0,29.881137667304014,25.0,37.0,29.881137667304014,7.0,65.0,28.0,16.0,19.0,29.881137667304014,33.0,30.0,22.0,42.0,36.0,24.0,29.881137667304014,23.5,29.881137667304014,29.881137667304014,19.0,29.881137667304014,0.92,30.0,28.0,43.0,54.0,22.0,27.0,29.881137667304014,61.0,45.5,38.0,16.0,29.881137667304014,29.0,45.0,45.0,2.0,28.0,25.0,36.0,3.0,42.0,23.0,29.881137667304014,15.0,25.0,29.881137667304014,28.0,40.0,29.0,35.0,29.881137667304014,30.0,25.0,18.0,19.0,22.0,27.0,20.0,19.0,32.0,29.881137667304014,18.0,1.0,29.881137667304014,36.0,21.0,28.0,22.0,46.0,23.0,39.0,26.0,28.0,34.0,51.0,3.0,21.0,29.881137667304014,29.881137667304014,29.881137667304014,44.0,30.0,29.881137667304014,21.0,29.0,18.0,29.881137667304014,29.881137667304014,32.0,28.0,17.0,50.0,64.0,31.0,20.0,25.0,29.881137667304014,4.0,34.0,52.0,36.0,29.881137667304014,30.0,49.0,29.881137667304014,29.0,65.0,29.881137667304014,48.0,34.0,47.0,48.0,29.881137667304014,38.0,29.881137667304014,56.0,29.881137667304014,29.881137667304014,38.0,29.881137667304014,34.0,29.0,22.0,9.0,29.881137667304014,50.0,25.0,58.0,30.0,9.0,29.881137667304014,21.0,55.0,71.0,21.0,29.881137667304014,29.881137667304014,24.0,17.0,18.0,29.881137667304014,28.0,26.0,29.0,29.881137667304014,36.0,24.0,47.0,29.881137667304014,32.0,22.0,29.881137667304014,29.881137667304014,40.5,29.881137667304014,39.0,23.0,29.881137667304014,17.0,45.0,29.881137667304014,32.0,50.0,64.0,29.881137667304014,33.0,8.0,17.0,27.0,29.881137667304014,22.0,62.0,29.881137667304014,29.881137667304014,40.0,28.0,29.881137667304014,24.0,19.0,29.881137667304014,32.0,62.0,36.0,16.0,19.0,32.0,54.0,36.0,29.881137667304014,47.0,60.0,22.0,29.881137667304014,35.0,47.0,37.0,36.0,49.0,29.881137667304014,49.0,29.881137667304014,29.881137667304014,44.0,35.0,36.0,30.0,27.0,29.881137667304014,29.881137667304014,35.0,34.0,26.0,27.0,42.0,20.0,21.0,21.0,61.0,57.0,26.0,29.881137667304014,80.0,51.0,32.0,29.881137667304014,32.0,31.0,29.881137667304014,20.0,29.881137667304014,48.0,19.0,56.0,29.881137667304014,29.881137667304014,21.0,24.0,29.881137667304014,23.0,58.0,50.0,40.0,47.0,36.0,20.0,32.0,25.0,29.881137667304014,43.0,31.0,70.0,31.0,29.881137667304014,18.0,24.5,36.0,27.0,20.0,14.0,60.0,25.0,14.0,19.0,18.0,31.0,29.881137667304014,25.0,60.0,52.0,44.0,49.0,42.0,35.0,25.0,26.0,39.0,42.0,29.881137667304014,29.881137667304014,48.0,29.0,52.0,19.0,29.881137667304014,33.0,17.0,34.0,50.0,27.0,20.0,25.0,11.0,29.881137667304014,23.0,23.0,28.5,35.0,29.881137667304014,29.881137667304014,29.881137667304014,36.0,24.0,31.0,70.0,16.0,19.0,31.0,6.0,33.0,23.0,0.67,28.0,18.0,34.0,29.881137667304014,41.0,20.0,16.0,29.881137667304014,29.881137667304014,32.0,24.0,48.0,29.881137667304014,18.0,29.881137667304014,29.881137667304014,29.0,29.881137667304014,25.0,25.0,8.0,1.0,46.0,29.881137667304014,16.0,29.881137667304014,25.0,39.0,30.0,34.0,11.0,0.42,27.0,31.0,39.0,39.0,26.0,39.0,35.0,30.5,29.881137667304014,31.0,43.0,10.0,27.0,38.0,2.0,29.881137667304014,29.881137667304014,1.0,29.881137667304014,0.83,29.881137667304014,23.0,18.0,21.0,29.881137667304014,32.0,29.881137667304014,20.0,16.0,34.5,17.0,42.0,29.881137667304014,35.0,28.0,4.0,74.0,51.0,29.881137667304014,41.0,21.0,24.0,31.0,29.881137667304014,4.0,26.0,33.0,47.0,20.0,19.0,29.881137667304014,33.0,28.0,25.0,27.0,26.0,32.0,34.5,62.0,27.0,14.0,26.0,21.0,29.881137667304014,46.0,63.0,35.0,21.0,55.0,9.0,21.0,50.0,22.5,41.0,29.881137667304014,50.0,24.0,30.0,18.5,25.0,29.881137667304014,39.0,29.881137667304014,41.0,25.0,45.0,29.881137667304014,24.0,27.0,29.881137667304014,10.0,35.0,25.0,29.881137667304014,17.0,32.0,18.0,13.0,47.0,31.0,21.0,28.5,32.5,29.881137667304014,30.0,6.0,67.0,49.0,29.881137667304014,29.881137667304014,29.881137667304014,2.0,29.881137667304014,29.881137667304014,25.0,25.0,29.0,33.0,27.0,29.881137667304014,26.0,28.0,21.0,29.881137667304014,29.881137667304014,18.5,41.0,18.0,29.881137667304014,36.0,29.881137667304014,28.0,29.881137667304014,22.0,42.0,24.0,32.0,53.0,29.881137667304014,43.0,24.0,26.5,26.0,40.0,61.0,28.0,42.0,31.0,29.881137667304014,22.0,29.881137667304014,30.0,29.881137667304014,60.5,13.0,24.0,42.0,7.0,29.881137667304014,41.0,48.0,18.0,29.881137667304014,27.0,23.0,29.881137667304014,40.0,54.0,30.0,37.0,29.881137667304014,40.0,17.0,40.0,34.0,29.881137667304014,11.5,61.0,8.0,33.0,6.0,23.0,0.33,47.0,25.0,29.881137667304014,24.0,25.0,32.0,29.881137667304014,17.0,42.0,57.0,29.881137667304014,21.0,21.0,23.0,40.5,36.0,14.0,21.0,29.881137667304014,39.0,20.0,64.0,20.0,45.0,29.881137667304014,29.881137667304014,41.0,42.0,20.0,27.0,24.0,32.5,29.881137667304014,29.881137667304014,28.0,21.0,36.5,21.0,30.0,29.881137667304014,29.881137667304014,29.881137667304014,17.0,46.0,29.881137667304014,29.881137667304014,28.0,40.0,30.0,22.0,0.75,36.0,29.881137667304014,24.0,29.881137667304014,29.881137667304014,29.881137667304014,29.881137667304014,53.0,36.0,26.0,29.881137667304014,30.0,29.0,32.0,29.881137667304014,43.0,24.0,30.0,0.83,55.0,18.0,22.0,29.881137667304014,57.0,19.0,27.0,22.0,26.0,25.0,26.0,33.0,23.0,46.0,29.0,21.0,39.0,29.881137667304014,27.0,30.0,32.0,39.0,25.0,29.881137667304014,18.0,32.0,29.881137667304014,29.881137667304014,26.0,24.0,25.0,18.0,49.0,50.0,29.881137667304014,29.881137667304014,14.5,27.0,29.881137667304014,29.0,21.0,49.0,44.0,21.0,55.0,5.0,29.881137667304014,26.0,29.881137667304014,24.0,57.0,21.0,6.0,23.0,13.0,47.0,29.0,24.0,22.0,31.0,38.0,17.0,43.0,20.0,23.0,50.0,29.881137667304014,38.5,29.881137667304014,29.881137667304014],\"y\":[2.1102132003465894,2.2027647577118348,2.246892662898172,3.967694202798607,3.0944457464900235,2.2027647577118348,3.4742929367327062,3.405355391810819,2.6390573296152584,3.295836866004329,2.6390573296152584,3.597312260588446,2.1071782966514356,5.575949103146316,2.1855792552411137,3.357621598945279,2.4423470353692043,4.420896324687287,3.970291913552122,2.1076888046179385,2.2027647577118348,2.1855792552411137,2.2027647577118348,2.803360380906535,3.1214482048688246,3.705920919968788,2.174751721484161,4.142804513146981,3.597312260588446,2.1076888046179385,3.8691155044168695,2.1076888046179385,4.436455632600354,3.3638415951183864,3.357621598945279,2.7878344138303452,2.2146605719425225,2.2682524139135403,2.4423470353692043,4.310799125385514,2.737880811060884,4.05171190165724,2.157559320943788,2.1855792552411137,2.2027647577118348,3.4011973816621555,2.302585092994046,2.3513752571634776,3.8732821771117156,3.5660053559634015,2.2027647577118348,2.2027647577118348,2.2027647577118348,2.180891922715322,4.1299529896894684,3.0715352369694915,2.1102132003465894,2.2027647577118348,3.57386695198272,4.164465907853638,3.295836866004329,2.1855792552411137,4.360387947851531,2.267393053825037,2.188856327665703,2.1855792552411137,2.1719067693519296,2.1855792552411137,3.970291913552122,2.2027647577118348,2.188856327665703,2.169053700369523,3.091042453358316,5.515526544247129,4.310799125385514,2.2027647577118348,3.436268471383741,4.360387947851531,2.5048481563289,2.169053700369523,2.0969990034181696,2.076311648670908,2.1855792552411137,2.0856720914304723,2.6390573296152584,2.775447133088262,3.9908341858524357,2.3240236363515288,4.384523514872469,2.0476928433652555,2.5257286443082556,3.6309854756950335,2.174274334826008,3.295836866004329,2.6390573296152584,2.6045398247325453,2.2027647577118348,2.740840023925201,2.1177604059819726,4.133231886474144,2.2027647577118348,2.2682524139135403,4.256321678298823,2.8390784635086144,2.1719067693519296,2.2682524139135403,3.705920919968788,3.0692150503137943,3.2930552230424524,4.05171190165724,3.5409593240373143,3.405355391810819,2.188856327665703,3.4561841799918147,2.180891922715322,3.275887339030031,2.6390573296152584,0.0,2.775708849576025,3.4777725458882283,3.6888794541139363,3.9318256327243257,3.3160025355989236,2.803360380906535,2.1855792552411137,2.6390573296152584,3.295836866004329,2.169053700369523,2.2411563979973974,2.3513752571634776,4.256321678298823,2.0143428636837015,2.1071782966514356,2.2027647577118348,2.8243506567983707,2.9850504252071306,3.4657359027997265,2.0856720914304723,2.1102132003465894,2.6390573296152584,2.169053700369523,3.332204510175204,2.4423470353692043,2.2027647577118348,2.6390573296152584,2.2027647577118348,2.1855792552411137,4.51085950651685,2.336986519711378,2.4423470353692043,2.1102132003465894,2.6390573296152584,2.1719067693519296,2.6741486494265287,2.4423470353692043,3.295836866004329,2.4423470353692043,2.5858825671280026,2.4423470353692043,2.094945728215801,2.1071782966514356,4.51085950651685,3.9806942251907276,3.295836866004329,2.1102132003465894,3.3160025355989236,2.8390784635086144,2.169053700369523,3.4777725458882283,4.390118804571218,0.0,2.4423470353692043,3.705920919968788,2.1719067693519296,3.4657359027997265,0.0,3.4242626545931514,0.0,3.405355391810819,2.169053700369523,2.180891922715322,2.3513752571634776,2.2027647577118348,3.295836866004329,2.2682524139135403,2.3513752571634776,2.1855792552411137,2.6390573296152584,2.630088659632498,2.1855792552411137,3.357621598945279,2.1076888046179385,3.449987545831587,3.188416617383492,0.0,2.2027647577118348,5.027492411162679,3.2188758248682006,2.1855792552411137,3.305053521109253,2.70805020110221,2.1102132003465894,2.1855792552411137,4.256321678298823,1.9792758428991135,3.3843902633457743,5.039951348430309,2.9444389791664403,2.1855792552411137,4.213607983048918,2.2027647577118348,3.597312260588446,3.295836866004329,2.6390573296152584,2.6390573296152584,2.6390573296152584,2.8273136219290276,2.2682524139135403,2.3248357019288655,3.58351893845611,2.1076888046179385,2.9338568698359038,2.1071782966514356,2.3513752571634776,3.3638415951183864,3.357621598945279,2.0856720914304723,2.803360380906535,2.1102132003465894,4.0332082470129285,2.0143428636837015,2.2027647577118348,4.91730069488021,5.358941988364472,1.6119347926326877,2.1719067693519296,2.188856327665703,2.1855792552411137,4.310799125385514,3.8691155044168695,2.1666737276227077,4.795790545596741,2.174274334826008,2.188856327665703,2.174274334826008,3.295836866004329,2.4423470353692043,2.188856327665703,2.2027647577118348,2.8243506567983707,3.091042453358316,2.169053700369523,2.9831534913471307,2.1719067693519296,2.1855792552411137,2.061570298060867,0.0,2.188856327665703,2.6390573296152584,2.1855792552411137,2.167143305297764,2.1832383353614797,3.0545906305603445,2.1102132003465894,2.169053700369523,2.2027647577118348,3.3160025355989236,2.094945728215801,4.041295341132285,5.575949103146316,2.4423470353692043,2.3513752571634776,2.1719067693519296,2.2096470973347766,4.417131919904876,3.3160025355989236,3.449987545831587,3.3586377672433594,3.0429354648621407,3.3586377672433594,4.500966778400217,2.2027647577118348,2.1855792552411137,3.3160025355989236,2.169053700369523,3.3160025355989236,2.2027647577118348,3.676300671907076,2.6390573296152584,2.2027647577118348,2.0856720914304723,0.0,3.3160025355989236,2.1661924680884908,2.1102132003465894,2.2682524139135403,3.970291913552122,3.091042453358316,2.0851502161468174,2.142510233146819,3.8691155044168695,0.0,2.2027647577118348,4.5226490762785785,3.4242626545931514,2.2027647577118348,2.8273136219290276,3.0429354648621407,2.1102132003465894,3.449987545831587,3.922056501139853,2.2027647577118348,2.738146075922933,2.7788192719904172,2.174274334826008,2.2682524139135403,4.699570861409576,3.3160025355989236,3.1580636854714434,4.05171190165724,2.169053700369523,2.2027647577118348,3.3064287218760624,2.139571923732859,3.5559421706858756,3.224857896545748,2.1855792552411137,2.1855792552411137,2.1071782966514356,2.1076888046179385,2.169053700369523,5.406181146423973,2.188856327665703,2.5257286443082556,2.1076888046179385,2.1076888046179385,3.3160025355989236,2.740840023925201,3.295836866004329,4.676792929661059,3.295836866004329,2.6988412620169004,3.0692150503137943,3.6309854756950335,4.717456363787216,3.295836866004329,2.17806441028492,2.1071782966514356,3.3160025355989236,5.4316456135398825,2.169053700369523,2.1855792552411137,2.6741486494265287,2.2027647577118348,3.224857896545748,2.1855792552411137,2.1076888046179385,2.180891922715322,2.4423470353692043,3.3100867049215847,2.2027647577118348,2.740840023925201,2.188856327665703,3.295836866004329,3.716616209085536,2.2734137156937657,2.772588722239781,4.384523514872469,2.2027647577118348,2.2027647577118348,2.094945728215801,2.1102132003465894,3.295836866004329,3.224857896545748,0.0,2.1071782966514356,4.0592215752427645,2.1855792552411137,3.770459441106359,2.2027647577118348,3.3160025355989236,2.806386101823072,2.1855792552411137,3.449987545831587,2.0856720914304723,2.169053700369523,2.2027647577118348,2.7343675094195836,2.4423470353692043,2.737880811060884,3.9806942251907276,2.817902613071225,2.180891922715322,2.8390784635086144,3.5061818266142577,2.5915163848462583,2.1855792552411137,2.167143305297764,3.4339872044851463,2.086193694502369,3.449987545831587,0.0,2.188856327665703,3.305053521109253,2.8390784635086144,2.180891922715322,4.05171190165724,4.353230991152628,2.1855792552411137,3.597312260588446,2.145931282948669,2.1855792552411137,2.2442459824059346,4.310799125385514,2.1855792552411137,2.6390573296152584,4.738607824217808,4.902678819257608,2.1071782966514356,3.2804411805263554,2.139571923732859,2.188856327665703,4.310799125385514,2.6390573296152584,2.1719067693519296,2.2027647577118348,3.970291913552122,2.4423470353692043,2.6390573296152584,0.0,2.1719067693519296,2.2027647577118348,6.240917354759096,4.353230991152628,2.3248357019288655,3.8691155044168695,3.6888794541139363,3.7513658711253766,3.705920919968788,2.4133032309283076,2.174274334826008,4.060443010546419,4.05171190165724,2.1071782966514356,3.3160025355989236,2.6741486494265287,2.2027647577118348,4.717456363787216,2.157559320943788,3.3064287218760624,2.1681046787623672,2.180891922715322,3.295836866004329,3.3064287218760624,2.7878344138303452,3.3160025355989236,3.970291913552122,2.3497835148230464,2.6390573296152584,2.157559320943788,2.803360380906535,2.1719067693519296,2.086193694502369,2.6390573296152584,2.6390573296152584,3.9908341858524357,2.2682524139135403,3.295836866004329,2.9850504252071306,0.0,2.6390573296152584,2.6390573296152584,2.8390784635086144,6.240917354759096,2.1855792552411137,2.1855792552411137,3.4339872044851463,4.380149874661021,2.8390784635086144,2.188856327665703,4.276666119016055,3.056356895370426,3.9908341858524357,2.169053700369523,2.600836116795061,2.3513752571634776,2.1855792552411137,2.740840023925201,2.174274334826008,2.5257286443082556,2.2027647577118348,2.740840023925201,2.094945728215801,2.1076888046179385,2.1719067693519296,3.703768066607687,3.224857896545748,2.236712348843338,2.3513752571634776,2.180891922715322,2.1071782966514356,2.169053700369523,2.169053700369523,2.1676241075599285,3.4339872044851463,3.196630215920881,2.0856720914304723,2.1102132003465894,3.405355391810819,3.0715352369694915,4.384523514872469,2.169053700369523,3.295836866004329,3.4561841799918147,2.1855792552411137,2.6390573296152584,2.1076888046179385,2.6390573296152584,4.795790545596741,2.2530481500547457,2.076311648670908,2.1719067693519296,0.0,2.6390573296152584,2.184645795129359,3.224857896545748,2.4423470353692043,2.2027647577118348,0.0,3.637696679934592,2.0082140323914683,3.3638415951183864,2.2682524139135403,0.0,3.705920919968788,2.0731719286662407,4.05171190165724,3.637696679934592,2.169053700369523,2.9831534913471307,2.1076888046179385,2.180891922715322,2.2300144001592104,2.2682524139135403,2.2027647577118348,4.05171190165724,3.4242626545931514,2.188856327665703,2.4423470353692043,2.006534770871748,2.2682524139135403,2.145931282948669,4.256321678298823,2.1855792552411137,3.5263605246161616,3.4742929367327062,2.1719067693519296,3.3160025355989236,2.1076888046179385,2.7152442616824506,2.5257286443082556,2.6390573296152584,3.941500250945973,2.3513752571634776,2.495953738718064,2.1855792552411137,1.791759469228055,2.302585092994046,2.3837779082709782,2.1855792552411137,2.1855792552411137,2.1855792552411137,2.4423470353692043,2.0856720914304723,2.6390573296152584,3.4339872044851463,2.169053700369523,2.17806441028492,2.3690748342628787,2.2682524139135403,2.3248357019288655,3.4011973816621555,3.224857896545748,2.1855792552411137,3.295836866004329,3.295836866004329,2.5915163848462583,2.1071782966514356,4.100989104940769,1.428107863933301,4.133231886474144,2.740840023925201,2.1071782966514356,3.449987545831587,3.1214482048688246,3.295836866004329,3.481240089335692,4.073291153024268,2.1076888046179385,2.3513752571634776,4.05171190165724,2.668387256845834,3.3160025355989236,2.180417459019838,2.188856327665703,3.4242626545931514,2.169053700369523,4.110873864173311,2.7746678094393658,2.808148897638332,3.405355391810819,2.1855792552411137,2.157559320943788,2.8390784635086144,2.1855792552411137,2.6741486494265287,2.169053700369523,5.5735788721243535,3.770459441106359,3.3856606425130265,2.1855792552411137,3.357621598945279,5.358941988364472,2.2027647577118348,2.6390573296152584,2.7878344138303452,5.406181146423973,3.295836866004329,2.1855792552411137,2.4602979920066583,2.737880811060884,3.1780538303479458,2.1719067693519296,2.2027647577118348,3.295836866004329,2.174274334826008,2.188856327665703,2.2027647577118348,3.295836866004329,2.169053700369523,2.1719067693519296,3.1580636854714434,2.177112568853282,2.169053700369523,2.2734137156937657,2.6390573296152584,2.775447133088262,2.737880811060884,2.006534770871748,4.333908557103646,2.169053700369523,2.1102132003465894,2.169053700369523,2.174274334826008,2.6390573296152584,2.2027647577118348,2.2027647577118348,3.3843902633457743,2.006534770871748,2.1855792552411137,2.180891922715322,2.1071782966514356,2.6390573296152584,3.8691155044168695,5.5735788721243535,3.295836866004329,3.3160025355989236,2.9444389791664403,3.967694202798607,2.2027647577118348,3.3160025355989236,3.295836866004329,2.1855792552411137,3.535013546107913,3.4777725458882283,2.145931282948669,3.3160025355989236,2.7878344138303452,2.0794415416798357,2.6390573296152584,3.941500250945973,3.5660053559634015,2.145931282948669,2.1071782966514356,2.7013612129514133,2.1076888046179385,3.4777725458882283,4.0332082470129285,2.6390573296152584,4.432699549165613,2.169053700369523,2.833213344056216,2.2027647577118348,2.6390573296152584,3.295836866004329,3.295836866004329,2.740840023925201,2.5915163848462583,3.5115454388310208,2.180891922715322,4.908971640319756,2.4423470353692043,2.7343675094195836,5.4316456135398825,2.4423470353692043,3.286224144821269,2.4423470353692043,2.1855792552411137,3.1580636854714434,2.0856720914304723,4.310799125385514,3.7727609380946383,5.11118445372147,2.2027647577118348,2.2027647577118348,2.174274334826008,2.174274334826008,2.7788192719904172,2.6390573296152584,4.189654742026425,2.0143428636837015,2.1837114628556327,4.2805931204649,2.180891922715322,4.334017415487521,2.1071782966514356,4.908971640319756,2.184645795129359,3.196630215920881,3.967694202798607,3.5115454388310208,2.188856327665703,4.925652403790231,2.3345681388470965,2.3513752571634776,2.145931282948669,2.169053700369523,2.2027647577118348,2.1719067693519296,2.91235066461494,2.180891922715322,2.62012931972974,2.1855792552411137,0.0,2.145931282948669,2.2682524139135403,4.333908557103646,2.169053700369523,2.1071782966514356,2.4423470353692043,3.295836866004329,3.091042453358316,2.4423470353692043,2.692936563292162,2.1102132003465894,2.1102132003465894,4.422048709343544,2.1076888046179385,2.2027647577118348,3.703768066607687,2.1076888046179385,4.417131919904876,2.3513752571634776,2.1855792552411137,3.1214482048688246,3.8394523125933104,2.180891922715322,2.1719067693519296,2.775447133088262,3.091042453358316,2.2682524139135403,5.027492411162679,2.336986519711378,4.548599834499697,2.2682524139135403,2.1071782966514356,2.1488509930520037,4.993969182787072,2.4423470353692043,2.180891922715322,3.481240089335692,2.1719067693519296,2.1076888046179385,2.6390573296152584,3.3160025355989236,2.0856720914304723,4.384523514872469,3.295836866004329,2.6390573296152584,3.4242626545931514,2.1071782966514356,2.1855792552411137,3.295836866004329,2.6390573296152584,2.1076888046179385,3.481240089335692,2.1076888046179385,2.4423470353692043,2.149340669059503,4.256321678298823,2.740840023925201,2.6390573296152584,2.6741486494265287,2.4423470353692043,4.310799125385514,4.189654742026425,3.295836866004329,2.1837114628556327,2.169053700369523,4.256321678298823,2.2682524139135403,2.738146075922933,2.698558631668595,2.5257286443082556,0.0,2.6390573296152584,2.5257286443082556,3.9318256327243257,3.4777725458882283,2.169053700369523,2.1837114628556327,2.630088659632498,2.1719067693519296,2.6390573296152584,2.169053700369523,3.0944457464900235,4.548599834499697,3.056356895370426,2.4423470353692043,3.1365805821413706,2.1102132003465894,2.1719067693519296,2.167143305297764,3.091042453358316,3.8732821771117156,3.357621598945279,2.6988412620169004,2.4423470353692043,5.358941988364472,2.2027647577118348,2.1102132003465894,2.2027647577118348,3.1509523813392697],\"z\":[0.0,0.0,0.0,0.0,0.0,0.0,0.0,0.0,1.0,0.0,1.0,1.0,0.0,0.0,0.0,0.0,0.0,0.0,0.0,1.0,0.0,0.0,0.0,0.0,0.0,0.0,0.0,0.0,1.0,0.0,0.0,0.0,0.0,0.0,0.0,1.0,0.0,0.0,0.0,0.0,0.0,1.0,0.0,0.0,0.0,1.0,0.0,1.0,0.0,0.0,0.0,0.0,0.0,0.0,0.0,0.0,0.0,0.0,0.0,1.0,0.0,0.0,0.0,0.0,0.0,0.0,1.0,0.0,0.0,0.0,0.0,0.0,0.0,0.0,0.0,0.0,0.0,0.0,1.0,0.0,1.0,0.0,0.0,0.0,0.0,0.0,0.0,0.0,0.0,0.0,0.0,0.0,1.0,0.0,0.0,0.0,0.0,0.0,0.0,0.0,0.0,0.0,0.0,0.0,0.0,0.0,0.0,1.0,0.0,0.0,0.0,0.0,0.0,0.0,0.0,0.0,0.0,0.0,0.0,0.0,1.0,0.0,1.0,0.0,0.0,0.0,1.0,0.0,0.0,0.0,0.0,0.0,0.0,1.0,0.0,1.0,1.0,0.0,0.0,0.0,0.0,0.0,0.0,1.0,0.0,0.0,0.0,1.0,0.0,1.0,0.0,0.0,0.0,0.0,0.0,0.0,0.0,0.0,0.0,0.0,0.0,0.0,1.0,0.0,0.0,0.0,0.0,0.0,1.0,0.0,0.0,0.0,0.0,1.0,0.0,1.0,0.0,0.0,0.0,0.0,0.0,0.0,1.0,0.0,0.0,1.0,0.0,1.0,0.0,0.0,0.0,0.0,1.0,1.0,0.0,0.0,1.0,0.0,0.0,0.0,0.0,0.0,0.0,0.0,0.0,0.0,0.0,0.0,0.0,0.0,1.0,0.0,1.0,0.0,0.0,0.0,1.0,0.0,0.0,0.0,0.0,0.0,0.0,0.0,0.0,0.0,0.0,0.0,0.0,1.0,0.0,0.0,0.0,0.0,0.0,0.0,0.0,0.0,0.0,0.0,0.0,1.0,1.0,0.0,0.0,0.0,0.0,1.0,0.0,0.0,0.0,0.0,1.0,0.0,0.0,0.0,0.0,1.0,0.0,0.0,0.0,0.0,0.0,0.0,0.0,1.0,1.0,0.0,0.0,0.0,0.0,0.0,0.0,1.0,1.0,1.0,1.0,0.0,0.0,0.0,1.0,0.0,1.0,0.0,0.0,1.0,0.0,0.0,0.0,0.0,0.0,0.0,0.0,0.0,0.0,0.0,0.0,0.0,0.0,0.0,0.0,0.0,0.0,1.0,0.0,0.0,1.0,0.0,0.0,0.0,0.0,0.0,0.0,0.0,0.0,0.0,0.0,1.0,0.0,1.0,1.0,0.0,1.0,0.0,0.0,0.0,0.0,0.0,0.0,0.0,0.0,0.0,0.0,0.0,0.0,0.0,0.0,0.0,1.0,0.0,0.0,1.0,0.0,1.0,1.0,0.0,0.0,1.0,0.0,0.0,0.0,0.0,0.0,0.0,0.0,0.0,0.0,1.0,1.0,1.0,0.0,0.0,1.0,0.0,0.0,0.0,0.0,1.0,0.0,0.0,0.0,0.0,0.0,0.0,0.0,0.0,1.0,0.0,0.0,0.0,1.0,0.0,0.0,1.0,0.0,0.0,0.0,0.0,0.0,0.0,1.0,1.0,0.0,0.0,0.0,0.0,0.0,0.0,1.0,0.0,1.0,0.0,0.0,0.0,0.0,0.0,1.0,1.0,0.0,1.0,0.0,0.0,0.0,0.0,0.0,0.0,0.0,1.0,0.0,0.0,0.0,1.0,0.0,0.0,0.0,0.0,0.0,0.0,1.0,0.0,0.0,0.0,1.0,1.0,0.0,0.0,0.0,0.0,0.0,0.0,0.0,1.0,1.0,0.0,0.0,0.0,0.0,0.0,0.0,1.0,0.0,0.0,0.0,1.0,1.0,0.0,1.0,0.0,0.0,0.0,0.0,0.0,0.0,0.0,0.0,1.0,0.0,0.0,0.0,0.0,0.0,0.0,0.0,1.0,0.0,0.0,1.0,0.0,0.0,1.0,0.0,0.0,0.0,0.0,1.0,0.0,0.0,1.0,0.0,0.0,0.0,0.0,0.0,1.0,0.0,0.0,0.0,0.0,0.0,0.0,0.0,0.0,0.0,0.0,0.0,0.0,0.0,0.0,0.0,1.0,0.0,0.0,0.0,0.0,0.0,0.0,0.0,0.0,1.0,1.0,1.0,0.0,0.0,0.0,0.0,0.0,0.0,0.0,0.0,0.0,0.0,0.0,1.0,0.0,0.0,0.0,0.0,1.0,1.0,1.0,0.0,0.0,0.0,0.0,0.0,1.0,1.0,0.0,0.0,0.0,0.0,0.0,0.0,0.0,0.0,0.0,0.0,1.0,0.0,0.0,0.0,0.0,0.0,0.0,1.0,0.0,0.0,0.0,0.0,0.0,0.0,0.0,0.0,0.0,0.0,1.0,0.0,null,null,null,null,null,null,null,null,null,null,null,null,null,null,null,null,null,null,null,null,null,null,null,null,null,null,null,null,null,null,null,null,null,null,null,null,null,null,null,null,null,null,null,null,null,null,null,null,null,null,null,null,null,null,null,null,null,null,null,null,null,null,null,null,null,null,null,null,null,null,null,null,null,null,null,null,null,null,null,null,null,null,null,null,null,null,null,null,null,null,null,null,null,null,null,null,null,null,null,null,null,null,null,null,null,null,null,null,null,null,null,null,null,null,null,null,null,null,null,null,null,null,null,null,null,null,null,null,null,null,null,null,null,null,null,null,null,null,null,null,null,null,null,null,null,null,null,null,null,null,null,null,null,null,null,null,null,null,null,null,null,null,null,null,null,null,null,null,null,null,null,null,null,null,null,null,null,null,null,null,null,null,null,null,null,null,null,null,null,null,null,null,null,null,null,null,null,null,null,null,null,null,null,null,null,null,null,null,null,null,null,null,null,null,null,null,null,null,null,null,null,null,null,null,null,null,null,null,null,null,null,null,null,null,null,null,null,null,null,null,null,null,null,null,null,null,null,null,null,null,null,null,null,null,null,null,null,null,null,null,null,null,null,null,null,null],\"type\":\"scatter3d\"},{\"hovertemplate\":\"<b>%{hovertext}</b><br><br>Sex=0<br>Age=%{x}<br>Fare=%{y}<br>Survived=%{z}<br>SibSp=%{marker.size}<br>Pclass=%{marker.color}<extra></extra>\",\"hovertext\":[2.0,3.0,4.0,9.0,10.0,11.0,12.0,15.0,16.0,19.0,20.0,23.0,25.0,26.0,29.0,32.0,33.0,39.0,40.0,41.0,42.0,44.0,45.0,48.0,50.0,53.0,54.0,57.0,59.0,62.0,67.0,69.0,72.0,80.0,83.0,85.0,86.0,89.0,99.0,101.0,107.0,110.0,112.0,114.0,115.0,120.0,124.0,129.0,133.0,134.0,137.0,141.0,142.0,143.0,148.0,152.0,157.0,162.0,167.0,168.0,173.0,178.0,181.0,185.0,187.0,191.0,193.0,195.0,196.0,199.0,200.0,206.0,209.0,212.0,216.0,217.0,219.0,230.0,231.0,234.0,236.0,238.0,241.0,242.0,247.0,248.0,252.0,255.0,256.0,257.0,258.0,259.0,260.0,265.0,269.0,270.0,273.0,275.0,276.0,277.0,280.0,290.0,291.0,292.0,294.0,298.0,300.0,301.0,304.0,307.0,308.0,310.0,311.0,312.0,313.0,316.0,317.0,319.0,320.0,323.0,324.0,326.0,328.0,329.0,330.0,331.0,335.0,338.0,342.0,346.0,347.0,348.0,357.0,358.0,359.0,360.0,363.0,367.0,368.0,369.0,370.0,375.0,376.0,377.0,381.0,382.0,384.0,388.0,390.0,394.0,395.0,397.0,400.0,403.0,405.0,410.0,413.0,416.0,417.0,418.0,420.0,424.0,427.0,428.0,432.0,433.0,436.0,437.0,438.0,441.0,444.0,447.0,449.0,458.0,459.0,470.0,473.0,474.0,475.0,480.0,484.0,486.0,487.0,497.0,499.0,502.0,503.0,504.0,505.0,507.0,514.0,517.0,519.0,521.0,524.0,527.0,531.0,534.0,535.0,536.0,538.0,540.0,541.0,542.0,543.0,547.0,555.0,557.0,559.0,560.0,565.0,568.0,572.0,574.0,577.0,578.0,579.0,581.0,582.0,586.0,592.0,594.0,597.0,601.0,609.0,610.0,611.0,613.0,616.0,618.0,619.0,628.0,635.0,636.0,639.0,642.0,643.0,645.0,650.0,652.0,654.0,655.0,658.0,670.0,671.0,678.0,679.0,681.0,690.0,692.0,698.0,701.0,703.0,707.0,709.0,711.0,717.0,718.0,721.0,727.0,728.0,730.0,731.0,737.0,743.0,748.0,751.0,755.0,760.0,764.0,766.0,768.0,773.0,775.0,778.0,780.0,781.0,782.0,787.0,793.0,797.0,798.0,800.0,802.0,808.0,810.0,814.0,817.0,821.0,824.0,830.0,831.0,836.0,843.0,850.0,853.0,854.0,855.0,856.0,857.0,859.0,863.0,864.0,866.0,867.0,872.0,875.0,876.0,880.0,881.0,883.0,886.0,888.0,889.0,893.0,896.0,898.0,900.0,904.0,906.0,907.0,910.0,911.0,914.0,916.0,918.0,924.0,925.0,928.0,929.0,935.0,936.0,940.0,941.0,944.0,945.0,951.0,955.0,957.0,958.0,961.0,962.0,964.0,966.0,969.0,971.0,978.0,979.0,980.0,982.0,984.0,988.0,990.0,992.0,996.0,1003.0,1004.0,1005.0,1006.0,1009.0,1011.0,1012.0,1014.0,1017.0,1019.0,1024.0,1030.0,1032.0,1033.0,1042.0,1045.0,1048.0,1049.0,1051.0,1052.0,1054.0,1057.0,1060.0,1061.0,1067.0,1068.0,1070.0,1071.0,1074.0,1076.0,1078.0,1080.0,1089.0,1091.0,1092.0,1095.0,1098.0,1100.0,1105.0,1106.0,1108.0,1110.0,1112.0,1114.0,1116.0,1117.0,1119.0,1123.0,1130.0,1131.0,1132.0,1133.0,1138.0,1140.0,1141.0,1142.0,1150.0,1154.0,1155.0,1160.0,1164.0,1165.0,1167.0,1172.0,1174.0,1175.0,1176.0,1183.0,1188.0,1196.0,1197.0,1201.0,1205.0,1206.0,1207.0,1216.0,1218.0,1222.0,1225.0,1235.0,1237.0,1239.0,1241.0,1242.0,1246.0,1248.0,1251.0,1253.0,1254.0,1256.0,1257.0,1259.0,1260.0,1263.0,1266.0,1267.0,1268.0,1274.0,1275.0,1277.0,1283.0,1287.0,1289.0,1292.0,1294.0,1300.0,1301.0,1302.0,1303.0,1304.0,1306.0],\"legendgroup\":\"0\",\"marker\":{\"color\":[1,3,1,3,2,3,1,3,2,3,3,3,3,3,3,1,3,3,3,3,2,2,3,3,3,1,2,2,2,1,2,3,3,3,3,2,3,1,2,3,3,3,3,3,3,3,2,3,3,2,1,3,3,3,3,1,3,2,1,3,3,1,3,3,3,2,3,1,1,3,2,3,3,2,1,3,1,3,1,3,3,2,3,3,3,2,3,3,3,1,1,1,2,3,1,1,2,3,1,3,3,3,1,1,3,1,1,3,2,1,1,1,1,1,2,3,2,1,1,2,2,1,2,3,1,3,1,1,1,2,2,3,1,2,3,3,3,1,3,3,1,3,1,3,1,3,1,2,2,1,3,3,2,3,3,3,1,3,2,2,3,3,2,2,3,2,1,3,2,2,2,2,3,1,2,3,2,2,3,3,3,3,1,1,1,3,3,3,1,2,1,2,2,1,1,2,2,3,3,2,1,1,1,3,3,2,3,1,1,3,3,3,1,3,2,1,3,2,1,1,1,3,2,2,2,1,3,3,2,3,2,1,3,2,3,1,3,3,3,2,3,3,3,1,2,3,3,3,1,3,3,1,3,2,1,1,1,2,2,2,3,3,1,3,1,2,2,2,1,1,1,3,2,2,3,1,3,1,3,3,1,3,3,2,3,1,3,3,1,3,1,3,1,1,1,3,1,2,3,1,3,1,3,2,2,1,2,3,1,2,3,3,1,3,3,3,3,3,1,1,2,3,3,1,1,1,3,3,3,3,2,1,1,3,2,1,1,3,2,3,1,3,3,1,1,3,3,3,3,3,1,1,3,1,3,3,1,3,1,3,2,2,1,3,3,3,3,3,1,1,3,1,3,3,3,2,3,1,3,2,2,2,1,1,1,2,3,3,3,3,2,3,1,2,3,3,1,2,2,1,3,3,1,2,1,1,2,2,2,3,2,2,2,3,3,1,3,2,3,3,3,3,3,2,3,1,3,3,1,3,1,2,2,3,1,3,3,2,1,3,1,3,2,2,1,3,3,1,1,1,1,3,3,3,2,1,1,1,1,1,3,3,3,1,3,1],\"coloraxis\":\"coloraxis\",\"opacity\":0.8,\"size\":[1,0,1,0,1,1,0,0,0,1,0,0,3,1,0,1,0,2,1,1,1,1,0,0,1,1,1,0,1,0,0,4,5,0,0,0,3,3,0,0,0,1,1,1,0,4,0,1,1,1,0,0,0,1,2,1,0,0,0,1,1,0,8,0,1,0,1,0,0,0,0,0,0,0,1,0,0,3,1,4,0,0,1,1,0,0,1,0,0,0,0,0,0,0,0,0,0,0,1,0,1,0,0,1,0,1,0,0,0,0,1,0,0,2,1,0,1,0,1,0,1,0,0,1,0,2,1,0,3,0,0,1,0,0,0,0,0,1,0,0,0,3,1,0,0,0,1,0,0,1,0,0,0,1,0,3,1,0,1,0,0,1,1,0,1,1,1,2,2,1,0,0,2,1,0,2,1,0,0,0,0,3,1,1,1,0,0,0,0,0,1,0,1,0,0,0,1,0,0,0,0,0,0,4,4,1,0,1,1,1,0,0,2,0,0,1,1,1,1,0,1,0,0,2,1,0,1,1,1,1,2,0,3,0,0,0,3,2,0,0,0,0,1,1,1,0,1,0,0,0,0,1,0,0,0,0,0,0,0,3,0,1,0,1,2,0,1,1,0,1,1,0,0,1,0,0,0,1,0,8,0,0,1,1,0,1,4,0,1,0,0,1,1,0,1,1,0,1,0,1,0,0,8,0,1,1,1,0,0,0,0,0,0,1,1,1,0,0,1,1,1,1,0,0,1,0,1,1,0,0,0,1,0,0,2,3,0,0,0,0,1,0,0,0,2,0,0,0,0,1,1,1,0,1,1,0,0,0,1,1,1,0,1,0,2,0,0,5,0,0,0,0,0,0,0,0,1,0,0,0,0,0,0,1,1,0,8,0,0,0,1,0,0,1,4,0,1,1,0,0,0,0,0,1,1,0,0,0,1,1,1,0,0,1,0,1,1,1,0,0,1,1,0,1,0,1,1,0,0,0,0,2,0,1,0,0,0,0,0,1,2,1,1,0,1,1,0,0,0,1,0,2,0,1,1,0,1,1,0,0,0,1,0,1,0,0],\"sizemode\":\"area\",\"sizeref\":0.02,\"symbol\":\"diamond\"},\"mode\":\"markers\",\"name\":\"0\",\"scene\":\"scene\",\"showlegend\":true,\"x\":[38.0,26.0,35.0,27.0,14.0,4.0,58.0,14.0,55.0,31.0,29.881137667304014,15.0,8.0,38.0,29.881137667304014,29.881137667304014,29.881137667304014,18.0,14.0,40.0,27.0,3.0,19.0,29.881137667304014,18.0,49.0,29.0,21.0,5.0,38.0,29.0,17.0,16.0,30.0,29.881137667304014,17.0,33.0,23.0,34.0,28.0,21.0,29.881137667304014,14.5,20.0,17.0,2.0,32.5,29.881137667304014,47.0,29.0,19.0,29.881137667304014,22.0,24.0,9.0,22.0,16.0,40.0,29.881137667304014,45.0,1.0,50.0,29.881137667304014,4.0,29.881137667304014,32.0,19.0,44.0,58.0,29.881137667304014,24.0,2.0,16.0,35.0,31.0,27.0,32.0,29.881137667304014,35.0,5.0,29.881137667304014,8.0,29.881137667304014,29.881137667304014,25.0,24.0,29.0,41.0,29.0,29.881137667304014,30.0,35.0,50.0,29.881137667304014,58.0,35.0,41.0,29.881137667304014,63.0,45.0,35.0,22.0,26.0,19.0,24.0,2.0,50.0,29.881137667304014,29.881137667304014,29.881137667304014,17.0,30.0,24.0,18.0,26.0,26.0,24.0,31.0,40.0,30.0,22.0,36.0,36.0,31.0,16.0,29.881137667304014,29.881137667304014,41.0,24.0,24.0,40.0,29.881137667304014,22.0,38.0,29.881137667304014,29.881137667304014,45.0,60.0,29.881137667304014,29.881137667304014,24.0,3.0,29.881137667304014,22.0,42.0,1.0,35.0,36.0,17.0,23.0,24.0,31.0,28.0,21.0,20.0,29.881137667304014,33.0,29.881137667304014,34.0,18.0,10.0,28.0,28.0,19.0,29.881137667304014,42.0,14.0,21.0,24.0,45.0,28.0,13.0,5.0,29.881137667304014,50.0,0.75,33.0,23.0,22.0,2.0,63.0,29.881137667304014,35.0,54.0,25.0,21.0,29.881137667304014,37.0,16.0,33.0,54.0,34.0,36.0,30.0,44.0,50.0,2.0,29.881137667304014,30.0,7.0,30.0,22.0,36.0,9.0,11.0,19.0,22.0,48.0,39.0,36.0,29.881137667304014,29.0,53.0,29.881137667304014,34.0,39.0,29.881137667304014,25.0,39.0,18.0,52.0,29.881137667304014,29.881137667304014,24.0,22.0,40.0,39.0,29.881137667304014,24.0,26.0,4.0,21.0,9.0,28.0,41.0,24.0,2.0,0.75,23.0,18.0,29.881137667304014,18.0,32.0,29.881137667304014,40.0,18.0,43.0,29.881137667304014,15.0,4.0,29.881137667304014,18.0,18.0,45.0,22.0,24.0,38.0,27.0,6.0,30.0,29.881137667304014,25.0,29.0,48.0,21.0,30.0,4.0,48.0,33.0,36.0,51.0,30.5,57.0,54.0,5.0,43.0,13.0,17.0,18.0,29.881137667304014,49.0,31.0,30.0,31.0,18.0,33.0,6.0,23.0,52.0,27.0,62.0,15.0,39.0,30.0,29.881137667304014,9.0,16.0,44.0,18.0,45.0,24.0,48.0,29.881137667304014,42.0,27.0,47.0,28.0,15.0,56.0,25.0,22.0,39.0,19.0,29.881137667304014,47.0,22.0,30.0,18.0,23.0,47.0,24.0,27.0,45.0,29.881137667304014,48.0,22.0,33.0,29.881137667304014,29.881137667304014,21.0,30.0,45.0,60.0,36.0,20.0,28.0,36.0,22.0,29.881137667304014,18.0,60.0,24.0,29.0,35.0,55.0,24.0,27.0,18.0,29.881137667304014,22.0,27.0,76.0,20.0,43.0,16.0,29.881137667304014,36.0,18.5,63.0,1.0,29.0,12.0,35.0,17.0,29.881137667304014,29.881137667304014,23.0,10.0,33.0,23.0,36.0,29.0,23.0,26.0,29.881137667304014,26.0,26.0,29.881137667304014,22.0,15.0,20.0,36.0,64.0,18.0,27.0,21.0,29.881137667304014,18.0,29.881137667304014,29.881137667304014,8.0,35.0,33.0,60.0,38.0,29.881137667304014,50.0,30.0,22.0,53.0,29.881137667304014,29.881137667304014,21.0,18.0,48.0,55.0,45.0,22.0,29.0,29.881137667304014,0.92,19.0,29.0,1.0,29.881137667304014,26.0,29.881137667304014,20.0,23.0,29.881137667304014,9.0,2.0,30.0,1.0,29.881137667304014,64.0,45.0,37.0,55.0,17.0,39.0,12.0,48.0,19.0,58.0,16.0,38.0,31.0,45.0,0.17,59.0,30.0,24.0,31.0,25.0,29.881137667304014,22.0,45.0,31.0,54.0,45.0,22.0,29.881137667304014,19.0,24.0,51.0,18.0,48.0,30.0,22.0,29.881137667304014,3.0,29.881137667304014,37.0,28.0,39.0],\"y\":[4.2805931204649,2.188856327665703,3.9908341858524357,2.495953738718064,3.436268471383741,2.8735646395797834,3.3160025355989236,2.180891922715322,2.833213344056216,2.9444389791664403,2.1071782966514356,2.2004637699272855,3.0944457464900235,3.4777725458882283,2.1837114628556327,4.993969182787072,2.169053700369523,2.9444389791664403,2.5048481563289,2.348991465808201,3.091042453358316,3.7513658711253766,2.1837114628556327,2.169053700369523,2.9338568698359038,4.353230991152628,3.295836866004329,2.4423470353692043,3.3586377672433594,4.394449154672439,2.4423470353692043,2.188856327665703,3.8691155044168695,2.600836116795061,2.1733302571367834,2.4423470353692043,2.8243506567983707,5.575949103146316,3.1780538303479458,2.1855792552411137,2.157559320943788,3.224857896545748,2.737880811060884,2.3818582738885534,2.738146075922933,3.4742929367327062,2.6390573296152584,3.1509523813392697,2.740840023925201,3.295836866004329,3.3062747934011893,2.7878344138303452,2.169053700369523,2.8243506567983707,3.5660053559634015,4.213607983048918,2.167143305297764,2.8183982582710754,4.02535169073515,3.3638415951183864,2.495953738718064,3.391567832686312,4.256321678298823,3.1365805821413706,2.803360380906535,2.6390573296152584,2.180891922715322,3.357621598945279,4.993969182787072,2.169053700369523,2.6390573296152584,2.4390808375825834,2.169053700369523,3.091042453358316,4.738607824217808,2.188856327665703,4.347586575960343,3.275887339030031,4.436455632600354,3.4777725458882283,2.145931282948669,3.305053521109253,2.737880811060884,2.803360380906535,2.1719067693519296,2.740840023925201,2.4390808375825834,3.0545906305603445,2.7878344138303452,4.384523514872469,4.471638793363569,6.240917354759096,3.295836866004329,2.169053700369523,5.039951348430309,4.91730069488021,3.0204248861443626,2.169053700369523,4.368919865004903,2.169053700369523,3.056356895370426,2.169053700369523,4.380149874661021,4.5226490762785785,2.2874714551839976,5.027492411162679,5.515526544247129,2.169053700369523,2.5915163848462583,4.717456363787216,4.699570861409576,4.0592215752427645,4.432699549165613,5.5735788721243535,3.295836866004329,2.180891922715322,3.295836866004329,5.11118445372147,4.908971640319756,2.5915163848462583,3.4011973816621555,4.91730069488021,2.6390573296152584,3.0692150503137943,4.077184839375167,3.188416617383492,4.902678819257608,4.908971640319756,5.575949103146316,2.6390573296152584,2.6390573296152584,2.8390784635086144,4.02535169073515,2.6390573296152584,2.1837114628556327,2.1837114628556327,2.737880811060884,4.334017415487521,2.1076888046179385,2.169053700369523,4.252771798816619,3.0944457464900235,4.420896324687287,2.1102132003465894,5.4316456135398825,2.817902613071225,3.970291913552122,2.6390573296152584,2.5649493574615367,4.738607824217808,2.8735646395797834,2.180891922715322,2.613739521630969,2.3818582738885534,2.2682524139135403,3.275887339030031,4.51085950651685,2.2027647577118348,3.5115454388310208,2.6390573296152584,3.224857896545748,2.7343675094195836,3.295836866004329,3.295836866004329,2.8390784635086144,3.295836866004329,4.795790545596741,3.5660053559634015,2.9831534913471307,3.305053521109253,2.6390573296152584,3.0204248861443626,3.0085645861193133,3.967694202798607,2.4423470353692043,3.0085645861193133,3.3586377672433594,2.694066212646058,2.3830123421066602,2.586823743668066,2.3596740599781727,3.275887339030031,4.51085950651685,4.37281811610993,5.027492411162679,2.169053700369523,2.155151800914312,2.3596740599781727,4.471638793363569,3.295836866004329,4.100989104940769,2.4423470353692043,3.295836866004329,4.548599834499697,4.077184839375167,2.4423470353692043,3.295836866004329,3.1509523813392697,2.2682524139135403,3.305053521109253,4.676792929661059,3.9219733362813143,4.276666119016055,3.4742929367327062,3.4742929367327062,3.295836866004329,2.1719067693519296,3.703768066607687,4.390118804571218,2.91235066461494,2.2027647577118348,3.0944457464900235,3.960416900617205,2.169053700369523,2.6390573296152584,4.041295341132285,2.738146075922933,3.4339872044851463,4.717456363787216,4.390118804571218,4.37281811610993,2.169053700369523,3.5263605246161616,3.332204510175204,3.7513658711253766,5.039951348430309,3.4742929367327062,2.803360380906535,4.189654742026425,2.8390784635086144,3.6888794541139363,4.368919865004903,3.3638415951183864,2.6390573296152584,3.705920919968788,4.252771798816619,3.3638415951183864,3.0085645861193133,2.145931282948669,3.1780538303479458,2.17806441028492,2.0476928433652555,2.803360380906535,3.970291913552122,3.6888794541139363,2.3833998102837652,3.8691155044168695,2.212386825075897,5.35817698994543,2.668387256845834,2.167143305297764,5.4316456135398825,2.737880811060884,2.6741486494265287,5.027492411162679,3.922056501139853,5.4316456135398825,2.4423470353692043,3.5263605246161616,3.091042453358316,2.1676241075599285,2.188856327665703,5.35817698994543,3.5660053559634015,5.5735788721243535,2.6390573296152584,3.1780538303479458,4.189654742026425,4.471638793363569,4.795790545596741,4.368919865004903,2.169053700369523,2.4423470353692043,3.1780538303479458,2.600836116795061,5.35817698994543,2.1076888046179385,4.060443010546419,2.139571923732859,4.256321678298823,3.2932111997353943,2.270402752283094,3.224857896545748,3.305053521109253,2.1719067693519296,3.9908341858524357,3.4742929367327062,2.188856327665703,4.548599834499697,2.600836116795061,4.394449154672439,2.737880811060884,4.432699549165613,3.4657359027997265,4.500966778400217,2.7878344138303452,3.6988297849671046,3.295836866004329,2.336986519711378,5.11118445372147,3.0085645861193133,3.2932111997353943,4.256321678298823,2.6390573296152584,2.698558631668595,3.9806942251907276,3.2188758248682006,2.1071782966514356,4.432699549165613,3.295836866004329,2.4437981558973862,3.405355391810819,3.4339872044851463,3.196630215920881,2.0794415416798357,2.586823743668066,2.155151800914312,2.1076888046179385,4.422048709343544,4.1299529896894684,3.357621598945279,2.188856327665703,2.1071782966514356,3.4868642440859134,5.5735788721243535,4.142804513146981,3.0715352369694915,3.196630215920881,2.2027647577118348,2.2682524139135403,2.6390573296152584,3.9806942251907276,4.347586575960343,2.8273136219290276,3.1780538303479458,5.575949103146316,5.5735788721243535,2.1661924680884908,3.091042453358316,2.1837114628556327,5.575949103146316,2.169053700369523,2.188856327665703,5.358941988364472,3.2846635654062037,2.169053700369523,2.1837114628556327,2.2027647577118348,2.169053700369523,2.7013612129514133,3.970291913552122,4.380149874661021,2.180891922715322,4.0332082470129285,2.2530481500547457,2.172385287322574,3.486738789888005,2.114241439721562,5.406181146423973,2.8735646395797834,3.295836866004329,2.8183982582710754,4.073291153024268,2.8390784635086144,3.188416617383492,3.275887339030031,2.2027647577118348,3.8691155044168695,5.027492411162679,4.432699549165613,2.57895087709735,5.406181146423973,2.180891922715322,2.692936563292162,2.167143305297764,2.6741486494265287,3.1365805821413706,3.357621598945279,2.2988280441163336,3.6888794541139363,3.6309854756950335,3.6888794541139363,4.432699549165613,3.9908341858524357,5.515526544247129,3.091042453358316,4.256321678298823,2.1719067693519296,2.2096470973347766,2.803360380906535,3.295836866004329,2.169053700369523,3.357621598945279,3.295836866004329,2.1719067693519296,2.1837114628556327,5.358941988364472,2.698558631668595,2.4423470353692043,3.34800052225782,2.7878344138303452,2.169053700369523,3.3160025355989236,2.6390573296152584,4.676792929661059,3.357621598945279,3.4339872044851463,3.091042453358316,3.295836866004329,2.737880811060884,3.3586377672433594,2.6390573296152584,3.1780538303479458,2.57895087709735,2.2027647577118348,4.925652403790231,2.803360380906535,3.295836866004329,2.2682524139135403,2.169053700369523,2.7878344138303452,3.0545906305603445,2.0731719286662407,3.7513658711253766,2.169053700369523,3.3160025355989236,2.7152442616824506,2.169053700369523,4.91730069488021,2.167143305297764,5.35817698994543,3.6888794541139363,3.6309854756950335,2.817902613071225,6.240917354759096,2.157559320943788,2.1076888046179385,3.091042453358316,4.164465907853638,3.0715352369694915,3.960416900617205,2.806386101823072,3.637696679934592,3.091042453358316,4.0332082470129285,4.256321678298823,3.705920919968788,4.100989104940769,4.908971640319756,4.417131919904876,5.5735788721243535,2.2682524139135403,2.740840023925201,2.8390784635086144,4.189654742026425,3.6988297849671046,4.110873864173311,4.384523514872469,5.11118445372147,4.100989104940769,2.165710976832012,2.692936563292162,2.169053700369523,4.51085950651685,2.1719067693519296,4.699570861409576],\"z\":[1.0,1.0,1.0,1.0,1.0,1.0,1.0,0.0,1.0,0.0,1.0,1.0,0.0,1.0,1.0,1.0,1.0,0.0,1.0,0.0,0.0,1.0,1.0,1.0,0.0,1.0,1.0,1.0,1.0,1.0,1.0,1.0,0.0,1.0,1.0,1.0,1.0,1.0,1.0,0.0,1.0,1.0,0.0,0.0,0.0,0.0,1.0,1.0,0.0,1.0,1.0,0.0,1.0,1.0,0.0,1.0,1.0,1.0,1.0,0.0,1.0,0.0,0.0,1.0,1.0,1.0,1.0,1.0,1.0,1.0,0.0,0.0,1.0,1.0,1.0,1.0,1.0,0.0,1.0,1.0,0.0,1.0,0.0,1.0,0.0,1.0,0.0,0.0,1.0,1.0,1.0,1.0,1.0,0.0,1.0,1.0,1.0,1.0,1.0,0.0,1.0,1.0,1.0,1.0,0.0,0.0,1.0,1.0,1.0,1.0,1.0,1.0,1.0,1.0,0.0,1.0,1.0,1.0,1.0,1.0,1.0,1.0,1.0,1.0,1.0,1.0,1.0,1.0,1.0,1.0,1.0,1.0,1.0,0.0,1.0,1.0,0.0,1.0,1.0,1.0,1.0,0.0,1.0,1.0,1.0,1.0,1.0,1.0,1.0,1.0,1.0,0.0,1.0,0.0,0.0,0.0,1.0,0.0,1.0,1.0,0.0,0.0,1.0,1.0,1.0,1.0,1.0,0.0,1.0,1.0,1.0,1.0,1.0,1.0,1.0,1.0,1.0,1.0,0.0,1.0,1.0,0.0,1.0,1.0,0.0,0.0,0.0,0.0,1.0,1.0,1.0,1.0,1.0,1.0,1.0,1.0,1.0,1.0,0.0,1.0,1.0,1.0,1.0,0.0,0.0,1.0,1.0,1.0,1.0,1.0,0.0,0.0,1.0,1.0,1.0,1.0,0.0,1.0,1.0,1.0,1.0,0.0,1.0,1.0,1.0,1.0,0.0,1.0,1.0,0.0,1.0,1.0,0.0,1.0,0.0,1.0,0.0,1.0,1.0,1.0,1.0,0.0,0.0,1.0,1.0,1.0,0.0,0.0,1.0,1.0,1.0,1.0,0.0,1.0,1.0,1.0,1.0,1.0,1.0,1.0,1.0,0.0,1.0,0.0,1.0,1.0,1.0,1.0,1.0,1.0,1.0,0.0,0.0,1.0,1.0,1.0,1.0,1.0,1.0,0.0,1.0,1.0,0.0,1.0,0.0,1.0,0.0,0.0,1.0,1.0,1.0,1.0,1.0,1.0,1.0,0.0,1.0,0.0,1.0,1.0,1.0,1.0,0.0,1.0,1.0,1.0,1.0,1.0,1.0,1.0,0.0,0.0,1.0,0.0,null,null,null,null,null,null,null,null,null,null,null,null,null,null,null,null,null,null,null,null,null,null,null,null,null,null,null,null,null,null,null,null,null,null,null,null,null,null,null,null,null,null,null,null,null,null,null,null,null,null,null,null,null,null,null,null,null,null,null,null,null,null,null,null,null,null,null,null,null,null,null,null,null,null,null,null,null,null,null,null,null,null,null,null,null,null,null,null,null,null,null,null,null,null,null,null,null,null,null,null,null,null,null,null,null,null,null,null,null,null,null,null,null,null,null,null,null,null,null,null,null,null,null,null,null,null,null,null,null,null,null,null,null,null,null,null,null,null,null,null,null,null,null,null,null,null,null,null,null,null,null,null],\"type\":\"scatter3d\"}],                        {\"template\":{\"data\":{\"histogram2dcontour\":[{\"type\":\"histogram2dcontour\",\"colorbar\":{\"outlinewidth\":0,\"ticks\":\"\"},\"colorscale\":[[0.0,\"#0d0887\"],[0.1111111111111111,\"#46039f\"],[0.2222222222222222,\"#7201a8\"],[0.3333333333333333,\"#9c179e\"],[0.4444444444444444,\"#bd3786\"],[0.5555555555555556,\"#d8576b\"],[0.6666666666666666,\"#ed7953\"],[0.7777777777777778,\"#fb9f3a\"],[0.8888888888888888,\"#fdca26\"],[1.0,\"#f0f921\"]]}],\"choropleth\":[{\"type\":\"choropleth\",\"colorbar\":{\"outlinewidth\":0,\"ticks\":\"\"}}],\"histogram2d\":[{\"type\":\"histogram2d\",\"colorbar\":{\"outlinewidth\":0,\"ticks\":\"\"},\"colorscale\":[[0.0,\"#0d0887\"],[0.1111111111111111,\"#46039f\"],[0.2222222222222222,\"#7201a8\"],[0.3333333333333333,\"#9c179e\"],[0.4444444444444444,\"#bd3786\"],[0.5555555555555556,\"#d8576b\"],[0.6666666666666666,\"#ed7953\"],[0.7777777777777778,\"#fb9f3a\"],[0.8888888888888888,\"#fdca26\"],[1.0,\"#f0f921\"]]}],\"heatmap\":[{\"type\":\"heatmap\",\"colorbar\":{\"outlinewidth\":0,\"ticks\":\"\"},\"colorscale\":[[0.0,\"#0d0887\"],[0.1111111111111111,\"#46039f\"],[0.2222222222222222,\"#7201a8\"],[0.3333333333333333,\"#9c179e\"],[0.4444444444444444,\"#bd3786\"],[0.5555555555555556,\"#d8576b\"],[0.6666666666666666,\"#ed7953\"],[0.7777777777777778,\"#fb9f3a\"],[0.8888888888888888,\"#fdca26\"],[1.0,\"#f0f921\"]]}],\"heatmapgl\":[{\"type\":\"heatmapgl\",\"colorbar\":{\"outlinewidth\":0,\"ticks\":\"\"},\"colorscale\":[[0.0,\"#0d0887\"],[0.1111111111111111,\"#46039f\"],[0.2222222222222222,\"#7201a8\"],[0.3333333333333333,\"#9c179e\"],[0.4444444444444444,\"#bd3786\"],[0.5555555555555556,\"#d8576b\"],[0.6666666666666666,\"#ed7953\"],[0.7777777777777778,\"#fb9f3a\"],[0.8888888888888888,\"#fdca26\"],[1.0,\"#f0f921\"]]}],\"contourcarpet\":[{\"type\":\"contourcarpet\",\"colorbar\":{\"outlinewidth\":0,\"ticks\":\"\"}}],\"contour\":[{\"type\":\"contour\",\"colorbar\":{\"outlinewidth\":0,\"ticks\":\"\"},\"colorscale\":[[0.0,\"#0d0887\"],[0.1111111111111111,\"#46039f\"],[0.2222222222222222,\"#7201a8\"],[0.3333333333333333,\"#9c179e\"],[0.4444444444444444,\"#bd3786\"],[0.5555555555555556,\"#d8576b\"],[0.6666666666666666,\"#ed7953\"],[0.7777777777777778,\"#fb9f3a\"],[0.8888888888888888,\"#fdca26\"],[1.0,\"#f0f921\"]]}],\"surface\":[{\"type\":\"surface\",\"colorbar\":{\"outlinewidth\":0,\"ticks\":\"\"},\"colorscale\":[[0.0,\"#0d0887\"],[0.1111111111111111,\"#46039f\"],[0.2222222222222222,\"#7201a8\"],[0.3333333333333333,\"#9c179e\"],[0.4444444444444444,\"#bd3786\"],[0.5555555555555556,\"#d8576b\"],[0.6666666666666666,\"#ed7953\"],[0.7777777777777778,\"#fb9f3a\"],[0.8888888888888888,\"#fdca26\"],[1.0,\"#f0f921\"]]}],\"mesh3d\":[{\"type\":\"mesh3d\",\"colorbar\":{\"outlinewidth\":0,\"ticks\":\"\"}}],\"scatter\":[{\"fillpattern\":{\"fillmode\":\"overlay\",\"size\":10,\"solidity\":0.2},\"type\":\"scatter\"}],\"parcoords\":[{\"type\":\"parcoords\",\"line\":{\"colorbar\":{\"outlinewidth\":0,\"ticks\":\"\"}}}],\"scatterpolargl\":[{\"type\":\"scatterpolargl\",\"marker\":{\"colorbar\":{\"outlinewidth\":0,\"ticks\":\"\"}}}],\"bar\":[{\"error_x\":{\"color\":\"#2a3f5f\"},\"error_y\":{\"color\":\"#2a3f5f\"},\"marker\":{\"line\":{\"color\":\"#E5ECF6\",\"width\":0.5},\"pattern\":{\"fillmode\":\"overlay\",\"size\":10,\"solidity\":0.2}},\"type\":\"bar\"}],\"scattergeo\":[{\"type\":\"scattergeo\",\"marker\":{\"colorbar\":{\"outlinewidth\":0,\"ticks\":\"\"}}}],\"scatterpolar\":[{\"type\":\"scatterpolar\",\"marker\":{\"colorbar\":{\"outlinewidth\":0,\"ticks\":\"\"}}}],\"histogram\":[{\"marker\":{\"pattern\":{\"fillmode\":\"overlay\",\"size\":10,\"solidity\":0.2}},\"type\":\"histogram\"}],\"scattergl\":[{\"type\":\"scattergl\",\"marker\":{\"colorbar\":{\"outlinewidth\":0,\"ticks\":\"\"}}}],\"scatter3d\":[{\"type\":\"scatter3d\",\"line\":{\"colorbar\":{\"outlinewidth\":0,\"ticks\":\"\"}},\"marker\":{\"colorbar\":{\"outlinewidth\":0,\"ticks\":\"\"}}}],\"scattermapbox\":[{\"type\":\"scattermapbox\",\"marker\":{\"colorbar\":{\"outlinewidth\":0,\"ticks\":\"\"}}}],\"scatterternary\":[{\"type\":\"scatterternary\",\"marker\":{\"colorbar\":{\"outlinewidth\":0,\"ticks\":\"\"}}}],\"scattercarpet\":[{\"type\":\"scattercarpet\",\"marker\":{\"colorbar\":{\"outlinewidth\":0,\"ticks\":\"\"}}}],\"carpet\":[{\"aaxis\":{\"endlinecolor\":\"#2a3f5f\",\"gridcolor\":\"white\",\"linecolor\":\"white\",\"minorgridcolor\":\"white\",\"startlinecolor\":\"#2a3f5f\"},\"baxis\":{\"endlinecolor\":\"#2a3f5f\",\"gridcolor\":\"white\",\"linecolor\":\"white\",\"minorgridcolor\":\"white\",\"startlinecolor\":\"#2a3f5f\"},\"type\":\"carpet\"}],\"table\":[{\"cells\":{\"fill\":{\"color\":\"#EBF0F8\"},\"line\":{\"color\":\"white\"}},\"header\":{\"fill\":{\"color\":\"#C8D4E3\"},\"line\":{\"color\":\"white\"}},\"type\":\"table\"}],\"barpolar\":[{\"marker\":{\"line\":{\"color\":\"#E5ECF6\",\"width\":0.5},\"pattern\":{\"fillmode\":\"overlay\",\"size\":10,\"solidity\":0.2}},\"type\":\"barpolar\"}],\"pie\":[{\"automargin\":true,\"type\":\"pie\"}]},\"layout\":{\"autotypenumbers\":\"strict\",\"colorway\":[\"#636efa\",\"#EF553B\",\"#00cc96\",\"#ab63fa\",\"#FFA15A\",\"#19d3f3\",\"#FF6692\",\"#B6E880\",\"#FF97FF\",\"#FECB52\"],\"font\":{\"color\":\"#2a3f5f\"},\"hovermode\":\"closest\",\"hoverlabel\":{\"align\":\"left\"},\"paper_bgcolor\":\"white\",\"plot_bgcolor\":\"#E5ECF6\",\"polar\":{\"bgcolor\":\"#E5ECF6\",\"angularaxis\":{\"gridcolor\":\"white\",\"linecolor\":\"white\",\"ticks\":\"\"},\"radialaxis\":{\"gridcolor\":\"white\",\"linecolor\":\"white\",\"ticks\":\"\"}},\"ternary\":{\"bgcolor\":\"#E5ECF6\",\"aaxis\":{\"gridcolor\":\"white\",\"linecolor\":\"white\",\"ticks\":\"\"},\"baxis\":{\"gridcolor\":\"white\",\"linecolor\":\"white\",\"ticks\":\"\"},\"caxis\":{\"gridcolor\":\"white\",\"linecolor\":\"white\",\"ticks\":\"\"}},\"coloraxis\":{\"colorbar\":{\"outlinewidth\":0,\"ticks\":\"\"}},\"colorscale\":{\"sequential\":[[0.0,\"#0d0887\"],[0.1111111111111111,\"#46039f\"],[0.2222222222222222,\"#7201a8\"],[0.3333333333333333,\"#9c179e\"],[0.4444444444444444,\"#bd3786\"],[0.5555555555555556,\"#d8576b\"],[0.6666666666666666,\"#ed7953\"],[0.7777777777777778,\"#fb9f3a\"],[0.8888888888888888,\"#fdca26\"],[1.0,\"#f0f921\"]],\"sequentialminus\":[[0.0,\"#0d0887\"],[0.1111111111111111,\"#46039f\"],[0.2222222222222222,\"#7201a8\"],[0.3333333333333333,\"#9c179e\"],[0.4444444444444444,\"#bd3786\"],[0.5555555555555556,\"#d8576b\"],[0.6666666666666666,\"#ed7953\"],[0.7777777777777778,\"#fb9f3a\"],[0.8888888888888888,\"#fdca26\"],[1.0,\"#f0f921\"]],\"diverging\":[[0,\"#8e0152\"],[0.1,\"#c51b7d\"],[0.2,\"#de77ae\"],[0.3,\"#f1b6da\"],[0.4,\"#fde0ef\"],[0.5,\"#f7f7f7\"],[0.6,\"#e6f5d0\"],[0.7,\"#b8e186\"],[0.8,\"#7fbc41\"],[0.9,\"#4d9221\"],[1,\"#276419\"]]},\"xaxis\":{\"gridcolor\":\"white\",\"linecolor\":\"white\",\"ticks\":\"\",\"title\":{\"standoff\":15},\"zerolinecolor\":\"white\",\"automargin\":true,\"zerolinewidth\":2},\"yaxis\":{\"gridcolor\":\"white\",\"linecolor\":\"white\",\"ticks\":\"\",\"title\":{\"standoff\":15},\"zerolinecolor\":\"white\",\"automargin\":true,\"zerolinewidth\":2},\"scene\":{\"xaxis\":{\"backgroundcolor\":\"#E5ECF6\",\"gridcolor\":\"white\",\"linecolor\":\"white\",\"showbackground\":true,\"ticks\":\"\",\"zerolinecolor\":\"white\",\"gridwidth\":2},\"yaxis\":{\"backgroundcolor\":\"#E5ECF6\",\"gridcolor\":\"white\",\"linecolor\":\"white\",\"showbackground\":true,\"ticks\":\"\",\"zerolinecolor\":\"white\",\"gridwidth\":2},\"zaxis\":{\"backgroundcolor\":\"#E5ECF6\",\"gridcolor\":\"white\",\"linecolor\":\"white\",\"showbackground\":true,\"ticks\":\"\",\"zerolinecolor\":\"white\",\"gridwidth\":2}},\"shapedefaults\":{\"line\":{\"color\":\"#2a3f5f\"}},\"annotationdefaults\":{\"arrowcolor\":\"#2a3f5f\",\"arrowhead\":0,\"arrowwidth\":1},\"geo\":{\"bgcolor\":\"white\",\"landcolor\":\"#E5ECF6\",\"subunitcolor\":\"white\",\"showland\":true,\"showlakes\":true,\"lakecolor\":\"white\"},\"title\":{\"x\":0.05},\"mapbox\":{\"style\":\"light\"}}},\"scene\":{\"domain\":{\"x\":[0.0,1.0],\"y\":[0.0,1.0]},\"xaxis\":{\"title\":{\"text\":\"Age\"}},\"yaxis\":{\"title\":{\"text\":\"Fare\"}},\"zaxis\":{\"title\":{\"text\":\"Survived\"}}},\"coloraxis\":{\"colorbar\":{\"title\":{\"text\":\"Pclass\"}},\"colorscale\":[[0.0,\"#0d0887\"],[0.1111111111111111,\"#46039f\"],[0.2222222222222222,\"#7201a8\"],[0.3333333333333333,\"#9c179e\"],[0.4444444444444444,\"#bd3786\"],[0.5555555555555556,\"#d8576b\"],[0.6666666666666666,\"#ed7953\"],[0.7777777777777778,\"#fb9f3a\"],[0.8888888888888888,\"#fdca26\"],[1.0,\"#f0f921\"]]},\"legend\":{\"title\":{\"text\":\"Sex\"},\"tracegroupgap\":0,\"itemsizing\":\"constant\"},\"title\":{\"text\":\"Titanic Survival 3D Visualization\"}},                        {\"responsive\": true}                    ).then(function(){\n",
              "                            \n",
              "var gd = document.getElementById('2afa0c9e-8e0a-4f4e-b9db-2965c3934d55');\n",
              "var x = new MutationObserver(function (mutations, observer) {{\n",
              "        var display = window.getComputedStyle(gd).display;\n",
              "        if (!display || display === 'none') {{\n",
              "            console.log([gd, 'removed!']);\n",
              "            Plotly.purge(gd);\n",
              "            observer.disconnect();\n",
              "        }}\n",
              "}});\n",
              "\n",
              "// Listen for the removal of the full notebook cells\n",
              "var notebookContainer = gd.closest('#notebook-container');\n",
              "if (notebookContainer) {{\n",
              "    x.observe(notebookContainer, {childList: true});\n",
              "}}\n",
              "\n",
              "// Listen for the clearing of the current output cell\n",
              "var outputEl = gd.closest('.output');\n",
              "if (outputEl) {{\n",
              "    x.observe(outputEl, {childList: true});\n",
              "}}\n",
              "\n",
              "                        })                };                            </script>        </div>\n",
              "</body>\n",
              "</html>"
            ]
          },
          "metadata": {}
        }
      ]
    }
  ],
  "metadata": {
    "kernelspec": {
      "display_name": "Python 3",
      "language": "python",
      "name": "python3"
    },
    "language_info": {
      "codemirror_mode": {
        "name": "ipython",
        "version": 3
      },
      "file_extension": ".py",
      "mimetype": "text/x-python",
      "name": "python",
      "nbconvert_exporter": "python",
      "pygments_lexer": "ipython3",
      "version": "3.7.10"
    },
    "papermill": {
      "default_parameters": {},
      "duration": 32.130692,
      "end_time": "2021-10-26T14:40:15.967767",
      "environment_variables": {},
      "exception": null,
      "input_path": "__notebook__.ipynb",
      "output_path": "__notebook__.ipynb",
      "parameters": {},
      "start_time": "2021-10-26T14:39:43.837075",
      "version": "2.3.3"
    },
    "colab": {
      "provenance": [],
      "include_colab_link": true
    }
  },
  "nbformat": 4,
  "nbformat_minor": 5
}